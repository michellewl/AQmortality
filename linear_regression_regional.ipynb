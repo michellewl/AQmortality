{
 "cells": [
  {
   "cell_type": "markdown",
   "metadata": {},
   "source": [
    "## Imports"
   ]
  },
  {
   "cell_type": "code",
   "execution_count": 42,
   "metadata": {},
   "outputs": [],
   "source": [
    "from data_classes import LAQNData, HealthData, MetData, IncomeData\n",
    "import numpy as np\n",
    "import pandas as pd\n",
    "from os import path, listdir, environ\n",
    "import wandb\n",
    "from sklearn.linear_model import LinearRegression\n",
    "from sklearn.preprocessing import MinMaxScaler\n",
    "from sklearn.metrics import r2_score, mean_squared_error\n",
    "import joblib"
   ]
  },
  {
   "cell_type": "markdown",
   "metadata": {},
   "source": [
    "## Config"
   ]
  },
  {
   "cell_type": "code",
   "execution_count": 26,
   "metadata": {},
   "outputs": [],
   "source": [
    "config = {\n",
    "    \"architecture\": \"linear_regressor\",\n",
    "    \"train_size\": 0.8,\n",
    "    \"species\": \"NO2\",\n",
    "    \"spatial_resolution\": \"regional\",\n",
    "    \"temporal_resolution\": \"daily\",\n",
    "    \"input_artifacts\": [\"laqn-regional\", \"met-resample\", \"income-regional\"],\n",
    "    \"met_variables\": [\"temperature\"]\n",
    "    }"
   ]
  },
  {
   "cell_type": "markdown",
   "metadata": {},
   "source": [
    "## Code"
   ]
  },
  {
   "cell_type": "code",
   "execution_count": 49,
   "metadata": {},
   "outputs": [],
   "source": [
    "# To be moved to model_classes script when finished developing.\n",
    "\n",
    "class HealthModel():\n",
    "    def __init__(self, species, spatial_resolution, temporal_resolution, input_artifacts, met_variables):\n",
    "        self.species = species\n",
    "        self.spatial_resolution = spatial_resolution\n",
    "        self.temporal_resolution = temporal_resolution\n",
    "        self.input_artifacts = input_artifacts\n",
    "        self.met_variables = met_variables\n",
    "\n",
    "    def preprocess_and_log(self, train_size):\n",
    "        with wandb.init(project=\"AQmortality\", job_type=\"split-normalise-data\") as run:\n",
    "            df = pd.DataFrame()\n",
    "            # use dataset artifacts\n",
    "            for artifact in self.input_artifacts:\n",
    "                data_artifact = run.use_artifact(f\"{artifact}:latest\")\n",
    "                data_folder = data_artifact.download()\n",
    "                if artifact == \"met-resample\":\n",
    "                    for variable in self.met_variables:\n",
    "                        file = f\"{variable}.npz\"\n",
    "                        data = np.load(path.join(data_folder, file), allow_pickle=True)\n",
    "                        if df.empty:\n",
    "                            df = pd.DataFrame(index=pd.DatetimeIndex(data[\"x\"]), data=data[\"y\"], columns=[variable])\n",
    "                        else:\n",
    "                            df = df.join(pd.DataFrame(index=pd.DatetimeIndex(data[\"x\"]), data=data[\"y\"], columns=[variable]))\n",
    "                else:\n",
    "                    file = listdir(data_folder)[0]\n",
    "                    data = np.load(path.join(data_folder, file), allow_pickle=True)\n",
    "                    if df.empty:\n",
    "                        df = pd.DataFrame(index=pd.DatetimeIndex(data[\"x\"]), data=data[\"y\"], columns=[file.replace(\".npz\", \"\")])\n",
    "                    else:\n",
    "                        df = df.join(pd.DataFrame(index=pd.DatetimeIndex(data[\"x\"]), data=data[\"y\"], columns=[file.replace(\".npz\", \"\")]))\n",
    "\n",
    "            target_artifact = run.use_artifact(\"mortality-scaled:latest\")\n",
    "            target_folder = target_artifact.download()\n",
    "            data = np.load(path.join(target_folder, \"deaths.npz\"), allow_pickle=True)\n",
    "            df = df.join(pd.DataFrame(index=pd.DatetimeIndex(data[\"x\"]), data=data[\"y\"]*100000, columns=[\"deaths\"]))\n",
    "            df = df.dropna(axis=0)\n",
    "\n",
    "            # make new train and test artifacts for regional scale data\n",
    "            index = {\"train\": df.index[:int(len(df.index)*train_size)],\n",
    "                    \"test\": df.index[int(len(df.index)*train_size):]}\n",
    "            scaler = MinMaxScaler()\n",
    "            x_scaler = scaler.fit(df.loc[index[\"train\"]].drop(\"deaths\", axis=1))\n",
    "            for subset in [\"train\", \"test\"]:\n",
    "                x = x_scaler.transform(df.loc[index[subset]].drop(\"deaths\", axis=1))\n",
    "                y = df.loc[index[subset]][\"deaths\"].values\n",
    "                subset_data = wandb.Artifact(\n",
    "                            f\"xy_{subset}\", type=\"dataset\",\n",
    "                            description=f\"Input features (normalised) and targets for {subset}ing set.\",\n",
    "                            metadata={\"input_shape\":x.shape,\n",
    "                                     \"target_shape\":y.shape,\n",
    "                                     \"species\": self.species,\n",
    "                                      \"spatial_resolution\": self.spatial_resolution,\n",
    "                                      \"temporal_resolution\": self.temporal_resolution,\n",
    "                                      \"input_artifacts\": self.input_artifacts,\n",
    "                                      \"met_variables\": self.met_variables})\n",
    "                with subset_data.new_file(subset + \".npz\", mode=\"wb\") as file:\n",
    "                    np.savez(file, x=x, y=y)\n",
    "                run.log_artifact(subset_data)\n",
    "                \n",
    "    def read_data(self, artifact):\n",
    "        with wandb.init(project=\"AQmortality\", job_type=\"read-data\") as run:\n",
    "            data_artifact = run.use_artifact(f\"{artifact}:latest\")\n",
    "            data_folder = data_artifact.download()\n",
    "            file = artifact.replace(\"xy_\", \"\") + \".npz\"\n",
    "            data = np.load(path.join(data_folder, file), allow_pickle=True)\n",
    "        return data[\"x\"], data[\"y\"]\n",
    "    \n",
    "    def train_and_log(self, model_type, config):\n",
    "        with wandb.init(project=\"AQmortality\", job_type=\"train-regional-model\", config=config) as run:\n",
    "            artifact = \"xy_train\"\n",
    "            data_artifact = run.use_artifact(f\"{artifact}:latest\")\n",
    "            data_folder = data_artifact.download()\n",
    "            file = artifact.replace(\"xy_\", \"\") + \".npz\"\n",
    "            data = np.load(path.join(data_folder, file), allow_pickle=True)\n",
    "            x_train, y_train = data[\"x\"], data[\"y\"]\n",
    "            if model_type == \"linear-regressor\":\n",
    "                regressor = LinearRegression().fit(x_train, y_train)\n",
    "                # log model training metrics\n",
    "                wandb.log({\"r_squared\": r2_score(y_train, regressor.predict(x_train)),\n",
    "                           \"mean_squared_error\": mean_squared_error(y_train, regressor.predict(x_train)),\n",
    "                           \"mean_absolute_percentage_error\": self.mape_score(y_train, regressor.predict(x_train))\n",
    "                          })\n",
    "\n",
    "        # log trained model artifact – include input features description\n",
    "            model = wandb.Artifact(\n",
    "                            f\"{model_type}\", type=\"model\",\n",
    "                            description=f\"{model_type} model.\",\n",
    "                            metadata={\"input_shape\":x_train.shape,\n",
    "                                      \"target_shape\":y_train.shape,\n",
    "                                      \"species\": self.species,\n",
    "                                      \"spatial_resolution\": self.spatial_resolution,\n",
    "                                      \"temporal_resolution\": self.temporal_resolution,\n",
    "                                      \"input_artifacts\": self.input_artifacts,\n",
    "                                      \"met_variables\": self.met_variables\n",
    "                                      })\n",
    "        \n",
    "            with model.new_file(\"model.sav\", mode=\"wb\") as file:\n",
    "                joblib.dump(regressor, file)\n",
    "            run.log_artifact(model)\n",
    "    \n",
    "    \n",
    "    def test_and_log(self, model_type):\n",
    "        with wandb.init(project=\"AQmortality\", job_type=\"test-regional-model\") as run:\n",
    "            data_dict = {}\n",
    "            for subset in [\"train\", \"test\"]:\n",
    "                data_artifact = run.use_artifact(f\"xy_{subset}:latest\")\n",
    "                data_folder = data_artifact.download()\n",
    "                file = f\"{subset}.npz\"\n",
    "                data = np.load(path.join(data_folder, file), allow_pickle=True)\n",
    "                data_dict.update({\"x_\"+subset: data[\"x\"], \"y_\"+subset: data[\"y\"]})\n",
    "            # use trained model artifact\n",
    "            model_artifact = run.use_artifact(f\"{model_type}:latest\")\n",
    "            model_folder = model_artifact.download()\n",
    "            regressor = joblib.load(path.join(model_folder, \"model.sav\"))\n",
    "    \n",
    "        # test linear regression model\n",
    "        # log model test metrics\n",
    "            wandb.log({\"r_squared\": r2_score(data_dict[\"y_test\"], regressor.predict(data_dict[\"x_test\"])),\n",
    "                       \"mean_squared_error\": mean_squared_error(data_dict[\"y_test\"], regressor.predict(data_dict[\"x_test\"])),\n",
    "                       \"mean_absolute_percentage_error\": self.mape_score(data_dict[\"y_test\"], regressor.predict(data_dict[\"x_test\"]))\n",
    "                      })\n",
    "        return regressor, data_dict\n",
    "    \n",
    "    def mape_score(self, targets, predictions):\n",
    "        zero_indices = np.where(targets == 0)\n",
    "        targets_drop_zero = np.delete(targets, zero_indices)\n",
    "        prediction_drop_zero = np.delete(predictions, zero_indices)\n",
    "        mape = np.sum(np.abs(targets_drop_zero - prediction_drop_zero)/targets_drop_zero) * 100/len(targets_drop_zero)\n",
    "        return mape"
   ]
  },
  {
   "cell_type": "code",
   "execution_count": 50,
   "metadata": {},
   "outputs": [],
   "source": [
    "model = HealthModel(\n",
    "    species=config[\"species\"], \n",
    "    spatial_resolution=config[\"spatial_resolution\"], \n",
    "    temporal_resolution=config[\"temporal_resolution\"], \n",
    "    input_artifacts=config[\"input_artifacts\"], \n",
    "    met_variables=config[\"met_variables\"])"
   ]
  },
  {
   "cell_type": "code",
   "execution_count": 11,
   "metadata": {},
   "outputs": [
    {
     "data": {
      "text/html": [
       "\n",
       "                Tracking run with wandb version 0.10.30<br/>\n",
       "                Syncing run <strong style=\"color:#cdcd00\">astral-butterfly-140</strong> to <a href=\"https://wandb.ai\" target=\"_blank\">Weights & Biases</a> <a href=\"https://docs.wandb.com/integrations/jupyter.html\" target=\"_blank\">(Documentation)</a>.<br/>\n",
       "                Project page: <a href=\"https://wandb.ai/michellewl/AQmortality\" target=\"_blank\">https://wandb.ai/michellewl/AQmortality</a><br/>\n",
       "                Run page: <a href=\"https://wandb.ai/michellewl/AQmortality/runs/1q1y4pnp\" target=\"_blank\">https://wandb.ai/michellewl/AQmortality/runs/1q1y4pnp</a><br/>\n",
       "                Run data is saved locally in <code>/home/users/mwlw3/AQmortality/wandb/run-20210520_101825-1q1y4pnp</code><br/><br/>\n",
       "            "
      ],
      "text/plain": [
       "<IPython.core.display.HTML object>"
      ]
     },
     "metadata": {},
     "output_type": "display_data"
    },
    {
     "data": {
      "text/html": [
       "<br/>Waiting for W&B process to finish, PID 760<br/>Program ended successfully."
      ],
      "text/plain": [
       "<IPython.core.display.HTML object>"
      ]
     },
     "metadata": {},
     "output_type": "display_data"
    },
    {
     "data": {
      "application/vnd.jupyter.widget-view+json": {
       "model_id": "a0f32428e91944699dc886c35ed2f698",
       "version_major": 2,
       "version_minor": 0
      },
      "text/plain": [
       "VBox(children=(Label(value=' 0.00MB of 0.00MB uploaded (0.00MB deduped)\\r'), FloatProgress(value=1.0, max=1.0)…"
      ]
     },
     "metadata": {},
     "output_type": "display_data"
    },
    {
     "data": {
      "text/html": [
       "Find user logs for this run at: <code>/home/users/mwlw3/AQmortality/wandb/run-20210520_101825-1q1y4pnp/logs/debug.log</code>"
      ],
      "text/plain": [
       "<IPython.core.display.HTML object>"
      ]
     },
     "metadata": {},
     "output_type": "display_data"
    },
    {
     "data": {
      "text/html": [
       "Find internal logs for this run at: <code>/home/users/mwlw3/AQmortality/wandb/run-20210520_101825-1q1y4pnp/logs/debug-internal.log</code>"
      ],
      "text/plain": [
       "<IPython.core.display.HTML object>"
      ]
     },
     "metadata": {},
     "output_type": "display_data"
    },
    {
     "data": {
      "text/html": [
       "Synced 5 W&B file(s), 0 media file(s), 0 artifact file(s) and 0 other file(s)"
      ],
      "text/plain": [
       "<IPython.core.display.HTML object>"
      ]
     },
     "metadata": {},
     "output_type": "display_data"
    },
    {
     "data": {
      "text/html": [
       "\n",
       "                    <br/>Synced <strong style=\"color:#cdcd00\">astral-butterfly-140</strong>: <a href=\"https://wandb.ai/michellewl/AQmortality/runs/1q1y4pnp\" target=\"_blank\">https://wandb.ai/michellewl/AQmortality/runs/1q1y4pnp</a><br/>\n",
       "                "
      ],
      "text/plain": [
       "<IPython.core.display.HTML object>"
      ]
     },
     "metadata": {},
     "output_type": "display_data"
    }
   ],
   "source": [
    "model.preprocess_and_log(train_size=config[\"train_size\"])"
   ]
  },
  {
   "cell_type": "code",
   "execution_count": 51,
   "metadata": {},
   "outputs": [
    {
     "data": {
      "text/html": [
       "\n",
       "                Tracking run with wandb version 0.10.30<br/>\n",
       "                Syncing run <strong style=\"color:#cdcd00\">robust-waterfall-148</strong> to <a href=\"https://wandb.ai\" target=\"_blank\">Weights & Biases</a> <a href=\"https://docs.wandb.com/integrations/jupyter.html\" target=\"_blank\">(Documentation)</a>.<br/>\n",
       "                Project page: <a href=\"https://wandb.ai/michellewl/AQmortality\" target=\"_blank\">https://wandb.ai/michellewl/AQmortality</a><br/>\n",
       "                Run page: <a href=\"https://wandb.ai/michellewl/AQmortality/runs/1fa7p98u\" target=\"_blank\">https://wandb.ai/michellewl/AQmortality/runs/1fa7p98u</a><br/>\n",
       "                Run data is saved locally in <code>/home/users/mwlw3/AQmortality/wandb/run-20210520_113134-1fa7p98u</code><br/><br/>\n",
       "            "
      ],
      "text/plain": [
       "<IPython.core.display.HTML object>"
      ]
     },
     "metadata": {},
     "output_type": "display_data"
    },
    {
     "data": {
      "text/html": [
       "<br/>Waiting for W&B process to finish, PID 1865<br/>Program ended successfully."
      ],
      "text/plain": [
       "<IPython.core.display.HTML object>"
      ]
     },
     "metadata": {},
     "output_type": "display_data"
    },
    {
     "data": {
      "application/vnd.jupyter.widget-view+json": {
       "model_id": "31d61949ef664291ae61845d1c1d615e",
       "version_major": 2,
       "version_minor": 0
      },
      "text/plain": [
       "VBox(children=(Label(value=' 0.00MB of 0.00MB uploaded (0.00MB deduped)\\r'), FloatProgress(value=1.0, max=1.0)…"
      ]
     },
     "metadata": {},
     "output_type": "display_data"
    },
    {
     "data": {
      "text/html": [
       "Find user logs for this run at: <code>/home/users/mwlw3/AQmortality/wandb/run-20210520_113134-1fa7p98u/logs/debug.log</code>"
      ],
      "text/plain": [
       "<IPython.core.display.HTML object>"
      ]
     },
     "metadata": {},
     "output_type": "display_data"
    },
    {
     "data": {
      "text/html": [
       "Find internal logs for this run at: <code>/home/users/mwlw3/AQmortality/wandb/run-20210520_113134-1fa7p98u/logs/debug-internal.log</code>"
      ],
      "text/plain": [
       "<IPython.core.display.HTML object>"
      ]
     },
     "metadata": {},
     "output_type": "display_data"
    },
    {
     "data": {
      "text/html": [
       "<h3>Run summary:</h3><br/><style>\n",
       "    table.wandb td:nth-child(1) { padding: 0 10px; text-align: right }\n",
       "    </style><table class=\"wandb\">\n",
       "<tr><td>r_squared</td><td>0.58492</td></tr><tr><td>mean_squared_error</td><td>0.05262</td></tr><tr><td>mean_absolute_percentage_error</td><td>9.30437</td></tr><tr><td>_runtime</td><td>9</td></tr><tr><td>_timestamp</td><td>1621510303</td></tr><tr><td>_step</td><td>0</td></tr></table>"
      ],
      "text/plain": [
       "<IPython.core.display.HTML object>"
      ]
     },
     "metadata": {},
     "output_type": "display_data"
    },
    {
     "data": {
      "text/html": [
       "<h3>Run history:</h3><br/><style>\n",
       "    table.wandb td:nth-child(1) { padding: 0 10px; text-align: right }\n",
       "    </style><table class=\"wandb\">\n",
       "<tr><td>r_squared</td><td>▁</td></tr><tr><td>mean_squared_error</td><td>▁</td></tr><tr><td>mean_absolute_percentage_error</td><td>▁</td></tr><tr><td>_runtime</td><td>▁</td></tr><tr><td>_timestamp</td><td>▁</td></tr><tr><td>_step</td><td>▁</td></tr></table><br/>"
      ],
      "text/plain": [
       "<IPython.core.display.HTML object>"
      ]
     },
     "metadata": {},
     "output_type": "display_data"
    },
    {
     "data": {
      "text/html": [
       "Synced 5 W&B file(s), 0 media file(s), 0 artifact file(s) and 0 other file(s)"
      ],
      "text/plain": [
       "<IPython.core.display.HTML object>"
      ]
     },
     "metadata": {},
     "output_type": "display_data"
    },
    {
     "data": {
      "text/html": [
       "\n",
       "                    <br/>Synced <strong style=\"color:#cdcd00\">robust-waterfall-148</strong>: <a href=\"https://wandb.ai/michellewl/AQmortality/runs/1fa7p98u\" target=\"_blank\">https://wandb.ai/michellewl/AQmortality/runs/1fa7p98u</a><br/>\n",
       "                "
      ],
      "text/plain": [
       "<IPython.core.display.HTML object>"
      ]
     },
     "metadata": {},
     "output_type": "display_data"
    }
   ],
   "source": [
    "model.train_and_log(\"linear-regressor\", config)"
   ]
  },
  {
   "cell_type": "code",
   "execution_count": 52,
   "metadata": {},
   "outputs": [
    {
     "data": {
      "text/html": [
       "\n",
       "                Tracking run with wandb version 0.10.30<br/>\n",
       "                Syncing run <strong style=\"color:#cdcd00\">eager-dust-149</strong> to <a href=\"https://wandb.ai\" target=\"_blank\">Weights & Biases</a> <a href=\"https://docs.wandb.com/integrations/jupyter.html\" target=\"_blank\">(Documentation)</a>.<br/>\n",
       "                Project page: <a href=\"https://wandb.ai/michellewl/AQmortality\" target=\"_blank\">https://wandb.ai/michellewl/AQmortality</a><br/>\n",
       "                Run page: <a href=\"https://wandb.ai/michellewl/AQmortality/runs/34vx4hel\" target=\"_blank\">https://wandb.ai/michellewl/AQmortality/runs/34vx4hel</a><br/>\n",
       "                Run data is saved locally in <code>/home/users/mwlw3/AQmortality/wandb/run-20210520_113351-34vx4hel</code><br/><br/>\n",
       "            "
      ],
      "text/plain": [
       "<IPython.core.display.HTML object>"
      ]
     },
     "metadata": {},
     "output_type": "display_data"
    },
    {
     "data": {
      "text/html": [
       "<br/>Waiting for W&B process to finish, PID 1978<br/>Program ended successfully."
      ],
      "text/plain": [
       "<IPython.core.display.HTML object>"
      ]
     },
     "metadata": {},
     "output_type": "display_data"
    },
    {
     "data": {
      "application/vnd.jupyter.widget-view+json": {
       "model_id": "e7589ebe8cc4425199f2671fa7d8d197",
       "version_major": 2,
       "version_minor": 0
      },
      "text/plain": [
       "VBox(children=(Label(value=' 0.00MB of 0.00MB uploaded (0.00MB deduped)\\r'), FloatProgress(value=1.0, max=1.0)…"
      ]
     },
     "metadata": {},
     "output_type": "display_data"
    },
    {
     "data": {
      "text/html": [
       "Find user logs for this run at: <code>/home/users/mwlw3/AQmortality/wandb/run-20210520_113351-34vx4hel/logs/debug.log</code>"
      ],
      "text/plain": [
       "<IPython.core.display.HTML object>"
      ]
     },
     "metadata": {},
     "output_type": "display_data"
    },
    {
     "data": {
      "text/html": [
       "Find internal logs for this run at: <code>/home/users/mwlw3/AQmortality/wandb/run-20210520_113351-34vx4hel/logs/debug-internal.log</code>"
      ],
      "text/plain": [
       "<IPython.core.display.HTML object>"
      ]
     },
     "metadata": {},
     "output_type": "display_data"
    },
    {
     "data": {
      "text/html": [
       "<h3>Run summary:</h3><br/><style>\n",
       "    table.wandb td:nth-child(1) { padding: 0 10px; text-align: right }\n",
       "    </style><table class=\"wandb\">\n",
       "<tr><td>r_squared</td><td>-2.47872</td></tr><tr><td>mean_squared_error</td><td>0.18922</td></tr><tr><td>mean_absolute_percentage_error</td><td>24.12637</td></tr><tr><td>_runtime</td><td>12</td></tr><tr><td>_timestamp</td><td>1621510443</td></tr><tr><td>_step</td><td>0</td></tr></table>"
      ],
      "text/plain": [
       "<IPython.core.display.HTML object>"
      ]
     },
     "metadata": {},
     "output_type": "display_data"
    },
    {
     "data": {
      "text/html": [
       "<h3>Run history:</h3><br/><style>\n",
       "    table.wandb td:nth-child(1) { padding: 0 10px; text-align: right }\n",
       "    </style><table class=\"wandb\">\n",
       "<tr><td>r_squared</td><td>▁</td></tr><tr><td>mean_squared_error</td><td>▁</td></tr><tr><td>mean_absolute_percentage_error</td><td>▁</td></tr><tr><td>_runtime</td><td>▁</td></tr><tr><td>_timestamp</td><td>▁</td></tr><tr><td>_step</td><td>▁</td></tr></table><br/>"
      ],
      "text/plain": [
       "<IPython.core.display.HTML object>"
      ]
     },
     "metadata": {},
     "output_type": "display_data"
    },
    {
     "data": {
      "text/html": [
       "Synced 5 W&B file(s), 0 media file(s), 0 artifact file(s) and 0 other file(s)"
      ],
      "text/plain": [
       "<IPython.core.display.HTML object>"
      ]
     },
     "metadata": {},
     "output_type": "display_data"
    },
    {
     "data": {
      "text/html": [
       "\n",
       "                    <br/>Synced <strong style=\"color:#cdcd00\">eager-dust-149</strong>: <a href=\"https://wandb.ai/michellewl/AQmortality/runs/34vx4hel\" target=\"_blank\">https://wandb.ai/michellewl/AQmortality/runs/34vx4hel</a><br/>\n",
       "                "
      ],
      "text/plain": [
       "<IPython.core.display.HTML object>"
      ]
     },
     "metadata": {},
     "output_type": "display_data"
    }
   ],
   "source": [
    "regressor, data_dict = model.test_and_log(\"linear-regressor\")"
   ]
  },
  {
   "cell_type": "code",
   "execution_count": null,
   "metadata": {},
   "outputs": [],
   "source": []
  }
 ],
 "metadata": {
  "kernelspec": {
   "display_name": "AQmort",
   "language": "python",
   "name": "aqmort"
  },
  "language_info": {
   "codemirror_mode": {
    "name": "ipython",
    "version": 3
   },
   "file_extension": ".py",
   "mimetype": "text/x-python",
   "name": "python",
   "nbconvert_exporter": "python",
   "pygments_lexer": "ipython3",
   "version": "3.9.4"
  }
 },
 "nbformat": 4,
 "nbformat_minor": 4
}
