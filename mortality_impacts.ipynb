{
 "cells": [
  {
   "cell_type": "markdown",
   "metadata": {},
   "source": [
    "# Imports"
   ]
  },
  {
   "cell_type": "code",
   "execution_count": 1,
   "metadata": {},
   "outputs": [],
   "source": [
    "from data_classes import LAQNData, HealthData, MetData\n",
    "from os import path\n",
    "import pandas as pd\n",
    "import matplotlib.pyplot as plt"
   ]
  },
  {
   "cell_type": "markdown",
   "metadata": {},
   "source": [
    "# Load data"
   ]
  },
  {
   "cell_type": "markdown",
   "metadata": {},
   "source": [
    "### Load the hourly NO$_2$ data"
   ]
  },
  {
   "cell_type": "code",
   "execution_count": 2,
   "metadata": {},
   "outputs": [],
   "source": [
    "data_folder = path.join(path.abspath(\"\"), \"LAQN_data\")\n",
    "species = \"NO2\"\n",
    "url = \"http://api.erg.kcl.ac.uk/AirQuality/Information/MonitoringSites/GroupName=London/Json\"\n",
    "start_date = \"2000-01-01\"\n",
    "end_date = \"2021-01-01\""
   ]
  },
  {
   "cell_type": "code",
   "execution_count": 3,
   "metadata": {},
   "outputs": [],
   "source": [
    "NO2_hourly = LAQNData(url, data_folder, species, start_date, end_date)"
   ]
  },
  {
   "cell_type": "code",
   "execution_count": 4,
   "metadata": {},
   "outputs": [
    {
     "name": "stdout",
     "output_type": "stream",
     "text": [
      "Reading NO2_hourly_2000-01-01_2021-01-01.csv...\n",
      "(184105, 192)\n"
     ]
    }
   ],
   "source": [
    "hourly_NO2_df = NO2_hourly.read_csv(index_col=\"date\")\n",
    "print(hourly_NO2_df.shape)"
   ]
  },
  {
   "cell_type": "markdown",
   "metadata": {},
   "source": [
    "### Load the hourly meteorology data"
   ]
  },
  {
   "cell_type": "code",
   "execution_count": 5,
   "metadata": {},
   "outputs": [],
   "source": [
    "data_folder = path.join(path.abspath(\"\"), \"met_data\")\n",
    "url = \"https://bulk.meteostat.net/hourly/03772.csv.gz\""
   ]
  },
  {
   "cell_type": "code",
   "execution_count": 6,
   "metadata": {},
   "outputs": [],
   "source": [
    "heathrow = MetData(data_folder, url=url)"
   ]
  },
  {
   "cell_type": "code",
   "execution_count": 7,
   "metadata": {},
   "outputs": [
    {
     "name": "stdout",
     "output_type": "stream",
     "text": [
      "Reading hourly_heathrow_met_data.csv...\n",
      "(510165, 8)\n"
     ]
    }
   ],
   "source": [
    "hourly_met_df = heathrow.read_csv()\n",
    "print(hourly_met_df.shape)"
   ]
  },
  {
   "cell_type": "markdown",
   "metadata": {},
   "source": [
    "### Load the daily mortality per capita data"
   ]
  },
  {
   "cell_type": "code",
   "execution_count": 8,
   "metadata": {},
   "outputs": [],
   "source": [
    "data_folder = path.join(path.abspath(\"\"), \"mortality_data/daily\")\n",
    "filename = \"daily_mortality_percapita_London.csv\""
   ]
  },
  {
   "cell_type": "code",
   "execution_count": 9,
   "metadata": {},
   "outputs": [],
   "source": [
    "mortality_daily = HealthData(data_folder, filename=filename)"
   ]
  },
  {
   "cell_type": "code",
   "execution_count": 10,
   "metadata": {},
   "outputs": [
    {
     "name": "stdout",
     "output_type": "stream",
     "text": [
      "Reading daily_mortality_percapita_London.csv...\n",
      "(13698, 3)\n"
     ]
    }
   ],
   "source": [
    "mortality_df = pd.DataFrame(mortality_daily.read_csv(index_col=\"date\"))\n",
    "print(mortality_df.shape)"
   ]
  },
  {
   "cell_type": "markdown",
   "metadata": {},
   "source": [
    "# Process data + plots"
   ]
  },
  {
   "cell_type": "markdown",
   "metadata": {},
   "source": [
    "## Daily data"
   ]
  },
  {
   "cell_type": "code",
   "execution_count": 11,
   "metadata": {},
   "outputs": [],
   "source": [
    "daily_dates = mortality_df.index"
   ]
  },
  {
   "cell_type": "markdown",
   "metadata": {},
   "source": [
    "### Resample the hourly NO$_2$ data using a custom date list"
   ]
  },
  {
   "cell_type": "markdown",
   "metadata": {},
   "source": [
    "Only retain the NO$_2$ data up to the final mortality datapoint:"
   ]
  },
  {
   "cell_type": "code",
   "execution_count": 12,
   "metadata": {},
   "outputs": [],
   "source": [
    "hourly_NO2_df = hourly_NO2_df.loc[hourly_NO2_df.index < daily_dates.max()]"
   ]
  },
  {
   "cell_type": "code",
   "execution_count": 13,
   "metadata": {},
   "outputs": [],
   "source": [
    "daily_NO2_df = hourly_NO2_df.groupby(daily_dates[daily_dates.searchsorted(hourly_NO2_df.index)]).mean()"
   ]
  },
  {
   "cell_type": "markdown",
   "metadata": {},
   "source": [
    "We've now generated a dataframe of weekly mean NO$_2$ concentrations (from the hourly data) using the weekly dates given by the mortality dataset. \n",
    "- The `searchsorted()` function takes the `hourly_df` index and inserts it into `weekly_dates` to return an array of indices where the hourly elements should be inserted to maintain order in the weekly dates. See docs [here](https://pandas.pydata.org/pandas-docs/version/0.21.1/generated/pandas.DatetimeIndex.searchsorted.html).\n",
    "- Placing these indices inside `weekly_dates[]` produces an array the same length as the hourly index, where each entry is the corresponding \"weekly\" date.\n",
    "- The `groupby()` operation then performs the `mean()` function on the hourly data, grouping by the assigned weekly dates in the previous step. See docs [here](https://pandas.pydata.org/pandas-docs/stable/reference/api/pandas.DataFrame.groupby.html)."
   ]
  },
  {
   "cell_type": "code",
   "execution_count": 14,
   "metadata": {},
   "outputs": [
    {
     "data": {
      "text/plain": [
       "(6940, 192)"
      ]
     },
     "execution_count": 14,
     "metadata": {},
     "output_type": "execute_result"
    }
   ],
   "source": [
    "daily_NO2_df.shape"
   ]
  },
  {
   "cell_type": "markdown",
   "metadata": {},
   "source": [
    "### Spatially average the NO$_2$ data for all of London"
   ]
  },
  {
   "cell_type": "code",
   "execution_count": 15,
   "metadata": {},
   "outputs": [],
   "source": [
    "NO2_df = pd.DataFrame(daily_NO2_df.mean(axis=1), columns=[\"mean_NO2\"]).join(mortality_df)\n",
    "NO2_df[\"deaths_per_100k\"] = NO2_df[\"deaths_per_capita\"]*100000"
   ]
  },
  {
   "cell_type": "code",
   "execution_count": 16,
   "metadata": {},
   "outputs": [
    {
     "data": {
      "text/html": [
       "<div>\n",
       "<style scoped>\n",
       "    .dataframe tbody tr th:only-of-type {\n",
       "        vertical-align: middle;\n",
       "    }\n",
       "\n",
       "    .dataframe tbody tr th {\n",
       "        vertical-align: top;\n",
       "    }\n",
       "\n",
       "    .dataframe thead th {\n",
       "        text-align: right;\n",
       "    }\n",
       "</style>\n",
       "<table border=\"1\" class=\"dataframe\">\n",
       "  <thead>\n",
       "    <tr style=\"text-align: right;\">\n",
       "      <th></th>\n",
       "      <th>mean_NO2</th>\n",
       "      <th>total_population</th>\n",
       "      <th>deaths</th>\n",
       "      <th>deaths_per_capita</th>\n",
       "      <th>deaths_per_100k</th>\n",
       "    </tr>\n",
       "    <tr>\n",
       "      <th>date</th>\n",
       "      <th></th>\n",
       "      <th></th>\n",
       "      <th></th>\n",
       "      <th></th>\n",
       "      <th></th>\n",
       "    </tr>\n",
       "  </thead>\n",
       "  <tbody>\n",
       "    <tr>\n",
       "      <th>2000-01-01</th>\n",
       "      <td>44.654545</td>\n",
       "      <td>7.195538e+06</td>\n",
       "      <td>327</td>\n",
       "      <td>0.000045</td>\n",
       "      <td>4.544483</td>\n",
       "    </tr>\n",
       "    <tr>\n",
       "      <th>2000-01-02</th>\n",
       "      <td>52.885482</td>\n",
       "      <td>7.195764e+06</td>\n",
       "      <td>291</td>\n",
       "      <td>0.000040</td>\n",
       "      <td>4.044046</td>\n",
       "    </tr>\n",
       "    <tr>\n",
       "      <th>2000-01-03</th>\n",
       "      <td>42.606277</td>\n",
       "      <td>7.195991e+06</td>\n",
       "      <td>312</td>\n",
       "      <td>0.000043</td>\n",
       "      <td>4.335748</td>\n",
       "    </tr>\n",
       "    <tr>\n",
       "      <th>2000-01-04</th>\n",
       "      <td>36.740944</td>\n",
       "      <td>7.196217e+06</td>\n",
       "      <td>288</td>\n",
       "      <td>0.000040</td>\n",
       "      <td>4.002103</td>\n",
       "    </tr>\n",
       "    <tr>\n",
       "      <th>2000-01-05</th>\n",
       "      <td>64.076266</td>\n",
       "      <td>7.196443e+06</td>\n",
       "      <td>305</td>\n",
       "      <td>0.000042</td>\n",
       "      <td>4.238205</td>\n",
       "    </tr>\n",
       "  </tbody>\n",
       "</table>\n",
       "</div>"
      ],
      "text/plain": [
       "             mean_NO2  total_population  deaths  deaths_per_capita  \\\n",
       "date                                                                 \n",
       "2000-01-01  44.654545      7.195538e+06     327           0.000045   \n",
       "2000-01-02  52.885482      7.195764e+06     291           0.000040   \n",
       "2000-01-03  42.606277      7.195991e+06     312           0.000043   \n",
       "2000-01-04  36.740944      7.196217e+06     288           0.000040   \n",
       "2000-01-05  64.076266      7.196443e+06     305           0.000042   \n",
       "\n",
       "            deaths_per_100k  \n",
       "date                         \n",
       "2000-01-01         4.544483  \n",
       "2000-01-02         4.044046  \n",
       "2000-01-03         4.335748  \n",
       "2000-01-04         4.002103  \n",
       "2000-01-05         4.238205  "
      ]
     },
     "execution_count": 16,
     "metadata": {},
     "output_type": "execute_result"
    }
   ],
   "source": [
    "NO2_df.head()"
   ]
  },
  {
   "cell_type": "markdown",
   "metadata": {},
   "source": [
    "#### Scatter plot mortality vs NO$_2$"
   ]
  },
  {
   "cell_type": "code",
   "execution_count": 17,
   "metadata": {},
   "outputs": [
    {
     "data": {
      "image/png": "[encoded data removed]",
      "text/plain": [
       "<Figure size 432x288 with 1 Axes>"
      ]
     },
     "metadata": {
      "needs_background": "light"
     },
     "output_type": "display_data"
    }
   ],
   "source": [
    "NO2_df.plot.scatter(x=\"mean_NO2\", y=\"deaths_per_100k\", legend=False, title=\"London mortality\").set_ylabel(\"daily deaths per 100,000\")\n",
    "plt.xlabel(\"mean daily NO$_2$ (µg m$^{-3}$)\")\n",
    "plt.show()"
   ]
  },
  {
   "cell_type": "code",
   "execution_count": 18,
   "metadata": {
    "collapsed": true,
    "jupyter": {
     "outputs_hidden": true
    }
   },
   "outputs": [
    {
     "data": {
      "image/png": "[encoded data removed]",
      "text/plain": [
       "<Figure size 432x288 with 1 Axes>"
      ]
     },
     "metadata": {
      "needs_background": "light"
     },
     "output_type": "display_data"
    }
   ],
   "source": [
    "NO2_df.plot(y=\"mean_NO2\", legend=False, title=\"London NO$_2$\").set_ylabel(\"mean daily NO$_2$ (µg m$^{-3}$)\")\n",
    "plt.show()"
   ]
  },
  {
   "cell_type": "code",
   "execution_count": null,
   "metadata": {},
   "outputs": [],
   "source": []
  },
  {
   "cell_type": "markdown",
   "metadata": {},
   "source": [
    "### Resample the hourly meteorology data using a custom date list"
   ]
  },
  {
   "cell_type": "markdown",
   "metadata": {},
   "source": [
    "Only retain the met data up to the final mortality datapoint:"
   ]
  },
  {
   "cell_type": "code",
   "execution_count": 19,
   "metadata": {},
   "outputs": [],
   "source": [
    "hourly_met_df = hourly_met_df.loc[hourly_met_df.index < daily_dates.max()]"
   ]
  },
  {
   "cell_type": "code",
   "execution_count": 20,
   "metadata": {},
   "outputs": [],
   "source": [
    "daily_met_df = hourly_met_df.groupby(daily_dates[daily_dates.searchsorted(hourly_met_df.index)]).mean()"
   ]
  },
  {
   "cell_type": "code",
   "execution_count": 21,
   "metadata": {},
   "outputs": [
    {
     "data": {
      "text/plain": [
       "(13695, 8)"
      ]
     },
     "execution_count": 21,
     "metadata": {},
     "output_type": "execute_result"
    }
   ],
   "source": [
    "daily_met_df.shape"
   ]
  },
  {
   "cell_type": "code",
   "execution_count": 22,
   "metadata": {},
   "outputs": [
    {
     "data": {
      "text/html": [
       "<div>\n",
       "<style scoped>\n",
       "    .dataframe tbody tr th:only-of-type {\n",
       "        vertical-align: middle;\n",
       "    }\n",
       "\n",
       "    .dataframe tbody tr th {\n",
       "        vertical-align: top;\n",
       "    }\n",
       "\n",
       "    .dataframe thead th {\n",
       "        text-align: right;\n",
       "    }\n",
       "</style>\n",
       "<table border=\"1\" class=\"dataframe\">\n",
       "  <thead>\n",
       "    <tr style=\"text-align: right;\">\n",
       "      <th></th>\n",
       "      <th>temperature</th>\n",
       "      <th>dew_point</th>\n",
       "      <th>humidity</th>\n",
       "      <th>precip</th>\n",
       "      <th>wind_dir</th>\n",
       "      <th>wind_speed</th>\n",
       "      <th>peak_gust</th>\n",
       "      <th>pressure</th>\n",
       "    </tr>\n",
       "    <tr>\n",
       "      <th>date</th>\n",
       "      <th></th>\n",
       "      <th></th>\n",
       "      <th></th>\n",
       "      <th></th>\n",
       "      <th></th>\n",
       "      <th></th>\n",
       "      <th></th>\n",
       "      <th></th>\n",
       "    </tr>\n",
       "  </thead>\n",
       "  <tbody>\n",
       "    <tr>\n",
       "      <th>1981-07-01</th>\n",
       "      <td>10.312016</td>\n",
       "      <td>6.583121</td>\n",
       "      <td>79.670071</td>\n",
       "      <td>NaN</td>\n",
       "      <td>203.286583</td>\n",
       "      <td>14.983545</td>\n",
       "      <td>NaN</td>\n",
       "      <td>1015.472753</td>\n",
       "    </tr>\n",
       "    <tr>\n",
       "      <th>1981-07-02</th>\n",
       "      <td>15.833333</td>\n",
       "      <td>10.858333</td>\n",
       "      <td>73.500000</td>\n",
       "      <td>NaN</td>\n",
       "      <td>246.666667</td>\n",
       "      <td>14.358333</td>\n",
       "      <td>NaN</td>\n",
       "      <td>1011.950000</td>\n",
       "    </tr>\n",
       "    <tr>\n",
       "      <th>1981-07-03</th>\n",
       "      <td>14.125000</td>\n",
       "      <td>8.091667</td>\n",
       "      <td>68.375000</td>\n",
       "      <td>NaN</td>\n",
       "      <td>218.333333</td>\n",
       "      <td>12.200000</td>\n",
       "      <td>NaN</td>\n",
       "      <td>1007.587500</td>\n",
       "    </tr>\n",
       "    <tr>\n",
       "      <th>1981-07-04</th>\n",
       "      <td>14.416667</td>\n",
       "      <td>9.745833</td>\n",
       "      <td>74.875000</td>\n",
       "      <td>NaN</td>\n",
       "      <td>236.250000</td>\n",
       "      <td>13.970833</td>\n",
       "      <td>NaN</td>\n",
       "      <td>1008.373913</td>\n",
       "    </tr>\n",
       "    <tr>\n",
       "      <th>1981-07-05</th>\n",
       "      <td>15.416667</td>\n",
       "      <td>12.437500</td>\n",
       "      <td>83.000000</td>\n",
       "      <td>NaN</td>\n",
       "      <td>208.750000</td>\n",
       "      <td>9.379167</td>\n",
       "      <td>NaN</td>\n",
       "      <td>1016.883333</td>\n",
       "    </tr>\n",
       "  </tbody>\n",
       "</table>\n",
       "</div>"
      ],
      "text/plain": [
       "            temperature  dew_point   humidity  precip    wind_dir  wind_speed  \\\n",
       "date                                                                            \n",
       "1981-07-01    10.312016   6.583121  79.670071     NaN  203.286583   14.983545   \n",
       "1981-07-02    15.833333  10.858333  73.500000     NaN  246.666667   14.358333   \n",
       "1981-07-03    14.125000   8.091667  68.375000     NaN  218.333333   12.200000   \n",
       "1981-07-04    14.416667   9.745833  74.875000     NaN  236.250000   13.970833   \n",
       "1981-07-05    15.416667  12.437500  83.000000     NaN  208.750000    9.379167   \n",
       "\n",
       "            peak_gust     pressure  \n",
       "date                                \n",
       "1981-07-01        NaN  1015.472753  \n",
       "1981-07-02        NaN  1011.950000  \n",
       "1981-07-03        NaN  1007.587500  \n",
       "1981-07-04        NaN  1008.373913  \n",
       "1981-07-05        NaN  1016.883333  "
      ]
     },
     "execution_count": 22,
     "metadata": {},
     "output_type": "execute_result"
    }
   ],
   "source": [
    "daily_met_df.head()"
   ]
  },
  {
   "cell_type": "code",
   "execution_count": 23,
   "metadata": {},
   "outputs": [],
   "source": [
    "temperature_df = pd.DataFrame(daily_met_df[\"temperature\"]).join(mortality_df)\n",
    "temperature_df[\"deaths_per_100k\"] = temperature_df[\"deaths_per_capita\"]*100000"
   ]
  },
  {
   "cell_type": "code",
   "execution_count": 24,
   "metadata": {},
   "outputs": [
    {
     "data": {
      "text/html": [
       "<div>\n",
       "<style scoped>\n",
       "    .dataframe tbody tr th:only-of-type {\n",
       "        vertical-align: middle;\n",
       "    }\n",
       "\n",
       "    .dataframe tbody tr th {\n",
       "        vertical-align: top;\n",
       "    }\n",
       "\n",
       "    .dataframe thead th {\n",
       "        text-align: right;\n",
       "    }\n",
       "</style>\n",
       "<table border=\"1\" class=\"dataframe\">\n",
       "  <thead>\n",
       "    <tr style=\"text-align: right;\">\n",
       "      <th></th>\n",
       "      <th>temperature</th>\n",
       "      <th>total_population</th>\n",
       "      <th>deaths</th>\n",
       "      <th>deaths_per_capita</th>\n",
       "      <th>deaths_per_100k</th>\n",
       "    </tr>\n",
       "    <tr>\n",
       "      <th>date</th>\n",
       "      <th></th>\n",
       "      <th></th>\n",
       "      <th></th>\n",
       "      <th></th>\n",
       "      <th></th>\n",
       "    </tr>\n",
       "  </thead>\n",
       "  <tbody>\n",
       "    <tr>\n",
       "      <th>1981-07-01</th>\n",
       "      <td>10.312016</td>\n",
       "      <td>6.805000e+06</td>\n",
       "      <td>177</td>\n",
       "      <td>0.000026</td>\n",
       "      <td>2.601029</td>\n",
       "    </tr>\n",
       "    <tr>\n",
       "      <th>1981-07-02</th>\n",
       "      <td>15.833333</td>\n",
       "      <td>6.804891e+06</td>\n",
       "      <td>204</td>\n",
       "      <td>0.000030</td>\n",
       "      <td>2.997844</td>\n",
       "    </tr>\n",
       "    <tr>\n",
       "      <th>1981-07-03</th>\n",
       "      <td>14.125000</td>\n",
       "      <td>6.804781e+06</td>\n",
       "      <td>199</td>\n",
       "      <td>0.000029</td>\n",
       "      <td>2.924414</td>\n",
       "    </tr>\n",
       "    <tr>\n",
       "      <th>1981-07-04</th>\n",
       "      <td>14.416667</td>\n",
       "      <td>6.804672e+06</td>\n",
       "      <td>197</td>\n",
       "      <td>0.000029</td>\n",
       "      <td>2.895070</td>\n",
       "    </tr>\n",
       "    <tr>\n",
       "      <th>1981-07-05</th>\n",
       "      <td>15.416667</td>\n",
       "      <td>6.804563e+06</td>\n",
       "      <td>191</td>\n",
       "      <td>0.000028</td>\n",
       "      <td>2.806940</td>\n",
       "    </tr>\n",
       "  </tbody>\n",
       "</table>\n",
       "</div>"
      ],
      "text/plain": [
       "            temperature  total_population  deaths  deaths_per_capita  \\\n",
       "date                                                                   \n",
       "1981-07-01    10.312016      6.805000e+06     177           0.000026   \n",
       "1981-07-02    15.833333      6.804891e+06     204           0.000030   \n",
       "1981-07-03    14.125000      6.804781e+06     199           0.000029   \n",
       "1981-07-04    14.416667      6.804672e+06     197           0.000029   \n",
       "1981-07-05    15.416667      6.804563e+06     191           0.000028   \n",
       "\n",
       "            deaths_per_100k  \n",
       "date                         \n",
       "1981-07-01         2.601029  \n",
       "1981-07-02         2.997844  \n",
       "1981-07-03         2.924414  \n",
       "1981-07-04         2.895070  \n",
       "1981-07-05         2.806940  "
      ]
     },
     "execution_count": 24,
     "metadata": {},
     "output_type": "execute_result"
    }
   ],
   "source": [
    "temperature_df.head()"
   ]
  },
  {
   "cell_type": "markdown",
   "metadata": {},
   "source": [
    "#### Scatter plot of mortality vs temperature"
   ]
  },
  {
   "cell_type": "code",
   "execution_count": 25,
   "metadata": {},
   "outputs": [
    {
     "data": {
      "image/png": "[encoded data removed]",
      "text/plain": [
       "<Figure size 432x288 with 1 Axes>"
      ]
     },
     "metadata": {
      "needs_background": "light"
     },
     "output_type": "display_data"
    }
   ],
   "source": [
    "temperature_df.plot.scatter(x=\"temperature\", y=\"deaths_per_100k\", legend=False, title=\"London mortality\").set_ylabel(\"daily deaths per 100,000\")\n",
    "plt.xlabel(\"mean daily temperature (℃)\")\n",
    "plt.show()"
   ]
  },
  {
   "cell_type": "markdown",
   "metadata": {},
   "source": [
    "### Scatter plot of NO$_2$ vs temperature"
   ]
  },
  {
   "cell_type": "code",
   "execution_count": 26,
   "metadata": {},
   "outputs": [],
   "source": [
    "df = pd.DataFrame(NO2_df[\"mean_NO2\"]).join(temperature_df)"
   ]
  },
  {
   "cell_type": "code",
   "execution_count": 27,
   "metadata": {},
   "outputs": [
    {
     "data": {
      "text/html": [
       "<div>\n",
       "<style scoped>\n",
       "    .dataframe tbody tr th:only-of-type {\n",
       "        vertical-align: middle;\n",
       "    }\n",
       "\n",
       "    .dataframe tbody tr th {\n",
       "        vertical-align: top;\n",
       "    }\n",
       "\n",
       "    .dataframe thead th {\n",
       "        text-align: right;\n",
       "    }\n",
       "</style>\n",
       "<table border=\"1\" class=\"dataframe\">\n",
       "  <thead>\n",
       "    <tr style=\"text-align: right;\">\n",
       "      <th></th>\n",
       "      <th>mean_NO2</th>\n",
       "      <th>temperature</th>\n",
       "      <th>total_population</th>\n",
       "      <th>deaths</th>\n",
       "      <th>deaths_per_capita</th>\n",
       "      <th>deaths_per_100k</th>\n",
       "    </tr>\n",
       "    <tr>\n",
       "      <th>date</th>\n",
       "      <th></th>\n",
       "      <th></th>\n",
       "      <th></th>\n",
       "      <th></th>\n",
       "      <th></th>\n",
       "      <th></th>\n",
       "    </tr>\n",
       "  </thead>\n",
       "  <tbody>\n",
       "    <tr>\n",
       "      <th>2000-01-01</th>\n",
       "      <td>44.654545</td>\n",
       "      <td>5.966667</td>\n",
       "      <td>7.195538e+06</td>\n",
       "      <td>327</td>\n",
       "      <td>0.000045</td>\n",
       "      <td>4.544483</td>\n",
       "    </tr>\n",
       "    <tr>\n",
       "      <th>2000-01-02</th>\n",
       "      <td>52.885482</td>\n",
       "      <td>7.970833</td>\n",
       "      <td>7.195764e+06</td>\n",
       "      <td>291</td>\n",
       "      <td>0.000040</td>\n",
       "      <td>4.044046</td>\n",
       "    </tr>\n",
       "    <tr>\n",
       "      <th>2000-01-03</th>\n",
       "      <td>42.606277</td>\n",
       "      <td>8.495833</td>\n",
       "      <td>7.195991e+06</td>\n",
       "      <td>312</td>\n",
       "      <td>0.000043</td>\n",
       "      <td>4.335748</td>\n",
       "    </tr>\n",
       "    <tr>\n",
       "      <th>2000-01-04</th>\n",
       "      <td>36.740944</td>\n",
       "      <td>8.904167</td>\n",
       "      <td>7.196217e+06</td>\n",
       "      <td>288</td>\n",
       "      <td>0.000040</td>\n",
       "      <td>4.002103</td>\n",
       "    </tr>\n",
       "    <tr>\n",
       "      <th>2000-01-05</th>\n",
       "      <td>64.076266</td>\n",
       "      <td>5.358333</td>\n",
       "      <td>7.196443e+06</td>\n",
       "      <td>305</td>\n",
       "      <td>0.000042</td>\n",
       "      <td>4.238205</td>\n",
       "    </tr>\n",
       "    <tr>\n",
       "      <th>...</th>\n",
       "      <td>...</td>\n",
       "      <td>...</td>\n",
       "      <td>...</td>\n",
       "      <td>...</td>\n",
       "      <td>...</td>\n",
       "      <td>...</td>\n",
       "    </tr>\n",
       "    <tr>\n",
       "      <th>2018-12-27</th>\n",
       "      <td>43.737685</td>\n",
       "      <td>7.933333</td>\n",
       "      <td>8.934518e+06</td>\n",
       "      <td>129</td>\n",
       "      <td>0.000014</td>\n",
       "      <td>1.443838</td>\n",
       "    </tr>\n",
       "    <tr>\n",
       "      <th>2018-12-28</th>\n",
       "      <td>67.491127</td>\n",
       "      <td>5.020833</td>\n",
       "      <td>8.934666e+06</td>\n",
       "      <td>162</td>\n",
       "      <td>0.000018</td>\n",
       "      <td>1.813162</td>\n",
       "    </tr>\n",
       "    <tr>\n",
       "      <th>2018-12-29</th>\n",
       "      <td>56.728079</td>\n",
       "      <td>7.925000</td>\n",
       "      <td>8.934813e+06</td>\n",
       "      <td>161</td>\n",
       "      <td>0.000018</td>\n",
       "      <td>1.801940</td>\n",
       "    </tr>\n",
       "    <tr>\n",
       "      <th>2018-12-30</th>\n",
       "      <td>40.976135</td>\n",
       "      <td>9.841667</td>\n",
       "      <td>8.934961e+06</td>\n",
       "      <td>145</td>\n",
       "      <td>0.000016</td>\n",
       "      <td>1.622839</td>\n",
       "    </tr>\n",
       "    <tr>\n",
       "      <th>2018-12-31</th>\n",
       "      <td>37.583008</td>\n",
       "      <td>9.230435</td>\n",
       "      <td>8.935109e+06</td>\n",
       "      <td>154</td>\n",
       "      <td>0.000017</td>\n",
       "      <td>1.723538</td>\n",
       "    </tr>\n",
       "  </tbody>\n",
       "</table>\n",
       "<p>6940 rows × 6 columns</p>\n",
       "</div>"
      ],
      "text/plain": [
       "             mean_NO2  temperature  total_population  deaths  \\\n",
       "date                                                           \n",
       "2000-01-01  44.654545     5.966667      7.195538e+06     327   \n",
       "2000-01-02  52.885482     7.970833      7.195764e+06     291   \n",
       "2000-01-03  42.606277     8.495833      7.195991e+06     312   \n",
       "2000-01-04  36.740944     8.904167      7.196217e+06     288   \n",
       "2000-01-05  64.076266     5.358333      7.196443e+06     305   \n",
       "...               ...          ...               ...     ...   \n",
       "2018-12-27  43.737685     7.933333      8.934518e+06     129   \n",
       "2018-12-28  67.491127     5.020833      8.934666e+06     162   \n",
       "2018-12-29  56.728079     7.925000      8.934813e+06     161   \n",
       "2018-12-30  40.976135     9.841667      8.934961e+06     145   \n",
       "2018-12-31  37.583008     9.230435      8.935109e+06     154   \n",
       "\n",
       "            deaths_per_capita  deaths_per_100k  \n",
       "date                                            \n",
       "2000-01-01           0.000045         4.544483  \n",
       "2000-01-02           0.000040         4.044046  \n",
       "2000-01-03           0.000043         4.335748  \n",
       "2000-01-04           0.000040         4.002103  \n",
       "2000-01-05           0.000042         4.238205  \n",
       "...                       ...              ...  \n",
       "2018-12-27           0.000014         1.443838  \n",
       "2018-12-28           0.000018         1.813162  \n",
       "2018-12-29           0.000018         1.801940  \n",
       "2018-12-30           0.000016         1.622839  \n",
       "2018-12-31           0.000017         1.723538  \n",
       "\n",
       "[6940 rows x 6 columns]"
      ]
     },
     "execution_count": 27,
     "metadata": {},
     "output_type": "execute_result"
    }
   ],
   "source": [
    "df"
   ]
  },
  {
   "cell_type": "code",
   "execution_count": 30,
   "metadata": {},
   "outputs": [
    {
     "data": {
      "image/png": "[encoded data removed]",
      "text/plain": [
       "<Figure size 432x288 with 1 Axes>"
      ]
     },
     "metadata": {
      "needs_background": "light"
     },
     "output_type": "display_data"
    }
   ],
   "source": [
    "df.plot.scatter(x=\"temperature\", y=\"mean_NO2\", legend=False, title=\"London NO$_2$\").set_ylabel(\"mean daily NO$_2$ (µg m$^{-3}$)\")\n",
    "plt.xlabel(\"mean daily temperature (℃)\")\n",
    "plt.show()"
   ]
  },
  {
   "cell_type": "code",
   "execution_count": null,
   "metadata": {},
   "outputs": [],
   "source": []
  }
 ],
 "metadata": {
  "kernelspec": {
   "display_name": "AQmort",
   "language": "python",
   "name": "aqmort"
  },
  "language_info": {
   "codemirror_mode": {
    "name": "ipython",
    "version": 3
   },
   "file_extension": ".py",
   "mimetype": "text/x-python",
   "name": "python",
   "nbconvert_exporter": "python",
   "pygments_lexer": "ipython3",
   "version": "3.9.2"
  }
 },
 "nbformat": 4,
 "nbformat_minor": 4
}
