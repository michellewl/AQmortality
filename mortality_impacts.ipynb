{
 "cells": [
  {
   "cell_type": "markdown",
   "metadata": {},
   "source": [
    "# Imports"
   ]
  },
  {
   "cell_type": "code",
   "execution_count": 2,
   "metadata": {},
   "outputs": [],
   "source": [
    "from data_classes import LAQNData, HealthData\n",
    "from os import path\n",
    "import pandas as pd"
   ]
  },
  {
   "cell_type": "markdown",
   "metadata": {},
   "source": [
    "# Load data"
   ]
  },
  {
   "cell_type": "markdown",
   "metadata": {},
   "source": [
    "### Load the hourly NO$_2$ data"
   ]
  },
  {
   "cell_type": "code",
   "execution_count": 3,
   "metadata": {},
   "outputs": [],
   "source": [
    "data_folder = path.join(path.abspath(\"\"), \"LAQN_data\")\n",
    "species = \"NO2\"\n",
    "url = \"http://api.erg.kcl.ac.uk/AirQuality/Information/MonitoringSites/GroupName=London/Json\"\n",
    "start_date = \"2000-01-01\"\n",
    "end_date = \"2021-01-01\""
   ]
  },
  {
   "cell_type": "code",
   "execution_count": 4,
   "metadata": {},
   "outputs": [],
   "source": [
    "NO2_hourly = LAQNData(url, data_folder, species, start_date, end_date)"
   ]
  },
  {
   "cell_type": "code",
   "execution_count": 5,
   "metadata": {},
   "outputs": [
    {
     "name": "stdout",
     "output_type": "stream",
     "text": [
      "Reading NO2_hourly_2000-01-01_2021-01-01.csv...\n",
      "(184105, 192)\n"
     ]
    }
   ],
   "source": [
    "hourly_df = NO2_hourly.read_csv(index_col=\"date\")\n",
    "print(hourly_df.shape)"
   ]
  },
  {
   "cell_type": "markdown",
   "metadata": {},
   "source": [
    "### Load the weekly mortality per capita data"
   ]
  },
  {
   "cell_type": "code",
   "execution_count": 6,
   "metadata": {},
   "outputs": [],
   "source": [
    "data_folder = path.join(path.abspath(\"\"), \"mortality_data\")\n",
    "filename = \"weekly_mortality_percapita_London.csv\""
   ]
  },
  {
   "cell_type": "code",
   "execution_count": 7,
   "metadata": {},
   "outputs": [],
   "source": [
    "mortality_weekly = HealthData(data_folder, filename=filename)"
   ]
  },
  {
   "cell_type": "code",
   "execution_count": 8,
   "metadata": {},
   "outputs": [
    {
     "name": "stdout",
     "output_type": "stream",
     "text": [
      "Reading weekly_mortality_percapita_London.csv...\n",
      "(495, 3)\n"
     ]
    }
   ],
   "source": [
    "mortality_df = pd.DataFrame(mortality_weekly.read_csv(index_col=\"date\"))\n",
    "print(mortality_df.shape)"
   ]
  },
  {
   "cell_type": "markdown",
   "metadata": {},
   "source": [
    "### Load the daily mortality per capita data"
   ]
  },
  {
   "cell_type": "code",
   "execution_count": 6,
   "metadata": {},
   "outputs": [],
   "source": [
    "data_folder = path.join(path.abspath(\"\"), \"mortality_data/daily\")\n",
    "filename = \"daily_mortality_percapita_London.csv\""
   ]
  },
  {
   "cell_type": "code",
   "execution_count": 7,
   "metadata": {},
   "outputs": [],
   "source": [
    "mortality_daily = HealthData(data_folder, filename=filename)"
   ]
  },
  {
   "cell_type": "code",
   "execution_count": 8,
   "metadata": {},
   "outputs": [
    {
     "name": "stdout",
     "output_type": "stream",
     "text": [
      "Reading daily_mortality_percapita_London.csv...\n",
      "(13698, 3)\n"
     ]
    }
   ],
   "source": [
    "mortality_df = pd.DataFrame(mortality_daily.read_csv(index_col=\"date\"))\n",
    "print(mortality_df.shape)"
   ]
  },
  {
   "cell_type": "markdown",
   "metadata": {},
   "source": [
    "# Process data"
   ]
  },
  {
   "cell_type": "markdown",
   "metadata": {},
   "source": [
    "## Weekly data"
   ]
  },
  {
   "cell_type": "markdown",
   "metadata": {},
   "source": [
    "### Resample the hourly NO$_2$ data using a custom date list"
   ]
  },
  {
   "cell_type": "code",
   "execution_count": 10,
   "metadata": {},
   "outputs": [],
   "source": [
    "weekly_dates = mortality_df.index"
   ]
  },
  {
   "cell_type": "markdown",
   "metadata": {},
   "source": [
    "Only retain the NO$_2$ data up to the final mortality datapoint:"
   ]
  },
  {
   "cell_type": "code",
   "execution_count": 11,
   "metadata": {},
   "outputs": [],
   "source": [
    "hourly_df = hourly_df.loc[hourly_df.index < weekly_dates.max()]"
   ]
  },
  {
   "cell_type": "code",
   "execution_count": 12,
   "metadata": {},
   "outputs": [],
   "source": [
    "weekly_NO2_df = hourly_df.groupby(weekly_dates[weekly_dates.searchsorted(hourly_df.index)]).mean()"
   ]
  },
  {
   "cell_type": "markdown",
   "metadata": {},
   "source": [
    "We've now generated a dataframe of weekly mean NO$_2$ concentrations (from the hourly data) using the weekly dates given by the mortality dataset. \n",
    "- The `searchsorted()` function takes the `hourly_df` index and inserts it into `weekly_dates` to return an array of indices where the hourly elements should be inserted to maintain order in the weekly dates. See docs [here](https://pandas.pydata.org/pandas-docs/version/0.21.1/generated/pandas.DatetimeIndex.searchsorted.html).\n",
    "- Placing these indices inside `weekly_dates[]` produces an array the same length as the hourly index, where each entry is the corresponding \"weekly\" date.\n",
    "- The `groupby()` operation then performs the `mean()` function on the hourly data, grouping by the assigned weekly dates in the previous step. See docs [here](https://pandas.pydata.org/pandas-docs/stable/reference/api/pandas.DataFrame.groupby.html)."
   ]
  },
  {
   "cell_type": "markdown",
   "metadata": {},
   "source": [
    "### Spatially average the NO$_2$ data for all of London"
   ]
  },
  {
   "cell_type": "code",
   "execution_count": 18,
   "metadata": {},
   "outputs": [],
   "source": [
    "NO2_df = pd.DataFrame(weekly_NO2_df.mean(axis=1), columns=[\"mean_NO2\"]).join(mortality_df)\n",
    "NO2_df[\"deaths_per_100k\"] = NO2_df[\"deaths_per_capita\"]*100000"
   ]
  },
  {
   "cell_type": "code",
   "execution_count": 19,
   "metadata": {},
   "outputs": [
    {
     "data": {
      "text/html": [
       "<div>\n",
       "<style scoped>\n",
       "    .dataframe tbody tr th:only-of-type {\n",
       "        vertical-align: middle;\n",
       "    }\n",
       "\n",
       "    .dataframe tbody tr th {\n",
       "        vertical-align: top;\n",
       "    }\n",
       "\n",
       "    .dataframe thead th {\n",
       "        text-align: right;\n",
       "    }\n",
       "</style>\n",
       "<table border=\"1\" class=\"dataframe\">\n",
       "  <thead>\n",
       "    <tr style=\"text-align: right;\">\n",
       "      <th></th>\n",
       "      <th>mean_NO2</th>\n",
       "      <th>total_population</th>\n",
       "      <th>weekly_deaths</th>\n",
       "      <th>deaths_per_capita</th>\n",
       "      <th>deaths_per_100k</th>\n",
       "    </tr>\n",
       "    <tr>\n",
       "      <th>date</th>\n",
       "      <th></th>\n",
       "      <th></th>\n",
       "      <th></th>\n",
       "      <th></th>\n",
       "      <th></th>\n",
       "    </tr>\n",
       "  </thead>\n",
       "  <tbody>\n",
       "    <tr>\n",
       "      <th>2010-01-08</th>\n",
       "      <td>54.274204</td>\n",
       "      <td>8.004813e+06</td>\n",
       "      <td>1226.0</td>\n",
       "      <td>0.000153</td>\n",
       "      <td>15.315785</td>\n",
       "    </tr>\n",
       "    <tr>\n",
       "      <th>2010-01-15</th>\n",
       "      <td>59.165384</td>\n",
       "      <td>8.007094e+06</td>\n",
       "      <td>1262.0</td>\n",
       "      <td>0.000158</td>\n",
       "      <td>15.761024</td>\n",
       "    </tr>\n",
       "    <tr>\n",
       "      <th>2010-01-22</th>\n",
       "      <td>67.432424</td>\n",
       "      <td>8.009374e+06</td>\n",
       "      <td>1186.0</td>\n",
       "      <td>0.000148</td>\n",
       "      <td>14.807649</td>\n",
       "    </tr>\n",
       "    <tr>\n",
       "      <th>2010-01-29</th>\n",
       "      <td>64.820489</td>\n",
       "      <td>8.011654e+06</td>\n",
       "      <td>1093.0</td>\n",
       "      <td>0.000136</td>\n",
       "      <td>13.642626</td>\n",
       "    </tr>\n",
       "    <tr>\n",
       "      <th>2010-02-05</th>\n",
       "      <td>67.035762</td>\n",
       "      <td>8.013935e+06</td>\n",
       "      <td>1035.0</td>\n",
       "      <td>0.000129</td>\n",
       "      <td>12.915004</td>\n",
       "    </tr>\n",
       "  </tbody>\n",
       "</table>\n",
       "</div>"
      ],
      "text/plain": [
       "             mean_NO2  total_population  weekly_deaths  deaths_per_capita  \\\n",
       "date                                                                        \n",
       "2010-01-08  54.274204      8.004813e+06         1226.0           0.000153   \n",
       "2010-01-15  59.165384      8.007094e+06         1262.0           0.000158   \n",
       "2010-01-22  67.432424      8.009374e+06         1186.0           0.000148   \n",
       "2010-01-29  64.820489      8.011654e+06         1093.0           0.000136   \n",
       "2010-02-05  67.035762      8.013935e+06         1035.0           0.000129   \n",
       "\n",
       "            deaths_per_100k  \n",
       "date                         \n",
       "2010-01-08        15.315785  \n",
       "2010-01-15        15.761024  \n",
       "2010-01-22        14.807649  \n",
       "2010-01-29        13.642626  \n",
       "2010-02-05        12.915004  "
      ]
     },
     "execution_count": 19,
     "metadata": {},
     "output_type": "execute_result"
    }
   ],
   "source": [
    "NO2_df.head()"
   ]
  },
  {
   "cell_type": "code",
   "execution_count": 20,
   "metadata": {},
   "outputs": [
    {
     "data": {
      "text/plain": [
       "<AxesSubplot:xlabel='mean_NO2', ylabel='deaths_per_100k'>"
      ]
     },
     "execution_count": 20,
     "metadata": {},
     "output_type": "execute_result"
    },
    {
     "data": {
      "image/png": "[encoded data removed]",
      "text/plain": [
       "<Figure size 432x288 with 1 Axes>"
      ]
     },
     "metadata": {
      "needs_background": "light"
     },
     "output_type": "display_data"
    }
   ],
   "source": [
    "NO2_df.plot.scatter(x=\"mean_NO2\", y=\"deaths_per_100k\")"
   ]
  },
  {
   "cell_type": "markdown",
   "metadata": {},
   "source": [
    "## Daily data"
   ]
  },
  {
   "cell_type": "markdown",
   "metadata": {},
   "source": [
    "### Resample the hourly NO$_2$ data using a custom date list"
   ]
  },
  {
   "cell_type": "code",
   "execution_count": 9,
   "metadata": {},
   "outputs": [],
   "source": [
    "daily_dates = mortality_df.index"
   ]
  },
  {
   "cell_type": "markdown",
   "metadata": {},
   "source": [
    "Only retain the NO$_2$ data up to the final mortality datapoint:"
   ]
  },
  {
   "cell_type": "code",
   "execution_count": 10,
   "metadata": {},
   "outputs": [],
   "source": [
    "hourly_df = hourly_df.loc[hourly_df.index < daily_dates.max()]"
   ]
  },
  {
   "cell_type": "code",
   "execution_count": 11,
   "metadata": {},
   "outputs": [],
   "source": [
    "daily_NO2_df = hourly_df.groupby(daily_dates[daily_dates.searchsorted(hourly_df.index)]).mean()"
   ]
  },
  {
   "cell_type": "code",
   "execution_count": 13,
   "metadata": {},
   "outputs": [
    {
     "data": {
      "text/plain": [
       "(6940, 192)"
      ]
     },
     "execution_count": 13,
     "metadata": {},
     "output_type": "execute_result"
    }
   ],
   "source": [
    "daily_NO2_df.shape"
   ]
  },
  {
   "cell_type": "markdown",
   "metadata": {},
   "source": [
    "### Spatially average the NO$_2$ data for all of London"
   ]
  },
  {
   "cell_type": "code",
   "execution_count": 14,
   "metadata": {},
   "outputs": [],
   "source": [
    "NO2_df = pd.DataFrame(daily_NO2_df.mean(axis=1), columns=[\"mean_NO2\"]).join(mortality_df)\n",
    "NO2_df[\"deaths_per_100k\"] = NO2_df[\"deaths_per_capita\"]*100000"
   ]
  },
  {
   "cell_type": "code",
   "execution_count": 15,
   "metadata": {},
   "outputs": [
    {
     "data": {
      "text/html": [
       "<div>\n",
       "<style scoped>\n",
       "    .dataframe tbody tr th:only-of-type {\n",
       "        vertical-align: middle;\n",
       "    }\n",
       "\n",
       "    .dataframe tbody tr th {\n",
       "        vertical-align: top;\n",
       "    }\n",
       "\n",
       "    .dataframe thead th {\n",
       "        text-align: right;\n",
       "    }\n",
       "</style>\n",
       "<table border=\"1\" class=\"dataframe\">\n",
       "  <thead>\n",
       "    <tr style=\"text-align: right;\">\n",
       "      <th></th>\n",
       "      <th>mean_NO2</th>\n",
       "      <th>total_population</th>\n",
       "      <th>deaths</th>\n",
       "      <th>deaths_per_capita</th>\n",
       "      <th>deaths_per_100k</th>\n",
       "    </tr>\n",
       "    <tr>\n",
       "      <th>date</th>\n",
       "      <th></th>\n",
       "      <th></th>\n",
       "      <th></th>\n",
       "      <th></th>\n",
       "      <th></th>\n",
       "    </tr>\n",
       "  </thead>\n",
       "  <tbody>\n",
       "    <tr>\n",
       "      <th>2000-01-01</th>\n",
       "      <td>44.654545</td>\n",
       "      <td>7.195538e+06</td>\n",
       "      <td>327</td>\n",
       "      <td>0.000045</td>\n",
       "      <td>4.544483</td>\n",
       "    </tr>\n",
       "    <tr>\n",
       "      <th>2000-01-02</th>\n",
       "      <td>52.885482</td>\n",
       "      <td>7.195764e+06</td>\n",
       "      <td>291</td>\n",
       "      <td>0.000040</td>\n",
       "      <td>4.044046</td>\n",
       "    </tr>\n",
       "    <tr>\n",
       "      <th>2000-01-03</th>\n",
       "      <td>42.606277</td>\n",
       "      <td>7.195991e+06</td>\n",
       "      <td>312</td>\n",
       "      <td>0.000043</td>\n",
       "      <td>4.335748</td>\n",
       "    </tr>\n",
       "    <tr>\n",
       "      <th>2000-01-04</th>\n",
       "      <td>36.740944</td>\n",
       "      <td>7.196217e+06</td>\n",
       "      <td>288</td>\n",
       "      <td>0.000040</td>\n",
       "      <td>4.002103</td>\n",
       "    </tr>\n",
       "    <tr>\n",
       "      <th>2000-01-05</th>\n",
       "      <td>64.076266</td>\n",
       "      <td>7.196443e+06</td>\n",
       "      <td>305</td>\n",
       "      <td>0.000042</td>\n",
       "      <td>4.238205</td>\n",
       "    </tr>\n",
       "  </tbody>\n",
       "</table>\n",
       "</div>"
      ],
      "text/plain": [
       "             mean_NO2  total_population  deaths  deaths_per_capita  \\\n",
       "date                                                                 \n",
       "2000-01-01  44.654545      7.195538e+06     327           0.000045   \n",
       "2000-01-02  52.885482      7.195764e+06     291           0.000040   \n",
       "2000-01-03  42.606277      7.195991e+06     312           0.000043   \n",
       "2000-01-04  36.740944      7.196217e+06     288           0.000040   \n",
       "2000-01-05  64.076266      7.196443e+06     305           0.000042   \n",
       "\n",
       "            deaths_per_100k  \n",
       "date                         \n",
       "2000-01-01         4.544483  \n",
       "2000-01-02         4.044046  \n",
       "2000-01-03         4.335748  \n",
       "2000-01-04         4.002103  \n",
       "2000-01-05         4.238205  "
      ]
     },
     "execution_count": 15,
     "metadata": {},
     "output_type": "execute_result"
    }
   ],
   "source": [
    "NO2_df.head()"
   ]
  },
  {
   "cell_type": "code",
   "execution_count": 16,
   "metadata": {},
   "outputs": [
    {
     "data": {
      "text/plain": [
       "<AxesSubplot:xlabel='mean_NO2', ylabel='deaths_per_100k'>"
      ]
     },
     "execution_count": 16,
     "metadata": {},
     "output_type": "execute_result"
    },
    {
     "data": {
      "image/png": "[encoded data removed]",
      "text/plain": [
       "<Figure size 432x288 with 1 Axes>"
      ]
     },
     "metadata": {
      "needs_background": "light"
     },
     "output_type": "display_data"
    }
   ],
   "source": [
    "NO2_df.plot.scatter(x=\"mean_NO2\", y=\"deaths_per_100k\")"
   ]
  },
  {
   "cell_type": "code",
   "execution_count": null,
   "metadata": {},
   "outputs": [],
   "source": []
  }
 ],
 "metadata": {
  "kernelspec": {
   "display_name": "AQmort",
   "language": "python",
   "name": "aqmort"
  },
  "language_info": {
   "codemirror_mode": {
    "name": "ipython",
    "version": 3
   },
   "file_extension": ".py",
   "mimetype": "text/x-python",
   "name": "python",
   "nbconvert_exporter": "python",
   "pygments_lexer": "ipython3",
   "version": "3.9.2"
  }
 },
 "nbformat": 4,
 "nbformat_minor": 4
}
