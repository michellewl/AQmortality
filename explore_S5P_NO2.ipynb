{
 "cells": [
  {
   "cell_type": "code",
   "execution_count": 1,
   "id": "246c7684-9cfb-4efc-ade8-5a6de7a59490",
   "metadata": {},
   "outputs": [
    {
     "name": "stderr",
     "output_type": "stream",
     "text": [
      "/home/users/mwlw3/miniconda3/envs/AQmort/lib/python3.9/site-packages/pyproj/__init__.py:89: UserWarning: pyproj unable to set database path.\n",
      "  _pyproj_global_context_initialize()\n"
     ]
    }
   ],
   "source": [
    "from os import path, listdir\n",
    "import xarray as xr\n",
    "import matplotlib.pyplot as plt\n",
    "import cartopy.crs as ccrs"
   ]
  },
  {
   "cell_type": "code",
   "execution_count": null,
   "id": "297bf335-f653-4eb6-b3b0-12da499993e8",
   "metadata": {},
   "outputs": [],
   "source": [
    "folderpath = \"/neodc/sentinel5p/data/L2_NO2/v2.2/2021/11/05/\""
   ]
  },
  {
   "cell_type": "code",
   "execution_count": null,
   "id": "46a42e80-de16-4ebe-9a45-9961cbed0657",
   "metadata": {},
   "outputs": [],
   "source": [
    "listdir(folderpath)[:5]"
   ]
  },
  {
   "cell_type": "code",
   "execution_count": 2,
   "id": "9ffc5b2d-8c71-4be1-b1a0-437186dd7e62",
   "metadata": {},
   "outputs": [],
   "source": [
    "class S5P_Filename():\n",
    "    def __init__(self, filename):\n",
    "        self.filename = filename\n",
    "        self.mission = filename[0:3]\n",
    "        self.stream = filename[4:8]\n",
    "        self.product = filename[9:19]\n",
    "        self.granule_start = filename[20:35]\n",
    "        self.granule_end = filename[36:51]\n",
    "        self.orbit = filename[52:57]\n",
    "        self.collection = filename[58:60]\n",
    "        self.processor_version = filename[61:67]\n",
    "        self.processing_time = filename[68:83]\n",
    "        self.extension = filename[83:86]"
   ]
  },
  {
   "cell_type": "code",
   "execution_count": null,
   "id": "362b3fa7-21f7-40e6-966b-9290bfe498f4",
   "metadata": {},
   "outputs": [],
   "source": [
    "filename = S5P_Filename(\"S5P_NRTI_L2__NO2____20211105T200216_20211105T200716_21060_02_020200_20211105T215352.nc\")"
   ]
  },
  {
   "cell_type": "code",
   "execution_count": null,
   "id": "708ad6b7-47ff-4aa0-b24d-c7d679fdb556",
   "metadata": {},
   "outputs": [],
   "source": [
    "files = []\n",
    "\n",
    "for file in listdir(folderpath):\n",
    "    file = S5P_Filename(file)\n",
    "    if file.extension == \".nc\":\n",
    "        files.append(path.join(folderpath, file.filename))"
   ]
  },
  {
   "cell_type": "code",
   "execution_count": null,
   "id": "3328b5e8-8bbd-40f2-ae68-ae05a7e821b2",
   "metadata": {},
   "outputs": [],
   "source": [
    "ds = xr.open_dataset(path.join(folderpath, listdir(folderpath)[0]), group=\"PRODUCT\") # might want to use open_mfdataset() for multiple files"
   ]
  },
  {
   "cell_type": "code",
   "execution_count": null,
   "id": "eb2123ee-e2e2-4404-a77a-cb3e27c8dd8d",
   "metadata": {
    "tags": []
   },
   "outputs": [],
   "source": [
    "ds = xr.open_mfdataset(files, group=\"PRODUCT\")"
   ]
  },
  {
   "cell_type": "code",
   "execution_count": null,
   "id": "e4a41dbb-56e0-44bd-b72d-209aff74ff21",
   "metadata": {},
   "outputs": [],
   "source": [
    "ds.nitrogendioxide_tropospheric_column.plot()"
   ]
  },
  {
   "cell_type": "code",
   "execution_count": null,
   "id": "8fa08772-8df6-4b69-8e10-67f5cf4443f3",
   "metadata": {},
   "outputs": [],
   "source": [
    "lats = ds.latitude[:][0,:,:]\n",
    "lons = ds.longitude[:][0,:,:]\n",
    "no2 = ds.nitrogendioxide_tropospheric_column[0,:,:]\n",
    "no2_units = ds.nitrogendioxide_tropospheric_column_precision.units"
   ]
  },
  {
   "cell_type": "code",
   "execution_count": null,
   "id": "e4846d77-390f-4a39-83c7-46e5ec84b118",
   "metadata": {},
   "outputs": [],
   "source": [
    "ax = plt.axes(projection=ccrs.PlateCarree())\n",
    "ax.set_global()\n",
    "ax.coastlines()\n",
    "\n",
    "plt.pcolor(lons, lats, no2, cmap=\"hot\")\n",
    "plt.show()"
   ]
  },
  {
   "cell_type": "markdown",
   "id": "8359ca81-8051-4be0-94d9-67fe1e8965d0",
   "metadata": {},
   "source": [
    "Let me try to open and plot all the data from the specified date, so I can see a broader spatial region."
   ]
  },
  {
   "cell_type": "code",
   "execution_count": null,
   "id": "5184c873-d0e6-43b5-bb09-d874be5590d2",
   "metadata": {
    "tags": []
   },
   "outputs": [],
   "source": [
    "datasets = []\n",
    "\n",
    "for file in listdir(folderpath):\n",
    "    file = S5P_Filename(file)\n",
    "    if file.extension == \".nc\":\n",
    "        ds = xr.open_dataset(path.join(folderpath, file.filename), group=\"PRODUCT\")\n",
    "        datasets.append(ds.copy())\n",
    "\n",
    "ds = xr.concat(datasets, \"scanline\")"
   ]
  },
  {
   "cell_type": "code",
   "execution_count": null,
   "id": "6a91490e-350d-4746-b822-0698e1feead2",
   "metadata": {},
   "outputs": [],
   "source": [
    "ds.nitrogendioxide_tropospheric_column.plot()"
   ]
  },
  {
   "cell_type": "code",
   "execution_count": null,
   "id": "4b390121-ef85-4eb9-b4c3-6d4934e096e9",
   "metadata": {},
   "outputs": [],
   "source": [
    "lats = ds.latitude[:][0,:,:]\n",
    "lons = ds.longitude[:][0,:,:]\n",
    "no2 = ds.nitrogendioxide_tropospheric_column[0,:,:]"
   ]
  },
  {
   "cell_type": "code",
   "execution_count": null,
   "id": "18f8a682-36c2-4d4c-ab93-2d953c0e910d",
   "metadata": {},
   "outputs": [],
   "source": [
    "plt.pcolor(lons, lats, no2, cmap=\"hot\")\n",
    "plt.show()"
   ]
  },
  {
   "cell_type": "code",
   "execution_count": null,
   "id": "970e2d54-f324-43c5-b523-df36cafe13f4",
   "metadata": {},
   "outputs": [],
   "source": [
    "ax = plt.axes(projection=ccrs.PlateCarree())\n",
    "ax.set_global()\n",
    "ax.coastlines()\n",
    "\n",
    "plt.contourf(lons, lats, no2, transform=ccrs.PlateCarree())\n",
    "plt.show()"
   ]
  },
  {
   "cell_type": "code",
   "execution_count": null,
   "id": "8216c1a8-fbcd-4f3a-8591-58ecad938190",
   "metadata": {},
   "outputs": [],
   "source": []
  },
  {
   "cell_type": "markdown",
   "id": "5eed38c3-b36f-4090-a4ac-14c56941930b",
   "metadata": {},
   "source": [
    "Try with all files from the same month:"
   ]
  },
  {
   "cell_type": "code",
   "execution_count": 15,
   "id": "f249fd1e-1024-4969-a084-1044cafa031f",
   "metadata": {},
   "outputs": [],
   "source": [
    "files = []\n",
    "\n",
    "folderpath = \"/neodc/sentinel5p/data/L2_NO2/v2.2/2021/10/\"\n",
    "for day_folder in listdir(folderpath)[1:]:\n",
    "    for file in listdir(path.join(folderpath, day_folder)):\n",
    "        file = S5P_Filename(file)\n",
    "        if file.extension == \".nc\":\n",
    "            files.append(path.join(folderpath, day_folder, file.filename))"
   ]
  },
  {
   "cell_type": "code",
   "execution_count": 16,
   "id": "6c2cb06b-6e46-488b-838e-03b0ed96867e",
   "metadata": {},
   "outputs": [
    {
     "data": {
      "text/plain": [
       "5903"
      ]
     },
     "execution_count": 16,
     "metadata": {},
     "output_type": "execute_result"
    }
   ],
   "source": [
    "len(files)"
   ]
  },
  {
   "cell_type": "code",
   "execution_count": null,
   "id": "56169a3d-9976-40ba-b582-6d49209efa06",
   "metadata": {},
   "outputs": [],
   "source": [
    "datasets = []\n",
    "for file in files:\n",
    "    ds = xr.open_dataset(file, group=\"PRODUCT\")\n",
    "    datasets.append(ds.copy())\n",
    "    \n",
    "ds = xr.concat(datasets, \"scanline\")"
   ]
  },
  {
   "cell_type": "code",
   "execution_count": null,
   "id": "12684887-003f-46f1-8d5a-424a7d42bda6",
   "metadata": {},
   "outputs": [],
   "source": []
  }
 ],
 "metadata": {
  "kernelspec": {
   "display_name": "AQmort",
   "language": "python",
   "name": "aqmort"
  },
  "language_info": {
   "codemirror_mode": {
    "name": "ipython",
    "version": 3
   },
   "file_extension": ".py",
   "mimetype": "text/x-python",
   "name": "python",
   "nbconvert_exporter": "python",
   "pygments_lexer": "ipython3",
   "version": "3.9.10"
  }
 },
 "nbformat": 4,
 "nbformat_minor": 5
}
