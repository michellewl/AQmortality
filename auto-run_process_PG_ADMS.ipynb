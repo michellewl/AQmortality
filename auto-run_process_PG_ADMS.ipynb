{
 "cells": [
  {
   "cell_type": "code",
   "execution_count": 9,
   "id": "8f03ca66-c5bd-4e1f-b75d-f20032b4d468",
   "metadata": {
    "collapsed": true,
    "jupyter": {
     "outputs_hidden": true
    },
    "tags": []
   },
   "outputs": [
    {
     "name": "stdout",
     "output_type": "stream",
     "text": [
      "\n",
      "\n",
      "RUN 001\n",
      "Loaded the processed coordinate data for run 001.\n",
      "Re-gridding run 001...\n"
     ]
    },
    {
     "name": "stderr",
     "output_type": "stream",
     "text": [
      "  0%|          | 0/299 [00:00<?, ?it/s]"
     ]
    },
    {
     "name": "stdout",
     "output_type": "stream",
     "text": [
      "Searching for optimal re-gridding paramters...\n"
     ]
    },
    {
     "name": "stderr",
     "output_type": "stream",
     "text": [
      "  1%|          | 3/299 [02:10<3:34:43, 43.53s/it]\n"
     ]
    },
    {
     "name": "stdout",
     "output_type": "stream",
     "text": [
      "Selected to re-grid with 297 cells in the x direction, resulting in 8.2% NaN gaps in the data.\n",
      "gridded_297/NOx_PG_classes_grid.nc already exists.\n",
      "gridded_297/NO2_PG_classes_grid.nc already exists.\n",
      "gridded_297/PM10_PG_classes_grid.nc already exists.\n",
      "gridded_297/PM2.5_PG_classes_grid.nc already exists.\n",
      "gridded_297/CO2_PG_classes_grid.nc already exists.\n",
      "\n",
      "\n",
      "RUN 003\n",
      "Loaded the processed coordinate data for run 003.\n",
      "Re-gridding run 003...\n"
     ]
    },
    {
     "name": "stderr",
     "output_type": "stream",
     "text": [
      "  0%|          | 0/299 [00:00<?, ?it/s]"
     ]
    },
    {
     "name": "stdout",
     "output_type": "stream",
     "text": [
      "Searching for optimal re-gridding paramters...\n"
     ]
    },
    {
     "name": "stderr",
     "output_type": "stream",
     "text": [
      "  1%|          | 3/299 [00:45<1:15:14, 15.25s/it]\n"
     ]
    },
    {
     "name": "stdout",
     "output_type": "stream",
     "text": [
      "Selected to re-grid with 297 cells in the x direction, resulting in 8.5% NaN gaps in the data.\n",
      "gridded_297/NOx_PG_classes_grid.nc already exists.\n",
      "gridded_297/NO2_PG_classes_grid.nc already exists.\n",
      "gridded_297/PM10_PG_classes_grid.nc already exists.\n",
      "gridded_297/PM2.5_PG_classes_grid.nc already exists.\n",
      "gridded_297/CO2_PG_classes_grid.nc already exists.\n",
      "\n",
      "\n",
      "RUN 004\n",
      "Loaded the processed coordinate data for run 004.\n",
      "Re-gridding run 004...\n"
     ]
    },
    {
     "name": "stderr",
     "output_type": "stream",
     "text": [
      "  0%|          | 0/299 [00:00<?, ?it/s]"
     ]
    },
    {
     "name": "stdout",
     "output_type": "stream",
     "text": [
      "Searching for optimal re-gridding paramters...\n"
     ]
    },
    {
     "name": "stderr",
     "output_type": "stream",
     "text": [
      " 50%|█████     | 150/299 [16:29<16:22,  6.60s/it]\n"
     ]
    },
    {
     "name": "stdout",
     "output_type": "stream",
     "text": [
      "Selected to re-grid with 150 cells in the x direction, resulting in 8.1% NaN gaps in the data.\n",
      "gridded_150/NOx_PG_classes_grid.nc already exists.\n",
      "gridded_150/NO2_PG_classes_grid.nc already exists.\n",
      "gridded_150/PM10_PG_classes_grid.nc already exists.\n",
      "gridded_150/PM2.5_PG_classes_grid.nc already exists.\n",
      "gridded_150/CO2_PG_classes_grid.nc already exists.\n",
      "\n",
      "\n",
      "RUN 005\n",
      "Loaded the processed coordinate data for run 005.\n",
      "Re-gridding run 005...\n"
     ]
    },
    {
     "name": "stderr",
     "output_type": "stream",
     "text": [
      "  0%|          | 0/299 [00:00<?, ?it/s]"
     ]
    },
    {
     "name": "stdout",
     "output_type": "stream",
     "text": [
      "Searching for optimal re-gridding paramters...\n"
     ]
    },
    {
     "name": "stderr",
     "output_type": "stream",
     "text": [
      " 76%|███████▋  | 228/299 [14:42<04:34,  3.87s/it]\n",
      "  0%|          | 0/299 [00:00<?, ?it/s]"
     ]
    },
    {
     "name": "stdout",
     "output_type": "stream",
     "text": [
      "Selected to re-grid with 72 cells in the x direction, resulting in 8.6% NaN gaps in the data.\n",
      "gridded_72/NOx_PG_classes_grid.nc already exists.\n",
      "gridded_72/NO2_PG_classes_grid.nc already exists.\n",
      "gridded_72/PM10_PG_classes_grid.nc already exists.\n",
      "gridded_72/PM2.5_PG_classes_grid.nc already exists.\n",
      "gridded_72/CO2_PG_classes_grid.nc already exists.\n",
      "\n",
      "\n",
      "RUN 006\n",
      "Loaded the processed coordinate data for run 006.\n",
      "Re-gridding run 006...\n",
      "Searching for optimal re-gridding paramters...\n"
     ]
    },
    {
     "name": "stderr",
     "output_type": "stream",
     "text": [
      "100%|██████████| 299/299 [13:31<00:00,  2.71s/it]\n"
     ]
    },
    {
     "name": "stdout",
     "output_type": "stream",
     "text": [
      "Couldn't get data gaps below 9%. Minimum achieved was 10.3%.\n",
      "Selected to re-grid with 40 cells in the x direction, resulting in 55.6% NaN gaps in the data.\n",
      "gridded_40/NOx_PG_classes_grid.nc already exists.\n",
      "gridded_40/NO2_PG_classes_grid.nc already exists.\n",
      "gridded_40/PM10_PG_classes_grid.nc already exists.\n",
      "gridded_40/PM2.5_PG_classes_grid.nc already exists.\n",
      "gridded_40/CO2_PG_classes_grid.nc already exists.\n",
      "\n",
      "\n",
      "RUN 007\n",
      "Loaded the processed coordinate data for run 007.\n",
      "Re-gridding run 007...\n"
     ]
    },
    {
     "name": "stderr",
     "output_type": "stream",
     "text": [
      "  0%|          | 0/299 [00:00<?, ?it/s]"
     ]
    },
    {
     "name": "stdout",
     "output_type": "stream",
     "text": [
      "Searching for optimal re-gridding paramters...\n"
     ]
    },
    {
     "name": "stderr",
     "output_type": "stream",
     "text": [
      " 32%|███▏      | 95/299 [19:39<42:12, 12.42s/it]  \n"
     ]
    },
    {
     "name": "stdout",
     "output_type": "stream",
     "text": [
      "Selected to re-grid with 205 cells in the x direction, resulting in 8.9% NaN gaps in the data.\n",
      "Re-gridding run 007, pollutant NOx...\n",
      "Saved to /home/users/mwlw3/ADMS-Urban/2018_P-G_classes/all_regions/007/gridded_205/NOx_PG_classes_grid.nc.\n",
      "Re-gridding run 007, pollutant NO2...\n",
      "Saved to /home/users/mwlw3/ADMS-Urban/2018_P-G_classes/all_regions/007/gridded_205/NO2_PG_classes_grid.nc.\n",
      "Re-gridding run 007, pollutant PM10...\n",
      "Saved to /home/users/mwlw3/ADMS-Urban/2018_P-G_classes/all_regions/007/gridded_205/PM10_PG_classes_grid.nc.\n",
      "Re-gridding run 007, pollutant PM2.5...\n",
      "Saved to /home/users/mwlw3/ADMS-Urban/2018_P-G_classes/all_regions/007/gridded_205/PM2.5_PG_classes_grid.nc.\n",
      "Re-gridding run 007, pollutant CO2...\n",
      "Saved to /home/users/mwlw3/ADMS-Urban/2018_P-G_classes/all_regions/007/gridded_205/CO2_PG_classes_grid.nc.\n",
      "\n",
      "\n",
      "RUN 008\n",
      "Loaded the processed coordinate data for run 008.\n",
      "Re-gridding run 008...\n"
     ]
    },
    {
     "name": "stderr",
     "output_type": "stream",
     "text": [
      "  0%|          | 0/299 [00:00<?, ?it/s]"
     ]
    },
    {
     "name": "stdout",
     "output_type": "stream",
     "text": [
      "Searching for optimal re-gridding paramters...\n"
     ]
    },
    {
     "name": "stderr",
     "output_type": "stream",
     "text": [
      "  2%|▏         | 6/299 [01:15<1:01:09, 12.52s/it]\n"
     ]
    },
    {
     "name": "stdout",
     "output_type": "stream",
     "text": [
      "Selected to re-grid with 294 cells in the x direction, resulting in 8.1% NaN gaps in the data.\n",
      "gridded_294/NOx_PG_classes_grid.nc already exists.\n",
      "gridded_294/NO2_PG_classes_grid.nc already exists.\n",
      "gridded_294/PM10_PG_classes_grid.nc already exists.\n",
      "gridded_294/PM2.5_PG_classes_grid.nc already exists.\n",
      "gridded_294/CO2_PG_classes_grid.nc already exists.\n",
      "\n",
      "\n",
      "RUN 009\n",
      "Loaded the processed coordinate data for run 009.\n",
      "Re-gridding run 009...\n"
     ]
    },
    {
     "name": "stderr",
     "output_type": "stream",
     "text": [
      "  0%|          | 0/299 [00:00<?, ?it/s]"
     ]
    },
    {
     "name": "stdout",
     "output_type": "stream",
     "text": [
      "Searching for optimal re-gridding paramters...\n"
     ]
    },
    {
     "name": "stderr",
     "output_type": "stream",
     "text": [
      "  2%|▏         | 6/299 [01:28<1:12:07, 14.77s/it]\n"
     ]
    },
    {
     "name": "stdout",
     "output_type": "stream",
     "text": [
      "Selected to re-grid with 294 cells in the x direction, resulting in 8.1% NaN gaps in the data.\n",
      "gridded_294/NOx_PG_classes_grid.nc already exists.\n",
      "gridded_294/NO2_PG_classes_grid.nc already exists.\n",
      "gridded_294/PM10_PG_classes_grid.nc already exists.\n",
      "gridded_294/PM2.5_PG_classes_grid.nc already exists.\n",
      "gridded_294/CO2_PG_classes_grid.nc already exists.\n",
      "\n",
      "\n",
      "RUN 010\n",
      "Loaded the processed coordinate data for run 010.\n",
      "Re-gridding run 010...\n"
     ]
    },
    {
     "name": "stderr",
     "output_type": "stream",
     "text": [
      "  0%|          | 0/299 [00:00<?, ?it/s]"
     ]
    },
    {
     "name": "stdout",
     "output_type": "stream",
     "text": [
      "Searching for optimal re-gridding paramters...\n"
     ]
    },
    {
     "name": "stderr",
     "output_type": "stream",
     "text": [
      "  2%|▏         | 6/299 [01:29<1:13:05, 14.97s/it]"
     ]
    },
    {
     "name": "stdout",
     "output_type": "stream",
     "text": [
      "Selected to re-grid with 294 cells in the x direction, resulting in 8.1% NaN gaps in the data.\n",
      "gridded_294/NOx_PG_classes_grid.nc already exists.\n",
      "gridded_294/NO2_PG_classes_grid.nc already exists.\n",
      "gridded_294/PM10_PG_classes_grid.nc already exists.\n",
      "gridded_294/PM2.5_PG_classes_grid.nc already exists.\n",
      "gridded_294/CO2_PG_classes_grid.nc already exists.\n",
      "Finished processing runs.\n"
     ]
    },
    {
     "name": "stderr",
     "output_type": "stream",
     "text": [
      "\n"
     ]
    }
   ],
   "source": [
    "# Auto-run data processing steps for ADMS-Urban outputs which were generated under Pasquill-Gifford conditions, for all regions\n",
    "\n",
    "import numpy as np\n",
    "import pandas as pd\n",
    "import geopandas as gpd\n",
    "import xarray as xr\n",
    "from PyBNG import PyBNG\n",
    "import shapely\n",
    "from os import makedirs, path, listdir, remove\n",
    "import matplotlib.pyplot as plt\n",
    "import matplotlib.colors as colors\n",
    "import requests\n",
    "import zipfile as zpf\n",
    "from tqdm import tqdm\n",
    "from PIL import Image\n",
    "from ADMS_functions import PointXYZ_to_latlon, plot_on_map, plot_in_grid_box, process_PG_dataset\n",
    "\n",
    "PG_index = [\"A\", \"B\", \"C\", \"D\", \"E\", \"F\", \"G\"]\n",
    "\n",
    "runs = [\"001\", \"003\", \"004\", \"005\", \"006\", \"007\", \"008\", \"009\", \"010\"]\n",
    "\n",
    "NaN_pcent_threshold = 9\n",
    "\n",
    "for run in runs:\n",
    "    print(f\"\\n\\nRUN {run}\")\n",
    "    folder = f\"/home/users/mwlw3/ADMS-Urban/2018_P-G_classes/all_regions/{run}/\"\n",
    "    files = [path.join(folder, file) for file in listdir(folder) if path.splitext(file)[-1]==\".nc\"]\n",
    "    processed_coordinates_filepath = path.join(folder, \"raw_processed_coordinates.nc\")\n",
    "\n",
    "    # Processing from raw ADMS-Urban outputs to a netCDF file with useful attributes and latitude/longitude coordinates\n",
    "    if not path.exists(processed_coordinates_filepath):\n",
    "        new_ds = xr.concat([process_PG_dataset(xr.open_dataset(file)) for file in files], \"space\")\n",
    "        new_ds.to_netcdf(processed_coordinates_filepath)\n",
    "    elif path.exists(processed_coordinates_filepath):\n",
    "        new_ds = xr.open_dataset(processed_coordinates_filepath)\n",
    "        print(f\"Loaded the processed coordinate data for run {run}.\")\n",
    "\n",
    "    # Re-gridding the data to a latitude/longitude grid of highest relevant resolution\n",
    "    print(f\"Re-gridding run {run}...\")\n",
    "    xmin, ymin, xmax, ymax = gpd.points_from_xy(new_ds.longitude.values, \n",
    "                                                new_ds.latitude.values).total_bounds\n",
    "    found_one = False\n",
    "    n_cells = None\n",
    "    ref_cell = None\n",
    "    x_coords = None\n",
    "    y_coords = None\n",
    "    NaN_pcent_min = 100\n",
    "    print(\"Searching for optimal re-gridding parameters...\")\n",
    "    for test_n_cells in tqdm(range(300, 1, -1)):\n",
    "        cell_size = (xmax-xmin)/test_n_cells\n",
    "        grid_cells = [shapely.geometry.box(x0, y0, x0 - cell_size, y0 + cell_size) \n",
    "                  for x0 in np.arange(xmin, xmax + cell_size, cell_size) \n",
    "                  for y0 in np.arange(ymin, ymax + cell_size, cell_size)]\n",
    "        test_ref_cell = gpd.GeoDataFrame(grid_cells, columns=[\"geometry\"])\n",
    "        test_x_coords = test_ref_cell.centroid.x.round(12).drop_duplicates()\n",
    "        test_y_coords = test_ref_cell.centroid.y.round(12).drop_duplicates()\n",
    "        if len(test_ref_cell) == len(test_x_coords)*len(test_y_coords):\n",
    "            variable = \"NO2\"\n",
    "            i = 0\n",
    "            # Grid the timeseries data\n",
    "            cell_list = []\n",
    "            cell = test_ref_cell.copy()\n",
    "            class_gdf = gpd.GeoDataFrame(new_ds[variable][i, :].values, \n",
    "                             columns=[f\"class_{variable}\"], \n",
    "                             geometry=gpd.points_from_xy(new_ds.longitude.values, new_ds.latitude.values))\n",
    "            merge = gpd.sjoin(class_gdf, test_ref_cell, how=\"left\", predicate=\"within\")\n",
    "            dissolve = merge.dissolve(by=\"index_right\", aggfunc=\"mean\")\n",
    "            cell.loc[dissolve.index, f\"class_{variable}\"] = dissolve[f\"class_{variable}\"].values\n",
    "            cell_list.append(cell[f\"class_{variable}\"].values.reshape(len(test_x_coords),len(test_y_coords)))\n",
    "            # Stack the grids into a numpy array\n",
    "            classes_gridded = np.stack(cell_list, axis=-1)\n",
    "            NaN_percentage = ((np.sum(np.isnan(classes_gridded)) / (classes_gridded.shape[0] * classes_gridded.shape[1] * classes_gridded.shape[2]))*100)\n",
    "            if NaN_percentage <= NaN_pcent_threshold:\n",
    "                found_one = True\n",
    "                n_cells = test_n_cells\n",
    "                ref_cell = test_ref_cell\n",
    "                x_coords = test_x_coords\n",
    "                y_coords = test_y_coords\n",
    "                break\n",
    "            elif NaN_percentage < NaN_pcent_min and not NaN_percentage <= NaN_pcent_threshold:\n",
    "                NaN_pcent_min = NaN_percentage\n",
    "                n_cells = test_n_cells\n",
    "                ref_cell = test_ref_cell\n",
    "                x_coords = test_x_coords\n",
    "                y_coords = test_y_coords\n",
    "    if not found_one:\n",
    "        print(f\"Couldn't get data gaps below {NaN_pcent_threshold}%. Minimum achieved was {NaN_pcent_min.round(1)}%.\")\n",
    "        NaN_percentage = NaN_pcent_min\n",
    "\n",
    "    print(f\"Selected to re-grid with {n_cells} cells in the x direction, resulting in {NaN_percentage.round(1)}% NaN gaps in the data.\")\n",
    "    grid_name = f\"gridded_{n_cells}\"\n",
    "    variables = [var for var in list(new_ds.data_vars) if \"wind\" not in var]\n",
    "\n",
    "    for variable in variables:\n",
    "        filepath = path.join(folder, grid_name, f\"{variable}_PG_classes_grid.nc\")\n",
    "        if path.exists(filepath):\n",
    "            print(f\"{grid_name}/{variable}_PG_classes_grid.nc already exists.\")\n",
    "            continue\n",
    "        print(f\"Re-gridding run {run}, pollutant {variable}...\")\n",
    "\n",
    "        # Grid the timeseries data\n",
    "        cell_list = []\n",
    "        for i in range(0, new_ds.PG_class.shape[0]):\n",
    "            cell = ref_cell.copy()\n",
    "            class_gdf = gpd.GeoDataFrame(new_ds[variable][i, :].values, \n",
    "                             columns=[f\"class_{variable}\"], \n",
    "                             geometry=gpd.points_from_xy(new_ds.longitude.values, new_ds.latitude.values))\n",
    "            merge = gpd.sjoin(class_gdf, ref_cell, how=\"left\", predicate=\"within\")\n",
    "            dissolve = merge.dissolve(by=\"index_right\", aggfunc=\"mean\")\n",
    "            cell.loc[dissolve.index, f\"class_{variable}\"] = dissolve[f\"class_{variable}\"].values\n",
    "            cell_list.append(cell[f\"class_{variable}\"].values.reshape(len(x_coords),len(y_coords)))\n",
    "\n",
    "        # Stack the grids into a numpy array\n",
    "        classes_gridded = np.stack(cell_list, axis=-1)\n",
    "\n",
    "        # Create the xarray dataset\n",
    "        data_variables = {f\"{variable}\": ([\"longitude\", \"latitude\", \"PG_class\"], classes_gridded, new_ds[variable].attrs)\n",
    "                            }\n",
    "\n",
    "        coords = {\"longitude\": ([\"longitude\"], x_coords),\n",
    "                    \"latitude\": ([\"latitude\"], y_coords),\n",
    "                 \"PG_class\": ([\"PG_class\"], new_ds.PG_class.data)}\n",
    "\n",
    "        attrs = new_ds.attrs\n",
    "\n",
    "        classes_ds = xr.Dataset(data_vars=data_variables, coords=coords, attrs=attrs)\n",
    "\n",
    "        # Save to a netCDF file\n",
    "        if not path.exists(path.join(folder, grid_name)):\n",
    "            makedirs(path.join(folder, grid_name))\n",
    "        classes_ds.to_netcdf(filepath)\n",
    "        print(f\"Saved to {filepath}.\")\n",
    "        \n",
    "print(f\"\\nFinished processing runs.\")"
   ]
  },
  {
   "cell_type": "code",
   "execution_count": null,
   "id": "f951ddba-8144-440d-972c-d8f360913521",
   "metadata": {},
   "outputs": [],
   "source": []
  }
 ],
 "metadata": {
  "kernelspec": {
   "display_name": "AQmort",
   "language": "python",
   "name": "aqmort"
  },
  "language_info": {
   "codemirror_mode": {
    "name": "ipython",
    "version": 3
   },
   "file_extension": ".py",
   "mimetype": "text/x-python",
   "name": "python",
   "nbconvert_exporter": "python",
   "pygments_lexer": "ipython3",
   "version": "3.9.9"
  }
 },
 "nbformat": 4,
 "nbformat_minor": 5
}
