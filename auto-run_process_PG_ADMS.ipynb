{
 "cells": [
  {
   "cell_type": "code",
   "execution_count": 3,
   "id": "8f03ca66-c5bd-4e1f-b75d-f20032b4d468",
   "metadata": {},
   "outputs": [
    {
     "name": "stdout",
     "output_type": "stream",
     "text": [
      "\n",
      "\n",
      "RUN 003\n",
      "Loaded the processed coordinate data for run 003.\n",
      "Re-gridding run 003...\n"
     ]
    },
    {
     "name": "stderr",
     "output_type": "stream",
     "text": [
      "  2%|▏         | 6/299 [00:44<36:05,  7.39s/it]\n",
      "Gridding PG classes:   0%|          | 0/7 [00:00<?, ?it/s]"
     ]
    },
    {
     "name": "stdout",
     "output_type": "stream",
     "text": [
      "Selected to re-grid with 295 cells in the x direction.\n",
      "Re-gridding run 003, pollutant NOx...\n"
     ]
    },
    {
     "name": "stderr",
     "output_type": "stream",
     "text": [
      "Gridding PG classes: 100%|██████████| 7/7 [02:00<00:00, 17.18s/it]\n",
      "Gridding PG classes:   0%|          | 0/7 [00:00<?, ?it/s]"
     ]
    },
    {
     "name": "stdout",
     "output_type": "stream",
     "text": [
      "Saved to /home/users/mwlw3/ADMS-Urban/2018_P-G_classes/all_regions/003/gridded_295/NOx_PG_classes_grid.nc.\n",
      "Re-gridding run 003, pollutant NO2...\n"
     ]
    },
    {
     "name": "stderr",
     "output_type": "stream",
     "text": [
      "Gridding PG classes: 100%|██████████| 7/7 [02:04<00:00, 17.72s/it]\n",
      "Gridding PG classes:   0%|          | 0/7 [00:00<?, ?it/s]"
     ]
    },
    {
     "name": "stdout",
     "output_type": "stream",
     "text": [
      "Saved to /home/users/mwlw3/ADMS-Urban/2018_P-G_classes/all_regions/003/gridded_295/NO2_PG_classes_grid.nc.\n",
      "Re-gridding run 003, pollutant PM10...\n"
     ]
    },
    {
     "name": "stderr",
     "output_type": "stream",
     "text": [
      "Gridding PG classes: 100%|██████████| 7/7 [02:03<00:00, 17.59s/it]\n",
      "Gridding PG classes:   0%|          | 0/7 [00:00<?, ?it/s]"
     ]
    },
    {
     "name": "stdout",
     "output_type": "stream",
     "text": [
      "Saved to /home/users/mwlw3/ADMS-Urban/2018_P-G_classes/all_regions/003/gridded_295/PM10_PG_classes_grid.nc.\n",
      "Re-gridding run 003, pollutant PM2.5...\n"
     ]
    },
    {
     "name": "stderr",
     "output_type": "stream",
     "text": [
      "Gridding PG classes: 100%|██████████| 7/7 [02:02<00:00, 17.48s/it]\n",
      "Gridding PG classes:   0%|          | 0/7 [00:00<?, ?it/s]"
     ]
    },
    {
     "name": "stdout",
     "output_type": "stream",
     "text": [
      "Saved to /home/users/mwlw3/ADMS-Urban/2018_P-G_classes/all_regions/003/gridded_295/PM2.5_PG_classes_grid.nc.\n",
      "Re-gridding run 003, pollutant CO2...\n"
     ]
    },
    {
     "name": "stderr",
     "output_type": "stream",
     "text": [
      "Gridding PG classes: 100%|██████████| 7/7 [02:02<00:00, 17.46s/it]\n"
     ]
    },
    {
     "name": "stdout",
     "output_type": "stream",
     "text": [
      "Saved to /home/users/mwlw3/ADMS-Urban/2018_P-G_classes/all_regions/003/gridded_295/CO2_PG_classes_grid.nc.\n",
      "\n",
      "\n",
      "RUN 004\n",
      "Loaded the processed coordinate data for run 004.\n",
      "Re-gridding run 004...\n"
     ]
    },
    {
     "name": "stderr",
     "output_type": "stream",
     "text": [
      "  2%|▏         | 6/299 [00:46<38:12,  7.82s/it]\n",
      "Gridding PG classes:   0%|          | 0/7 [00:00<?, ?it/s]"
     ]
    },
    {
     "name": "stdout",
     "output_type": "stream",
     "text": [
      "Selected to re-grid with 295 cells in the x direction.\n",
      "Re-gridding run 004, pollutant NOx...\n"
     ]
    },
    {
     "name": "stderr",
     "output_type": "stream",
     "text": [
      "Gridding PG classes: 100%|██████████| 7/7 [01:03<00:00,  9.08s/it]\n",
      "Gridding PG classes:   0%|          | 0/7 [00:00<?, ?it/s]"
     ]
    },
    {
     "name": "stdout",
     "output_type": "stream",
     "text": [
      "Saved to /home/users/mwlw3/ADMS-Urban/2018_P-G_classes/all_regions/004/gridded_295/NOx_PG_classes_grid.nc.\n",
      "Re-gridding run 004, pollutant NO2...\n"
     ]
    },
    {
     "name": "stderr",
     "output_type": "stream",
     "text": [
      "Gridding PG classes: 100%|██████████| 7/7 [01:01<00:00,  8.82s/it]\n",
      "Gridding PG classes:   0%|          | 0/7 [00:00<?, ?it/s]"
     ]
    },
    {
     "name": "stdout",
     "output_type": "stream",
     "text": [
      "Saved to /home/users/mwlw3/ADMS-Urban/2018_P-G_classes/all_regions/004/gridded_295/NO2_PG_classes_grid.nc.\n",
      "Re-gridding run 004, pollutant PM10...\n"
     ]
    },
    {
     "name": "stderr",
     "output_type": "stream",
     "text": [
      "Gridding PG classes: 100%|██████████| 7/7 [01:00<00:00,  8.63s/it]\n",
      "Gridding PG classes:   0%|          | 0/7 [00:00<?, ?it/s]"
     ]
    },
    {
     "name": "stdout",
     "output_type": "stream",
     "text": [
      "Saved to /home/users/mwlw3/ADMS-Urban/2018_P-G_classes/all_regions/004/gridded_295/PM10_PG_classes_grid.nc.\n",
      "Re-gridding run 004, pollutant PM2.5...\n"
     ]
    },
    {
     "name": "stderr",
     "output_type": "stream",
     "text": [
      "Gridding PG classes: 100%|██████████| 7/7 [00:57<00:00,  8.26s/it]\n",
      "Gridding PG classes:   0%|          | 0/7 [00:00<?, ?it/s]"
     ]
    },
    {
     "name": "stdout",
     "output_type": "stream",
     "text": [
      "Saved to /home/users/mwlw3/ADMS-Urban/2018_P-G_classes/all_regions/004/gridded_295/PM2.5_PG_classes_grid.nc.\n",
      "Re-gridding run 004, pollutant CO2...\n"
     ]
    },
    {
     "name": "stderr",
     "output_type": "stream",
     "text": [
      "Gridding PG classes: 100%|██████████| 7/7 [01:01<00:00,  8.78s/it]\n"
     ]
    },
    {
     "name": "stdout",
     "output_type": "stream",
     "text": [
      "Saved to /home/users/mwlw3/ADMS-Urban/2018_P-G_classes/all_regions/004/gridded_295/CO2_PG_classes_grid.nc.\n",
      "\n",
      "\n",
      "RUN 005\n",
      "Loaded the processed coordinate data for run 005.\n",
      "Re-gridding run 005...\n"
     ]
    },
    {
     "name": "stderr",
     "output_type": "stream",
     "text": [
      "  3%|▎         | 9/299 [01:03<34:20,  7.11s/it]\n",
      "Gridding PG classes:   0%|          | 0/7 [00:00<?, ?it/s]"
     ]
    },
    {
     "name": "stdout",
     "output_type": "stream",
     "text": [
      "Selected to re-grid with 292 cells in the x direction.\n",
      "Re-gridding run 005, pollutant NOx...\n"
     ]
    },
    {
     "name": "stderr",
     "output_type": "stream",
     "text": [
      "Gridding PG classes: 100%|██████████| 7/7 [00:40<00:00,  5.82s/it]\n",
      "Gridding PG classes:   0%|          | 0/7 [00:00<?, ?it/s]"
     ]
    },
    {
     "name": "stdout",
     "output_type": "stream",
     "text": [
      "Saved to /home/users/mwlw3/ADMS-Urban/2018_P-G_classes/all_regions/005/gridded_292/NOx_PG_classes_grid.nc.\n",
      "Re-gridding run 005, pollutant NO2...\n"
     ]
    },
    {
     "name": "stderr",
     "output_type": "stream",
     "text": [
      "Gridding PG classes: 100%|██████████| 7/7 [00:40<00:00,  5.83s/it]\n",
      "Gridding PG classes:   0%|          | 0/7 [00:00<?, ?it/s]"
     ]
    },
    {
     "name": "stdout",
     "output_type": "stream",
     "text": [
      "Saved to /home/users/mwlw3/ADMS-Urban/2018_P-G_classes/all_regions/005/gridded_292/NO2_PG_classes_grid.nc.\n",
      "Re-gridding run 005, pollutant PM10...\n"
     ]
    },
    {
     "name": "stderr",
     "output_type": "stream",
     "text": [
      "Gridding PG classes: 100%|██████████| 7/7 [00:42<00:00,  6.05s/it]\n",
      "Gridding PG classes:   0%|          | 0/7 [00:00<?, ?it/s]"
     ]
    },
    {
     "name": "stdout",
     "output_type": "stream",
     "text": [
      "Saved to /home/users/mwlw3/ADMS-Urban/2018_P-G_classes/all_regions/005/gridded_292/PM10_PG_classes_grid.nc.\n",
      "Re-gridding run 005, pollutant PM2.5...\n"
     ]
    },
    {
     "name": "stderr",
     "output_type": "stream",
     "text": [
      "Gridding PG classes: 100%|██████████| 7/7 [00:37<00:00,  5.42s/it]\n",
      "Gridding PG classes:   0%|          | 0/7 [00:00<?, ?it/s]"
     ]
    },
    {
     "name": "stdout",
     "output_type": "stream",
     "text": [
      "Saved to /home/users/mwlw3/ADMS-Urban/2018_P-G_classes/all_regions/005/gridded_292/PM2.5_PG_classes_grid.nc.\n",
      "Re-gridding run 005, pollutant CO2...\n"
     ]
    },
    {
     "name": "stderr",
     "output_type": "stream",
     "text": [
      "Gridding PG classes: 100%|██████████| 7/7 [00:37<00:00,  5.33s/it]\n",
      "  0%|          | 0/299 [00:00<?, ?it/s]"
     ]
    },
    {
     "name": "stdout",
     "output_type": "stream",
     "text": [
      "Saved to /home/users/mwlw3/ADMS-Urban/2018_P-G_classes/all_regions/005/gridded_292/CO2_PG_classes_grid.nc.\n",
      "\n",
      "\n",
      "RUN 006\n",
      "Loaded the processed coordinate data for run 006.\n",
      "Re-gridding run 006...\n"
     ]
    },
    {
     "name": "stderr",
     "output_type": "stream",
     "text": [
      "  1%|          | 2/299 [00:19<48:15,  9.75s/it]\n",
      "Gridding PG classes:   0%|          | 0/7 [00:00<?, ?it/s]"
     ]
    },
    {
     "name": "stdout",
     "output_type": "stream",
     "text": [
      "Selected to re-grid with 299 cells in the x direction.\n",
      "Re-gridding run 006, pollutant NOx...\n"
     ]
    },
    {
     "name": "stderr",
     "output_type": "stream",
     "text": [
      "Gridding PG classes: 100%|██████████| 7/7 [00:36<00:00,  5.15s/it]\n",
      "Gridding PG classes:   0%|          | 0/7 [00:00<?, ?it/s]"
     ]
    },
    {
     "name": "stdout",
     "output_type": "stream",
     "text": [
      "Saved to /home/users/mwlw3/ADMS-Urban/2018_P-G_classes/all_regions/006/gridded_299/NOx_PG_classes_grid.nc.\n",
      "Re-gridding run 006, pollutant NO2...\n"
     ]
    },
    {
     "name": "stderr",
     "output_type": "stream",
     "text": [
      "Gridding PG classes: 100%|██████████| 7/7 [00:34<00:00,  4.96s/it]\n",
      "Gridding PG classes:   0%|          | 0/7 [00:00<?, ?it/s]"
     ]
    },
    {
     "name": "stdout",
     "output_type": "stream",
     "text": [
      "Saved to /home/users/mwlw3/ADMS-Urban/2018_P-G_classes/all_regions/006/gridded_299/NO2_PG_classes_grid.nc.\n",
      "Re-gridding run 006, pollutant PM10...\n"
     ]
    },
    {
     "name": "stderr",
     "output_type": "stream",
     "text": [
      "Gridding PG classes: 100%|██████████| 7/7 [00:33<00:00,  4.79s/it]\n",
      "Gridding PG classes:   0%|          | 0/7 [00:00<?, ?it/s]"
     ]
    },
    {
     "name": "stdout",
     "output_type": "stream",
     "text": [
      "Saved to /home/users/mwlw3/ADMS-Urban/2018_P-G_classes/all_regions/006/gridded_299/PM10_PG_classes_grid.nc.\n",
      "Re-gridding run 006, pollutant PM2.5...\n"
     ]
    },
    {
     "name": "stderr",
     "output_type": "stream",
     "text": [
      "Gridding PG classes: 100%|██████████| 7/7 [00:34<00:00,  4.95s/it]\n",
      "Gridding PG classes:   0%|          | 0/7 [00:00<?, ?it/s]"
     ]
    },
    {
     "name": "stdout",
     "output_type": "stream",
     "text": [
      "Saved to /home/users/mwlw3/ADMS-Urban/2018_P-G_classes/all_regions/006/gridded_299/PM2.5_PG_classes_grid.nc.\n",
      "Re-gridding run 006, pollutant CO2...\n"
     ]
    },
    {
     "name": "stderr",
     "output_type": "stream",
     "text": [
      "Gridding PG classes: 100%|██████████| 7/7 [00:33<00:00,  4.83s/it]\n"
     ]
    },
    {
     "name": "stdout",
     "output_type": "stream",
     "text": [
      "Saved to /home/users/mwlw3/ADMS-Urban/2018_P-G_classes/all_regions/006/gridded_299/CO2_PG_classes_grid.nc.\n",
      "\n",
      "\n",
      "RUN 007\n",
      "Loaded the processed coordinate data for run 007.\n",
      "Re-gridding run 007...\n"
     ]
    },
    {
     "name": "stderr",
     "output_type": "stream",
     "text": [
      "  1%|          | 2/299 [00:19<47:14,  9.54s/it]\n",
      "Gridding PG classes:   0%|          | 0/7 [00:00<?, ?it/s]"
     ]
    },
    {
     "name": "stdout",
     "output_type": "stream",
     "text": [
      "Selected to re-grid with 299 cells in the x direction.\n",
      "Re-gridding run 007, pollutant NOx...\n"
     ]
    },
    {
     "name": "stderr",
     "output_type": "stream",
     "text": [
      "Gridding PG classes: 100%|██████████| 7/7 [03:31<00:00, 30.21s/it]\n",
      "Gridding PG classes:   0%|          | 0/7 [00:00<?, ?it/s]"
     ]
    },
    {
     "name": "stdout",
     "output_type": "stream",
     "text": [
      "Saved to /home/users/mwlw3/ADMS-Urban/2018_P-G_classes/all_regions/007/gridded_299/NOx_PG_classes_grid.nc.\n",
      "Re-gridding run 007, pollutant NO2...\n"
     ]
    },
    {
     "name": "stderr",
     "output_type": "stream",
     "text": [
      "Gridding PG classes: 100%|██████████| 7/7 [03:37<00:00, 31.10s/it]\n",
      "Gridding PG classes:   0%|          | 0/7 [00:00<?, ?it/s]"
     ]
    },
    {
     "name": "stdout",
     "output_type": "stream",
     "text": [
      "Saved to /home/users/mwlw3/ADMS-Urban/2018_P-G_classes/all_regions/007/gridded_299/NO2_PG_classes_grid.nc.\n",
      "Re-gridding run 007, pollutant PM10...\n"
     ]
    },
    {
     "name": "stderr",
     "output_type": "stream",
     "text": [
      "Gridding PG classes: 100%|██████████| 7/7 [03:41<00:00, 31.60s/it]\n",
      "Gridding PG classes:   0%|          | 0/7 [00:00<?, ?it/s]"
     ]
    },
    {
     "name": "stdout",
     "output_type": "stream",
     "text": [
      "Saved to /home/users/mwlw3/ADMS-Urban/2018_P-G_classes/all_regions/007/gridded_299/PM10_PG_classes_grid.nc.\n",
      "Re-gridding run 007, pollutant PM2.5...\n"
     ]
    },
    {
     "name": "stderr",
     "output_type": "stream",
     "text": [
      "Gridding PG classes: 100%|██████████| 7/7 [03:36<00:00, 30.98s/it]\n",
      "Gridding PG classes:   0%|          | 0/7 [00:00<?, ?it/s]"
     ]
    },
    {
     "name": "stdout",
     "output_type": "stream",
     "text": [
      "Saved to /home/users/mwlw3/ADMS-Urban/2018_P-G_classes/all_regions/007/gridded_299/PM2.5_PG_classes_grid.nc.\n",
      "Re-gridding run 007, pollutant CO2...\n"
     ]
    },
    {
     "name": "stderr",
     "output_type": "stream",
     "text": [
      "Gridding PG classes: 100%|██████████| 7/7 [03:37<00:00, 31.12s/it]\n"
     ]
    },
    {
     "name": "stdout",
     "output_type": "stream",
     "text": [
      "Saved to /home/users/mwlw3/ADMS-Urban/2018_P-G_classes/all_regions/007/gridded_299/CO2_PG_classes_grid.nc.\n",
      "\n",
      "\n",
      "RUN 008\n",
      "Loaded the processed coordinate data for run 008.\n",
      "Re-gridding run 008...\n"
     ]
    },
    {
     "name": "stderr",
     "output_type": "stream",
     "text": [
      "  2%|▏         | 7/299 [00:53<37:09,  7.64s/it]\n",
      "Gridding PG classes:   0%|          | 0/7 [00:00<?, ?it/s]"
     ]
    },
    {
     "name": "stdout",
     "output_type": "stream",
     "text": [
      "Selected to re-grid with 294 cells in the x direction.\n",
      "Re-gridding run 008, pollutant NOx...\n"
     ]
    },
    {
     "name": "stderr",
     "output_type": "stream",
     "text": [
      "Gridding PG classes: 100%|██████████| 7/7 [04:10<00:00, 35.74s/it]\n",
      "Gridding PG classes:   0%|          | 0/7 [00:00<?, ?it/s]"
     ]
    },
    {
     "name": "stdout",
     "output_type": "stream",
     "text": [
      "Saved to /home/users/mwlw3/ADMS-Urban/2018_P-G_classes/all_regions/008/gridded_294/NOx_PG_classes_grid.nc.\n",
      "Re-gridding run 008, pollutant NO2...\n"
     ]
    },
    {
     "name": "stderr",
     "output_type": "stream",
     "text": [
      "Gridding PG classes: 100%|██████████| 7/7 [04:12<00:00, 36.12s/it]\n",
      "Gridding PG classes:   0%|          | 0/7 [00:00<?, ?it/s]"
     ]
    },
    {
     "name": "stdout",
     "output_type": "stream",
     "text": [
      "Saved to /home/users/mwlw3/ADMS-Urban/2018_P-G_classes/all_regions/008/gridded_294/NO2_PG_classes_grid.nc.\n",
      "Re-gridding run 008, pollutant PM10...\n"
     ]
    },
    {
     "name": "stderr",
     "output_type": "stream",
     "text": [
      "Gridding PG classes: 100%|██████████| 7/7 [04:18<00:00, 36.86s/it]\n",
      "Gridding PG classes:   0%|          | 0/7 [00:00<?, ?it/s]"
     ]
    },
    {
     "name": "stdout",
     "output_type": "stream",
     "text": [
      "Saved to /home/users/mwlw3/ADMS-Urban/2018_P-G_classes/all_regions/008/gridded_294/PM10_PG_classes_grid.nc.\n",
      "Re-gridding run 008, pollutant PM2.5...\n"
     ]
    },
    {
     "name": "stderr",
     "output_type": "stream",
     "text": [
      "Gridding PG classes: 100%|██████████| 7/7 [04:03<00:00, 34.85s/it]\n",
      "Gridding PG classes:   0%|          | 0/7 [00:00<?, ?it/s]"
     ]
    },
    {
     "name": "stdout",
     "output_type": "stream",
     "text": [
      "Saved to /home/users/mwlw3/ADMS-Urban/2018_P-G_classes/all_regions/008/gridded_294/PM2.5_PG_classes_grid.nc.\n",
      "Re-gridding run 008, pollutant CO2...\n"
     ]
    },
    {
     "name": "stderr",
     "output_type": "stream",
     "text": [
      "Gridding PG classes: 100%|██████████| 7/7 [03:58<00:00, 34.13s/it]\n"
     ]
    },
    {
     "name": "stdout",
     "output_type": "stream",
     "text": [
      "Saved to /home/users/mwlw3/ADMS-Urban/2018_P-G_classes/all_regions/008/gridded_294/CO2_PG_classes_grid.nc.\n",
      "\n",
      "\n",
      "RUN 009\n",
      "Loaded the processed coordinate data for run 009.\n",
      "Re-gridding run 009...\n"
     ]
    },
    {
     "name": "stderr",
     "output_type": "stream",
     "text": [
      "  2%|▏         | 7/299 [00:52<36:10,  7.43s/it]\n",
      "Gridding PG classes:   0%|          | 0/7 [00:00<?, ?it/s]"
     ]
    },
    {
     "name": "stdout",
     "output_type": "stream",
     "text": [
      "Selected to re-grid with 294 cells in the x direction.\n",
      "Re-gridding run 009, pollutant NOx...\n"
     ]
    },
    {
     "name": "stderr",
     "output_type": "stream",
     "text": [
      "Gridding PG classes: 100%|██████████| 7/7 [05:59<00:00, 51.32s/it]\n",
      "Gridding PG classes:   0%|          | 0/7 [00:00<?, ?it/s]"
     ]
    },
    {
     "name": "stdout",
     "output_type": "stream",
     "text": [
      "Saved to /home/users/mwlw3/ADMS-Urban/2018_P-G_classes/all_regions/009/gridded_294/NOx_PG_classes_grid.nc.\n",
      "Re-gridding run 009, pollutant NO2...\n"
     ]
    },
    {
     "name": "stderr",
     "output_type": "stream",
     "text": [
      "Gridding PG classes: 100%|██████████| 7/7 [06:07<00:00, 52.45s/it]\n",
      "Gridding PG classes:   0%|          | 0/7 [00:00<?, ?it/s]"
     ]
    },
    {
     "name": "stdout",
     "output_type": "stream",
     "text": [
      "Saved to /home/users/mwlw3/ADMS-Urban/2018_P-G_classes/all_regions/009/gridded_294/NO2_PG_classes_grid.nc.\n",
      "Re-gridding run 009, pollutant PM10...\n"
     ]
    },
    {
     "name": "stderr",
     "output_type": "stream",
     "text": [
      "Gridding PG classes: 100%|██████████| 7/7 [06:06<00:00, 52.31s/it]\n",
      "Gridding PG classes:   0%|          | 0/7 [00:00<?, ?it/s]"
     ]
    },
    {
     "name": "stdout",
     "output_type": "stream",
     "text": [
      "Saved to /home/users/mwlw3/ADMS-Urban/2018_P-G_classes/all_regions/009/gridded_294/PM10_PG_classes_grid.nc.\n",
      "Re-gridding run 009, pollutant PM2.5...\n"
     ]
    },
    {
     "name": "stderr",
     "output_type": "stream",
     "text": [
      "Gridding PG classes: 100%|██████████| 7/7 [06:07<00:00, 52.48s/it]\n",
      "Gridding PG classes:   0%|          | 0/7 [00:00<?, ?it/s]"
     ]
    },
    {
     "name": "stdout",
     "output_type": "stream",
     "text": [
      "Saved to /home/users/mwlw3/ADMS-Urban/2018_P-G_classes/all_regions/009/gridded_294/PM2.5_PG_classes_grid.nc.\n",
      "Re-gridding run 009, pollutant CO2...\n"
     ]
    },
    {
     "name": "stderr",
     "output_type": "stream",
     "text": [
      "Gridding PG classes: 100%|██████████| 7/7 [06:06<00:00, 52.32s/it]\n"
     ]
    },
    {
     "name": "stdout",
     "output_type": "stream",
     "text": [
      "Saved to /home/users/mwlw3/ADMS-Urban/2018_P-G_classes/all_regions/009/gridded_294/CO2_PG_classes_grid.nc.\n",
      "\n",
      "\n",
      "RUN 010\n",
      "Loaded the processed coordinate data for run 010.\n",
      "Re-gridding run 010...\n"
     ]
    },
    {
     "name": "stderr",
     "output_type": "stream",
     "text": [
      "  2%|▏         | 7/299 [00:52<36:23,  7.48s/it]\n",
      "Gridding PG classes:   0%|          | 0/7 [00:00<?, ?it/s]"
     ]
    },
    {
     "name": "stdout",
     "output_type": "stream",
     "text": [
      "Selected to re-grid with 294 cells in the x direction.\n",
      "Re-gridding run 010, pollutant NOx...\n"
     ]
    },
    {
     "name": "stderr",
     "output_type": "stream",
     "text": [
      "Gridding PG classes: 100%|██████████| 7/7 [04:06<00:00, 35.19s/it]\n",
      "Gridding PG classes:   0%|          | 0/7 [00:00<?, ?it/s]"
     ]
    },
    {
     "name": "stdout",
     "output_type": "stream",
     "text": [
      "Saved to /home/users/mwlw3/ADMS-Urban/2018_P-G_classes/all_regions/010/gridded_294/NOx_PG_classes_grid.nc.\n",
      "Re-gridding run 010, pollutant NO2...\n"
     ]
    },
    {
     "name": "stderr",
     "output_type": "stream",
     "text": [
      "Gridding PG classes: 100%|██████████| 7/7 [04:14<00:00, 36.38s/it]\n",
      "Gridding PG classes:   0%|          | 0/7 [00:00<?, ?it/s]"
     ]
    },
    {
     "name": "stdout",
     "output_type": "stream",
     "text": [
      "Saved to /home/users/mwlw3/ADMS-Urban/2018_P-G_classes/all_regions/010/gridded_294/NO2_PG_classes_grid.nc.\n",
      "Re-gridding run 010, pollutant PM10...\n"
     ]
    },
    {
     "name": "stderr",
     "output_type": "stream",
     "text": [
      "Gridding PG classes: 100%|██████████| 7/7 [03:59<00:00, 34.24s/it]\n",
      "Gridding PG classes:   0%|          | 0/7 [00:00<?, ?it/s]"
     ]
    },
    {
     "name": "stdout",
     "output_type": "stream",
     "text": [
      "Saved to /home/users/mwlw3/ADMS-Urban/2018_P-G_classes/all_regions/010/gridded_294/PM10_PG_classes_grid.nc.\n",
      "Re-gridding run 010, pollutant PM2.5...\n"
     ]
    },
    {
     "name": "stderr",
     "output_type": "stream",
     "text": [
      "Gridding PG classes: 100%|██████████| 7/7 [04:06<00:00, 35.18s/it]\n",
      "Gridding PG classes:   0%|          | 0/7 [00:00<?, ?it/s]"
     ]
    },
    {
     "name": "stdout",
     "output_type": "stream",
     "text": [
      "Saved to /home/users/mwlw3/ADMS-Urban/2018_P-G_classes/all_regions/010/gridded_294/PM2.5_PG_classes_grid.nc.\n",
      "Re-gridding run 010, pollutant CO2...\n"
     ]
    },
    {
     "name": "stderr",
     "output_type": "stream",
     "text": [
      "Gridding PG classes: 100%|██████████| 7/7 [04:10<00:00, 35.80s/it]"
     ]
    },
    {
     "name": "stdout",
     "output_type": "stream",
     "text": [
      "Saved to /home/users/mwlw3/ADMS-Urban/2018_P-G_classes/all_regions/010/gridded_294/CO2_PG_classes_grid.nc.\n",
      "Finished processing runs.\n"
     ]
    },
    {
     "name": "stderr",
     "output_type": "stream",
     "text": [
      "\n"
     ]
    }
   ],
   "source": [
    "# Auto-run data processing steps for ADMS-Urban outputs which were generated under Pasquill-Gifford conditions, for all regions\n",
    "\n",
    "import numpy as np\n",
    "import pandas as pd\n",
    "import geopandas as gpd\n",
    "import xarray as xr\n",
    "from PyBNG import PyBNG\n",
    "import shapely\n",
    "from os import makedirs, path, listdir, remove\n",
    "import matplotlib.pyplot as plt\n",
    "import matplotlib.colors as colors\n",
    "import requests\n",
    "import zipfile as zpf\n",
    "from tqdm import tqdm\n",
    "from PIL import Image\n",
    "from ADMS_functions import PointXYZ_to_latlon, plot_on_map, plot_in_grid_box, process_PG_dataset\n",
    "\n",
    "PG_index = [\"A\", \"B\", \"C\", \"D\", \"E\", \"F\", \"G\"]\n",
    "\n",
    "runs = [\"003\", \"004\", \"005\", \"006\", \"007\", \"008\", \"009\", \"010\"]\n",
    "\n",
    "for run in runs:\n",
    "    print(f\"\\n\\nRUN {run}\")\n",
    "    folder = f\"/home/users/mwlw3/ADMS-Urban/2018_P-G_classes/all_regions/{run}/\"\n",
    "    files = [path.join(folder, file) for file in listdir(folder) if path.splitext(file)[-1]==\".nc\"]\n",
    "    processed_coordinates_filepath = path.join(folder, \"raw_processed_coordinates.nc\")\n",
    "\n",
    "    # Processing from raw ADMS-Urban outputs to a netCDF file with useful attributes and latitude/longitude coordinates\n",
    "    if not path.exists(processed_coordinates_filepath):\n",
    "        print(f\"Processing the coordinates for run {run}...\")\n",
    "        progress_bar = tqdm(range(0, len(files)))\n",
    "        new_ds = xr.concat([process_PG_dataset(xr.open_dataset(files[i])) for i in progress_bar], \"space\")\n",
    "        new_ds.to_netcdf(processed_coordinates_filepath)\n",
    "    elif path.exists(processed_coordinates_filepath):\n",
    "        new_ds = xr.open_dataset(processed_coordinates_filepath)\n",
    "        print(f\"Loaded the processed coordinate data for run {run}.\")\n",
    "\n",
    "    # Re-gridding the data to a latitude/longitude grid of highest relevant resolution\n",
    "    print(f\"Re-gridding run {run}...\")\n",
    "    xmin, ymin, xmax, ymax = gpd.points_from_xy(new_ds.longitude.values, \n",
    "                                                new_ds.latitude.values).total_bounds\n",
    "    found_one = False\n",
    "    n_cells = None\n",
    "    ref_cell = None\n",
    "    x_coords = None\n",
    "    y_coords = None\n",
    "\n",
    "    for test_n_cells in tqdm(range(300, 1, -1)):\n",
    "        cell_size = (xmax-xmin)/test_n_cells\n",
    "        grid_cells = [shapely.geometry.box(x0, y0, x0 - cell_size, y0 + cell_size) \n",
    "                  for x0 in np.arange(xmin, xmax + cell_size, cell_size) \n",
    "                  for y0 in np.arange(ymin, ymax + cell_size, cell_size)]\n",
    "        test_ref_cell = gpd.GeoDataFrame(grid_cells, columns=[\"geometry\"])\n",
    "        test_x_coords = test_ref_cell.centroid.x.round(12).drop_duplicates()\n",
    "        test_y_coords = test_ref_cell.centroid.y.round(12).drop_duplicates()\n",
    "        if len(test_ref_cell) == len(test_x_coords)*len(test_y_coords):\n",
    "            found_one = True\n",
    "            n_cells = test_n_cells\n",
    "            ref_cell = test_ref_cell\n",
    "            x_coords = test_x_coords\n",
    "            y_coords = test_y_coords\n",
    "        elif found_one and not len(test_ref_cell) == len(test_x_coords)*len(test_y_coords):\n",
    "            break\n",
    "    print(f\"Selected to re-grid with {n_cells} cells in the x direction.\")\n",
    "    grid_name = f\"gridded_{n_cells}\"\n",
    "    variables = [var for var in list(new_ds.data_vars) if \"wind\" not in var]\n",
    "\n",
    "    for variable in variables:\n",
    "        print(f\"Re-gridding run {run}, pollutant {variable}...\")\n",
    "\n",
    "        # Grid the timeseries data\n",
    "        cell_list = []\n",
    "        progress_bar = tqdm(range(0, new_ds.PG_class.shape[0]))\n",
    "\n",
    "        for i in progress_bar:\n",
    "            progress_bar.set_description(f\"Gridding PG classes\")\n",
    "            cell = ref_cell.copy()\n",
    "            class_gdf = gpd.GeoDataFrame(new_ds[variable][i, :].values, \n",
    "                             columns=[f\"class_{variable}\"], \n",
    "                             geometry=gpd.points_from_xy(new_ds.longitude.values, new_ds.latitude.values))\n",
    "            merge = gpd.sjoin(class_gdf, ref_cell, how=\"left\", predicate=\"within\")\n",
    "            dissolve = merge.dissolve(by=\"index_right\", aggfunc=\"mean\")\n",
    "            cell.loc[dissolve.index, f\"class_{variable}\"] = dissolve[f\"class_{variable}\"].values\n",
    "            cell_list.append(cell[f\"class_{variable}\"].values.reshape(len(x_coords),len(y_coords)))\n",
    "\n",
    "        # Stack the grids into a numpy array\n",
    "        classes_gridded = np.stack(cell_list, axis=-1)\n",
    "\n",
    "        # Create the xarray dataset\n",
    "        data_variables = {f\"{variable}\": ([\"longitude\", \"latitude\", \"PG_class\"], classes_gridded, new_ds[variable].attrs)\n",
    "                            }\n",
    "\n",
    "        coords = {\"longitude\": ([\"longitude\"], x_coords),\n",
    "                    \"latitude\": ([\"latitude\"], y_coords),\n",
    "                 \"PG_class\": ([\"PG_class\"], new_ds.PG_class.data)}\n",
    "\n",
    "        attrs = new_ds.attrs\n",
    "\n",
    "        classes_ds = xr.Dataset(data_vars=data_variables, coords=coords, attrs=attrs)\n",
    "\n",
    "        # Save to a netCDF file\n",
    "        if not path.exists(path.join(folder, grid_name)):\n",
    "            makedirs(path.join(folder, grid_name))\n",
    "        filepath = path.join(folder, grid_name, f\"{variable}_PG_classes_grid.nc\")\n",
    "        classes_ds.to_netcdf(filepath)\n",
    "        print(f\"Saved to {filepath}.\")\n",
    "        \n",
    "print(f\"Finished processing runs.\")"
   ]
  },
  {
   "cell_type": "code",
   "execution_count": null,
   "id": "ee959f4d-27e7-4246-9192-bc59b7fa428d",
   "metadata": {},
   "outputs": [],
   "source": []
  }
 ],
 "metadata": {
  "kernelspec": {
   "display_name": "AQmort",
   "language": "python",
   "name": "aqmort"
  },
  "language_info": {
   "codemirror_mode": {
    "name": "ipython",
    "version": 3
   },
   "file_extension": ".py",
   "mimetype": "text/x-python",
   "name": "python",
   "nbconvert_exporter": "python",
   "pygments_lexer": "ipython3",
   "version": "3.9.9"
  }
 },
 "nbformat": 4,
 "nbformat_minor": 5
}
