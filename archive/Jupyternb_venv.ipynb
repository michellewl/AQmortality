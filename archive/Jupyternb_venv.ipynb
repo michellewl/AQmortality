{
 "cells": [
  {
   "cell_type": "markdown",
   "metadata": {},
   "source": [
    "## Creating a Python virtual environment"
   ]
  },
  {
   "cell_type": "markdown",
   "metadata": {},
   "source": [
    "This will enable the installation of non-standard Python packages for use within the Jupyter Notebook only. Code copied from [here](https://github.com/cedadev/ceda-notebooks/blob/master/notebooks/intro/notebook-tour-part-6.ipynb)."
   ]
  },
  {
   "cell_type": "markdown",
   "metadata": {},
   "source": [
    "#### Step 1 – Create a venv\n",
    "Note that these venvs will not work when logged into JASMIN directly via SSH."
   ]
  },
  {
   "cell_type": "code",
   "execution_count": 1,
   "metadata": {},
   "outputs": [
    {
     "name": "stdout",
     "output_type": "stream",
     "text": [
      "[INFO] Creating: virtual env at: /home/users/mwlw3/nb-venvs/venv-notebook\n",
      "copying /opt/jaspy/bin/python => /home/users/mwlw3/nb-venvs/venv-notebook/bin/python\n"
     ]
    }
   ],
   "source": [
    "import virtualenv\n",
    "import pip\n",
    "import os\n",
    "\n",
    "# Define and create the base directory install virtual environments\n",
    "venvs_dir = os.path.join(os.path.expanduser(\"~\"), \"nb-venvs\")\n",
    "\n",
    "if not os.path.isdir(venvs_dir):\n",
    "    os.makedirs(venvs_dir)\n",
    "    \n",
    "# Define the venv directory\n",
    "venv_dir = os.path.join(venvs_dir, 'venv-notebook')\n",
    "\n",
    "# Since you only need to create the virtual environment once, check for its existence before trying to create it\n",
    "if not os.path.isdir(venv_dir):\n",
    "    # Create the virtual environment\n",
    "    print(f'[INFO] Creating: virtual env at: {venv_dir}')\n",
    "    virtualenv.create_environment(venv_dir)"
   ]
  },
  {
   "cell_type": "markdown",
   "metadata": {},
   "source": [
    "#### Step 2 – Activate the venv"
   ]
  },
  {
   "cell_type": "code",
   "execution_count": 2,
   "metadata": {},
   "outputs": [],
   "source": [
    "activate_file = os.path.join(venv_dir, \"bin\", \"activate_this.py\")\n",
    "exec(open(activate_file).read(), dict(__file__=activate_file))"
   ]
  },
  {
   "cell_type": "markdown",
   "metadata": {},
   "source": [
    "#### Step 3 – Install new packages"
   ]
  },
  {
   "cell_type": "code",
   "execution_count": 3,
   "metadata": {},
   "outputs": [
    {
     "name": "stderr",
     "output_type": "stream",
     "text": [
      "WARNING: pip is being invoked by an old script wrapper. This will fail in a future version of pip.\n",
      "Please see https://github.com/pypa/pip/issues/5599 for advice on fixing the underlying issue.\n",
      "To avoid this problem you can invoke Python with '-m pip' instead of running pip directly.\n"
     ]
    },
    {
     "name": "stdout",
     "output_type": "stream",
     "text": [
      "Requirement already satisfied: xlrd in /home/users/mwlw3/.local/lib/python3.7/site-packages (2.0.1)\n"
     ]
    },
    {
     "name": "stderr",
     "output_type": "stream",
     "text": [
      "WARNING: You are using pip version 10.0.1; however, version 21.0.1 is available.\n",
      "You should consider upgrading via the '/opt/jaspy/bin/python -m pip install --upgrade pip' command.\n",
      "WARNING: pip is being invoked by an old script wrapper. This will fail in a future version of pip.\n",
      "Please see https://github.com/pypa/pip/issues/5599 for advice on fixing the underlying issue.\n",
      "To avoid this problem you can invoke Python with '-m pip' instead of running pip directly.\n"
     ]
    },
    {
     "name": "stdout",
     "output_type": "stream",
     "text": [
      "Requirement already satisfied: openpyxl in /home/users/mwlw3/.local/lib/python3.7/site-packages (3.0.6)\n",
      "Requirement already satisfied: et-xmlfile in /home/users/mwlw3/.local/lib/python3.7/site-packages (from openpyxl) (1.0.1)\n",
      "Requirement already satisfied: jdcal in /home/users/mwlw3/.local/lib/python3.7/site-packages (from openpyxl) (1.4.1)\n"
     ]
    },
    {
     "name": "stderr",
     "output_type": "stream",
     "text": [
      "WARNING: You are using pip version 10.0.1; however, version 21.0.1 is available.\n",
      "You should consider upgrading via the '/opt/jaspy/bin/python -m pip install --upgrade pip' command.\n"
     ]
    }
   ],
   "source": [
    "# pip install a package using the venv as a prefix\n",
    "installs = [\"xlrd\", \"openpyxl\"]\n",
    "for package in installs:\n",
    "    pip.main([\"install\", \"--prefix\", venv_dir, package])"
   ]
  },
  {
   "cell_type": "code",
   "execution_count": null,
   "metadata": {},
   "outputs": [],
   "source": []
  }
 ],
 "metadata": {
  "kernelspec": {
   "display_name": "Python 3 + Jaspy",
   "language": "python",
   "name": "jaspy"
  },
  "language_info": {
   "codemirror_mode": {
    "name": "ipython",
    "version": 3
   },
   "file_extension": ".py",
   "mimetype": "text/x-python",
   "name": "python",
   "nbconvert_exporter": "python",
   "pygments_lexer": "ipython3",
   "version": "3.7.1"
  }
 },
 "nbformat": 4,
 "nbformat_minor": 4
}
