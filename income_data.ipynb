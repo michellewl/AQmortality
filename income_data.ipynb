{
 "cells": [
  {
   "cell_type": "code",
   "execution_count": 128,
   "metadata": {},
   "outputs": [],
   "source": [
    "# Imports\n",
    "import numpy as np\n",
    "import requests\n",
    "import pandas as pd\n",
    "from os import makedirs, path, listdir, remove\n",
    "from tqdm import tqdm\n",
    "import zipfile as zpf\n",
    "import matplotlib.pyplot as plt\n",
    "import xlrd\n",
    "from openpyxl import load_workbook\n",
    "import wandb"
   ]
  },
  {
   "cell_type": "code",
   "execution_count": 197,
   "metadata": {},
   "outputs": [],
   "source": [
    "# Developing the data class methods\n",
    "\n",
    "class IncomeData():\n",
    "    def __init__(self):\n",
    "        self.tmp_folder = path.join(path.abspath(\"\"), \"tmp\")\n",
    "        \n",
    "        if not path.exists(self.tmp_folder):\n",
    "            makedirs(self.tmp_folder)\n",
    "\n",
    "    def download(self, url, verbose=False):\n",
    "        self.filename = path.basename(url)\n",
    "        _, self.extension = path.splitext(self.filename)\n",
    "        self.filepath = path.join(self.tmp_folder, self.filename)\n",
    "        \n",
    "        request = requests.get(url)\n",
    "        file = open(self.filepath, 'wb')\n",
    "        file.write(request.content)\n",
    "        file.close()\n",
    "        if verbose:\n",
    "            print(f\"Saved to {self.filename}\")\n",
    "        if self.extension == \".zip\":\n",
    "            self.zipfiles = zpf.ZipFile(self.filepath).namelist()\n",
    "            if verbose:\n",
    "                print(\"Contains zip files:\")\n",
    "                [print(f\"[{i}] {self.zipfiles[i]}\") for i in range(len(self.zipfiles))]\n",
    "        elif self.extension == \".xls\":\n",
    "            workbook = xlrd.open_workbook(self.filepath)\n",
    "            self.sheets = workbook.sheet_names()\n",
    "            if verbose:\n",
    "                print(f\"Contains xls sheets: {self.sheets}\")\n",
    "        elif self.extension == \".xlsx\":\n",
    "            workbook = load_workbook(self.filepath)\n",
    "            self.sheets = workbook.sheetnames\n",
    "            if verbose:\n",
    "                print(f\"Contains xlsx sheets: {self.sheets}\")\n",
    "                \n",
    "    def unzip(self, file=\"all\", verbose=False):\n",
    "        with zpf.ZipFile(self.filepath, 'r') as zip_ref:\n",
    "            if file ==\"all\":                                       # Extract all zipped files.\n",
    "                zip_ref.extractall(self.tmp_folder)\n",
    "            else:                                                  # Extract one specified file,\n",
    "                zip_ref.extract(file, self.tmp_folder)            # then\n",
    "                self.filename = path.basename(file)                # reset the file name, path and extension info.\n",
    "                _, self.extension = path.splitext(self.filename)\n",
    "                self.filepath = path.join(self.tmp_folder, self.filename)\n",
    "             \n",
    "            if verbose:\n",
    "                print(f\"Unzipped {file}.\")\n",
    "            if self.extension == \".xls\":\n",
    "                workbook = xlrd.open_workbook(self.filepath)\n",
    "                self.sheets = workbook.sheet_names()\n",
    "                if verbose:\n",
    "                    print(f\"Contains xls sheets: {self.sheets}\")\n",
    "            elif self.extension == \".xlsx\":\n",
    "                workbook = load_workbook(self.filepath)\n",
    "                self.sheets = workbook.sheetnames\n",
    "                if verbose:\n",
    "                    print(f\"Contains xlsx sheets: {self.sheets}\")\n",
    "        \n",
    "    def download_and_log(self, url, region_name):\n",
    "        with wandb.init(project=\"AQmortality\", job_type=\"load-data\") as run:\n",
    "            self.download(url)\n",
    "            df = self.read_xls(\"Table 2\").transpose().set_index(0).drop([\"Region\", \"Region name\"])\n",
    "            df.columns = df.loc[\"LAD code\"].values\n",
    "            df = df.drop(\"LAD code\").dropna(axis=1)\n",
    "            df.index = pd.to_datetime(np.floor(np.where(df.index.values>9999, df.index.values/10, df.index.values)).astype(int), format=\"%Y\").rename(\"date\")\n",
    "                    \n",
    "            columns = df.columns.to_list()\n",
    "\n",
    "            raw_data = wandb.Artifact(\n",
    "                \"income-raw\", type=\"dataset\",\n",
    "                description=f\"Raw annual disposable income per capita data for local authorities in {region_name} region. Data is extracted from source Excel file (not logged using Weights and Biases).\",\n",
    "                metadata={\"source\":url,\n",
    "                         \"shapes\":[df[column].shape for column in columns],\n",
    "                         \"LAD_codes\":columns})\n",
    "\n",
    "            for column in columns:\n",
    "                with raw_data.new_file(column + \".npz\", mode=\"wb\") as file:\n",
    "                        np.savez(file, x=df.index, y=df[column].values)\n",
    "\n",
    "            run.log_artifact(raw_data)\n",
    "            \n",
    "            metadata_df = self.read_xls(\"Table 2\")\n",
    "            metadata_df.columns = metadata_df.loc[0]\n",
    "            metadata_df = pd.DataFrame(metadata_df.drop(\"Region\", axis=1).set_index(\"LAD code\").drop(\"LAD code\")[\"Region name\"]).dropna(axis=0)\n",
    "            columns = metadata_df.columns.to_list()\n",
    "            meta_data = wandb.Artifact(\n",
    "                \"income-metadata\", type=\"dataset\",\n",
    "                description=f\"LAD codes and corresponding local authority names for {region_name} region. Data is extracted from source Excel file (not logged using Weights and Biases).\",\n",
    "                metadata={\"source\":url,\n",
    "                         \"shapes\":[metadata_df[column].shape for column in columns],\n",
    "                         \"columns\":columns})\n",
    "            for column in columns:\n",
    "                with meta_data.new_file(\"LAD_codes.npz\", mode=\"wb\") as file:\n",
    "                            np.savez(file, x=metadata_df.index, y=metadata_df[column].values)\n",
    "            run.log_artifact(meta_data)\n",
    "        \n",
    "        [remove(path.join(self.tmp_folder, file)) for file in listdir(self.tmp_folder)]\n",
    "        \n",
    "    def read_csv(self, verbose=True, index_col=\"date\", parse_dates=True):\n",
    "        if verbose:\n",
    "            print(f\"Reading {self.filename}...\")\n",
    "        return pd.read_csv(self.filepath, index_col=index_col, parse_dates=parse_dates)\n",
    "    \n",
    "    def read_xls(self, sheet_name, verbose=False):\n",
    "        if verbose:\n",
    "            print(f\"Reading {self.filename}...\")\n",
    "        if self.extension == \".xls\":\n",
    "            return pd.read_excel(self.filepath, sheet_name)\n",
    "        elif self.extension == \".xlsx\":\n",
    "            workbook = load_workbook(self.filepath)\n",
    "            worksheet = workbook[sheet_name]\n",
    "            return pd.DataFrame(worksheet.values)\n",
    "        \n",
    "    def read(self, artifact):\n",
    "        with wandb.init(project=\"AQmortality\", job_type=\"read-data\") as run:\n",
    "            raw_data_artifact = run.use_artifact(f'{artifact}:latest')\n",
    "            data_folder = raw_data_artifact.download()\n",
    "            df = pd.DataFrame()\n",
    "            if artifact == \"income-regional\":\n",
    "                filepath = path.join(data_folder, f\"income.npz\")\n",
    "                data = np.load(filepath, allow_pickle=True)\n",
    "                df = pd.DataFrame(index=pd.DatetimeIndex(data[\"x\"]), data=data[\"y\"], columns=[f\"income\"])\n",
    "            elif artifact == \"income-raw\" or artifact == \"income-resample\":\n",
    "                metadata_artifact = run.use_artifact(\"income-metadata:latest\")\n",
    "                metadata_folder = metadata_artifact.download()\n",
    "                metadata = np.load(path.join(metadata_folder, \"LAD_codes.npz\"), allow_pickle=True)\n",
    "                metadata_df = pd.DataFrame(index=metadata[\"x\"], data=metadata[\"y\"], columns=[\"local_authority\"])\n",
    "                sites = metadata_df.index.to_list()\n",
    "                for site in sites:\n",
    "                    filepath = path.join(data_folder, f\"{site}.npz\")\n",
    "                    try:\n",
    "                        data = np.load(filepath, allow_pickle=True)\n",
    "                        if df.empty:\n",
    "                            df = pd.DataFrame(index=pd.DatetimeIndex(data[\"x\"]), data=data[\"y\"], columns=[site])\n",
    "                        else:\n",
    "                            df = df.join(pd.DataFrame(index=pd.DatetimeIndex(data[\"x\"]), data=data[\"y\"], columns=[site]))\n",
    "                    except FileNotFoundError:\n",
    "                        continue\n",
    "            elif artifact == \"income-metadata\":\n",
    "                df = metadata_df\n",
    "            \n",
    "        return df\n",
    "    \n",
    "    def resample_time_and_log(self, key, method):\n",
    "        with wandb.init(project=\"AQmortality\", job_type=\"resample-data\") as run:\n",
    "            raw_data_artifact = run.use_artifact('income-raw:latest')\n",
    "            data_folder = raw_data_artifact.download()\n",
    "            metadata_artifact = run.use_artifact(\"income-metadata:latest\")\n",
    "            metadata_folder = metadata_artifact.download()\n",
    "            metadata = np.load(path.join(metadata_folder, \"LAD_codes.npz\"), allow_pickle=True)\n",
    "            metadata_df = pd.DataFrame(index=metadata[\"x\"], data=metadata[\"y\"], columns=[\"local_authority\"])\n",
    "            sites = metadata_df.index.to_list()\n",
    "            df = pd.DataFrame()\n",
    "            for site in sites:\n",
    "                filepath = path.join(data_folder, f\"{site}.npz\")\n",
    "                try:\n",
    "                    data = np.load(filepath, allow_pickle=True)\n",
    "                    if df.empty:\n",
    "                        df = pd.DataFrame(index=pd.DatetimeIndex(data[\"x\"]), data=data[\"y\"].astype(float), columns=[site])\n",
    "                    else:\n",
    "                        df = df.join(pd.DataFrame(index=pd.DatetimeIndex(data[\"x\"]), data=data[\"y\"].astype(float), columns=[site]))\n",
    "                except FileNotFoundError:\n",
    "                    continue\n",
    "            \n",
    "            resampled_df = df.resample(key).asfreq().interpolate(method=method)\n",
    "            columns = resampled_df.columns.to_list()\n",
    "            resample_data = wandb.Artifact(\n",
    "                \"income-resample\", type=\"dataset\",\n",
    "                description=f\"Resampled disposable income data to daily resolution by {method} interpolation. Local authority resolution.\",\n",
    "                metadata={\"shapes\":[resampled_df[column].shape for column in columns],\n",
    "                         \"columns\":columns,\n",
    "                        \"key\":key,\n",
    "                         \"method\":method})\n",
    "            for column in columns:\n",
    "                with resample_data.new_file(column + \".npz\", mode=\"wb\") as file:\n",
    "                        np.savez(file, x=resampled_df.index, y=resampled_df[column].values)\n",
    "\n",
    "            run.log_artifact(resample_data)\n",
    "        \n",
    "        return resampled_df"
   ]
  },
  {
   "cell_type": "code",
   "execution_count": 186,
   "metadata": {},
   "outputs": [],
   "source": [
    "url = \"https://www.ons.gov.uk/file?uri=/economy/regionalaccounts/grossdisposablehouseholdincome/datasets/regionalgrossdisposablehouseholdincomebylocalauthoritiesbynuts1region/ukilondon/regionalgrossdisposablehouseholdincomelocalauthorityukilondon.xls\""
   ]
  },
  {
   "cell_type": "code",
   "execution_count": 198,
   "metadata": {},
   "outputs": [],
   "source": [
    "income = IncomeData()"
   ]
  },
  {
   "cell_type": "code",
   "execution_count": 140,
   "metadata": {},
   "outputs": [
    {
     "data": {
      "text/html": [
       "\n",
       "                Tracking run with wandb version 0.10.30<br/>\n",
       "                Syncing run <strong style=\"color:#cdcd00\">golden-tree-103</strong> to <a href=\"https://wandb.ai\" target=\"_blank\">Weights & Biases</a> <a href=\"https://docs.wandb.com/integrations/jupyter.html\" target=\"_blank\">(Documentation)</a>.<br/>\n",
       "                Project page: <a href=\"https://wandb.ai/michellewl/AQmortality\" target=\"_blank\">https://wandb.ai/michellewl/AQmortality</a><br/>\n",
       "                Run page: <a href=\"https://wandb.ai/michellewl/AQmortality/runs/3mhx19ow\" target=\"_blank\">https://wandb.ai/michellewl/AQmortality/runs/3mhx19ow</a><br/>\n",
       "                Run data is saved locally in <code>/home/users/mwlw3/AQmortality/wandb/run-20210518_160045-3mhx19ow</code><br/><br/>\n",
       "            "
      ],
      "text/plain": [
       "<IPython.core.display.HTML object>"
      ]
     },
     "metadata": {},
     "output_type": "display_data"
    },
    {
     "data": {
      "text/html": [
       "<br/>Waiting for W&B process to finish, PID 515<br/>Program ended successfully."
      ],
      "text/plain": [
       "<IPython.core.display.HTML object>"
      ]
     },
     "metadata": {},
     "output_type": "display_data"
    },
    {
     "data": {
      "application/vnd.jupyter.widget-view+json": {
       "model_id": "ae50567083ad443bbb658ce76b4ad491",
       "version_major": 2,
       "version_minor": 0
      },
      "text/plain": [
       "VBox(children=(Label(value=' 0.00MB of 0.00MB uploaded (0.00MB deduped)\\r'), FloatProgress(value=1.0, max=1.0)…"
      ]
     },
     "metadata": {},
     "output_type": "display_data"
    },
    {
     "data": {
      "text/html": [
       "Find user logs for this run at: <code>/home/users/mwlw3/AQmortality/wandb/run-20210518_160045-3mhx19ow/logs/debug.log</code>"
      ],
      "text/plain": [
       "<IPython.core.display.HTML object>"
      ]
     },
     "metadata": {},
     "output_type": "display_data"
    },
    {
     "data": {
      "text/html": [
       "Find internal logs for this run at: <code>/home/users/mwlw3/AQmortality/wandb/run-20210518_160045-3mhx19ow/logs/debug-internal.log</code>"
      ],
      "text/plain": [
       "<IPython.core.display.HTML object>"
      ]
     },
     "metadata": {},
     "output_type": "display_data"
    },
    {
     "data": {
      "text/html": [
       "Synced 5 W&B file(s), 0 media file(s), 1 artifact file(s) and 0 other file(s)"
      ],
      "text/plain": [
       "<IPython.core.display.HTML object>"
      ]
     },
     "metadata": {},
     "output_type": "display_data"
    },
    {
     "data": {
      "text/html": [
       "\n",
       "                    <br/>Synced <strong style=\"color:#cdcd00\">golden-tree-103</strong>: <a href=\"https://wandb.ai/michellewl/AQmortality/runs/3mhx19ow\" target=\"_blank\">https://wandb.ai/michellewl/AQmortality/runs/3mhx19ow</a><br/>\n",
       "                "
      ],
      "text/plain": [
       "<IPython.core.display.HTML object>"
      ]
     },
     "metadata": {},
     "output_type": "display_data"
    }
   ],
   "source": [
    "income.download_and_log(url, \"London\")"
   ]
  },
  {
   "cell_type": "code",
   "execution_count": 162,
   "metadata": {},
   "outputs": [
    {
     "data": {
      "text/html": [
       "\n",
       "                Tracking run with wandb version 0.10.30<br/>\n",
       "                Syncing run <strong style=\"color:#cdcd00\">daily-waterfall-108</strong> to <a href=\"https://wandb.ai\" target=\"_blank\">Weights & Biases</a> <a href=\"https://docs.wandb.com/integrations/jupyter.html\" target=\"_blank\">(Documentation)</a>.<br/>\n",
       "                Project page: <a href=\"https://wandb.ai/michellewl/AQmortality\" target=\"_blank\">https://wandb.ai/michellewl/AQmortality</a><br/>\n",
       "                Run page: <a href=\"https://wandb.ai/michellewl/AQmortality/runs/3ee0lnm9\" target=\"_blank\">https://wandb.ai/michellewl/AQmortality/runs/3ee0lnm9</a><br/>\n",
       "                Run data is saved locally in <code>/home/users/mwlw3/AQmortality/wandb/run-20210518_161025-3ee0lnm9</code><br/><br/>\n",
       "            "
      ],
      "text/plain": [
       "<IPython.core.display.HTML object>"
      ]
     },
     "metadata": {},
     "output_type": "display_data"
    },
    {
     "data": {
      "text/html": [
       "<br/>Waiting for W&B process to finish, PID 1105<br/>Program ended successfully."
      ],
      "text/plain": [
       "<IPython.core.display.HTML object>"
      ]
     },
     "metadata": {},
     "output_type": "display_data"
    },
    {
     "data": {
      "application/vnd.jupyter.widget-view+json": {
       "model_id": "608485484d7b472bad073f355b01b3c6",
       "version_major": 2,
       "version_minor": 0
      },
      "text/plain": [
       "VBox(children=(Label(value=' 0.00MB of 0.00MB uploaded (0.00MB deduped)\\r'), FloatProgress(value=1.0, max=1.0)…"
      ]
     },
     "metadata": {},
     "output_type": "display_data"
    },
    {
     "data": {
      "text/html": [
       "Find user logs for this run at: <code>/home/users/mwlw3/AQmortality/wandb/run-20210518_161025-3ee0lnm9/logs/debug.log</code>"
      ],
      "text/plain": [
       "<IPython.core.display.HTML object>"
      ]
     },
     "metadata": {},
     "output_type": "display_data"
    },
    {
     "data": {
      "text/html": [
       "Find internal logs for this run at: <code>/home/users/mwlw3/AQmortality/wandb/run-20210518_161025-3ee0lnm9/logs/debug-internal.log</code>"
      ],
      "text/plain": [
       "<IPython.core.display.HTML object>"
      ]
     },
     "metadata": {},
     "output_type": "display_data"
    },
    {
     "data": {
      "text/html": [
       "Synced 5 W&B file(s), 0 media file(s), 0 artifact file(s) and 0 other file(s)"
      ],
      "text/plain": [
       "<IPython.core.display.HTML object>"
      ]
     },
     "metadata": {},
     "output_type": "display_data"
    },
    {
     "data": {
      "text/html": [
       "\n",
       "                    <br/>Synced <strong style=\"color:#cdcd00\">daily-waterfall-108</strong>: <a href=\"https://wandb.ai/michellewl/AQmortality/runs/3ee0lnm9\" target=\"_blank\">https://wandb.ai/michellewl/AQmortality/runs/3ee0lnm9</a><br/>\n",
       "                "
      ],
      "text/plain": [
       "<IPython.core.display.HTML object>"
      ]
     },
     "metadata": {},
     "output_type": "display_data"
    }
   ],
   "source": [
    "df = income.read(\"income-raw\")"
   ]
  },
  {
   "cell_type": "code",
   "execution_count": 175,
   "metadata": {},
   "outputs": [
    {
     "data": {
      "text/plain": [
       "(22, 33)"
      ]
     },
     "execution_count": 175,
     "metadata": {},
     "output_type": "execute_result"
    }
   ],
   "source": [
    "df.shape"
   ]
  },
  {
   "cell_type": "markdown",
   "metadata": {},
   "source": [
    "#### Linear interpolation of annual data"
   ]
  },
  {
   "cell_type": "code",
   "execution_count": 202,
   "metadata": {},
   "outputs": [],
   "source": [
    "key = \"D\"\n",
    "method = \"linear\"\n",
    "#linear_df = income.resample_time_and_log(key, method)"
   ]
  },
  {
   "cell_type": "code",
   "execution_count": 199,
   "metadata": {},
   "outputs": [
    {
     "data": {
      "text/html": [
       "\n",
       "                Tracking run with wandb version 0.10.30<br/>\n",
       "                Syncing run <strong style=\"color:#cdcd00\">azure-firefly-114</strong> to <a href=\"https://wandb.ai\" target=\"_blank\">Weights & Biases</a> <a href=\"https://docs.wandb.com/integrations/jupyter.html\" target=\"_blank\">(Documentation)</a>.<br/>\n",
       "                Project page: <a href=\"https://wandb.ai/michellewl/AQmortality\" target=\"_blank\">https://wandb.ai/michellewl/AQmortality</a><br/>\n",
       "                Run page: <a href=\"https://wandb.ai/michellewl/AQmortality/runs/gw0o4qr0\" target=\"_blank\">https://wandb.ai/michellewl/AQmortality/runs/gw0o4qr0</a><br/>\n",
       "                Run data is saved locally in <code>/home/users/mwlw3/AQmortality/wandb/run-20210518_162227-gw0o4qr0</code><br/><br/>\n",
       "            "
      ],
      "text/plain": [
       "<IPython.core.display.HTML object>"
      ]
     },
     "metadata": {},
     "output_type": "display_data"
    },
    {
     "data": {
      "text/html": [
       "<br/>Waiting for W&B process to finish, PID 1885<br/>Program ended successfully."
      ],
      "text/plain": [
       "<IPython.core.display.HTML object>"
      ]
     },
     "metadata": {},
     "output_type": "display_data"
    },
    {
     "data": {
      "application/vnd.jupyter.widget-view+json": {
       "model_id": "2f44ee2c4b914ff4adc29ae4daeba1b0",
       "version_major": 2,
       "version_minor": 0
      },
      "text/plain": [
       "VBox(children=(Label(value=' 0.00MB of 0.00MB uploaded (0.00MB deduped)\\r'), FloatProgress(value=1.0, max=1.0)…"
      ]
     },
     "metadata": {},
     "output_type": "display_data"
    },
    {
     "data": {
      "text/html": [
       "Find user logs for this run at: <code>/home/users/mwlw3/AQmortality/wandb/run-20210518_162227-gw0o4qr0/logs/debug.log</code>"
      ],
      "text/plain": [
       "<IPython.core.display.HTML object>"
      ]
     },
     "metadata": {},
     "output_type": "display_data"
    },
    {
     "data": {
      "text/html": [
       "Find internal logs for this run at: <code>/home/users/mwlw3/AQmortality/wandb/run-20210518_162227-gw0o4qr0/logs/debug-internal.log</code>"
      ],
      "text/plain": [
       "<IPython.core.display.HTML object>"
      ]
     },
     "metadata": {},
     "output_type": "display_data"
    },
    {
     "data": {
      "text/html": [
       "Synced 5 W&B file(s), 0 media file(s), 0 artifact file(s) and 0 other file(s)"
      ],
      "text/plain": [
       "<IPython.core.display.HTML object>"
      ]
     },
     "metadata": {},
     "output_type": "display_data"
    },
    {
     "data": {
      "text/html": [
       "\n",
       "                    <br/>Synced <strong style=\"color:#cdcd00\">azure-firefly-114</strong>: <a href=\"https://wandb.ai/michellewl/AQmortality/runs/gw0o4qr0\" target=\"_blank\">https://wandb.ai/michellewl/AQmortality/runs/gw0o4qr0</a><br/>\n",
       "                "
      ],
      "text/plain": [
       "<IPython.core.display.HTML object>"
      ]
     },
     "metadata": {},
     "output_type": "display_data"
    }
   ],
   "source": [
    "linear_df = income.read(\"income-resample\")"
   ]
  },
  {
   "cell_type": "code",
   "execution_count": 200,
   "metadata": {},
   "outputs": [
    {
     "data": {
      "text/plain": [
       "(7671, 33)"
      ]
     },
     "execution_count": 200,
     "metadata": {},
     "output_type": "execute_result"
    }
   ],
   "source": [
    "linear_df.shape"
   ]
  },
  {
   "cell_type": "code",
   "execution_count": null,
   "metadata": {},
   "outputs": [],
   "source": []
  }
 ],
 "metadata": {
  "kernelspec": {
   "display_name": "AQmort",
   "language": "python",
   "name": "aqmort"
  },
  "language_info": {
   "codemirror_mode": {
    "name": "ipython",
    "version": 3
   },
   "file_extension": ".py",
   "mimetype": "text/x-python",
   "name": "python",
   "nbconvert_exporter": "python",
   "pygments_lexer": "ipython3",
   "version": "3.9.4"
  }
 },
 "nbformat": 4,
 "nbformat_minor": 4
}
