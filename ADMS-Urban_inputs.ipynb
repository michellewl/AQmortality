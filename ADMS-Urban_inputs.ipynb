{
 "cells": [
  {
   "cell_type": "markdown",
   "id": "aeecfc14-ad7b-44f5-aafd-f24a9760108e",
   "metadata": {},
   "source": [
    "## Preamble\n",
    "\n",
    "Goal: Make a script which generates a set of output grid points in the ADMS-Urban additional specified points format.\n",
    "- Point name\n",
    "- X\n",
    "- Y\n",
    "- Z"
   ]
  },
  {
   "cell_type": "markdown",
   "id": "3121348b-181f-4d19-aaf3-f59e788551d8",
   "metadata": {
    "tags": []
   },
   "source": [
    "## Imports"
   ]
  },
  {
   "cell_type": "code",
   "execution_count": 35,
   "id": "4437971e-5342-4f4b-a910-bfca58cd323e",
   "metadata": {},
   "outputs": [],
   "source": [
    "import numpy as np\n",
    "import pandas as pd\n",
    "from os import path, listdir\n",
    "import matplotlib.pyplot as plt"
   ]
  },
  {
   "cell_type": "markdown",
   "id": "72e2f341-e1f2-490e-b69f-c15841e98e4f",
   "metadata": {},
   "source": [
    "## Code"
   ]
  },
  {
   "cell_type": "markdown",
   "id": "88ab4768-1b7c-4dc2-8f62-7861ab59e367",
   "metadata": {},
   "source": [
    "Let's try loading up all the grid point data and having a look."
   ]
  },
  {
   "cell_type": "code",
   "execution_count": 85,
   "id": "59b1b889-55f8-49bd-bb32-90bdb70ecc7e",
   "metadata": {},
   "outputs": [
    {
     "name": "stdout",
     "output_type": "stream",
     "text": [
      "(78372, 4)\n"
     ]
    }
   ],
   "source": [
    "filename = [file for file in listdir(path.abspath(\"\")) if path.splitext(file)[-1]==\".asp\"][0]\n",
    "filepath = path.join(path.abspath(\"\"), filename)\n",
    "grid_200_df = pd.read_csv(filepath, names=[\"point_name\", \"X\", \"Y\", \"Z\"])\n",
    "print(grid_200_df.shape)"
   ]
  },
  {
   "cell_type": "markdown",
   "id": "675dbdce-5aef-4b69-aad5-342743e94631",
   "metadata": {},
   "source": [
    "How many grid points are we expecting?"
   ]
  },
  {
   "cell_type": "code",
   "execution_count": 108,
   "id": "d8356c5d-0fc3-4b22-bb21-9fe4c5c75afe",
   "metadata": {},
   "outputs": [
    {
     "name": "stdout",
     "output_type": "stream",
     "text": [
      "78561\n"
     ]
    }
   ],
   "source": [
    "start = {\"name\": grid_200_df.point_name.values[0], \n",
    "         \"X\": grid_200_df.X.values[0], \n",
    "         \"Y\": grid_200_df.Y.values[0], \n",
    "         \"Z\": grid_200_df.Z.values[0]}\n",
    "end = {\"name\": grid_200_df.point_name.values[-1], \n",
    "         \"X\": grid_200_df.X.values[-1], \n",
    "         \"Y\": grid_200_df.Y.values[-1], \n",
    "         \"Z\": grid_200_df.Z.values[-1]}\n",
    "\n",
    "spacing = grid_200_df.X.values[1] - grid_200_df.X.values[0]\n",
    "\n",
    "X_coords = np.arange(start[\"X\"], end[\"X\"]+1, spacing) # Need to +1 because of the way Python works.\n",
    "Y_coords = np.arange(start[\"Y\"], end[\"Y\"]+1, spacing) # Ditto.\n",
    "\n",
    "print(X_coords.shape[0] * Y_coords.shape[0])"
   ]
  },
  {
   "cell_type": "markdown",
   "id": "96aaebde-8bf1-47d8-b876-5f357e7ce458",
   "metadata": {},
   "source": [
    "We're missing some expected data points.\n",
    "\n",
    "Time to visualise!"
   ]
  },
  {
   "cell_type": "code",
   "execution_count": 68,
   "id": "2fcf19b9-de49-4ef1-bf76-670d74de3118",
   "metadata": {},
   "outputs": [
    {
     "data": {
      "image/png": "[encoded data removed]",
      "text/plain": [
       "<Figure size 720x360 with 1 Axes>"
      ]
     },
     "metadata": {
      "needs_background": "light"
     },
     "output_type": "display_data"
    }
   ],
   "source": [
    "plt.figure(figsize=(10,5))\n",
    "plt.plot(grid_200_df.X, grid_200_df.Y, \"+\", markersize=0.5)\n",
    "plt.show()"
   ]
  },
  {
   "cell_type": "markdown",
   "id": "8a6188d2-344e-4268-9b99-15b0d8ae3bf3",
   "metadata": {},
   "source": [
    "Looks like a grid to me.\n",
    "\n",
    "So why would the specified points file be missing some grid points? ... No idea."
   ]
  },
  {
   "cell_type": "code",
   "execution_count": 155,
   "id": "46d7808a-61d6-47b4-93ba-83adb2199f09",
   "metadata": {},
   "outputs": [],
   "source": [
    "X, Y = np.meshgrid(X_coords, Y_coords)\n",
    "X = X.reshape((np.prod(X.shape), ))\n",
    "Y = Y.reshape((np.prod(Y.shape), ))"
   ]
  },
  {
   "cell_type": "code",
   "execution_count": 175,
   "id": "da40e118-6925-4e02-ae0a-7a3dd6d87b03",
   "metadata": {},
   "outputs": [
    {
     "data": {
      "text/plain": [
       "(78561, 2)"
      ]
     },
     "execution_count": 175,
     "metadata": {},
     "output_type": "execute_result"
    }
   ],
   "source": [
    "coords_df = pd.DataFrame({\"X\": X, \"Y\": Y})\n",
    "coords_df.shape"
   ]
  },
  {
   "cell_type": "code",
   "execution_count": 174,
   "id": "3d5eb46e-a716-4a69-99f3-6d72adf961ae",
   "metadata": {},
   "outputs": [
    {
     "data": {
      "image/png": "[encoded data removed]",
      "text/plain": [
       "<Figure size 720x360 with 1 Axes>"
      ]
     },
     "metadata": {
      "needs_background": "light"
     },
     "output_type": "display_data"
    }
   ],
   "source": [
    "plt.figure(figsize=(10,5))\n",
    "plt.plot(coords_df.X, coords_df.Y, \"+\", markersize=0.5)\n",
    "plt.show()"
   ]
  },
  {
   "cell_type": "markdown",
   "id": "175697dc-223e-4025-8922-8c871794bc1c",
   "metadata": {},
   "source": [
    "Now our specified grid points have no gaps."
   ]
  },
  {
   "cell_type": "markdown",
   "id": "4bf75bb4-a4de-4c06-afd4-526873e00dca",
   "metadata": {},
   "source": [
    "Let's make a function for making new grid points."
   ]
  },
  {
   "cell_type": "code",
   "execution_count": 178,
   "id": "1d7a827d-568e-474d-91a8-0870ef34f116",
   "metadata": {},
   "outputs": [],
   "source": [
    "def create_grid_coords(start_X, end_X, start_Y, end_Y, spacing):\n",
    "    X_coords = np.arange(start_X, end_X+1, spacing) # Need to +1 because of the way Python works.\n",
    "    Y_coords = np.arange(start_Y, end_Y+1, spacing) # Ditto.\n",
    "    X, Y = np.meshgrid(X_coords, Y_coords)\n",
    "    X = X.reshape((np.prod(X.shape), ))\n",
    "    Y = Y.reshape((np.prod(Y.shape), ))\n",
    "    return X, Y"
   ]
  },
  {
   "cell_type": "markdown",
   "id": "6972a5f8-9100-44b2-b66e-6c9e0245197e",
   "metadata": {},
   "source": [
    "Let's use it to make a grid with 400 m x 400 m spacing."
   ]
  },
  {
   "cell_type": "code",
   "execution_count": 180,
   "id": "7f0b5dff-0834-4b71-8820-4cb263433046",
   "metadata": {},
   "outputs": [
    {
     "data": {
      "text/plain": [
       "(19781, 2)"
      ]
     },
     "execution_count": 180,
     "metadata": {},
     "output_type": "execute_result"
    }
   ],
   "source": [
    "X, Y = create_grid_coords(start[\"X\"], end[\"X\"], start[\"Y\"], end[\"Y\"], 400)\n",
    "grid_400_df = pd.DataFrame({\"X\": X, \"Y\": Y})\n",
    "grid_400_df.shape"
   ]
  },
  {
   "cell_type": "markdown",
   "id": "d7a37f00-f9a1-4eb2-a93f-748e69b7a756",
   "metadata": {},
   "source": [
    "What does this look like?"
   ]
  },
  {
   "cell_type": "code",
   "execution_count": 181,
   "id": "1c402257-0f71-4952-82ac-f6c16345073b",
   "metadata": {},
   "outputs": [
    {
     "data": {
      "image/png": "[encoded data removed]",
      "text/plain": [
       "<Figure size 720x360 with 1 Axes>"
      ]
     },
     "metadata": {
      "needs_background": "light"
     },
     "output_type": "display_data"
    }
   ],
   "source": [
    "plt.figure(figsize=(10,5))\n",
    "plt.plot(grid_400_df.X, grid_400_df.Y, \"+\", markersize=0.5)\n",
    "plt.show()"
   ]
  },
  {
   "cell_type": "markdown",
   "id": "daa79a84-c7c3-4cb7-a8c8-328a4e2473e7",
   "metadata": {},
   "source": [
    "Now we need to make a file formatted according to the ADMS-Urban .asp requirements."
   ]
  },
  {
   "cell_type": "code",
   "execution_count": 198,
   "id": "3ddb8d57-7f2f-4c1e-a671-cffd868a3c6e",
   "metadata": {},
   "outputs": [],
   "source": [
    "grid_400_df[\"point_name\"] = \"|G|\" + pd.Series(np.arange(0, len(grid_400_df))+1).astype(str).str.zfill(7)\n",
    "grid_400_df[\"Z\"] = 0"
   ]
  },
  {
   "cell_type": "code",
   "execution_count": 205,
   "id": "fc3590a5-3859-4053-bc4f-fac6f78884e7",
   "metadata": {},
   "outputs": [
    {
     "name": "stdout",
     "output_type": "stream",
     "text": [
      "(19781, 4)\n"
     ]
    }
   ],
   "source": [
    "grid_400_df = grid_400_df[[\"point_name\", \"X\", \"Y\", \"Z\"]]\n",
    "print(grid_400_df.shape)"
   ]
  },
  {
   "cell_type": "markdown",
   "id": "8bd73748-eac5-4405-aa26-75d2440b92c3",
   "metadata": {},
   "source": [
    "Great! Let's wrap this in a function."
   ]
  },
  {
   "cell_type": "code",
   "execution_count": 203,
   "id": "b68f7d2e-56ad-43a2-96fb-a09c28dcd4a8",
   "metadata": {},
   "outputs": [],
   "source": [
    "def make_asp_file(start_X, end_X, start_Y, end_Y, spacing, save_folder):\n",
    "    X, Y = create_grid_coords(start_X, end_X, start_Y, end_Y, spacing)\n",
    "    df = pd.DataFrame({\"X\": X, \"Y\": Y})\n",
    "    df[\"point_name\"] = \"|G|\" + pd.Series(np.arange(0, len(df))+1).astype(str).str.zfill(7)\n",
    "    df[\"Z\"] = 0\n",
    "    df = df[[\"point_name\", \"X\", \"Y\", \"Z\"]]\n",
    "    save_path = path.join(save_folder, f\"{len(df)}_gridpoints.asp\")\n",
    "    df.to_csv(save_path)\n",
    "    print(f\"Saved file to {save_path}\")"
   ]
  },
  {
   "cell_type": "markdown",
   "id": "026221ac-5677-4ed6-b6f0-5f3310b5ce49",
   "metadata": {},
   "source": [
    "Now we can generate a new specified points file (.asp) for ADMS-Urban in one line."
   ]
  },
  {
   "cell_type": "code",
   "execution_count": 204,
   "id": "b13672c1-da78-4e76-bd20-73b032d3d5c8",
   "metadata": {},
   "outputs": [
    {
     "name": "stdout",
     "output_type": "stream",
     "text": [
      "Saved file to /home/users/mwlw3/AQmortality/19781_gridpoints.asp\n"
     ]
    }
   ],
   "source": [
    "make_asp_file(start[\"X\"], end[\"X\"], start[\"Y\"], end[\"Y\"], 400, path.abspath(\"\"))"
   ]
  },
  {
   "cell_type": "code",
   "execution_count": null,
   "id": "05fecf39-fa91-493a-b693-c854c5588971",
   "metadata": {},
   "outputs": [],
   "source": []
  }
 ],
 "metadata": {
  "kernelspec": {
   "display_name": "AQmort",
   "language": "python",
   "name": "aqmort"
  },
  "language_info": {
   "codemirror_mode": {
    "name": "ipython",
    "version": 3
   },
   "file_extension": ".py",
   "mimetype": "text/x-python",
   "name": "python",
   "nbconvert_exporter": "python",
   "pygments_lexer": "ipython3",
   "version": "3.9.7"
  }
 },
 "nbformat": 4,
 "nbformat_minor": 5
}
