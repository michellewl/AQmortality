{
 "cells": [
  {
   "cell_type": "markdown",
   "metadata": {},
   "source": [
    "## Creating a Python virtual environment"
   ]
  },
  {
   "cell_type": "markdown",
   "metadata": {},
   "source": [
    "This will enable the installation of non-standard Python packages for use within the Jupyter Notebook only. Code copied from [here](https://github.com/cedadev/ceda-notebooks/blob/master/notebooks/intro/notebook-tour-part-6.ipynb)."
   ]
  },
  {
   "cell_type": "markdown",
   "metadata": {},
   "source": [
    "#### Step 1 – Create a venv\n",
    "Note that these venvs will not work when logged into JASMIN directly via SSH."
   ]
  },
  {
   "cell_type": "code",
   "execution_count": 1,
   "metadata": {},
   "outputs": [],
   "source": [
    "import virtualenv\n",
    "import pip\n",
    "import os\n",
    "\n",
    "# Define and create the base directory install virtual environments\n",
    "venvs_dir = os.path.join(os.path.expanduser(\"~\"), \"nb-venvs\")\n",
    "\n",
    "if not os.path.isdir(venvs_dir):\n",
    "    os.makedirs(venvs_dir)\n",
    "    \n",
    "# Define the venv directory\n",
    "venv_dir = os.path.join(venvs_dir, 'venv-notebook')\n",
    "\n",
    "# Since you only need to create the virtual environment once, check for its existence before trying to create it\n",
    "if not os.path.isdir(venv_dir):\n",
    "    # Create the virtual environment\n",
    "    print(f'[INFO] Creating: virtual env at: {venv_dir}')\n",
    "    virtualenv.create_environment(venv_dir)"
   ]
  },
  {
   "cell_type": "markdown",
   "metadata": {},
   "source": [
    "#### Step 2 – Activate the venv"
   ]
  },
  {
   "cell_type": "code",
   "execution_count": 2,
   "metadata": {},
   "outputs": [],
   "source": [
    "activate_file = os.path.join(venv_dir, \"bin\", \"activate_this.py\")\n",
    "exec(open(activate_file).read(), dict(__file__=activate_file))"
   ]
  },
  {
   "cell_type": "markdown",
   "metadata": {},
   "source": [
    "#### Step 3 – Install new packages"
   ]
  },
  {
   "cell_type": "code",
   "execution_count": 23,
   "metadata": {
    "collapsed": true,
    "jupyter": {
     "outputs_hidden": true,
     "source_hidden": true
    }
   },
   "outputs": [
    {
     "name": "stderr",
     "output_type": "stream",
     "text": [
      "WARNING: pip is being invoked by an old script wrapper. This will fail in a future version of pip.\n",
      "Please see https://github.com/pypa/pip/issues/5599 for advice on fixing the underlying issue.\n",
      "To avoid this problem you can invoke Python with '-m pip' instead of running pip directly.\n"
     ]
    },
    {
     "name": "stdout",
     "output_type": "stream",
     "text": [
      "Requirement already satisfied: xlrd in ./nb-venvs/venv-notebook/lib/python3.7/site-packages (2.0.1)\n"
     ]
    },
    {
     "name": "stderr",
     "output_type": "stream",
     "text": [
      "WARNING: You are using pip version 10.0.1; however, version 21.0.1 is available.\n",
      "You should consider upgrading via the '/opt/jaspy/bin/python -m pip install --upgrade pip' command.\n",
      "WARNING: pip is being invoked by an old script wrapper. This will fail in a future version of pip.\n",
      "Please see https://github.com/pypa/pip/issues/5599 for advice on fixing the underlying issue.\n",
      "To avoid this problem you can invoke Python with '-m pip' instead of running pip directly.\n"
     ]
    },
    {
     "name": "stdout",
     "output_type": "stream",
     "text": [
      "Collecting openpyxl\n",
      "  Using cached openpyxl-3.0.6-py2.py3-none-any.whl (242 kB)\n",
      "Processing ./.cache/pip/wheels/e2/bd/55/048b4fd505716c4c298f42ee02dffd9496bb6d212b266c7f31/et_xmlfile-1.0.1-py3-none-any.whl\n",
      "Collecting jdcal\n",
      "  Using cached jdcal-1.4.1-py2.py3-none-any.whl (9.5 kB)\n",
      "Installing collected packages: et-xmlfile, jdcal, openpyxl\n",
      "Successfully installed et-xmlfile-1.0.1 jdcal-1.4.1 openpyxl-3.0.6\n"
     ]
    },
    {
     "name": "stderr",
     "output_type": "stream",
     "text": [
      "WARNING: You are using pip version 10.0.1; however, version 21.0.1 is available.\n",
      "You should consider upgrading via the '/opt/jaspy/bin/python -m pip install --upgrade pip' command.\n"
     ]
    }
   ],
   "source": [
    "# pip install a package using the venv as a prefix\n",
    "installs = [\"xlrd\", \"openpyxl\"]\n",
    "for package in installs:\n",
    "    pip.main([\"install\", \"--prefix\", venv_dir, package])"
   ]
  },
  {
   "cell_type": "markdown",
   "metadata": {},
   "source": [
    "## Code"
   ]
  },
  {
   "cell_type": "code",
   "execution_count": 3,
   "metadata": {},
   "outputs": [],
   "source": [
    "# Imports\n",
    "\n",
    "from os import path, makedirs, listdir\n",
    "import requests\n",
    "import pandas as pd\n",
    "import zipfile as zpf\n",
    "import matplotlib.pyplot as plt\n",
    "import xlrd\n",
    "from openpyxl import load_workbook"
   ]
  },
  {
   "cell_type": "markdown",
   "metadata": {},
   "source": [
    "Define the HealthData class with various properties and functions."
   ]
  },
  {
   "cell_type": "code",
   "execution_count": 18,
   "metadata": {},
   "outputs": [],
   "source": [
    "# Data class definition\n",
    "\n",
    "class HealthData():\n",
    "    def __init__(self, home_folder, url=False, filename=False):\n",
    "        self.home_folder = home_folder\n",
    "        if url:\n",
    "            self.url = url\n",
    "            self.filename = path.basename(self.url)\n",
    "        elif filename:\n",
    "            self.filename = filename\n",
    "        _, self.extension = path.splitext(self.filename)\n",
    "        self.filepath = path.join(self.home_folder, self.filename)\n",
    "\n",
    "        if not path.exists(self.home_folder):\n",
    "            makedirs(self.home_folder)\n",
    "\n",
    "    def download(self, verbose=True):\n",
    "        request = requests.get(self.url)\n",
    "        file = open(self.filepath, 'wb')\n",
    "        file.write(request.content)\n",
    "        file.close()\n",
    "        if verbose:\n",
    "            print(f\"Saved to {self.filename}\")\n",
    "        if self.extension == \".zip\":\n",
    "            self.zipfiles = zpf.ZipFile(self.filepath).namelist()\n",
    "            if verbose:\n",
    "                print(\"Contains zip files:\")\n",
    "                [print(f\"[{i}] {self.zipfiles[i]}\") for i in range(len(self.zipfiles))]\n",
    "        elif self.extension == \".xls\":\n",
    "            workbook = xlrd.open_workbook(self.filepath)\n",
    "            self.sheets = workbook.sheet_names()\n",
    "            if verbose:\n",
    "                print(f\"Contains xls sheets: {self.sheets}\")\n",
    "        elif self.extension == \".xlsx\":\n",
    "            workbook = load_workbook(self.filepath)\n",
    "            self.sheets = workbook.sheetnames\n",
    "            if verbose:\n",
    "                print(f\"Contains xlsx sheets: {self.sheets}\")\n",
    "                \n",
    "    def unzip(self, file=\"all\", verbose=True):\n",
    "        with zpf.ZipFile(self.filepath, 'r') as zip_ref:\n",
    "            if file ==\"all\":                                       # Extract all zipped files.\n",
    "                zip_ref.extractall(self.home_folder)\n",
    "            else:                                                  # Extract one specified file,\n",
    "                zip_ref.extract(file, self.home_folder)            # then\n",
    "                self.filename = path.basename(file)                # reset the file name, path and extension info.\n",
    "                _, self.extension = path.splitext(self.filename)\n",
    "                self.filepath = path.join(self.home_folder, self.filename)\n",
    "        if verbose:\n",
    "            print(f\"Unzipped {file}.\")\n",
    "\n",
    "    def read_csv(self, verbose=True):\n",
    "        if verbose:\n",
    "            print(f\"Reading {self.filename}...\")\n",
    "        return pd.read_csv(self.filepath)\n",
    "    \n",
    "    def read_xls(self, sheet_name, verbose=True):\n",
    "        if verbose:\n",
    "            print(f\"Reading {self.filename}...\")\n",
    "        if self.extension == \".xls\":\n",
    "            return pd.read_excel(self.filepath, sheet_name)\n",
    "        elif self.extension == \".xlsx\":\n",
    "            workbook = load_workbook(self.filepath)\n",
    "            worksheet = workbook[sheet_name]\n",
    "            return pd.DataFrame(worksheet.values)"
   ]
  },
  {
   "cell_type": "markdown",
   "metadata": {},
   "source": [
    "### Hospital admissions\n",
    "Monthly resolution, England."
   ]
  },
  {
   "cell_type": "code",
   "execution_count": 46,
   "metadata": {
    "jupyter": {
     "source_hidden": true
    }
   },
   "outputs": [],
   "source": [
    "url_health = \"https://files.digital.nhs.uk/5C/1F3B67/HES_M09_2021_OPEN_DATA.zip\"\n",
    "home_folder = path.join(path.abspath(\"\"), \"hosp_admissions_data\")\n",
    "health_data = HealthData(home_folder, url=url_health)"
   ]
  },
  {
   "cell_type": "code",
   "execution_count": 47,
   "metadata": {
    "jupyter": {
     "source_hidden": true
    }
   },
   "outputs": [],
   "source": [
    "health_data.download(verbose=False)"
   ]
  },
  {
   "cell_type": "code",
   "execution_count": 48,
   "metadata": {
    "jupyter": {
     "source_hidden": true
    }
   },
   "outputs": [],
   "source": [
    "file = health_data.zipfiles[1]\n",
    "health_data.unzip(file=file, verbose=False)\n",
    "df = health_data.read_csv(verbose=False)\n",
    "#df.head(3)"
   ]
  },
  {
   "cell_type": "code",
   "execution_count": 49,
   "metadata": {
    "jupyter": {
     "source_hidden": true
    }
   },
   "outputs": [],
   "source": [
    "cols_of_interest = [\"CALENDAR_MONTH_END_DATE\", \"APC_Finished_Consultant\", \"APC_Emergency\", \"Outpatient_Total_Appointments\"]\n",
    "health_df = df[cols_of_interest]"
   ]
  },
  {
   "cell_type": "code",
   "execution_count": 50,
   "metadata": {
    "collapsed": true,
    "jupyter": {
     "outputs_hidden": true,
     "source_hidden": true
    }
   },
   "outputs": [],
   "source": [
    "health_df.set_index(\"CALENDAR_MONTH_END_DATE\", inplace=True)\n",
    "#health_df.head(3)"
   ]
  },
  {
   "cell_type": "code",
   "execution_count": 51,
   "metadata": {
    "collapsed": true,
    "jupyter": {
     "outputs_hidden": true,
     "source_hidden": true
    }
   },
   "outputs": [
    {
     "data": {
      "image/png": "[encoded data removed]",
      "text/plain": [
       "<Figure size 432x288 with 1 Axes>"
      ]
     },
     "metadata": {
      "needs_background": "light"
     },
     "output_type": "display_data"
    }
   ],
   "source": [
    "health_df.plot()\n",
    "plt.show()"
   ]
  },
  {
   "cell_type": "markdown",
   "metadata": {},
   "source": [
    "Figure: England-wide hospital admissions data."
   ]
  },
  {
   "cell_type": "markdown",
   "metadata": {},
   "source": [
    "### Mortality\n",
    "Monthly data across England & Wales; by age, sex, region. Processed to look specifically at London region (all ages, all sexes)."
   ]
  },
  {
   "cell_type": "code",
   "execution_count": 159,
   "metadata": {},
   "outputs": [],
   "source": [
    "home_folder = path.join(path.abspath(\"\"), \"mortality_data\")"
   ]
  },
  {
   "cell_type": "markdown",
   "metadata": {},
   "source": [
    "#### Download & process the mortality data"
   ]
  },
  {
   "cell_type": "markdown",
   "metadata": {},
   "source": [
    "Perks of using Excel files from the Office for National Statistics..."
   ]
  },
  {
   "cell_type": "code",
   "execution_count": 160,
   "metadata": {},
   "outputs": [],
   "source": [
    "urls = {2021:\"https://www.ons.gov.uk/file?uri=/peoplepopulationandcommunity/birthsdeathsandmarriages/deaths/datasets/weeklyprovisionalfiguresondeathsregisteredinenglandandwales/2021/publishedweek07202101032021165557.xlsx\",\n",
    "       2020:\"https://www.ons.gov.uk/file?uri=/peoplepopulationandcommunity/birthsdeathsandmarriages/deaths/datasets/weeklyprovisionalfiguresondeathsregisteredinenglandandwales/2020/publishedweek532020.xlsx\",\n",
    "       2019:\"https://www.ons.gov.uk/file?uri=/peoplepopulationandcommunity/birthsdeathsandmarriages/deaths/datasets/weeklyprovisionalfiguresondeathsregisteredinenglandandwales/2019/publishedweek522019.xls\",\n",
    "       2018:\"https://www.ons.gov.uk/file?uri=/peoplepopulationandcommunity/birthsdeathsandmarriages/deaths/datasets/weeklyprovisionalfiguresondeathsregisteredinenglandandwales/2018/publishedweek522018withupdatedrespiratoryrow.xls\",\n",
    "       2017:\"https://www.ons.gov.uk/file?uri=/peoplepopulationandcommunity/birthsdeathsandmarriages/deaths/datasets/weeklyprovisionalfiguresondeathsregisteredinenglandandwales/2017/publishedweek522017.xls\",\n",
    "       2016:\"https://www.ons.gov.uk/file?uri=/peoplepopulationandcommunity/birthsdeathsandmarriages/deaths/datasets/weeklyprovisionalfiguresondeathsregisteredinenglandandwales/2016/publishedweek522016.xls\",\n",
    "       2015:\"https://www.ons.gov.uk/file?uri=/peoplepopulationandcommunity/birthsdeathsandmarriages/deaths/datasets/weeklyprovisionalfiguresondeathsregisteredinenglandandwales/2015/publishedweek2015.xls\",\n",
    "       2014:\"https://www.ons.gov.uk/file?uri=/peoplepopulationandcommunity/birthsdeathsandmarriages/deaths/datasets/weeklyprovisionalfiguresondeathsregisteredinenglandandwales/2014/publishedweek2014.xls\",\n",
    "       2013:\"https://www.ons.gov.uk/file?uri=/peoplepopulationandcommunity/birthsdeathsandmarriages/deaths/datasets/weeklyprovisionalfiguresondeathsregisteredinenglandandwales/2013/publishedweek2013.xls\",\n",
    "       2012:\"https://www.ons.gov.uk/file?uri=/peoplepopulationandcommunity/birthsdeathsandmarriages/deaths/datasets/weeklyprovisionalfiguresondeathsregisteredinenglandandwales/2012/publishedweek2012.xls\",\n",
    "       2011:\"https://www.ons.gov.uk/file?uri=/peoplepopulationandcommunity/birthsdeathsandmarriages/deaths/datasets/weeklyprovisionalfiguresondeathsregisteredinenglandandwales/2011/publishedweek2011.xls\",\n",
    "       2010:\"https://www.ons.gov.uk/file?uri=/peoplepopulationandcommunity/birthsdeathsandmarriages/deaths/datasets/weeklyprovisionalfiguresondeathsregisteredinenglandandwales/2010/publishedweek2010.xls\"\n",
    "       }\n",
    "\n",
    "sheet_names = {2021:f\"Weekly figures 2021\",\n",
    "            2020:f\"Weekly figures 2020\",\n",
    "            2019:f\"Weekly figures 2019\",\n",
    "            2018:f\"Weekly figures 2018\",\n",
    "            2017:f\"Weekly figures 2017\",\n",
    "            2016:f\"Weekly figures 2016\",\n",
    "            2015:f\"Weekly Figures 2015\",\n",
    "            2014:f\"Weekly Figures 2014\",\n",
    "            2013:f\"Weekly Figures 2013\",\n",
    "            2012:f\"Weekly Figures 2012\",\n",
    "            2011:f\"Weekly Figures 2011\",\n",
    "            2010:f\"Weekly Figures 2010\"}\n",
    "\n",
    "row_indices = {2021:[5, 88],\n",
    "              2020:[5, 92],\n",
    "              2019:[3, 47],\n",
    "              2018:[3, 47],\n",
    "              2017:[3, 47],\n",
    "              2016:[3, 47],\n",
    "              2015:[3, 47],\n",
    "              2014:[2, 47],\n",
    "              2013:[3, 47],\n",
    "              2012:[3, 47],\n",
    "              2011:[3, 48],\n",
    "              2010:[3, 47]}"
   ]
  },
  {
   "cell_type": "code",
   "execution_count": 161,
   "metadata": {},
   "outputs": [
    {
     "name": "stdout",
     "output_type": "stream",
     "text": [
      "2010 done...\n",
      "2011 done...\n",
      "2012 done...\n",
      "2013 done...\n",
      "2014 done...\n",
      "2015 done...\n",
      "2016 done...\n",
      "2017 done...\n",
      "2018 done...\n",
      "2019 done...\n",
      "2020 done...\n",
      "2021 done...\n"
     ]
    }
   ],
   "source": [
    "mortality_df = pd.DataFrame()\n",
    "\n",
    "for year in range(2010, 2022):\n",
    "    mortality_annual = HealthData(home_folder, url=urls[year])\n",
    "    mortality_annual.download(verbose=False)\n",
    "    df = mortality_annual.read_xls(sheet_names[year], verbose=False)\n",
    "    rows = row_indices[year]\n",
    "    annual_df = df.loc[rows]\n",
    "    annual_df = annual_df.T.dropna().rename(columns={rows[0]:\"date\", rows[1]:\"weekly_deaths\"}).reset_index(drop=True).drop([0]).set_index(\"date\")\n",
    "    annual_df.index = pd.to_datetime(annual_df.index)\n",
    "    if mortality_df.empty:\n",
    "        mortality_df = annual_df.copy()\n",
    "    else:\n",
    "        mortality_df = mortality_df.append(annual_df.copy())\n",
    "    print(f\"{year} done...\")\n",
    "    \n",
    "mortality_df.to_csv(path.join(home_folder, \"weekly_mortality_London.csv\"))"
   ]
  },
  {
   "cell_type": "markdown",
   "metadata": {},
   "source": [
    "#### Load the processed data from .csv file"
   ]
  },
  {
   "cell_type": "code",
   "execution_count": 162,
   "metadata": {},
   "outputs": [
    {
     "name": "stdout",
     "output_type": "stream",
     "text": [
      "Reading weekly_mortality_London.csv...\n"
     ]
    },
    {
     "data": {
      "text/html": [
       "<div>\n",
       "<style scoped>\n",
       "    .dataframe tbody tr th:only-of-type {\n",
       "        vertical-align: middle;\n",
       "    }\n",
       "\n",
       "    .dataframe tbody tr th {\n",
       "        vertical-align: top;\n",
       "    }\n",
       "\n",
       "    .dataframe thead th {\n",
       "        text-align: right;\n",
       "    }\n",
       "</style>\n",
       "<table border=\"1\" class=\"dataframe\">\n",
       "  <thead>\n",
       "    <tr style=\"text-align: right;\">\n",
       "      <th></th>\n",
       "      <th>weekly_deaths</th>\n",
       "    </tr>\n",
       "    <tr>\n",
       "      <th>date</th>\n",
       "      <th></th>\n",
       "    </tr>\n",
       "  </thead>\n",
       "  <tbody>\n",
       "    <tr>\n",
       "      <th>2010-01-08</th>\n",
       "      <td>1226</td>\n",
       "    </tr>\n",
       "    <tr>\n",
       "      <th>2010-01-15</th>\n",
       "      <td>1262</td>\n",
       "    </tr>\n",
       "    <tr>\n",
       "      <th>2010-01-22</th>\n",
       "      <td>1186</td>\n",
       "    </tr>\n",
       "    <tr>\n",
       "      <th>2010-01-29</th>\n",
       "      <td>1093</td>\n",
       "    </tr>\n",
       "    <tr>\n",
       "      <th>2010-02-05</th>\n",
       "      <td>1035</td>\n",
       "    </tr>\n",
       "  </tbody>\n",
       "</table>\n",
       "</div>"
      ],
      "text/plain": [
       "            weekly_deaths\n",
       "date                     \n",
       "2010-01-08           1226\n",
       "2010-01-15           1262\n",
       "2010-01-22           1186\n",
       "2010-01-29           1093\n",
       "2010-02-05           1035"
      ]
     },
     "execution_count": 162,
     "metadata": {},
     "output_type": "execute_result"
    }
   ],
   "source": [
    "mortality_annual = HealthData(home_folder, filename=\"weekly_mortality_London.csv\")\n",
    "mortality_df = mortality_annual.read_csv().set_index(\"date\")\n",
    "mortality_df.index = pd.to_datetime(mortality_df.index)\n",
    "mortality_df.head()"
   ]
  },
  {
   "cell_type": "markdown",
   "metadata": {},
   "source": [
    "#### Plot the dataframe"
   ]
  },
  {
   "cell_type": "code",
   "execution_count": 163,
   "metadata": {},
   "outputs": [
    {
     "data": {
      "image/png": "[encoded data removed]",
      "text/plain": [
       "<Figure size 432x288 with 1 Axes>"
      ]
     },
     "metadata": {
      "needs_background": "light"
     },
     "output_type": "display_data"
    }
   ],
   "source": [
    "mortality_df.plot(legend=False, title=\"London\").set_ylabel(\"weekly deaths\")\n",
    "plt.show()"
   ]
  },
  {
   "cell_type": "markdown",
   "metadata": {},
   "source": [
    "### Population data"
   ]
  },
  {
   "cell_type": "code",
   "execution_count": 164,
   "metadata": {},
   "outputs": [],
   "source": [
    "home_folder = path.join(path.abspath(\"\"), \"population_data\")"
   ]
  },
  {
   "cell_type": "markdown",
   "metadata": {},
   "source": [
    "#### Download & process the population data"
   ]
  },
  {
   "cell_type": "code",
   "execution_count": 165,
   "metadata": {},
   "outputs": [
    {
     "name": "stdout",
     "output_type": "stream",
     "text": [
      "Saved to regionalpopestimatesforenglandandwales19712019.xlsx\n",
      "Contains xlsx sheets: ['Contents', 'Terms and conditions', 'Notes and definitions', 'Table 1', 'Table 2', 'Table 3', 'Table 4', 'Related publications']\n"
     ]
    }
   ],
   "source": [
    "url = \"https://www.ons.gov.uk/file?uri=/peoplepopulationandcommunity/populationandmigration/populationestimates/datasets/populationestimatesforukenglandandwalesscotlandandnorthernireland/mid2001tomid2019detailedtimeseries/regionalpopestimatesforenglandandwales19712019.xlsx\"\n",
    "pop_data = HealthData(home_folder, url=url)\n",
    "pop_data.download()"
   ]
  },
  {
   "cell_type": "code",
   "execution_count": 166,
   "metadata": {},
   "outputs": [],
   "source": [
    "population_df = pd.DataFrame()\n",
    "\n",
    "for sheet in [\"Table 3\", \"Table 4\"]:\n",
    "    df = pop_data.read_xls(sheet, verbose=False)\n",
    "    df = df.loc[df[0].apply(lambda x: isinstance(x, int))].reset_index(drop=True)[[0]].rename(columns={0:\"date\"}).join(df.loc[df[1]==\"London\"].reset_index(drop=True)[[2]].rename(columns={2:\"total_population\"})).set_index(\"date\")\n",
    "    df.index = pd.to_datetime(df.index, format=\"%Y\") + pd.tseries.offsets.DateOffset(months=6) # Set these as mid-year estimates\n",
    "    if population_df.empty:\n",
    "        population_df = df.copy()\n",
    "    else:\n",
    "        population_df = population_df.append(df.copy())\n",
    "        \n",
    "population_df.to_csv(path.join(home_folder, \"annual_population_London.csv\"))"
   ]
  },
  {
   "cell_type": "markdown",
   "metadata": {},
   "source": [
    "#### Load the processed data from .csv file"
   ]
  },
  {
   "cell_type": "code",
   "execution_count": 167,
   "metadata": {},
   "outputs": [
    {
     "name": "stdout",
     "output_type": "stream",
     "text": [
      "Reading annual_population_London.csv...\n"
     ]
    },
    {
     "data": {
      "text/html": [
       "<div>\n",
       "<style scoped>\n",
       "    .dataframe tbody tr th:only-of-type {\n",
       "        vertical-align: middle;\n",
       "    }\n",
       "\n",
       "    .dataframe tbody tr th {\n",
       "        vertical-align: top;\n",
       "    }\n",
       "\n",
       "    .dataframe thead th {\n",
       "        text-align: right;\n",
       "    }\n",
       "</style>\n",
       "<table border=\"1\" class=\"dataframe\">\n",
       "  <thead>\n",
       "    <tr style=\"text-align: right;\">\n",
       "      <th></th>\n",
       "      <th>total_population</th>\n",
       "    </tr>\n",
       "    <tr>\n",
       "      <th>date</th>\n",
       "      <th></th>\n",
       "    </tr>\n",
       "  </thead>\n",
       "  <tbody>\n",
       "    <tr>\n",
       "      <th>1981-07-01</th>\n",
       "      <td>6805000</td>\n",
       "    </tr>\n",
       "    <tr>\n",
       "      <th>1982-07-01</th>\n",
       "      <td>6765084</td>\n",
       "    </tr>\n",
       "    <tr>\n",
       "      <th>1983-07-01</th>\n",
       "      <td>6752989</td>\n",
       "    </tr>\n",
       "  </tbody>\n",
       "</table>\n",
       "</div>"
      ],
      "text/plain": [
       "            total_population\n",
       "date                        \n",
       "1981-07-01           6805000\n",
       "1982-07-01           6765084\n",
       "1983-07-01           6752989"
      ]
     },
     "execution_count": 167,
     "metadata": {},
     "output_type": "execute_result"
    }
   ],
   "source": [
    "pop_data = HealthData(home_folder, filename=\"annual_population_London.csv\")\n",
    "population_df = pop_data.read_csv().set_index(\"date\")\n",
    "population_df.index = pd.to_datetime(population_df.index)\n",
    "population_df.head(3)"
   ]
  },
  {
   "cell_type": "markdown",
   "metadata": {},
   "source": [
    "#### Plot the dataframe"
   ]
  },
  {
   "cell_type": "code",
   "execution_count": 168,
   "metadata": {},
   "outputs": [
    {
     "data": {
      "image/png": "[encoded data removed]",
      "text/plain": [
       "<Figure size 432x288 with 1 Axes>"
      ]
     },
     "metadata": {
      "needs_background": "light"
     },
     "output_type": "display_data"
    }
   ],
   "source": [
    "population_df.plot(legend=False, title=\"London\").set_ylabel(\"annual population\")\n",
    "plt.show()"
   ]
  },
  {
   "cell_type": "markdown",
   "metadata": {},
   "source": [
    "#### Interpolation of annual data"
   ]
  },
  {
   "cell_type": "code",
   "execution_count": 152,
   "metadata": {},
   "outputs": [],
   "source": [
    "step_df = population_df.resample(\"D\").asfreq().fillna(method=\"ffill\")\n",
    "linear_df = population_df.resample(\"D\").asfreq().interpolate(method=\"linear\")"
   ]
  },
  {
   "cell_type": "code",
   "execution_count": 156,
   "metadata": {},
   "outputs": [
    {
     "data": {
      "image/png": "[encoded data removed]",
      "text/plain": [
       "<Figure size 432x288 with 1 Axes>"
      ]
     },
     "metadata": {
      "needs_background": "light"
     },
     "output_type": "display_data"
    },
    {
     "data": {
      "image/png": "[encoded data removed]",
      "text/plain": [
       "<Figure size 432x288 with 1 Axes>"
      ]
     },
     "metadata": {
      "needs_background": "light"
     },
     "output_type": "display_data"
    }
   ],
   "source": [
    "step_df.plot(legend=False, title=\"London annual population (mid-year step change)\").set_ylabel(\"population\")\n",
    "linear_df.plot(legend=False, title=\"London daily population (interpolation)\").set_ylabel(\"population\")\n",
    "plt.show()"
   ]
  },
  {
   "cell_type": "markdown",
   "metadata": {},
   "source": [
    "### Calculating deaths as a fraction of population"
   ]
  },
  {
   "cell_type": "code",
   "execution_count": 175,
   "metadata": {},
   "outputs": [
    {
     "data": {
      "image/png": "[encoded data removed]",
      "text/plain": [
       "<Figure size 432x288 with 1 Axes>"
      ]
     },
     "metadata": {
      "needs_background": "light"
     },
     "output_type": "display_data"
    }
   ],
   "source": [
    "df = linear_df.join(mortality_df).dropna()\n",
    "df[\"death_fraction\"] = df[\"weekly_deaths\"]/df[\"total_population\"]\n",
    "df[\"death_fraction\"].plot(legend=False, title=\"London weekly deaths\").set_ylabel(\"mortality per capita\")\n",
    "plt.show()"
   ]
  },
  {
   "cell_type": "code",
   "execution_count": null,
   "metadata": {},
   "outputs": [],
   "source": []
  }
 ],
 "metadata": {
  "kernelspec": {
   "display_name": "Python 3 + Jaspy",
   "language": "python",
   "name": "jaspy"
  },
  "language_info": {
   "codemirror_mode": {
    "name": "ipython",
    "version": 3
   },
   "file_extension": ".py",
   "mimetype": "text/x-python",
   "name": "python",
   "nbconvert_exporter": "python",
   "pygments_lexer": "ipython3",
   "version": "3.7.1"
  }
 },
 "nbformat": 4,
 "nbformat_minor": 4
}
