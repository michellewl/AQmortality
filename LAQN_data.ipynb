{
 "cells": [
  {
   "cell_type": "markdown",
   "metadata": {},
   "source": [
    "## conda environments"
   ]
  },
  {
   "cell_type": "markdown",
   "metadata": {},
   "source": [
    "When accessing this notebook via the JASMIN Jupyter Notebook service, select the correct conda environment from the list of available kernels."
   ]
  },
  {
   "cell_type": "markdown",
   "metadata": {},
   "source": [
    "## Imports"
   ]
  },
  {
   "cell_type": "code",
   "execution_count": 8,
   "metadata": {},
   "outputs": [],
   "source": [
    "import pandas as pd\n",
    "from os import path\n",
    "#from data_classes import LAQNData\n",
    "import requests\n",
    "from tqdm import tqdm\n",
    "import numpy as np\n",
    "import wandb"
   ]
  },
  {
   "cell_type": "markdown",
   "metadata": {},
   "source": [
    "## Code"
   ]
  },
  {
   "cell_type": "code",
   "execution_count": 26,
   "metadata": {},
   "outputs": [],
   "source": [
    "class LAQNData():\n",
    "    def __init__(self, url, home_folder, species, start_date, end_date):\n",
    "        self.url = url\n",
    "        self.home_folder = home_folder\n",
    "        self.species = species\n",
    "        self.start_date = start_date\n",
    "        self.end_date = end_date\n",
    "        self.filename = f\"{self.species}_hourly_{self.start_date}_{self.end_date}.csv\"\n",
    "        self.filepath = path.join(self.home_folder, self.filename)\n",
    "        \n",
    "        if not path.exists(self.home_folder):\n",
    "            makedirs(self.home_folder)\n",
    "        \n",
    "        london_sites = requests.get(self.url)\n",
    "        self.sites_df = pd.DataFrame(london_sites.json()['Sites']['Site'])\n",
    "        self.site_codes = self.sites_df[\"@SiteCode\"].tolist()\n",
    "\n",
    "    def download(self, verbose=True):\n",
    "        laqn_df = pd.DataFrame()\n",
    "        \n",
    "        if verbose:\n",
    "            progress_bar = tqdm(self.site_codes)\n",
    "        else:\n",
    "            progress_bar = self.site_codes\n",
    "            \n",
    "        for site_code in progress_bar:\n",
    "            if verbose:\n",
    "                progress_bar.set_description(f'Working on site {site_code}')\n",
    "            url_species = f\"http://api.erg.kcl.ac.uk/AirQuality/Data/SiteSpecies/SiteCode={site_code}/SpeciesCode={self.species}/StartDate={self.start_date}/EndDate={self.end_date}/csv\"\n",
    "            cur_df = pd.read_csv(url_species)\n",
    "            cur_df.columns = [\"date\", site_code]\n",
    "            cur_df.set_index(\"date\", drop=True, inplace=True)\n",
    "\n",
    "            try:\n",
    "                if laqn_df.empty:\n",
    "                    laqn_df = cur_df.copy()\n",
    "                else:\n",
    "                    laqn_df = laqn_df.join(cur_df.copy(), how=\"outer\")\n",
    "\n",
    "            except ValueError:  # Trying to join with duplicate column names\n",
    "                rename_dict = {}\n",
    "                for x in list(set(cur_df.columns).intersection(laqn_df.columns)):\n",
    "                    rename_dict.update({x: f\"{x}_\"})\n",
    "                    print(f\"Renamed duplicated column:\\n{rename_dict}\")\n",
    "                laqn_df.rename(mapper=rename_dict, axis=\"columns\", inplace=True)\n",
    "                if laqn_df.empty:\n",
    "                    laqn_df = cur_df.copy()\n",
    "                else:\n",
    "                    laqn_df = laqn_df.join(cur_df.copy(), how=\"outer\")\n",
    "                if verbose:\n",
    "                    print(f\"Joined.\")\n",
    "\n",
    "            except KeyError:  # Trying to join along indexes that don't match\n",
    "                print(f\"Troubleshooting {site_code}...\")\n",
    "                cur_df.index = cur_df.index + \":00\"\n",
    "                if laqn_df.empty:\n",
    "                    laqn_df = cur_df.copy()\n",
    "                else:\n",
    "                    laqn_df = laqn_df.join(cur_df.copy(), how=\"outer\")\n",
    "                print(f\"{site_code} joined.\")\n",
    "\n",
    "        #print(\"Data download complete. Removing sites with 0 data...\")\n",
    "        laqn_df.dropna(axis=\"columns\", how=\"all\", inplace=True)\n",
    "        #laqn_df.to_csv(path.join(self.home_folder, self.filename))\n",
    "        #print(\"Data saved.\")\n",
    "        return laqn_df\n",
    "        \n",
    "    def download_and_log(self):\n",
    "        with wandb.init(project=\"AQmortality\", job_type=\"load-data\") as run:\n",
    "            df = self.download()\n",
    "            columns = df.columns.to_list()\n",
    "\n",
    "            raw_data = wandb.Artifact(\n",
    "                \"laqn-raw\", type=\"dataset\",\n",
    "                description=f\"Raw LAQN {self.species} data from {self.start_date} to {self.end_date}, split according to site codes.\",\n",
    "                metadata={\"source\":self.url,\n",
    "                         \"shapes\":[df[column].shape for column in columns],\n",
    "                         \"columns\":columns})\n",
    "\n",
    "            for column in columns:\n",
    "                with raw_data.new_file(column + \".npz\", mode=\"wb\") as file:\n",
    "                        np.savez(file, x=df.index, y=df[column].values)\n",
    "\n",
    "            run.log_artifact(raw_data)\n",
    "\n",
    "    def read_csv(self, verbose=True, index_col=\"date\", parse_dates=True):\n",
    "        if verbose:\n",
    "            print(f\"Reading {self.filename}...\")\n",
    "        return pd.read_csv(self.filepath, index_col=index_col, parse_dates=parse_dates)\n",
    "    \n",
    "    def read(self, sites):\n",
    "        with wandb.init(project=\"AQmortality\", job_type=\"read-data\") as run:\n",
    "            raw_data_artifact = run.use_artifact('laqn-raw:latest')\n",
    "            data_folder = raw_data_artifact.download()\n",
    "            df = pd.DataFrame()\n",
    "            empty_sites = []\n",
    "            for site in sites:\n",
    "                filepath = path.join(data_folder, f\"{site}.npz\")\n",
    "                try:\n",
    "                    data = np.load(filepath, allow_pickle=True)\n",
    "                except FileNotFoundError:\n",
    "                    empty_sites.append(site)\n",
    "                if df.empty:\n",
    "                    df = pd.DataFrame(index=pd.DatetimeIndex(data[\"x\"]), data=data[\"y\"], columns=[site])\n",
    "                else:\n",
    "                    df = df.join(pd.DataFrame(index=pd.DatetimeIndex(data[\"x\"]), data=data[\"y\"], columns=[site]))\n",
    "            empty_sites = \", \".join(empty_sites)\n",
    "            print(f\"No data for site codes: {empty_sites}\")\n",
    "        return df\n",
    "    \n",
    "    def resample_time(self, df, key, quantile_step, verbose=True):\n",
    "        if key == \"D\":\n",
    "            keyword = \"daily\"\n",
    "        if key == \"W\":\n",
    "            keyword = \"weekly\"\n",
    "\n",
    "        save_folder = path.join(self.home_folder, keyword)\n",
    "        if not path.exists(save_folder):\n",
    "            makedirs(save_folder)\n",
    "\n",
    "        aggregation = np.round(np.arange(0, 1 + quantile_step, quantile_step), 2).tolist()\n",
    "\n",
    "        for method in aggregation:\n",
    "            aggregated_df = df.copy().resample(key).quantile(method)\n",
    "            method = f\"{int(method * 100)}th_quantile\"\n",
    "            aggregated_df.to_csv(path.join(save_folder, f\"{self.species}_{keyword}_{method}.csv\"), index=True)\n",
    "            if verbose:\n",
    "                print(f\"Dataframe shape {aggregated_df.shape}\")\n",
    "        if verbose:\n",
    "            print(\"Done.\")\n",
    "        \n",
    "    def resample_time_and_log(self, date_index):\n",
    "        \n",
    "        with wandb.init(project=\"AQmortality\", job_type=\"resample-data\") as run:\n",
    "            raw_data_artifact = run.use_artifact('laqn-raw:latest')\n",
    "            data_folder = raw_data_artifact.download()\n",
    "            df = pd.DataFrame()\n",
    "            for site in sites:\n",
    "                filepath = path.join(data_folder, f\"{site}.npz\")\n",
    "                try:\n",
    "                    data = np.load(filepath, allow_pickle=True)\n",
    "                except FileNotFoundError:\n",
    "                    continue\n",
    "                if df.empty:\n",
    "                    df = pd.DataFrame(index=pd.DatetimeIndex(data[\"x\"]), data=data[\"y\"], columns=[site])\n",
    "                else:\n",
    "                    df = df.join(pd.DataFrame(index=pd.DatetimeIndex(data[\"x\"]), data=data[\"y\"], columns=[site]))\n",
    "\n",
    "            df = df.loc[df.index < date_index.max()]\n",
    "            df = df.loc[df.index > date_index.min()]\n",
    "            resampled_df = df.groupby(date_index[date_index.searchsorted(df.index)]).mean()\n",
    "            columns = resampled_df.columns.to_list()\n",
    "            resample_data = wandb.Artifact(\n",
    "                \"laqn-resample\", type=\"dataset\",\n",
    "                description=f\"Resampled LAQN {self.species} data from {self.start_date} to {self.end_date}, split according to site codes.\",\n",
    "                metadata={\"source\":self.url,\n",
    "                         \"shapes\":[resampled_df[column].shape for column in columns],\n",
    "                         \"sites\":columns},\n",
    "                        \"species\":self.species,\n",
    "                        \"start_date\":self.start_date,\n",
    "                        \"end_date\":self.end_date)\n",
    "            for column in columns:\n",
    "                with resample_data.new_file(column + \".npz\", mode=\"wb\") as file:\n",
    "                        np.savez(file, x=df.index, y=resampled_df[column].values)\n",
    "\n",
    "            run.log_artifact(resample_data)"
   ]
  },
  {
   "cell_type": "code",
   "execution_count": 18,
   "metadata": {},
   "outputs": [],
   "source": [
    "home_folder = path.join(path.abspath(\"\"), \"LAQN_data\")\n",
    "species = \"NO2\"\n",
    "url = \"http://api.erg.kcl.ac.uk/AirQuality/Information/MonitoringSites/GroupName=London/Json\"\n",
    "start_date = \"2000-01-01\"\n",
    "end_date = \"2021-01-01\""
   ]
  },
  {
   "cell_type": "code",
   "execution_count": 27,
   "metadata": {},
   "outputs": [],
   "source": [
    "NO2_hourly = LAQNData(url, home_folder, species, start_date, end_date)"
   ]
  },
  {
   "cell_type": "code",
   "execution_count": 20,
   "metadata": {},
   "outputs": [
    {
     "name": "stdout",
     "output_type": "stream",
     "text": [
      "236\n"
     ]
    }
   ],
   "source": [
    "print(len(NO2_hourly.site_codes))"
   ]
  },
  {
   "cell_type": "markdown",
   "metadata": {},
   "source": [
    "### Download the LAQN NO$_2$ data"
   ]
  },
  {
   "cell_type": "code",
   "execution_count": 13,
   "metadata": {},
   "outputs": [
    {
     "name": "stderr",
     "output_type": "stream",
     "text": [
      "Failed to detect the name of this notebook, you can set it manually with the WANDB_NOTEBOOK_NAME environment variable to enable code saving.\n",
      "\u001b[34m\u001b[1mwandb\u001b[0m: Currently logged in as: \u001b[33mmichellewl\u001b[0m (use `wandb login --relogin` to force relogin)\n",
      "\u001b[34m\u001b[1mwandb\u001b[0m: wandb version 0.10.30 is available!  To upgrade, please run:\n",
      "\u001b[34m\u001b[1mwandb\u001b[0m:  $ pip install wandb --upgrade\n"
     ]
    },
    {
     "data": {
      "text/html": [
       "\n",
       "                Tracking run with wandb version 0.10.29<br/>\n",
       "                Syncing run <strong style=\"color:#cdcd00\">devout-waterfall-22</strong> to <a href=\"https://wandb.ai\" target=\"_blank\">Weights & Biases</a> <a href=\"https://docs.wandb.com/integrations/jupyter.html\" target=\"_blank\">(Documentation)</a>.<br/>\n",
       "                Project page: <a href=\"https://wandb.ai/michellewl/AQmortality\" target=\"_blank\">https://wandb.ai/michellewl/AQmortality</a><br/>\n",
       "                Run page: <a href=\"https://wandb.ai/michellewl/AQmortality/runs/3n90x2w2\" target=\"_blank\">https://wandb.ai/michellewl/AQmortality/runs/3n90x2w2</a><br/>\n",
       "                Run data is saved locally in <code>/home/users/mwlw3/AQmortality/wandb/run-20210513_162422-3n90x2w2</code><br/><br/>\n",
       "            "
      ],
      "text/plain": [
       "<IPython.core.display.HTML object>"
      ]
     },
     "metadata": {},
     "output_type": "display_data"
    },
    {
     "name": "stderr",
     "output_type": "stream",
     "text": [
      "Working on site VS1: 100%|██████████| 236/236 [30:19<00:00,  7.71s/it] \n"
     ]
    },
    {
     "data": {
      "text/html": [
       "<br/>Waiting for W&B process to finish, PID 1174<br/>Program ended successfully."
      ],
      "text/plain": [
       "<IPython.core.display.HTML object>"
      ]
     },
     "metadata": {},
     "output_type": "display_data"
    },
    {
     "data": {
      "application/vnd.jupyter.widget-view+json": {
       "model_id": "4b163e85ada84cf0975c25a9be0ace2c",
       "version_major": 2,
       "version_minor": 0
      },
      "text/plain": [
       "VBox(children=(Label(value=' 1146.22MB of 1146.22MB uploaded (0.00MB deduped)\\r'), FloatProgress(value=1.0, ma…"
      ]
     },
     "metadata": {},
     "output_type": "display_data"
    },
    {
     "data": {
      "text/html": [
       "Find user logs for this run at: <code>/home/users/mwlw3/AQmortality/wandb/run-20210513_162422-3n90x2w2/logs/debug.log</code>"
      ],
      "text/plain": [
       "<IPython.core.display.HTML object>"
      ]
     },
     "metadata": {},
     "output_type": "display_data"
    },
    {
     "data": {
      "text/html": [
       "Find internal logs for this run at: <code>/home/users/mwlw3/AQmortality/wandb/run-20210513_162422-3n90x2w2/logs/debug-internal.log</code>"
      ],
      "text/plain": [
       "<IPython.core.display.HTML object>"
      ]
     },
     "metadata": {},
     "output_type": "display_data"
    },
    {
     "data": {
      "text/html": [
       "Synced 6 W&B file(s), 0 media file(s), 192 artifact file(s) and 0 other file(s)"
      ],
      "text/plain": [
       "<IPython.core.display.HTML object>"
      ]
     },
     "metadata": {},
     "output_type": "display_data"
    },
    {
     "data": {
      "text/html": [
       "\n",
       "                    <br/>Synced <strong style=\"color:#cdcd00\">devout-waterfall-22</strong>: <a href=\"https://wandb.ai/michellewl/AQmortality/runs/3n90x2w2\" target=\"_blank\">https://wandb.ai/michellewl/AQmortality/runs/3n90x2w2</a><br/>\n",
       "                "
      ],
      "text/plain": [
       "<IPython.core.display.HTML object>"
      ]
     },
     "metadata": {},
     "output_type": "display_data"
    }
   ],
   "source": [
    "#NO2_hourly.download()\n",
    "NO2_hourly.download_and_log()"
   ]
  },
  {
   "cell_type": "markdown",
   "metadata": {},
   "source": [
    "### Load the NO$_2$ data and aggregate to weekly time steps"
   ]
  },
  {
   "cell_type": "code",
   "execution_count": 28,
   "metadata": {},
   "outputs": [
    {
     "name": "stderr",
     "output_type": "stream",
     "text": [
      "\u001b[34m\u001b[1mwandb\u001b[0m: wandb version 0.10.30 is available!  To upgrade, please run:\n",
      "\u001b[34m\u001b[1mwandb\u001b[0m:  $ pip install wandb --upgrade\n"
     ]
    },
    {
     "data": {
      "text/html": [
       "\n",
       "                Tracking run with wandb version 0.10.29<br/>\n",
       "                Syncing run <strong style=\"color:#cdcd00\">glad-dawn-25</strong> to <a href=\"https://wandb.ai\" target=\"_blank\">Weights & Biases</a> <a href=\"https://docs.wandb.com/integrations/jupyter.html\" target=\"_blank\">(Documentation)</a>.<br/>\n",
       "                Project page: <a href=\"https://wandb.ai/michellewl/AQmortality\" target=\"_blank\">https://wandb.ai/michellewl/AQmortality</a><br/>\n",
       "                Run page: <a href=\"https://wandb.ai/michellewl/AQmortality/runs/2gqpvn7e\" target=\"_blank\">https://wandb.ai/michellewl/AQmortality/runs/2gqpvn7e</a><br/>\n",
       "                Run data is saved locally in <code>/home/users/mwlw3/AQmortality/wandb/run-20210513_170517-2gqpvn7e</code><br/><br/>\n",
       "            "
      ],
      "text/plain": [
       "<IPython.core.display.HTML object>"
      ]
     },
     "metadata": {},
     "output_type": "display_data"
    },
    {
     "name": "stderr",
     "output_type": "stream",
     "text": [
      "\u001b[34m\u001b[1mwandb\u001b[0m: Downloading large artifact laqn-raw:latest, 1146.21MB. 192 files... Done. 0:0:0\n"
     ]
    },
    {
     "name": "stdout",
     "output_type": "stream",
     "text": [
      "No data for site codes: BX0, BQ8, BQ6, BQ5, BX9, BQ9, BX6, BX3, BQ3, BQ4, BQ2, BQ1, BY5, BY1, BY4, KX4, CT8, CR8, CR3, EG1, EA0, EI0, EI8, EI7, GB0, HV2, HS3, IS5, IS4, KC7, KF1, KT1, LW3, TD5, ME5, ME6, ME2, AZ99, SK9, SKB, WA1, WA3, BP0, MY7\n"
     ]
    },
    {
     "data": {
      "text/html": [
       "<br/>Waiting for W&B process to finish, PID 1611<br/>Program ended successfully."
      ],
      "text/plain": [
       "<IPython.core.display.HTML object>"
      ]
     },
     "metadata": {},
     "output_type": "display_data"
    },
    {
     "data": {
      "application/vnd.jupyter.widget-view+json": {
       "model_id": "e19790a4a1fa43c68df04e8576220971",
       "version_major": 2,
       "version_minor": 0
      },
      "text/plain": [
       "VBox(children=(Label(value=' 0.00MB of 0.00MB uploaded (0.00MB deduped)\\r'), FloatProgress(value=1.0, max=1.0)…"
      ]
     },
     "metadata": {},
     "output_type": "display_data"
    },
    {
     "data": {
      "text/html": [
       "Find user logs for this run at: <code>/home/users/mwlw3/AQmortality/wandb/run-20210513_170517-2gqpvn7e/logs/debug.log</code>"
      ],
      "text/plain": [
       "<IPython.core.display.HTML object>"
      ]
     },
     "metadata": {},
     "output_type": "display_data"
    },
    {
     "data": {
      "text/html": [
       "Find internal logs for this run at: <code>/home/users/mwlw3/AQmortality/wandb/run-20210513_170517-2gqpvn7e/logs/debug-internal.log</code>"
      ],
      "text/plain": [
       "<IPython.core.display.HTML object>"
      ]
     },
     "metadata": {},
     "output_type": "display_data"
    },
    {
     "data": {
      "text/html": [
       "Synced 6 W&B file(s), 0 media file(s), 0 artifact file(s) and 0 other file(s)"
      ],
      "text/plain": [
       "<IPython.core.display.HTML object>"
      ]
     },
     "metadata": {},
     "output_type": "display_data"
    },
    {
     "data": {
      "text/html": [
       "\n",
       "                    <br/>Synced <strong style=\"color:#cdcd00\">glad-dawn-25</strong>: <a href=\"https://wandb.ai/michellewl/AQmortality/runs/2gqpvn7e\" target=\"_blank\">https://wandb.ai/michellewl/AQmortality/runs/2gqpvn7e</a><br/>\n",
       "                "
      ],
      "text/plain": [
       "<IPython.core.display.HTML object>"
      ]
     },
     "metadata": {},
     "output_type": "display_data"
    }
   ],
   "source": [
    "#hourly_df = NO2_hourly.read_csv()\n",
    "hourly_df = NO2_hourly.read(sites=NO2_hourly.site_codes)"
   ]
  },
  {
   "cell_type": "markdown",
   "metadata": {},
   "source": [
    "Now we choose a temporal resolution (key) and size of quantile steps to aggregate the data over.\n",
    "For example, `key=\"W\", quantile_step=0.25` produces 4 .csv files, each containing a 25th percentile of the data distribution at weekly scale. Spatial resolution is retained i.e. still contains data for all sites."
   ]
  },
  {
   "cell_type": "code",
   "execution_count": 141,
   "metadata": {},
   "outputs": [
    {
     "name": "stdout",
     "output_type": "stream",
     "text": [
      "Dataframe shape (1097, 192)\n",
      "Dataframe shape (1097, 192)\n",
      "Dataframe shape (1097, 192)\n",
      "Dataframe shape (1097, 192)\n",
      "Dataframe shape (1097, 192)\n",
      "Done.\n"
     ]
    }
   ],
   "source": [
    "NO2_hourly.resample_time(hourly_df, \"W\", 0.25)"
   ]
  },
  {
   "cell_type": "markdown",
   "metadata": {},
   "source": [
    "### Load the median weekly NO$_2$ data and plot"
   ]
  },
  {
   "cell_type": "code",
   "execution_count": 6,
   "metadata": {},
   "outputs": [],
   "source": [
    "median_filepath = path.join(NO2_hourly.home_folder, \"weekly/NO2_weekly_50th_quantile.csv\")\n",
    "median_df = pd.read_csv(median_filepath, index_col=\"date\", parse_dates=True)"
   ]
  },
  {
   "cell_type": "code",
   "execution_count": 7,
   "metadata": {},
   "outputs": [
    {
     "data": {
      "text/html": [
       "<div>\n",
       "<style scoped>\n",
       "    .dataframe tbody tr th:only-of-type {\n",
       "        vertical-align: middle;\n",
       "    }\n",
       "\n",
       "    .dataframe tbody tr th {\n",
       "        vertical-align: top;\n",
       "    }\n",
       "\n",
       "    .dataframe thead th {\n",
       "        text-align: right;\n",
       "    }\n",
       "</style>\n",
       "<table border=\"1\" class=\"dataframe\">\n",
       "  <thead>\n",
       "    <tr style=\"text-align: right;\">\n",
       "      <th></th>\n",
       "      <th>TD0</th>\n",
       "      <th>BG3</th>\n",
       "      <th>BG1</th>\n",
       "      <th>BG2</th>\n",
       "      <th>BN2</th>\n",
       "      <th>BN3</th>\n",
       "      <th>BN1</th>\n",
       "      <th>BX5</th>\n",
       "      <th>BX2</th>\n",
       "      <th>BQ7</th>\n",
       "      <th>...</th>\n",
       "      <th>WMD</th>\n",
       "      <th>WM0</th>\n",
       "      <th>MY1</th>\n",
       "      <th>WM6</th>\n",
       "      <th>WMZ</th>\n",
       "      <th>WMB</th>\n",
       "      <th>NB1</th>\n",
       "      <th>WM8</th>\n",
       "      <th>WM9</th>\n",
       "      <th>VS1</th>\n",
       "    </tr>\n",
       "    <tr>\n",
       "      <th>date</th>\n",
       "      <th></th>\n",
       "      <th></th>\n",
       "      <th></th>\n",
       "      <th></th>\n",
       "      <th></th>\n",
       "      <th></th>\n",
       "      <th></th>\n",
       "      <th></th>\n",
       "      <th></th>\n",
       "      <th></th>\n",
       "      <th></th>\n",
       "      <th></th>\n",
       "      <th></th>\n",
       "      <th></th>\n",
       "      <th></th>\n",
       "      <th></th>\n",
       "      <th></th>\n",
       "      <th></th>\n",
       "      <th></th>\n",
       "      <th></th>\n",
       "      <th></th>\n",
       "    </tr>\n",
       "  </thead>\n",
       "  <tbody>\n",
       "    <tr>\n",
       "      <th>2000-01-02</th>\n",
       "      <td>21.2</td>\n",
       "      <td>NaN</td>\n",
       "      <td>NaN</td>\n",
       "      <td>NaN</td>\n",
       "      <td>NaN</td>\n",
       "      <td>NaN</td>\n",
       "      <td>38.65</td>\n",
       "      <td>24.55</td>\n",
       "      <td>27.30</td>\n",
       "      <td>NaN</td>\n",
       "      <td>...</td>\n",
       "      <td>NaN</td>\n",
       "      <td>NaN</td>\n",
       "      <td>81.95</td>\n",
       "      <td>NaN</td>\n",
       "      <td>NaN</td>\n",
       "      <td>NaN</td>\n",
       "      <td>NaN</td>\n",
       "      <td>NaN</td>\n",
       "      <td>NaN</td>\n",
       "      <td>NaN</td>\n",
       "    </tr>\n",
       "    <tr>\n",
       "      <th>2000-01-09</th>\n",
       "      <td>20.6</td>\n",
       "      <td>NaN</td>\n",
       "      <td>NaN</td>\n",
       "      <td>NaN</td>\n",
       "      <td>NaN</td>\n",
       "      <td>NaN</td>\n",
       "      <td>64.10</td>\n",
       "      <td>27.40</td>\n",
       "      <td>28.55</td>\n",
       "      <td>NaN</td>\n",
       "      <td>...</td>\n",
       "      <td>NaN</td>\n",
       "      <td>NaN</td>\n",
       "      <td>93.05</td>\n",
       "      <td>NaN</td>\n",
       "      <td>NaN</td>\n",
       "      <td>NaN</td>\n",
       "      <td>NaN</td>\n",
       "      <td>NaN</td>\n",
       "      <td>NaN</td>\n",
       "      <td>NaN</td>\n",
       "    </tr>\n",
       "    <tr>\n",
       "      <th>2000-01-16</th>\n",
       "      <td>40.5</td>\n",
       "      <td>NaN</td>\n",
       "      <td>NaN</td>\n",
       "      <td>NaN</td>\n",
       "      <td>NaN</td>\n",
       "      <td>NaN</td>\n",
       "      <td>60.35</td>\n",
       "      <td>30.50</td>\n",
       "      <td>33.65</td>\n",
       "      <td>NaN</td>\n",
       "      <td>...</td>\n",
       "      <td>NaN</td>\n",
       "      <td>NaN</td>\n",
       "      <td>72.90</td>\n",
       "      <td>NaN</td>\n",
       "      <td>NaN</td>\n",
       "      <td>NaN</td>\n",
       "      <td>NaN</td>\n",
       "      <td>NaN</td>\n",
       "      <td>NaN</td>\n",
       "      <td>NaN</td>\n",
       "    </tr>\n",
       "    <tr>\n",
       "      <th>2000-01-23</th>\n",
       "      <td>52.6</td>\n",
       "      <td>NaN</td>\n",
       "      <td>NaN</td>\n",
       "      <td>NaN</td>\n",
       "      <td>NaN</td>\n",
       "      <td>NaN</td>\n",
       "      <td>50.05</td>\n",
       "      <td>46.15</td>\n",
       "      <td>53.00</td>\n",
       "      <td>NaN</td>\n",
       "      <td>...</td>\n",
       "      <td>NaN</td>\n",
       "      <td>NaN</td>\n",
       "      <td>68.70</td>\n",
       "      <td>NaN</td>\n",
       "      <td>NaN</td>\n",
       "      <td>NaN</td>\n",
       "      <td>NaN</td>\n",
       "      <td>NaN</td>\n",
       "      <td>NaN</td>\n",
       "      <td>NaN</td>\n",
       "    </tr>\n",
       "    <tr>\n",
       "      <th>2000-01-30</th>\n",
       "      <td>47.6</td>\n",
       "      <td>NaN</td>\n",
       "      <td>NaN</td>\n",
       "      <td>NaN</td>\n",
       "      <td>NaN</td>\n",
       "      <td>NaN</td>\n",
       "      <td>90.15</td>\n",
       "      <td>48.30</td>\n",
       "      <td>56.10</td>\n",
       "      <td>NaN</td>\n",
       "      <td>...</td>\n",
       "      <td>NaN</td>\n",
       "      <td>NaN</td>\n",
       "      <td>98.90</td>\n",
       "      <td>NaN</td>\n",
       "      <td>NaN</td>\n",
       "      <td>NaN</td>\n",
       "      <td>NaN</td>\n",
       "      <td>NaN</td>\n",
       "      <td>NaN</td>\n",
       "      <td>NaN</td>\n",
       "    </tr>\n",
       "  </tbody>\n",
       "</table>\n",
       "<p>5 rows × 192 columns</p>\n",
       "</div>"
      ],
      "text/plain": [
       "             TD0  BG3  BG1  BG2  BN2  BN3    BN1    BX5    BX2  BQ7  ...  WMD  \\\n",
       "date                                                                 ...        \n",
       "2000-01-02  21.2  NaN  NaN  NaN  NaN  NaN  38.65  24.55  27.30  NaN  ...  NaN   \n",
       "2000-01-09  20.6  NaN  NaN  NaN  NaN  NaN  64.10  27.40  28.55  NaN  ...  NaN   \n",
       "2000-01-16  40.5  NaN  NaN  NaN  NaN  NaN  60.35  30.50  33.65  NaN  ...  NaN   \n",
       "2000-01-23  52.6  NaN  NaN  NaN  NaN  NaN  50.05  46.15  53.00  NaN  ...  NaN   \n",
       "2000-01-30  47.6  NaN  NaN  NaN  NaN  NaN  90.15  48.30  56.10  NaN  ...  NaN   \n",
       "\n",
       "            WM0    MY1  WM6  WMZ  WMB  NB1  WM8  WM9  VS1  \n",
       "date                                                       \n",
       "2000-01-02  NaN  81.95  NaN  NaN  NaN  NaN  NaN  NaN  NaN  \n",
       "2000-01-09  NaN  93.05  NaN  NaN  NaN  NaN  NaN  NaN  NaN  \n",
       "2000-01-16  NaN  72.90  NaN  NaN  NaN  NaN  NaN  NaN  NaN  \n",
       "2000-01-23  NaN  68.70  NaN  NaN  NaN  NaN  NaN  NaN  NaN  \n",
       "2000-01-30  NaN  98.90  NaN  NaN  NaN  NaN  NaN  NaN  NaN  \n",
       "\n",
       "[5 rows x 192 columns]"
      ]
     },
     "execution_count": 7,
     "metadata": {},
     "output_type": "execute_result"
    }
   ],
   "source": [
    "median_df.head()"
   ]
  },
  {
   "cell_type": "code",
   "execution_count": 150,
   "metadata": {},
   "outputs": [
    {
     "data": {
      "text/plain": [
       "<AxesSubplot:xlabel='date'>"
      ]
     },
     "execution_count": 150,
     "metadata": {},
     "output_type": "execute_result"
    },
    {
     "data": {
      "image/png": "[encoded data removed]",
      "text/plain": [
       "<Figure size 432x288 with 1 Axes>"
      ]
     },
     "metadata": {
      "needs_background": "light"
     },
     "output_type": "display_data"
    }
   ],
   "source": [
    "median_df[\"TD0\"].plot()"
   ]
  },
  {
   "cell_type": "markdown",
   "metadata": {},
   "source": [
    "### Spatially average all the London sites"
   ]
  },
  {
   "cell_type": "code",
   "execution_count": 151,
   "metadata": {},
   "outputs": [
    {
     "data": {
      "text/plain": [
       "(1097, 192)"
      ]
     },
     "execution_count": 151,
     "metadata": {},
     "output_type": "execute_result"
    }
   ],
   "source": [
    "median_filepath = path.join(NO2_hourly.home_folder, \"weekly/NO2_weekly_50th_quantile.csv\")\n",
    "median_df = pd.read_csv(median_filepath, index_col=\"date\", parse_dates=True)\n",
    "median_df.shape"
   ]
  },
  {
   "cell_type": "code",
   "execution_count": 161,
   "metadata": {},
   "outputs": [
    {
     "data": {
      "text/plain": [
       "(1097, 1)"
      ]
     },
     "execution_count": 161,
     "metadata": {},
     "output_type": "execute_result"
    }
   ],
   "source": [
    "london_df = pd.DataFrame(median_df.mean(axis=1))\n",
    "london_df.shape"
   ]
  },
  {
   "cell_type": "code",
   "execution_count": 166,
   "metadata": {},
   "outputs": [
    {
     "data": {
      "text/html": [
       "<div>\n",
       "<style scoped>\n",
       "    .dataframe tbody tr th:only-of-type {\n",
       "        vertical-align: middle;\n",
       "    }\n",
       "\n",
       "    .dataframe tbody tr th {\n",
       "        vertical-align: top;\n",
       "    }\n",
       "\n",
       "    .dataframe thead th {\n",
       "        text-align: right;\n",
       "    }\n",
       "</style>\n",
       "<table border=\"1\" class=\"dataframe\">\n",
       "  <thead>\n",
       "    <tr style=\"text-align: right;\">\n",
       "      <th></th>\n",
       "      <th>NO2_site_mean</th>\n",
       "    </tr>\n",
       "    <tr>\n",
       "      <th>date</th>\n",
       "      <th></th>\n",
       "    </tr>\n",
       "  </thead>\n",
       "  <tbody>\n",
       "    <tr>\n",
       "      <th>2000-01-02</th>\n",
       "      <td>48.048182</td>\n",
       "    </tr>\n",
       "    <tr>\n",
       "      <th>2000-01-09</th>\n",
       "      <td>52.449138</td>\n",
       "    </tr>\n",
       "    <tr>\n",
       "      <th>2000-01-16</th>\n",
       "      <td>53.538983</td>\n",
       "    </tr>\n",
       "    <tr>\n",
       "      <th>2000-01-23</th>\n",
       "      <td>57.850847</td>\n",
       "    </tr>\n",
       "    <tr>\n",
       "      <th>2000-01-30</th>\n",
       "      <td>63.158772</td>\n",
       "    </tr>\n",
       "  </tbody>\n",
       "</table>\n",
       "</div>"
      ],
      "text/plain": [
       "            NO2_site_mean\n",
       "date                     \n",
       "2000-01-02      48.048182\n",
       "2000-01-09      52.449138\n",
       "2000-01-16      53.538983\n",
       "2000-01-23      57.850847\n",
       "2000-01-30      63.158772"
      ]
     },
     "execution_count": 166,
     "metadata": {},
     "output_type": "execute_result"
    }
   ],
   "source": [
    "london_df.columns=[\"NO2_site_mean\"] # rename this to something more intuitive\n",
    "london_df.head()"
   ]
  },
  {
   "cell_type": "code",
   "execution_count": 165,
   "metadata": {},
   "outputs": [
    {
     "data": {
      "text/plain": [
       "<AxesSubplot:xlabel='date'>"
      ]
     },
     "execution_count": 165,
     "metadata": {},
     "output_type": "execute_result"
    },
    {
     "data": {
      "image/png": "[encoded data removed]",
      "text/plain": [
       "<Figure size 432x288 with 1 Axes>"
      ]
     },
     "metadata": {
      "needs_background": "light"
     },
     "output_type": "display_data"
    }
   ],
   "source": [
    "london_df.plot()"
   ]
  },
  {
   "cell_type": "code",
   "execution_count": null,
   "metadata": {},
   "outputs": [],
   "source": []
  }
 ],
 "metadata": {
  "kernelspec": {
   "display_name": "AQmort",
   "language": "python",
   "name": "aqmort"
  },
  "language_info": {
   "codemirror_mode": {
    "name": "ipython",
    "version": 3
   },
   "file_extension": ".py",
   "mimetype": "text/x-python",
   "name": "python",
   "nbconvert_exporter": "python",
   "pygments_lexer": "ipython3",
   "version": "3.9.2"
  }
 },
 "nbformat": 4,
 "nbformat_minor": 4
}
