{
 "cells": [
  {
   "cell_type": "markdown",
   "metadata": {},
   "source": [
    "## conda environments"
   ]
  },
  {
   "cell_type": "markdown",
   "metadata": {},
   "source": [
    "When accessing this notebook via the JASMIN Jupyter Notebook service, select the correct conda environment from the list of available kernels."
   ]
  },
  {
   "cell_type": "markdown",
   "metadata": {},
   "source": [
    "## Imports"
   ]
  },
  {
   "cell_type": "code",
   "execution_count": 93,
   "metadata": {},
   "outputs": [],
   "source": [
    "import numpy as np\n",
    "import requests\n",
    "import pandas as pd\n",
    "from os import makedirs, path\n",
    "from tqdm import tqdm"
   ]
  },
  {
   "cell_type": "markdown",
   "metadata": {},
   "source": [
    "## Code\n",
    "LAQN class for downloading &  processing of LAQN data. This code is adapted from my [COVID-19 repo](https://github.com/michellewl/COVID-19/blob/master/data/LAQN_class.py) (note that the borough averaging code has not been included here). See [here](https://github.com/michellewl/NO2-breast-cancer/tree/master/data/LAQN/download) for details on the source code (originally written for MRes project)."
   ]
  },
  {
   "cell_type": "code",
   "execution_count": 137,
   "metadata": {},
   "outputs": [],
   "source": [
    "class LAQNData():\n",
    "    def __init__(self, url, home_folder, species, start_date, end_date):\n",
    "        self.url = url\n",
    "        self.home_folder = home_folder\n",
    "        self.species = species\n",
    "        self.start_date = start_date\n",
    "        self.end_date = end_date\n",
    "        self.filename = f\"{self.species}_hourly_{self.start_date}_{self.end_date}.csv\"\n",
    "        self.filepath = path.join(self.home_folder, self.filename)\n",
    "        \n",
    "        if not path.exists(self.home_folder):\n",
    "            makedirs(self.home_folder)\n",
    "        \n",
    "        london_sites = requests.get(self.url)\n",
    "        self.sites_df = pd.DataFrame(london_sites.json()['Sites']['Site'])\n",
    "        self.site_codes = self.sites_df[\"@SiteCode\"].tolist()\n",
    "\n",
    "    def download(self, verbose=True):\n",
    "        laqn_df = pd.DataFrame()\n",
    "        \n",
    "        if verbose:\n",
    "            progress_bar = tqdm(self.site_codes)\n",
    "        else:\n",
    "            progress_bar = self.site_codes\n",
    "            \n",
    "        for site_code in progress_bar:\n",
    "            if verbose:\n",
    "                progress_bar.set_description(f'Working on site {site_code}')\n",
    "            url_species = f\"http://api.erg.kcl.ac.uk/AirQuality/Data/SiteSpecies/SiteCode={site_code}/SpeciesCode={self.species}/StartDate={self.start_date}/EndDate={self.end_date}/csv\"\n",
    "            cur_df = pd.read_csv(url_species)\n",
    "            cur_df.columns = [\"date\", site_code]\n",
    "            cur_df.set_index(\"date\", drop=True, inplace=True)\n",
    "\n",
    "            try:\n",
    "                if laqn_df.empty:\n",
    "                    laqn_df = cur_df.copy()\n",
    "                else:\n",
    "                    laqn_df = laqn_df.join(cur_df.copy(), how=\"outer\")\n",
    "\n",
    "            except ValueError:  # Trying to join with duplicate column names\n",
    "                rename_dict = {}\n",
    "                for x in list(set(cur_df.columns).intersection(laqn_df.columns)):\n",
    "                    rename_dict.update({x: f\"{x}_\"})\n",
    "                    print(f\"Renamed duplicated column:\\n{rename_dict}\")\n",
    "                laqn_df.rename(mapper=rename_dict, axis=\"columns\", inplace=True)\n",
    "                if laqn_df.empty:\n",
    "                    laqn_df = cur_df.copy()\n",
    "                else:\n",
    "                    laqn_df = laqn_df.join(cur_df.copy(), how=\"outer\")\n",
    "                if verbose:\n",
    "                    print(f\"Joined.\")\n",
    "\n",
    "            except KeyError:  # Trying to join along indexes that don't match\n",
    "                print(f\"Troubleshooting {site_code}...\")\n",
    "                cur_df.index = cur_df.index + \":00\"\n",
    "                if laqn_df.empty:\n",
    "                    laqn_df = cur_df.copy()\n",
    "                else:\n",
    "                    laqn_df = laqn_df.join(cur_df.copy(), how=\"outer\")\n",
    "                print(f\"{site_code} joined.\")\n",
    "\n",
    "        print(\"Data download complete. Removing sites with 0 data...\")\n",
    "        laqn_df.dropna(axis=\"columns\", how=\"all\", inplace=True)\n",
    "        laqn_df.to_csv(path.join(self.home_folder, self.filename))\n",
    "        print(\"Data saved.\")\n",
    "\n",
    "    def read_csv(self, verbose=True):\n",
    "        if verbose:\n",
    "            print(f\"Reading {self.filename}...\")\n",
    "        return pd.read_csv(self.filepath, index_col=\"date\", parse_dates=True)\n",
    "    \n",
    "    def resample_time(self, df, key, quantile_step, verbose=True):\n",
    "        if key == \"D\":\n",
    "            keyword = \"daily\"\n",
    "        if key == \"W\":\n",
    "            keyword = \"weekly\"\n",
    "\n",
    "        save_folder = path.join(self.home_folder, keyword)\n",
    "        if not path.exists(save_folder):\n",
    "            makedirs(save_folder)\n",
    "\n",
    "        aggregation = np.round(np.arange(0, 1 + quantile_step, quantile_step), 2).tolist()\n",
    "\n",
    "        for method in aggregation:\n",
    "            aggregated_df = df.copy().resample(key).quantile(method)\n",
    "            method = f\"{int(method * 100)}th_quantile\"\n",
    "            aggregated_df.to_csv(path.join(save_folder, f\"{self.species}_{keyword}_{method}.csv\"), index=True)\n",
    "            if verbose:\n",
    "                print(f\"Dataframe shape {aggregated_df.shape}\")\n",
    "        if verbose:\n",
    "            print(\"Done.\")"
   ]
  },
  {
   "cell_type": "code",
   "execution_count": 138,
   "metadata": {},
   "outputs": [],
   "source": [
    "home_folder = path.join(path.abspath(\"\"), \"LAQN_data\")\n",
    "species = \"NO2\"\n",
    "url = \"http://api.erg.kcl.ac.uk/AirQuality/Information/MonitoringSites/GroupName=London/Json\"\n",
    "start_date = \"2000-01-01\"\n",
    "end_date = \"2021-01-01\""
   ]
  },
  {
   "cell_type": "code",
   "execution_count": 139,
   "metadata": {},
   "outputs": [],
   "source": [
    "NO2_hourly = LAQNData(url, home_folder, species, start_date, end_date)"
   ]
  },
  {
   "cell_type": "code",
   "execution_count": 88,
   "metadata": {},
   "outputs": [
    {
     "name": "stdout",
     "output_type": "stream",
     "text": [
      "236\n"
     ]
    }
   ],
   "source": [
    "print(len(NO2_hourly.site_codes))"
   ]
  },
  {
   "cell_type": "markdown",
   "metadata": {},
   "source": [
    "### Download the LAQN NO$_2$ data"
   ]
  },
  {
   "cell_type": "code",
   "execution_count": 75,
   "metadata": {},
   "outputs": [
    {
     "name": "stderr",
     "output_type": "stream",
     "text": [
      "Working on site VS1: 100%|██████████| 236/236 [29:31<00:00,  7.51s/it]\n"
     ]
    },
    {
     "name": "stdout",
     "output_type": "stream",
     "text": [
      "Data download complete. Removing sites with 0 data...\n",
      "Data saved.\n"
     ]
    }
   ],
   "source": [
    "NO2_hourly.download()"
   ]
  },
  {
   "cell_type": "markdown",
   "metadata": {},
   "source": [
    "### Load the NO$_2$ data and aggregate to weekly time steps"
   ]
  },
  {
   "cell_type": "code",
   "execution_count": 140,
   "metadata": {},
   "outputs": [
    {
     "name": "stdout",
     "output_type": "stream",
     "text": [
      "Reading NO2_hourly_2000-01-01_2021-01-01.csv...\n"
     ]
    }
   ],
   "source": [
    "hourly_df = NO2_hourly.read_csv()"
   ]
  },
  {
   "cell_type": "markdown",
   "metadata": {},
   "source": [
    "Now we choose a temporal resolution (key) and size of quantile steps to aggregate the data over.\n",
    "For example, `key=\"W\", quantile_step=0.25` produces 4 .csv files, each containing a 25th percentile of the data distribution at weekly scale. Spatial resolution is retained i.e. still contains data for all sites."
   ]
  },
  {
   "cell_type": "code",
   "execution_count": 141,
   "metadata": {},
   "outputs": [
    {
     "name": "stdout",
     "output_type": "stream",
     "text": [
      "Dataframe shape (1097, 192)\n",
      "Dataframe shape (1097, 192)\n",
      "Dataframe shape (1097, 192)\n",
      "Dataframe shape (1097, 192)\n",
      "Dataframe shape (1097, 192)\n",
      "Done.\n"
     ]
    }
   ],
   "source": [
    "NO2_hourly.resample_time(hourly_df, \"W\", 0.25)"
   ]
  },
  {
   "cell_type": "markdown",
   "metadata": {},
   "source": [
    "### Load the median weekly NO$_2$ data and plot"
   ]
  },
  {
   "cell_type": "code",
   "execution_count": 142,
   "metadata": {},
   "outputs": [],
   "source": [
    "median_filepath = path.join(NO2_hourly.home_folder, \"weekly/NO2_weekly_50th_quantile.csv\")\n",
    "median_df = pd.read_csv(median_filepath, index_col=\"date\", parse_dates=True)"
   ]
  },
  {
   "cell_type": "code",
   "execution_count": 143,
   "metadata": {},
   "outputs": [
    {
     "data": {
      "text/html": [
       "<div>\n",
       "<style scoped>\n",
       "    .dataframe tbody tr th:only-of-type {\n",
       "        vertical-align: middle;\n",
       "    }\n",
       "\n",
       "    .dataframe tbody tr th {\n",
       "        vertical-align: top;\n",
       "    }\n",
       "\n",
       "    .dataframe thead th {\n",
       "        text-align: right;\n",
       "    }\n",
       "</style>\n",
       "<table border=\"1\" class=\"dataframe\">\n",
       "  <thead>\n",
       "    <tr style=\"text-align: right;\">\n",
       "      <th></th>\n",
       "      <th>TD0</th>\n",
       "      <th>BG3</th>\n",
       "      <th>BG1</th>\n",
       "      <th>BG2</th>\n",
       "      <th>BN2</th>\n",
       "      <th>BN3</th>\n",
       "      <th>BN1</th>\n",
       "      <th>BX5</th>\n",
       "      <th>BX2</th>\n",
       "      <th>BQ7</th>\n",
       "      <th>...</th>\n",
       "      <th>WMD</th>\n",
       "      <th>WM0</th>\n",
       "      <th>MY1</th>\n",
       "      <th>WM6</th>\n",
       "      <th>WMZ</th>\n",
       "      <th>WMB</th>\n",
       "      <th>NB1</th>\n",
       "      <th>WM8</th>\n",
       "      <th>WM9</th>\n",
       "      <th>VS1</th>\n",
       "    </tr>\n",
       "    <tr>\n",
       "      <th>date</th>\n",
       "      <th></th>\n",
       "      <th></th>\n",
       "      <th></th>\n",
       "      <th></th>\n",
       "      <th></th>\n",
       "      <th></th>\n",
       "      <th></th>\n",
       "      <th></th>\n",
       "      <th></th>\n",
       "      <th></th>\n",
       "      <th></th>\n",
       "      <th></th>\n",
       "      <th></th>\n",
       "      <th></th>\n",
       "      <th></th>\n",
       "      <th></th>\n",
       "      <th></th>\n",
       "      <th></th>\n",
       "      <th></th>\n",
       "      <th></th>\n",
       "      <th></th>\n",
       "    </tr>\n",
       "  </thead>\n",
       "  <tbody>\n",
       "    <tr>\n",
       "      <th>2000-01-02</th>\n",
       "      <td>21.2</td>\n",
       "      <td>NaN</td>\n",
       "      <td>NaN</td>\n",
       "      <td>NaN</td>\n",
       "      <td>NaN</td>\n",
       "      <td>NaN</td>\n",
       "      <td>38.65</td>\n",
       "      <td>24.55</td>\n",
       "      <td>27.30</td>\n",
       "      <td>NaN</td>\n",
       "      <td>...</td>\n",
       "      <td>NaN</td>\n",
       "      <td>NaN</td>\n",
       "      <td>81.95</td>\n",
       "      <td>NaN</td>\n",
       "      <td>NaN</td>\n",
       "      <td>NaN</td>\n",
       "      <td>NaN</td>\n",
       "      <td>NaN</td>\n",
       "      <td>NaN</td>\n",
       "      <td>NaN</td>\n",
       "    </tr>\n",
       "    <tr>\n",
       "      <th>2000-01-09</th>\n",
       "      <td>20.6</td>\n",
       "      <td>NaN</td>\n",
       "      <td>NaN</td>\n",
       "      <td>NaN</td>\n",
       "      <td>NaN</td>\n",
       "      <td>NaN</td>\n",
       "      <td>64.10</td>\n",
       "      <td>27.40</td>\n",
       "      <td>28.55</td>\n",
       "      <td>NaN</td>\n",
       "      <td>...</td>\n",
       "      <td>NaN</td>\n",
       "      <td>NaN</td>\n",
       "      <td>93.05</td>\n",
       "      <td>NaN</td>\n",
       "      <td>NaN</td>\n",
       "      <td>NaN</td>\n",
       "      <td>NaN</td>\n",
       "      <td>NaN</td>\n",
       "      <td>NaN</td>\n",
       "      <td>NaN</td>\n",
       "    </tr>\n",
       "    <tr>\n",
       "      <th>2000-01-16</th>\n",
       "      <td>40.5</td>\n",
       "      <td>NaN</td>\n",
       "      <td>NaN</td>\n",
       "      <td>NaN</td>\n",
       "      <td>NaN</td>\n",
       "      <td>NaN</td>\n",
       "      <td>60.35</td>\n",
       "      <td>30.50</td>\n",
       "      <td>33.65</td>\n",
       "      <td>NaN</td>\n",
       "      <td>...</td>\n",
       "      <td>NaN</td>\n",
       "      <td>NaN</td>\n",
       "      <td>72.90</td>\n",
       "      <td>NaN</td>\n",
       "      <td>NaN</td>\n",
       "      <td>NaN</td>\n",
       "      <td>NaN</td>\n",
       "      <td>NaN</td>\n",
       "      <td>NaN</td>\n",
       "      <td>NaN</td>\n",
       "    </tr>\n",
       "    <tr>\n",
       "      <th>2000-01-23</th>\n",
       "      <td>52.6</td>\n",
       "      <td>NaN</td>\n",
       "      <td>NaN</td>\n",
       "      <td>NaN</td>\n",
       "      <td>NaN</td>\n",
       "      <td>NaN</td>\n",
       "      <td>50.05</td>\n",
       "      <td>46.15</td>\n",
       "      <td>53.00</td>\n",
       "      <td>NaN</td>\n",
       "      <td>...</td>\n",
       "      <td>NaN</td>\n",
       "      <td>NaN</td>\n",
       "      <td>68.70</td>\n",
       "      <td>NaN</td>\n",
       "      <td>NaN</td>\n",
       "      <td>NaN</td>\n",
       "      <td>NaN</td>\n",
       "      <td>NaN</td>\n",
       "      <td>NaN</td>\n",
       "      <td>NaN</td>\n",
       "    </tr>\n",
       "    <tr>\n",
       "      <th>2000-01-30</th>\n",
       "      <td>47.6</td>\n",
       "      <td>NaN</td>\n",
       "      <td>NaN</td>\n",
       "      <td>NaN</td>\n",
       "      <td>NaN</td>\n",
       "      <td>NaN</td>\n",
       "      <td>90.15</td>\n",
       "      <td>48.30</td>\n",
       "      <td>56.10</td>\n",
       "      <td>NaN</td>\n",
       "      <td>...</td>\n",
       "      <td>NaN</td>\n",
       "      <td>NaN</td>\n",
       "      <td>98.90</td>\n",
       "      <td>NaN</td>\n",
       "      <td>NaN</td>\n",
       "      <td>NaN</td>\n",
       "      <td>NaN</td>\n",
       "      <td>NaN</td>\n",
       "      <td>NaN</td>\n",
       "      <td>NaN</td>\n",
       "    </tr>\n",
       "  </tbody>\n",
       "</table>\n",
       "<p>5 rows × 192 columns</p>\n",
       "</div>"
      ],
      "text/plain": [
       "             TD0  BG3  BG1  BG2  BN2  BN3    BN1    BX5    BX2  BQ7  ...  WMD  \\\n",
       "date                                                                 ...        \n",
       "2000-01-02  21.2  NaN  NaN  NaN  NaN  NaN  38.65  24.55  27.30  NaN  ...  NaN   \n",
       "2000-01-09  20.6  NaN  NaN  NaN  NaN  NaN  64.10  27.40  28.55  NaN  ...  NaN   \n",
       "2000-01-16  40.5  NaN  NaN  NaN  NaN  NaN  60.35  30.50  33.65  NaN  ...  NaN   \n",
       "2000-01-23  52.6  NaN  NaN  NaN  NaN  NaN  50.05  46.15  53.00  NaN  ...  NaN   \n",
       "2000-01-30  47.6  NaN  NaN  NaN  NaN  NaN  90.15  48.30  56.10  NaN  ...  NaN   \n",
       "\n",
       "            WM0    MY1  WM6  WMZ  WMB  NB1  WM8  WM9  VS1  \n",
       "date                                                       \n",
       "2000-01-02  NaN  81.95  NaN  NaN  NaN  NaN  NaN  NaN  NaN  \n",
       "2000-01-09  NaN  93.05  NaN  NaN  NaN  NaN  NaN  NaN  NaN  \n",
       "2000-01-16  NaN  72.90  NaN  NaN  NaN  NaN  NaN  NaN  NaN  \n",
       "2000-01-23  NaN  68.70  NaN  NaN  NaN  NaN  NaN  NaN  NaN  \n",
       "2000-01-30  NaN  98.90  NaN  NaN  NaN  NaN  NaN  NaN  NaN  \n",
       "\n",
       "[5 rows x 192 columns]"
      ]
     },
     "execution_count": 143,
     "metadata": {},
     "output_type": "execute_result"
    }
   ],
   "source": [
    "median_df.head()"
   ]
  },
  {
   "cell_type": "code",
   "execution_count": 150,
   "metadata": {},
   "outputs": [
    {
     "data": {
      "text/plain": [
       "<AxesSubplot:xlabel='date'>"
      ]
     },
     "execution_count": 150,
     "metadata": {},
     "output_type": "execute_result"
    },
    {
     "data": {
      "image/png": "[encoded data removed]",
      "text/plain": [
       "<Figure size 432x288 with 1 Axes>"
      ]
     },
     "metadata": {
      "needs_background": "light"
     },
     "output_type": "display_data"
    }
   ],
   "source": [
    "median_df[\"TD0\"].plot()"
   ]
  },
  {
   "cell_type": "code",
   "execution_count": null,
   "metadata": {},
   "outputs": [],
   "source": []
  }
 ],
 "metadata": {
  "kernelspec": {
   "display_name": "AQmort",
   "language": "python",
   "name": "aqmort"
  },
  "language_info": {
   "codemirror_mode": {
    "name": "ipython",
    "version": 3
   },
   "file_extension": ".py",
   "mimetype": "text/x-python",
   "name": "python",
   "nbconvert_exporter": "python",
   "pygments_lexer": "ipython3",
   "version": "3.9.2"
  }
 },
 "nbformat": 4,
 "nbformat_minor": 4
}
