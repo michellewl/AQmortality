{
 "cells": [
  {
   "cell_type": "markdown",
   "id": "3d15b7d7-d0fa-45a5-aeba-15c9db2b10b2",
   "metadata": {},
   "source": [
    "Imports"
   ]
  },
  {
   "cell_type": "code",
   "execution_count": 99,
   "id": "24a0343e-8dfb-4015-ac29-616d561901ce",
   "metadata": {},
   "outputs": [],
   "source": [
    "from data_classes import LAQNData, HealthData, MetData, IncomeData\n",
    "from os import path\n",
    "import pandas as pd\n",
    "import matplotlib.pyplot as plt\n",
    "import matplotlib.cm as cm\n",
    "import requests\n",
    "import geopandas as gpd\n",
    "import numpy as np"
   ]
  },
  {
   "cell_type": "code",
   "execution_count": 3,
   "id": "fefa0a35-7e1d-49ae-9cc2-d1011da45e19",
   "metadata": {
    "tags": []
   },
   "outputs": [],
   "source": [
    "species = \"NO2\"\n",
    "region = \"London\"\n",
    "NO2 = LAQNData(species, region)"
   ]
  },
  {
   "cell_type": "code",
   "execution_count": 4,
   "id": "e7438379-b1d1-49a1-8200-7a81ca633053",
   "metadata": {
    "tags": []
   },
   "outputs": [],
   "source": [
    "income = IncomeData()"
   ]
  },
  {
   "cell_type": "markdown",
   "id": "f4d30287-9954-41d3-879c-2e99fdcd539d",
   "metadata": {
    "tags": []
   },
   "source": [
    "Load the resampled daily NO2 data:"
   ]
  },
  {
   "cell_type": "code",
   "execution_count": 14,
   "id": "e80ff8f5-db20-4f06-89ae-2b21a41ec944",
   "metadata": {},
   "outputs": [],
   "source": [
    "# daily_NO2_df = NO2.read(\"laqn-resample\")\n",
    "# daily_NO2_df.head(5)"
   ]
  },
  {
   "cell_type": "markdown",
   "id": "545774a2-f6c1-401f-a517-ec812016c87a",
   "metadata": {},
   "source": [
    "Load the resampled daily income data:"
   ]
  },
  {
   "cell_type": "code",
   "execution_count": null,
   "id": "c1c98250-89d2-49e5-8536-c50bfdf306fc",
   "metadata": {},
   "outputs": [],
   "source": [
    "daily_income_df = income.read(\"income-resample\")\n",
    "daily_income_df.head(5)"
   ]
  },
  {
   "cell_type": "markdown",
   "id": "8ccef795-dc8e-45ec-be00-1f6d1c7ce0ba",
   "metadata": {},
   "source": [
    "Rename the local authorities in the income metadata using the LAQN metadata:"
   ]
  },
  {
   "cell_type": "code",
   "execution_count": null,
   "id": "47f9fff6-5b4b-4a1d-9aa1-beb45ec4d249",
   "metadata": {
    "tags": []
   },
   "outputs": [],
   "source": [
    "# income_metadata_df = income.rename_local_authority_districts_and_log(reference=\"use_LAQN\")"
   ]
  },
  {
   "cell_type": "markdown",
   "id": "a9d83a92-2694-49b9-a97b-0ace76350ed2",
   "metadata": {},
   "source": [
    "Load the renamed income metadata:"
   ]
  },
  {
   "cell_type": "code",
   "execution_count": 58,
   "id": "f0ac8660-18de-46f2-a2f6-fb0a0090a78b",
   "metadata": {
    "tags": []
   },
   "outputs": [
    {
     "name": "stderr",
     "output_type": "stream",
     "text": [
      "Failed to detect the name of this notebook, you can set it manually with the WANDB_NOTEBOOK_NAME environment variable to enable code saving.\n",
      "\u001b[34m\u001b[1mwandb\u001b[0m: Currently logged in as: \u001b[33mmichellewl\u001b[0m (use `wandb login --relogin` to force relogin)\n",
      "\u001b[34m\u001b[1mwandb\u001b[0m: wandb version 0.12.18 is available!  To upgrade, please run:\n",
      "\u001b[34m\u001b[1mwandb\u001b[0m:  $ pip install wandb --upgrade\n"
     ]
    },
    {
     "data": {
      "text/html": [
       "\n",
       "                Tracking run with wandb version 0.10.31<br/>\n",
       "                Syncing run <strong style=\"color:#cdcd00\">fearless-oath-394</strong> to <a href=\"https://wandb.ai\" target=\"_blank\">Weights & Biases</a> <a href=\"https://docs.wandb.com/integrations/jupyter.html\" target=\"_blank\">(Documentation)</a>.<br/>\n",
       "                Project page: <a href=\"https://wandb.ai/michellewl/AQmortality\" target=\"_blank\">https://wandb.ai/michellewl/AQmortality</a><br/>\n",
       "                Run page: <a href=\"https://wandb.ai/michellewl/AQmortality/runs/q68l39c2\" target=\"_blank\">https://wandb.ai/michellewl/AQmortality/runs/q68l39c2</a><br/>\n",
       "                Run data is saved locally in <code>/home/users/mwlw3/AQmortality/mortality_model/wandb/run-20220621_140407-q68l39c2</code><br/><br/>\n",
       "            "
      ],
      "text/plain": [
       "<IPython.core.display.HTML object>"
      ]
     },
     "metadata": {},
     "output_type": "display_data"
    },
    {
     "data": {
      "text/html": [
       "<br/>Waiting for W&B process to finish, PID 1062<br/>Program ended successfully."
      ],
      "text/plain": [
       "<IPython.core.display.HTML object>"
      ]
     },
     "metadata": {},
     "output_type": "display_data"
    },
    {
     "data": {
      "application/vnd.jupyter.widget-view+json": {
       "model_id": "c12a0e4810904af08ab0cbbbd67503f5",
       "version_major": 2,
       "version_minor": 0
      },
      "text/plain": [
       "VBox(children=(Label(value=' 0.00MB of 0.00MB uploaded (0.00MB deduped)\\r'), FloatProgress(value=0.0, max=1.0)…"
      ]
     },
     "metadata": {},
     "output_type": "display_data"
    },
    {
     "data": {
      "text/html": [
       "Find user logs for this run at: <code>/home/users/mwlw3/AQmortality/mortality_model/wandb/run-20220621_140407-q68l39c2/logs/debug.log</code>"
      ],
      "text/plain": [
       "<IPython.core.display.HTML object>"
      ]
     },
     "metadata": {},
     "output_type": "display_data"
    },
    {
     "data": {
      "text/html": [
       "Find internal logs for this run at: <code>/home/users/mwlw3/AQmortality/mortality_model/wandb/run-20220621_140407-q68l39c2/logs/debug-internal.log</code>"
      ],
      "text/plain": [
       "<IPython.core.display.HTML object>"
      ]
     },
     "metadata": {},
     "output_type": "display_data"
    },
    {
     "data": {
      "text/html": [
       "Synced 5 W&B file(s), 0 media file(s), 0 artifact file(s) and 0 other file(s)"
      ],
      "text/plain": [
       "<IPython.core.display.HTML object>"
      ]
     },
     "metadata": {},
     "output_type": "display_data"
    },
    {
     "data": {
      "text/html": [
       "\n",
       "                    <br/>Synced <strong style=\"color:#cdcd00\">fearless-oath-394</strong>: <a href=\"https://wandb.ai/michellewl/AQmortality/runs/q68l39c2\" target=\"_blank\">https://wandb.ai/michellewl/AQmortality/runs/q68l39c2</a><br/>\n",
       "                "
      ],
      "text/plain": [
       "<IPython.core.display.HTML object>"
      ]
     },
     "metadata": {},
     "output_type": "display_data"
    }
   ],
   "source": [
    "income_metadata_df = income.read(\"income-metadata\")"
   ]
  },
  {
   "cell_type": "markdown",
   "id": "af23f6fe-7f38-4036-89ed-8a2ba5ca8725",
   "metadata": {},
   "source": [
    "Spatially aggregate the LAQN data at the local authority level, with implementation of the algorithm used in Schwartz, 2000:"
   ]
  },
  {
   "cell_type": "code",
   "execution_count": 12,
   "id": "a49e8974-b5aa-4b9c-a3a9-e2cc5fe24d55",
   "metadata": {
    "tags": []
   },
   "outputs": [],
   "source": [
    "# aggregated_NO2_df = NO2.local_authority_aggregation_and_log()"
   ]
  },
  {
   "cell_type": "markdown",
   "id": "198ef356-6cd6-402a-be72-2e48ec0503b9",
   "metadata": {},
   "source": [
    "Load the spatially aggregated LAQN data:"
   ]
  },
  {
   "cell_type": "code",
   "execution_count": 7,
   "id": "028cbc81-5284-427c-840b-77b077171994",
   "metadata": {
    "collapsed": true,
    "jupyter": {
     "outputs_hidden": true
    },
    "tags": []
   },
   "outputs": [
    {
     "name": "stderr",
     "output_type": "stream",
     "text": [
      "\u001b[34m\u001b[1mwandb\u001b[0m: wandb version 0.12.17 is available!  To upgrade, please run:\n",
      "\u001b[34m\u001b[1mwandb\u001b[0m:  $ pip install wandb --upgrade\n"
     ]
    },
    {
     "data": {
      "text/html": [
       "\n",
       "                Tracking run with wandb version 0.10.31<br/>\n",
       "                Syncing run <strong style=\"color:#cdcd00\">gallant-waterfall-387</strong> to <a href=\"https://wandb.ai\" target=\"_blank\">Weights & Biases</a> <a href=\"https://docs.wandb.com/integrations/jupyter.html\" target=\"_blank\">(Documentation)</a>.<br/>\n",
       "                Project page: <a href=\"https://wandb.ai/michellewl/AQmortality\" target=\"_blank\">https://wandb.ai/michellewl/AQmortality</a><br/>\n",
       "                Run page: <a href=\"https://wandb.ai/michellewl/AQmortality/runs/1mclph90\" target=\"_blank\">https://wandb.ai/michellewl/AQmortality/runs/1mclph90</a><br/>\n",
       "                Run data is saved locally in <code>/home/users/mwlw3/AQmortality/mortality_model/wandb/run-20220607_145254-1mclph90</code><br/><br/>\n",
       "            "
      ],
      "text/plain": [
       "<IPython.core.display.HTML object>"
      ]
     },
     "metadata": {},
     "output_type": "display_data"
    },
    {
     "data": {
      "text/html": [
       "<br/>Waiting for W&B process to finish, PID 1984<br/>Program ended successfully."
      ],
      "text/plain": [
       "<IPython.core.display.HTML object>"
      ]
     },
     "metadata": {},
     "output_type": "display_data"
    },
    {
     "data": {
      "application/vnd.jupyter.widget-view+json": {
       "model_id": "ae18a8ac2173427aac1593d5ad28653a",
       "version_major": 2,
       "version_minor": 0
      },
      "text/plain": [
       "VBox(children=(Label(value=' 0.00MB of 0.00MB uploaded (0.00MB deduped)\\r'), FloatProgress(value=1.0, max=1.0)…"
      ]
     },
     "metadata": {},
     "output_type": "display_data"
    },
    {
     "data": {
      "text/html": [
       "Find user logs for this run at: <code>/home/users/mwlw3/AQmortality/mortality_model/wandb/run-20220607_145254-1mclph90/logs/debug.log</code>"
      ],
      "text/plain": [
       "<IPython.core.display.HTML object>"
      ]
     },
     "metadata": {},
     "output_type": "display_data"
    },
    {
     "data": {
      "text/html": [
       "Find internal logs for this run at: <code>/home/users/mwlw3/AQmortality/mortality_model/wandb/run-20220607_145254-1mclph90/logs/debug-internal.log</code>"
      ],
      "text/plain": [
       "<IPython.core.display.HTML object>"
      ]
     },
     "metadata": {},
     "output_type": "display_data"
    },
    {
     "data": {
      "text/html": [
       "Synced 5 W&B file(s), 0 media file(s), 0 artifact file(s) and 0 other file(s)"
      ],
      "text/plain": [
       "<IPython.core.display.HTML object>"
      ]
     },
     "metadata": {},
     "output_type": "display_data"
    },
    {
     "data": {
      "text/html": [
       "\n",
       "                    <br/>Synced <strong style=\"color:#cdcd00\">gallant-waterfall-387</strong>: <a href=\"https://wandb.ai/michellewl/AQmortality/runs/1mclph90\" target=\"_blank\">https://wandb.ai/michellewl/AQmortality/runs/1mclph90</a><br/>\n",
       "                "
      ],
      "text/plain": [
       "<IPython.core.display.HTML object>"
      ]
     },
     "metadata": {},
     "output_type": "display_data"
    }
   ],
   "source": [
    "aggregated_NO2_df = NO2.read(\"laqn-local-authority\")"
   ]
  },
  {
   "cell_type": "code",
   "execution_count": 15,
   "id": "58247707-5ed0-4e25-b79b-f68e9b95caa3",
   "metadata": {},
   "outputs": [
    {
     "name": "stdout",
     "output_type": "stream",
     "text": [
      "(8401, 33)\n"
     ]
    },
    {
     "data": {
      "image/png": "[encoded data removed]",
      "text/plain": [
       "<Figure size 432x288 with 1 Axes>"
      ]
     },
     "metadata": {
      "needs_background": "light"
     },
     "output_type": "display_data"
    }
   ],
   "source": [
    "print(aggregated_NO2_df.shape)\n",
    "aggregated_NO2_df.plot()\n",
    "plt.show()"
   ]
  },
  {
   "cell_type": "markdown",
   "id": "d8407ec2-2fff-4465-9567-9caaec1a8887",
   "metadata": {},
   "source": [
    "Processing the London wards shapefile for use in this project. Move this code into data_classes at some point."
   ]
  },
  {
   "cell_type": "code",
   "execution_count": 83,
   "id": "ed6c39f6-3f20-4263-a6b5-7940f39bae77",
   "metadata": {},
   "outputs": [],
   "source": [
    "tmp_folder = f\"/home/users/mwlw3/AQmortality/tmp/\"\n",
    "london_authorities_gdf = gpd.read_file(path.join(tmp_folder, \"london_wards_coordinates\", \"london_wards_coordinates.shp\"))[[\"BOROUGH\", \"geometry\"]].dissolve(by=\"BOROUGH\").reset_index()\n",
    "london_authorities_gdf.rename(columns={\"BOROUGH\":\"local_authority\"}, inplace=True)"
   ]
  },
  {
   "cell_type": "code",
   "execution_count": 67,
   "id": "2f1577c7-3f43-463e-ad9b-74789269ddb7",
   "metadata": {},
   "outputs": [
    {
     "data": {
      "image/png": "[encoded data removed]",
      "text/plain": [
       "<Figure size 432x288 with 1 Axes>"
      ]
     },
     "metadata": {
      "needs_background": "light"
     },
     "output_type": "display_data"
    }
   ],
   "source": [
    "london_authorities_gdf.plot()\n",
    "plt.show()"
   ]
  },
  {
   "cell_type": "code",
   "execution_count": 59,
   "id": "7ef912ec-559e-4c34-9c88-c69eb330ecb5",
   "metadata": {},
   "outputs": [],
   "source": [
    "def rename_local_authority_districts(df_to_rename, names_reference_list):\n",
    "        local_authorities_to_rename = [item for item in set(df_to_rename.local_authority.tolist())]\n",
    "        \n",
    "        mismatches = []\n",
    "        count = 0\n",
    "        for local_authority in local_authorities_to_rename:\n",
    "            if local_authority not in names_reference_list:\n",
    "                mismatches.append(local_authority)\n",
    "            else:\n",
    "                count+=1\n",
    "        print(f\"Pass 1:\\nMatched {count} out of {len(local_authorities_to_rename)} local authorities.\")\n",
    "\n",
    "        if mismatches:\n",
    "            print(\"\\nPass 2:\\nSearching for matches...\")\n",
    "            mismatch_dict = {}\n",
    "            search_letters = [local_authority[0:3] for local_authority in mismatches]\n",
    "            ref_local_authorities_breakdown = [local_authority.split(\" \") for local_authority in names_reference_list]\n",
    "            for i in range(len(search_letters)):\n",
    "                for local_authority in ref_local_authorities_breakdown:\n",
    "                    for word in local_authority:\n",
    "                        if search_letters[i] in word:\n",
    "                            mismatch_dict.update({\" \".join(local_authority): mismatches[i]})\n",
    "            if mismatch_dict:\n",
    "                print(\"Found matches (<reference_local_authority_name>: <local_authority_to_rename>):\")\n",
    "                print(mismatch_dict)\n",
    "               \n",
    "                for key in mismatch_dict.keys():\n",
    "                    df_to_rename.replace({mismatch_dict[key]: key}, inplace=True)\n",
    "                print(\"\\nLocal authorities have been renamed.\")\n",
    "        return df_to_rename"
   ]
  },
  {
   "cell_type": "code",
   "execution_count": 84,
   "id": "2078c4a6-abdf-41d4-b677-f88c7833309d",
   "metadata": {},
   "outputs": [
    {
     "name": "stdout",
     "output_type": "stream",
     "text": [
      "Pass 1:\n",
      "Matched 31 out of 33 local authorities.\n",
      "\n",
      "Pass 2:\n",
      "Searching for matches...\n",
      "Found matches (<reference_local_authority_name>: <local_authority_to_rename>):\n",
      "{'Richmond': 'Richmond upon Thames', 'Kingston': 'Kingston upon Thames'}\n",
      "\n",
      "Local authorities have been renamed.\n"
     ]
    }
   ],
   "source": [
    "london_authorities_gdf = rename_local_authority_districts(london_authorities_gdf, income_metadata_df[\"local_authority\"].tolist())"
   ]
  },
  {
   "cell_type": "code",
   "execution_count": 127,
   "id": "ae6b3156-76e0-4069-8e79-7412ab5901cf",
   "metadata": {},
   "outputs": [],
   "source": [
    "london_authorities_gdf[\"neighbours\"] = None\n",
    "edge_pairs = []\n",
    "\n",
    "for index, row in london_authorities_gdf.iterrows():\n",
    "    # get adjoining local authorities\n",
    "    neighbours = london_authorities_gdf[london_authorities_gdf.geometry.touches(row.geometry)].local_authority.tolist()\n",
    "    neighbours_index = london_authorities_gdf[london_authorities_gdf.geometry.touches(row.geometry)].index.tolist()\n",
    "\n",
    "    # add names of neighbours as row value\n",
    "    london_authorities_gdf.at[index, \"neighbours\"] = neighbours\n",
    "    \n",
    "    # add the neighbouring pair of indices to the edge_pairs list\n",
    "    for neighbour in neighbours_index:\n",
    "        edge_pairs.append([index, neighbour])"
   ]
  },
  {
   "cell_type": "code",
   "execution_count": 132,
   "id": "b017d0e0-511a-4932-b605-891084087e07",
   "metadata": {},
   "outputs": [
    {
     "data": {
      "text/plain": [
       "(164, 2)"
      ]
     },
     "execution_count": 132,
     "metadata": {},
     "output_type": "execute_result"
    }
   ],
   "source": [
    "np.array(edge_pairs).shape"
   ]
  },
  {
   "cell_type": "code",
   "execution_count": 93,
   "id": "65e1e6b7-14f3-40db-9703-fc294c884cc1",
   "metadata": {},
   "outputs": [
    {
     "data": {
      "text/plain": [
       "['Bexley', 'Greenwich', 'Havering', 'Newham', 'Redbridge']"
      ]
     },
     "execution_count": 93,
     "metadata": {},
     "output_type": "execute_result"
    }
   ],
   "source": [
    "london_authorities_gdf.iloc[0].neighbours"
   ]
  },
  {
   "cell_type": "code",
   "execution_count": 98,
   "id": "020a26b6-ae32-49ba-abc7-93dbce670751",
   "metadata": {},
   "outputs": [
    {
     "data": {
      "text/plain": [
       "Int64Index([2], dtype='int64')"
      ]
     },
     "execution_count": 98,
     "metadata": {},
     "output_type": "execute_result"
    }
   ],
   "source": [
    "london_authorities_gdf[london_authorities_gdf.local_authority==\"Bexley\"].index"
   ]
  },
  {
   "cell_type": "code",
   "execution_count": null,
   "id": "8007b309-3315-4a19-84a1-1da59ff93d99",
   "metadata": {},
   "outputs": [],
   "source": [
    "\n",
    "\n",
    "for i in range(len(london_authorities_gdf)):\n",
    "    "
   ]
  }
 ],
 "metadata": {
  "kernelspec": {
   "display_name": "AQmort",
   "language": "python",
   "name": "aqmort"
  },
  "language_info": {
   "codemirror_mode": {
    "name": "ipython",
    "version": 3
   },
   "file_extension": ".py",
   "mimetype": "text/x-python",
   "name": "python",
   "nbconvert_exporter": "python",
   "pygments_lexer": "ipython3",
   "version": "3.9.12"
  }
 },
 "nbformat": 4,
 "nbformat_minor": 5
}
