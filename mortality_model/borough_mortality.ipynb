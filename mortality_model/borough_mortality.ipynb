{
 "cells": [
  {
   "cell_type": "markdown",
   "id": "3d15b7d7-d0fa-45a5-aeba-15c9db2b10b2",
   "metadata": {},
   "source": [
    "Imports"
   ]
  },
  {
   "cell_type": "code",
   "execution_count": 1,
   "id": "24a0343e-8dfb-4015-ac29-616d561901ce",
   "metadata": {},
   "outputs": [
    {
     "name": "stderr",
     "output_type": "stream",
     "text": [
      "/home/users/mwlw3/miniconda3/envs/AQmort/lib/python3.8/site-packages/pyproj/__init__.py:89: UserWarning: pyproj unable to set database path.\n",
      "  _pyproj_global_context_initialize()\n"
     ]
    }
   ],
   "source": [
    "from data_classes import LAQNData, HealthData, MetData, IncomeData\n",
    "from os import path\n",
    "import pandas as pd\n",
    "import matplotlib.pyplot as plt\n",
    "import matplotlib.cm as cm\n",
    "import requests\n",
    "import geopandas as gpd\n",
    "import numpy as np\n",
    "import networkx as nx\n",
    "import torch\n",
    "import torch_geometric"
   ]
  },
  {
   "cell_type": "code",
   "execution_count": 2,
   "id": "fefa0a35-7e1d-49ae-9cc2-d1011da45e19",
   "metadata": {
    "tags": []
   },
   "outputs": [],
   "source": [
    "species = \"NO2\"\n",
    "region = \"London\"\n",
    "NO2 = LAQNData(species, region)"
   ]
  },
  {
   "cell_type": "code",
   "execution_count": 3,
   "id": "e7438379-b1d1-49a1-8200-7a81ca633053",
   "metadata": {
    "tags": []
   },
   "outputs": [],
   "source": [
    "income = IncomeData()"
   ]
  },
  {
   "cell_type": "code",
   "execution_count": 96,
   "id": "9b06c973-f34b-486b-bdb6-b2665248dbfb",
   "metadata": {},
   "outputs": [],
   "source": [
    "met = MetData(\"Heathrow\")"
   ]
  },
  {
   "cell_type": "markdown",
   "id": "c9b2f365-c643-4883-824b-98f029b302ed",
   "metadata": {},
   "source": [
    "Load the resampled daily meteorological data:"
   ]
  },
  {
   "cell_type": "code",
   "execution_count": 98,
   "id": "5bade143-fd96-4c3c-9120-2fd95ae2454b",
   "metadata": {
    "collapsed": true,
    "jupyter": {
     "outputs_hidden": true
    },
    "tags": []
   },
   "outputs": [
    {
     "data": {
      "text/html": [
       "Tracking run with wandb version 0.12.21"
      ],
      "text/plain": [
       "<IPython.core.display.HTML object>"
      ]
     },
     "metadata": {},
     "output_type": "display_data"
    },
    {
     "data": {
      "text/html": [
       "Run data is saved locally in <code>/home/users/mwlw3/AQmortality/mortality_model/wandb/run-20220712_152429-3hpk8lit</code>"
      ],
      "text/plain": [
       "<IPython.core.display.HTML object>"
      ]
     },
     "metadata": {},
     "output_type": "display_data"
    },
    {
     "data": {
      "text/html": [
       "Syncing run <strong><a href=\"https://wandb.ai/michellewl/AQmortality/runs/3hpk8lit\" target=\"_blank\">sunny-butterfly-402</a></strong> to <a href=\"https://wandb.ai/michellewl/AQmortality\" target=\"_blank\">Weights & Biases</a> (<a href=\"https://wandb.me/run\" target=\"_blank\">docs</a>)<br/>"
      ],
      "text/plain": [
       "<IPython.core.display.HTML object>"
      ]
     },
     "metadata": {},
     "output_type": "display_data"
    },
    {
     "data": {
      "text/html": [
       "Waiting for W&B process to finish... <strong style=\"color:green\">(success).</strong>"
      ],
      "text/plain": [
       "<IPython.core.display.HTML object>"
      ]
     },
     "metadata": {},
     "output_type": "display_data"
    },
    {
     "data": {
      "application/vnd.jupyter.widget-view+json": {
       "model_id": "f52f6dd3ff8b402a8ea0d50638c7a49d",
       "version_major": 2,
       "version_minor": 0
      },
      "text/plain": [
       "VBox(children=(Label(value='0.000 MB of 0.000 MB uploaded (0.000 MB deduped)\\r'), FloatProgress(value=1.0, max…"
      ]
     },
     "metadata": {},
     "output_type": "display_data"
    },
    {
     "data": {
      "text/html": [
       "Synced <strong style=\"color:#cdcd00\">sunny-butterfly-402</strong>: <a href=\"https://wandb.ai/michellewl/AQmortality/runs/3hpk8lit\" target=\"_blank\">https://wandb.ai/michellewl/AQmortality/runs/3hpk8lit</a><br/>Synced 5 W&B file(s), 0 media file(s), 0 artifact file(s) and 0 other file(s)"
      ],
      "text/plain": [
       "<IPython.core.display.HTML object>"
      ]
     },
     "metadata": {},
     "output_type": "display_data"
    },
    {
     "data": {
      "text/html": [
       "Find logs at: <code>./wandb/run-20220712_152429-3hpk8lit/logs</code>"
      ],
      "text/plain": [
       "<IPython.core.display.HTML object>"
      ]
     },
     "metadata": {},
     "output_type": "display_data"
    }
   ],
   "source": [
    "variables = [\"temperature\", \"dew_point\", \"humidity\", \"precip\", \"wind_dir\", \"wind_speed\", \"peak_gust\", \"pressure\"]\n",
    "daily_met_df = met.read(variables, \"met-resample\")"
   ]
  },
  {
   "cell_type": "markdown",
   "id": "f4d30287-9954-41d3-879c-2e99fdcd539d",
   "metadata": {
    "tags": []
   },
   "source": [
    "Load the resampled daily NO2 data:"
   ]
  },
  {
   "cell_type": "code",
   "execution_count": 14,
   "id": "e80ff8f5-db20-4f06-89ae-2b21a41ec944",
   "metadata": {},
   "outputs": [],
   "source": [
    "# daily_NO2_df = NO2.read(\"laqn-resample\")\n",
    "# daily_NO2_df.head(5)"
   ]
  },
  {
   "cell_type": "markdown",
   "id": "545774a2-f6c1-401f-a517-ec812016c87a",
   "metadata": {},
   "source": [
    "Load the resampled daily income data:"
   ]
  },
  {
   "cell_type": "code",
   "execution_count": 4,
   "id": "c1c98250-89d2-49e5-8536-c50bfdf306fc",
   "metadata": {
    "collapsed": true,
    "jupyter": {
     "outputs_hidden": true
    },
    "tags": []
   },
   "outputs": [
    {
     "name": "stderr",
     "output_type": "stream",
     "text": [
      "Failed to detect the name of this notebook, you can set it manually with the WANDB_NOTEBOOK_NAME environment variable to enable code saving.\n",
      "\u001b[34m\u001b[1mwandb\u001b[0m: Currently logged in as: \u001b[33mmichellewl\u001b[0m. Use \u001b[1m`wandb login --relogin`\u001b[0m to force relogin\n"
     ]
    },
    {
     "data": {
      "text/html": [
       "Tracking run with wandb version 0.12.21"
      ],
      "text/plain": [
       "<IPython.core.display.HTML object>"
      ]
     },
     "metadata": {},
     "output_type": "display_data"
    },
    {
     "data": {
      "text/html": [
       "Run data is saved locally in <code>/home/users/mwlw3/AQmortality/mortality_model/wandb/run-20220712_142622-1bf7r44y</code>"
      ],
      "text/plain": [
       "<IPython.core.display.HTML object>"
      ]
     },
     "metadata": {},
     "output_type": "display_data"
    },
    {
     "data": {
      "text/html": [
       "Syncing run <strong><a href=\"https://wandb.ai/michellewl/AQmortality/runs/1bf7r44y\" target=\"_blank\">zany-lion-399</a></strong> to <a href=\"https://wandb.ai/michellewl/AQmortality\" target=\"_blank\">Weights & Biases</a> (<a href=\"https://wandb.me/run\" target=\"_blank\">docs</a>)<br/>"
      ],
      "text/plain": [
       "<IPython.core.display.HTML object>"
      ]
     },
     "metadata": {},
     "output_type": "display_data"
    },
    {
     "data": {
      "text/html": [
       "Waiting for W&B process to finish... <strong style=\"color:green\">(success).</strong>"
      ],
      "text/plain": [
       "<IPython.core.display.HTML object>"
      ]
     },
     "metadata": {},
     "output_type": "display_data"
    },
    {
     "data": {
      "application/vnd.jupyter.widget-view+json": {
       "model_id": "3c4312f8dba5473e8867fe1fac272fe3",
       "version_major": 2,
       "version_minor": 0
      },
      "text/plain": [
       "VBox(children=(Label(value='0.000 MB of 0.000 MB uploaded (0.000 MB deduped)\\r'), FloatProgress(value=1.0, max…"
      ]
     },
     "metadata": {},
     "output_type": "display_data"
    },
    {
     "data": {
      "text/html": [
       "Synced <strong style=\"color:#cdcd00\">zany-lion-399</strong>: <a href=\"https://wandb.ai/michellewl/AQmortality/runs/1bf7r44y\" target=\"_blank\">https://wandb.ai/michellewl/AQmortality/runs/1bf7r44y</a><br/>Synced 5 W&B file(s), 0 media file(s), 0 artifact file(s) and 0 other file(s)"
      ],
      "text/plain": [
       "<IPython.core.display.HTML object>"
      ]
     },
     "metadata": {},
     "output_type": "display_data"
    },
    {
     "data": {
      "text/html": [
       "Find logs at: <code>./wandb/run-20220712_142622-1bf7r44y/logs</code>"
      ],
      "text/plain": [
       "<IPython.core.display.HTML object>"
      ]
     },
     "metadata": {},
     "output_type": "display_data"
    },
    {
     "data": {
      "text/html": [
       "<div>\n",
       "<style scoped>\n",
       "    .dataframe tbody tr th:only-of-type {\n",
       "        vertical-align: middle;\n",
       "    }\n",
       "\n",
       "    .dataframe tbody tr th {\n",
       "        vertical-align: top;\n",
       "    }\n",
       "\n",
       "    .dataframe thead th {\n",
       "        text-align: right;\n",
       "    }\n",
       "</style>\n",
       "<table border=\"1\" class=\"dataframe\">\n",
       "  <thead>\n",
       "    <tr style=\"text-align: right;\">\n",
       "      <th></th>\n",
       "      <th>E09000011</th>\n",
       "      <th>E09000003</th>\n",
       "      <th>E09000024</th>\n",
       "      <th>E09000002</th>\n",
       "      <th>E09000018</th>\n",
       "      <th>E09000005</th>\n",
       "      <th>E09000015</th>\n",
       "      <th>E09000006</th>\n",
       "      <th>E09000019</th>\n",
       "      <th>E09000025</th>\n",
       "      <th>...</th>\n",
       "      <th>E09000023</th>\n",
       "      <th>E09000009</th>\n",
       "      <th>E09000016</th>\n",
       "      <th>E09000001</th>\n",
       "      <th>E09000031</th>\n",
       "      <th>E09000027</th>\n",
       "      <th>E09000022</th>\n",
       "      <th>E09000032</th>\n",
       "      <th>E09000004</th>\n",
       "      <th>E09000033</th>\n",
       "    </tr>\n",
       "  </thead>\n",
       "  <tbody>\n",
       "    <tr>\n",
       "      <th>1997-01-01</th>\n",
       "      <td>13456.000000</td>\n",
       "      <td>12621.000000</td>\n",
       "      <td>16260.000000</td>\n",
       "      <td>8410.000000</td>\n",
       "      <td>13943.0</td>\n",
       "      <td>10766.000000</td>\n",
       "      <td>12901.000000</td>\n",
       "      <td>13902.000000</td>\n",
       "      <td>16476.000000</td>\n",
       "      <td>5910.000000</td>\n",
       "      <td>...</td>\n",
       "      <td>9226.000000</td>\n",
       "      <td>12923.000000</td>\n",
       "      <td>11602.000000</td>\n",
       "      <td>81474.000000</td>\n",
       "      <td>10461.000000</td>\n",
       "      <td>21860.000000</td>\n",
       "      <td>11074.000000</td>\n",
       "      <td>13863.000000</td>\n",
       "      <td>12101.000000</td>\n",
       "      <td>20968.000000</td>\n",
       "    </tr>\n",
       "    <tr>\n",
       "      <th>1997-01-02</th>\n",
       "      <td>13456.169863</td>\n",
       "      <td>12622.961644</td>\n",
       "      <td>16260.986301</td>\n",
       "      <td>8410.704110</td>\n",
       "      <td>13943.6</td>\n",
       "      <td>10767.298630</td>\n",
       "      <td>12903.035616</td>\n",
       "      <td>13903.561644</td>\n",
       "      <td>16476.531507</td>\n",
       "      <td>5911.405479</td>\n",
       "      <td>...</td>\n",
       "      <td>9226.923288</td>\n",
       "      <td>12923.969863</td>\n",
       "      <td>11603.232877</td>\n",
       "      <td>81496.745205</td>\n",
       "      <td>10461.621918</td>\n",
       "      <td>21861.254795</td>\n",
       "      <td>11074.810959</td>\n",
       "      <td>13867.306849</td>\n",
       "      <td>12101.219178</td>\n",
       "      <td>20970.556164</td>\n",
       "    </tr>\n",
       "    <tr>\n",
       "      <th>1997-01-03</th>\n",
       "      <td>13456.339726</td>\n",
       "      <td>12624.923288</td>\n",
       "      <td>16261.972603</td>\n",
       "      <td>8411.408219</td>\n",
       "      <td>13944.2</td>\n",
       "      <td>10768.597260</td>\n",
       "      <td>12905.071233</td>\n",
       "      <td>13905.123288</td>\n",
       "      <td>16477.063014</td>\n",
       "      <td>5912.810959</td>\n",
       "      <td>...</td>\n",
       "      <td>9227.846575</td>\n",
       "      <td>12924.939726</td>\n",
       "      <td>11604.465753</td>\n",
       "      <td>81519.490411</td>\n",
       "      <td>10462.243836</td>\n",
       "      <td>21862.509589</td>\n",
       "      <td>11075.621918</td>\n",
       "      <td>13871.613699</td>\n",
       "      <td>12101.438356</td>\n",
       "      <td>20973.112329</td>\n",
       "    </tr>\n",
       "    <tr>\n",
       "      <th>1997-01-04</th>\n",
       "      <td>13456.509589</td>\n",
       "      <td>12626.884932</td>\n",
       "      <td>16262.958904</td>\n",
       "      <td>8412.112329</td>\n",
       "      <td>13944.8</td>\n",
       "      <td>10769.895890</td>\n",
       "      <td>12907.106849</td>\n",
       "      <td>13906.684932</td>\n",
       "      <td>16477.594521</td>\n",
       "      <td>5914.216438</td>\n",
       "      <td>...</td>\n",
       "      <td>9228.769863</td>\n",
       "      <td>12925.909589</td>\n",
       "      <td>11605.698630</td>\n",
       "      <td>81542.235616</td>\n",
       "      <td>10462.865753</td>\n",
       "      <td>21863.764384</td>\n",
       "      <td>11076.432877</td>\n",
       "      <td>13875.920548</td>\n",
       "      <td>12101.657534</td>\n",
       "      <td>20975.668493</td>\n",
       "    </tr>\n",
       "    <tr>\n",
       "      <th>1997-01-05</th>\n",
       "      <td>13456.679452</td>\n",
       "      <td>12628.846575</td>\n",
       "      <td>16263.945205</td>\n",
       "      <td>8412.816438</td>\n",
       "      <td>13945.4</td>\n",
       "      <td>10771.194521</td>\n",
       "      <td>12909.142466</td>\n",
       "      <td>13908.246575</td>\n",
       "      <td>16478.126027</td>\n",
       "      <td>5915.621918</td>\n",
       "      <td>...</td>\n",
       "      <td>9229.693151</td>\n",
       "      <td>12926.879452</td>\n",
       "      <td>11606.931507</td>\n",
       "      <td>81564.980822</td>\n",
       "      <td>10463.487671</td>\n",
       "      <td>21865.019178</td>\n",
       "      <td>11077.243836</td>\n",
       "      <td>13880.227397</td>\n",
       "      <td>12101.876712</td>\n",
       "      <td>20978.224658</td>\n",
       "    </tr>\n",
       "  </tbody>\n",
       "</table>\n",
       "<p>5 rows × 33 columns</p>\n",
       "</div>"
      ],
      "text/plain": [
       "               E09000011     E09000003     E09000024    E09000002  E09000018  \\\n",
       "1997-01-01  13456.000000  12621.000000  16260.000000  8410.000000    13943.0   \n",
       "1997-01-02  13456.169863  12622.961644  16260.986301  8410.704110    13943.6   \n",
       "1997-01-03  13456.339726  12624.923288  16261.972603  8411.408219    13944.2   \n",
       "1997-01-04  13456.509589  12626.884932  16262.958904  8412.112329    13944.8   \n",
       "1997-01-05  13456.679452  12628.846575  16263.945205  8412.816438    13945.4   \n",
       "\n",
       "               E09000005     E09000015     E09000006     E09000019  \\\n",
       "1997-01-01  10766.000000  12901.000000  13902.000000  16476.000000   \n",
       "1997-01-02  10767.298630  12903.035616  13903.561644  16476.531507   \n",
       "1997-01-03  10768.597260  12905.071233  13905.123288  16477.063014   \n",
       "1997-01-04  10769.895890  12907.106849  13906.684932  16477.594521   \n",
       "1997-01-05  10771.194521  12909.142466  13908.246575  16478.126027   \n",
       "\n",
       "              E09000025  ...    E09000023     E09000009     E09000016  \\\n",
       "1997-01-01  5910.000000  ...  9226.000000  12923.000000  11602.000000   \n",
       "1997-01-02  5911.405479  ...  9226.923288  12923.969863  11603.232877   \n",
       "1997-01-03  5912.810959  ...  9227.846575  12924.939726  11604.465753   \n",
       "1997-01-04  5914.216438  ...  9228.769863  12925.909589  11605.698630   \n",
       "1997-01-05  5915.621918  ...  9229.693151  12926.879452  11606.931507   \n",
       "\n",
       "               E09000001     E09000031     E09000027     E09000022  \\\n",
       "1997-01-01  81474.000000  10461.000000  21860.000000  11074.000000   \n",
       "1997-01-02  81496.745205  10461.621918  21861.254795  11074.810959   \n",
       "1997-01-03  81519.490411  10462.243836  21862.509589  11075.621918   \n",
       "1997-01-04  81542.235616  10462.865753  21863.764384  11076.432877   \n",
       "1997-01-05  81564.980822  10463.487671  21865.019178  11077.243836   \n",
       "\n",
       "               E09000032     E09000004     E09000033  \n",
       "1997-01-01  13863.000000  12101.000000  20968.000000  \n",
       "1997-01-02  13867.306849  12101.219178  20970.556164  \n",
       "1997-01-03  13871.613699  12101.438356  20973.112329  \n",
       "1997-01-04  13875.920548  12101.657534  20975.668493  \n",
       "1997-01-05  13880.227397  12101.876712  20978.224658  \n",
       "\n",
       "[5 rows x 33 columns]"
      ]
     },
     "execution_count": 4,
     "metadata": {},
     "output_type": "execute_result"
    }
   ],
   "source": [
    "daily_income_df = income.read(\"income-resample\")\n",
    "daily_income_df.head(5)"
   ]
  },
  {
   "cell_type": "markdown",
   "id": "8ccef795-dc8e-45ec-be00-1f6d1c7ce0ba",
   "metadata": {},
   "source": [
    "Rename the local authorities in the income metadata using the LAQN metadata:"
   ]
  },
  {
   "cell_type": "code",
   "execution_count": null,
   "id": "47f9fff6-5b4b-4a1d-9aa1-beb45ec4d249",
   "metadata": {
    "tags": []
   },
   "outputs": [],
   "source": [
    "# income_metadata_df = income.rename_local_authority_districts_and_log(reference=\"use_LAQN\")"
   ]
  },
  {
   "cell_type": "markdown",
   "id": "a9d83a92-2694-49b9-a97b-0ace76350ed2",
   "metadata": {},
   "source": [
    "Load the renamed income metadata:"
   ]
  },
  {
   "cell_type": "code",
   "execution_count": 5,
   "id": "f0ac8660-18de-46f2-a2f6-fb0a0090a78b",
   "metadata": {
    "collapsed": true,
    "jupyter": {
     "outputs_hidden": true
    },
    "tags": []
   },
   "outputs": [
    {
     "data": {
      "text/html": [
       "Tracking run with wandb version 0.12.21"
      ],
      "text/plain": [
       "<IPython.core.display.HTML object>"
      ]
     },
     "metadata": {},
     "output_type": "display_data"
    },
    {
     "data": {
      "text/html": [
       "Run data is saved locally in <code>/home/users/mwlw3/AQmortality/mortality_model/wandb/run-20220712_142641-172jqpas</code>"
      ],
      "text/plain": [
       "<IPython.core.display.HTML object>"
      ]
     },
     "metadata": {},
     "output_type": "display_data"
    },
    {
     "data": {
      "text/html": [
       "Syncing run <strong><a href=\"https://wandb.ai/michellewl/AQmortality/runs/172jqpas\" target=\"_blank\">magic-glade-400</a></strong> to <a href=\"https://wandb.ai/michellewl/AQmortality\" target=\"_blank\">Weights & Biases</a> (<a href=\"https://wandb.me/run\" target=\"_blank\">docs</a>)<br/>"
      ],
      "text/plain": [
       "<IPython.core.display.HTML object>"
      ]
     },
     "metadata": {},
     "output_type": "display_data"
    },
    {
     "data": {
      "text/html": [
       "Waiting for W&B process to finish... <strong style=\"color:green\">(success).</strong>"
      ],
      "text/plain": [
       "<IPython.core.display.HTML object>"
      ]
     },
     "metadata": {},
     "output_type": "display_data"
    },
    {
     "data": {
      "application/vnd.jupyter.widget-view+json": {
       "model_id": "afa44673bd144818aa1eee17140cfb38",
       "version_major": 2,
       "version_minor": 0
      },
      "text/plain": [
       "VBox(children=(Label(value='0.000 MB of 0.000 MB uploaded (0.000 MB deduped)\\r'), FloatProgress(value=1.0, max…"
      ]
     },
     "metadata": {},
     "output_type": "display_data"
    },
    {
     "data": {
      "text/html": [
       "Synced <strong style=\"color:#cdcd00\">magic-glade-400</strong>: <a href=\"https://wandb.ai/michellewl/AQmortality/runs/172jqpas\" target=\"_blank\">https://wandb.ai/michellewl/AQmortality/runs/172jqpas</a><br/>Synced 5 W&B file(s), 0 media file(s), 0 artifact file(s) and 0 other file(s)"
      ],
      "text/plain": [
       "<IPython.core.display.HTML object>"
      ]
     },
     "metadata": {},
     "output_type": "display_data"
    },
    {
     "data": {
      "text/html": [
       "Find logs at: <code>./wandb/run-20220712_142641-172jqpas/logs</code>"
      ],
      "text/plain": [
       "<IPython.core.display.HTML object>"
      ]
     },
     "metadata": {},
     "output_type": "display_data"
    }
   ],
   "source": [
    "income_metadata_df = income.read(\"income-metadata\")"
   ]
  },
  {
   "cell_type": "markdown",
   "id": "af23f6fe-7f38-4036-89ed-8a2ba5ca8725",
   "metadata": {},
   "source": [
    "Spatially aggregate the LAQN data at the local authority level, with implementation of the algorithm used in Schwartz, 2000:"
   ]
  },
  {
   "cell_type": "code",
   "execution_count": 12,
   "id": "a49e8974-b5aa-4b9c-a3a9-e2cc5fe24d55",
   "metadata": {
    "tags": []
   },
   "outputs": [],
   "source": [
    "# aggregated_NO2_df = NO2.local_authority_aggregation_and_log()"
   ]
  },
  {
   "cell_type": "markdown",
   "id": "198ef356-6cd6-402a-be72-2e48ec0503b9",
   "metadata": {},
   "source": [
    "Load the spatially aggregated LAQN data:"
   ]
  },
  {
   "cell_type": "code",
   "execution_count": 6,
   "id": "028cbc81-5284-427c-840b-77b077171994",
   "metadata": {
    "collapsed": true,
    "jupyter": {
     "outputs_hidden": true
    },
    "tags": []
   },
   "outputs": [
    {
     "data": {
      "text/html": [
       "Tracking run with wandb version 0.12.21"
      ],
      "text/plain": [
       "<IPython.core.display.HTML object>"
      ]
     },
     "metadata": {},
     "output_type": "display_data"
    },
    {
     "data": {
      "text/html": [
       "Run data is saved locally in <code>/home/users/mwlw3/AQmortality/mortality_model/wandb/run-20220712_142656-1sgj7yp7</code>"
      ],
      "text/plain": [
       "<IPython.core.display.HTML object>"
      ]
     },
     "metadata": {},
     "output_type": "display_data"
    },
    {
     "data": {
      "text/html": [
       "Syncing run <strong><a href=\"https://wandb.ai/michellewl/AQmortality/runs/1sgj7yp7\" target=\"_blank\">pleasant-plant-401</a></strong> to <a href=\"https://wandb.ai/michellewl/AQmortality\" target=\"_blank\">Weights & Biases</a> (<a href=\"https://wandb.me/run\" target=\"_blank\">docs</a>)<br/>"
      ],
      "text/plain": [
       "<IPython.core.display.HTML object>"
      ]
     },
     "metadata": {},
     "output_type": "display_data"
    },
    {
     "data": {
      "text/html": [
       "Waiting for W&B process to finish... <strong style=\"color:green\">(success).</strong>"
      ],
      "text/plain": [
       "<IPython.core.display.HTML object>"
      ]
     },
     "metadata": {},
     "output_type": "display_data"
    },
    {
     "data": {
      "application/vnd.jupyter.widget-view+json": {
       "model_id": "cd3d636dd3e847658b40c3442409bb4a",
       "version_major": 2,
       "version_minor": 0
      },
      "text/plain": [
       "VBox(children=(Label(value='0.000 MB of 0.000 MB uploaded (0.000 MB deduped)\\r'), FloatProgress(value=1.0, max…"
      ]
     },
     "metadata": {},
     "output_type": "display_data"
    },
    {
     "data": {
      "text/html": [
       "Synced <strong style=\"color:#cdcd00\">pleasant-plant-401</strong>: <a href=\"https://wandb.ai/michellewl/AQmortality/runs/1sgj7yp7\" target=\"_blank\">https://wandb.ai/michellewl/AQmortality/runs/1sgj7yp7</a><br/>Synced 5 W&B file(s), 0 media file(s), 0 artifact file(s) and 0 other file(s)"
      ],
      "text/plain": [
       "<IPython.core.display.HTML object>"
      ]
     },
     "metadata": {},
     "output_type": "display_data"
    },
    {
     "data": {
      "text/html": [
       "Find logs at: <code>./wandb/run-20220712_142656-1sgj7yp7/logs</code>"
      ],
      "text/plain": [
       "<IPython.core.display.HTML object>"
      ]
     },
     "metadata": {},
     "output_type": "display_data"
    }
   ],
   "source": [
    "aggregated_NO2_df = NO2.read(\"laqn-local-authority\")"
   ]
  },
  {
   "cell_type": "code",
   "execution_count": 7,
   "id": "58247707-5ed0-4e25-b79b-f68e9b95caa3",
   "metadata": {},
   "outputs": [
    {
     "name": "stdout",
     "output_type": "stream",
     "text": [
      "(8401, 33)\n"
     ]
    },
    {
     "data": {
      "image/png": "[encoded data removed]",
      "text/plain": [
       "<Figure size 432x288 with 1 Axes>"
      ]
     },
     "metadata": {
      "needs_background": "light"
     },
     "output_type": "display_data"
    }
   ],
   "source": [
    "print(aggregated_NO2_df.shape)\n",
    "aggregated_NO2_df.plot()\n",
    "plt.show()"
   ]
  },
  {
   "cell_type": "markdown",
   "id": "d8407ec2-2fff-4465-9567-9caaec1a8887",
   "metadata": {},
   "source": [
    "Processing the London wards shapefile for use in this project. Move this code into data_classes at some point."
   ]
  },
  {
   "cell_type": "code",
   "execution_count": 8,
   "id": "ed6c39f6-3f20-4263-a6b5-7940f39bae77",
   "metadata": {},
   "outputs": [],
   "source": [
    "tmp_folder = f\"/home/users/mwlw3/AQmortality/tmp/\"\n",
    "london_authorities_gdf = gpd.read_file(path.join(tmp_folder, \"london_wards_coordinates\", \"london_wards_coordinates.shp\"))[[\"BOROUGH\", \"geometry\"]].dissolve(by=\"BOROUGH\").reset_index()\n",
    "london_authorities_gdf.rename(columns={\"BOROUGH\":\"local_authority\"}, inplace=True)"
   ]
  },
  {
   "cell_type": "code",
   "execution_count": 9,
   "id": "2f1577c7-3f43-463e-ad9b-74789269ddb7",
   "metadata": {},
   "outputs": [
    {
     "data": {
      "image/png": "[encoded data removed]",
      "text/plain": [
       "<Figure size 432x288 with 1 Axes>"
      ]
     },
     "metadata": {
      "needs_background": "light"
     },
     "output_type": "display_data"
    }
   ],
   "source": [
    "london_authorities_gdf.plot()\n",
    "plt.show()"
   ]
  },
  {
   "cell_type": "code",
   "execution_count": 10,
   "id": "7ef912ec-559e-4c34-9c88-c69eb330ecb5",
   "metadata": {},
   "outputs": [],
   "source": [
    "def rename_local_authority_districts(df_to_rename, names_reference_list):\n",
    "        local_authorities_to_rename = [item for item in set(df_to_rename.local_authority.tolist())]\n",
    "        \n",
    "        mismatches = []\n",
    "        count = 0\n",
    "        for local_authority in local_authorities_to_rename:\n",
    "            if local_authority not in names_reference_list:\n",
    "                mismatches.append(local_authority)\n",
    "            else:\n",
    "                count+=1\n",
    "        print(f\"Pass 1:\\nMatched {count} out of {len(local_authorities_to_rename)} local authorities.\")\n",
    "\n",
    "        if mismatches:\n",
    "            print(\"\\nPass 2:\\nSearching for matches...\")\n",
    "            mismatch_dict = {}\n",
    "            search_letters = [local_authority[0:3] for local_authority in mismatches]\n",
    "            ref_local_authorities_breakdown = [local_authority.split(\" \") for local_authority in names_reference_list]\n",
    "            for i in range(len(search_letters)):\n",
    "                for local_authority in ref_local_authorities_breakdown:\n",
    "                    for word in local_authority:\n",
    "                        if search_letters[i] in word:\n",
    "                            mismatch_dict.update({\" \".join(local_authority): mismatches[i]})\n",
    "            if mismatch_dict:\n",
    "                print(\"Found matches (<reference_local_authority_name>: <local_authority_to_rename>):\")\n",
    "                print(mismatch_dict)\n",
    "               \n",
    "                for key in mismatch_dict.keys():\n",
    "                    df_to_rename.replace({mismatch_dict[key]: key}, inplace=True)\n",
    "                print(\"\\nLocal authorities have been renamed.\")\n",
    "        return df_to_rename"
   ]
  },
  {
   "cell_type": "code",
   "execution_count": 11,
   "id": "2078c4a6-abdf-41d4-b677-f88c7833309d",
   "metadata": {},
   "outputs": [
    {
     "name": "stdout",
     "output_type": "stream",
     "text": [
      "Pass 1:\n",
      "Matched 31 out of 33 local authorities.\n",
      "\n",
      "Pass 2:\n",
      "Searching for matches...\n",
      "Found matches (<reference_local_authority_name>: <local_authority_to_rename>):\n",
      "{'Kingston': 'Kingston upon Thames', 'Richmond': 'Richmond upon Thames'}\n",
      "\n",
      "Local authorities have been renamed.\n"
     ]
    }
   ],
   "source": [
    "london_authorities_gdf = rename_local_authority_districts(london_authorities_gdf, income_metadata_df[\"local_authority\"].tolist())"
   ]
  },
  {
   "cell_type": "markdown",
   "id": "fcc1270d-ba7d-4336-8496-0b13060c1854",
   "metadata": {},
   "source": [
    "Set up the node connections:"
   ]
  },
  {
   "cell_type": "code",
   "execution_count": 12,
   "id": "ae6b3156-76e0-4069-8e79-7412ab5901cf",
   "metadata": {},
   "outputs": [],
   "source": [
    "london_authorities_gdf[\"neighbours\"] = None\n",
    "edge_pairs = []\n",
    "\n",
    "for index, row in london_authorities_gdf.iterrows():\n",
    "    # get adjoining local authorities\n",
    "    neighbours = london_authorities_gdf[london_authorities_gdf.geometry.touches(row.geometry)].local_authority.tolist()\n",
    "    neighbours_index = london_authorities_gdf[london_authorities_gdf.geometry.touches(row.geometry)].index.tolist()\n",
    "\n",
    "    # add names of neighbours as row value\n",
    "    london_authorities_gdf.at[index, \"neighbours\"] = neighbours\n",
    "    \n",
    "    # add the neighbouring pair of indices to the edge_pairs list\n",
    "    for neighbour in neighbours_index:\n",
    "        edge_pairs.append([index, neighbour])"
   ]
  },
  {
   "cell_type": "code",
   "execution_count": 13,
   "id": "b017d0e0-511a-4932-b605-891084087e07",
   "metadata": {},
   "outputs": [],
   "source": [
    "edge_pairs = np.array(edge_pairs).transpose()"
   ]
  },
  {
   "cell_type": "code",
   "execution_count": 14,
   "id": "55aa14fe-5854-414e-b0a8-da73d2456440",
   "metadata": {},
   "outputs": [
    {
     "data": {
      "text/plain": [
       "(2, 164)"
      ]
     },
     "execution_count": 14,
     "metadata": {},
     "output_type": "execute_result"
    }
   ],
   "source": [
    "edge_pairs.shape"
   ]
  },
  {
   "cell_type": "code",
   "execution_count": 15,
   "id": "4f53dc91-875f-4692-9b07-f5850e83571f",
   "metadata": {},
   "outputs": [],
   "source": [
    "edge_index = torch.tensor(edge_pairs, dtype=torch.long)"
   ]
  },
  {
   "cell_type": "code",
   "execution_count": 16,
   "id": "a9afa957-24a2-4537-974a-b956830fa012",
   "metadata": {},
   "outputs": [],
   "source": [
    "node_index = london_authorities_gdf.index.values.reshape(-1,1)\n",
    "x = torch.tensor(node_index, dtype=torch.float)"
   ]
  },
  {
   "cell_type": "code",
   "execution_count": 22,
   "id": "38daa943-7c3f-4814-8f22-bcf7ae17b3d0",
   "metadata": {},
   "outputs": [
    {
     "data": {
      "image/png": "[encoded data removed]",
      "text/plain": [
       "<Figure size 432x288 with 1 Axes>"
      ]
     },
     "metadata": {},
     "output_type": "display_data"
    }
   ],
   "source": [
    "data = torch_geometric.data.Data(x=x, edge_index=edge_index)\n",
    "graph = torch_geometric.utils.to_networkx(data, to_undirected=True)\n",
    "nx.draw(graph)"
   ]
  },
  {
   "cell_type": "markdown",
   "id": "46a812c6-737a-4768-9c15-1d5585124b83",
   "metadata": {},
   "source": [
    "### Input feature processing to numpy arrays"
   ]
  },
  {
   "cell_type": "markdown",
   "id": "252d0414-e552-4f0a-a932-91674bf9ecd0",
   "metadata": {},
   "source": [
    "Match up the date ranges for the income and NO2 data:"
   ]
  },
  {
   "cell_type": "code",
   "execution_count": 100,
   "id": "ba7bdd1e-d834-4acc-aaae-520975930762",
   "metadata": {},
   "outputs": [],
   "source": [
    "def date_trim(df, start, end):\n",
    "    df = df.loc[df.index >= start]\n",
    "    df = df.loc[df.index <= end]\n",
    "    return df"
   ]
  },
  {
   "cell_type": "code",
   "execution_count": 111,
   "id": "5fc6648c-3fbc-42f3-b894-74f0c323fe87",
   "metadata": {},
   "outputs": [],
   "source": [
    "start, end = daily_income_df.index.min(), daily_income_df.index.max()\n",
    "\n",
    "aggregated_NO2_datetrim_df = date_trim(aggregated_NO2_df, start, end)\n",
    "daily_met_datetrim_df = date_trim(daily_met_df, start, end)"
   ]
  },
  {
   "cell_type": "code",
   "execution_count": 112,
   "id": "0a4e4abd-8da6-4803-addf-f0e1cb9467ea",
   "metadata": {},
   "outputs": [],
   "source": [
    "local_authority_list = [] \n",
    "\n",
    "for i in london_authorities_gdf.index:\n",
    "    local_authority = london_authorities_gdf.iloc[i][\"local_authority\"]\n",
    "    income_dataset_code = income_metadata_df.loc[income_metadata_df[\"local_authority\"]==local_authority].index.values[0]\n",
    "    daily_income_array = daily_income_df[income_dataset_code].values\n",
    "    daily_NO2_array = aggregated_NO2_datetrim_df[local_authority].values\n",
    "    node_array = np.array([daily_NO2_array, daily_income_array])\n",
    "    local_authority_list.append(node_array)\n",
    "input_array = np.array(local_authority_list)"
   ]
  },
  {
   "cell_type": "code",
   "execution_count": 113,
   "id": "908ceb61-c963-4938-b514-20740dd2167a",
   "metadata": {},
   "outputs": [
    {
     "data": {
      "text/plain": [
       "(33, 2, 7671)"
      ]
     },
     "execution_count": 113,
     "metadata": {},
     "output_type": "execute_result"
    }
   ],
   "source": [
    "input_array.shape"
   ]
  },
  {
   "cell_type": "code",
   "execution_count": 114,
   "id": "6c4ff54d-4b99-436d-8a55-4898eeb3e87f",
   "metadata": {},
   "outputs": [],
   "source": [
    "# Need to do the same for the met data. Need to figure out why the timeseries is a different length."
   ]
  },
  {
   "cell_type": "code",
   "execution_count": null,
   "id": "47fff5af-316d-4d35-85fd-838737243eaf",
   "metadata": {},
   "outputs": [],
   "source": []
  }
 ],
 "metadata": {
  "kernelspec": {
   "display_name": "AQmort",
   "language": "python",
   "name": "aqmort"
  },
  "language_info": {
   "codemirror_mode": {
    "name": "ipython",
    "version": 3
   },
   "file_extension": ".py",
   "mimetype": "text/x-python",
   "name": "python",
   "nbconvert_exporter": "python",
   "pygments_lexer": "ipython3",
   "version": "3.8.13"
  }
 },
 "nbformat": 4,
 "nbformat_minor": 5
}
