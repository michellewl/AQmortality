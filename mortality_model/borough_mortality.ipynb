{
 "cells": [
  {
   "cell_type": "markdown",
   "id": "3d15b7d7-d0fa-45a5-aeba-15c9db2b10b2",
   "metadata": {},
   "source": [
    "Imports"
   ]
  },
  {
   "cell_type": "code",
   "execution_count": 1,
   "id": "24a0343e-8dfb-4015-ac29-616d561901ce",
   "metadata": {},
   "outputs": [
    {
     "name": "stderr",
     "output_type": "stream",
     "text": [
      "/home/users/mwlw3/miniconda3/envs/AQmort/lib/python3.8/site-packages/pyproj/__init__.py:89: UserWarning: pyproj unable to set database path.\n",
      "  _pyproj_global_context_initialize()\n"
     ]
    }
   ],
   "source": [
    "from data_classes import LAQNData, HealthData, MetData, IncomeData, LondonGeoData\n",
    "from os import path\n",
    "import pandas as pd\n",
    "import matplotlib.pyplot as plt\n",
    "import matplotlib.cm as cm\n",
    "import requests\n",
    "import geopandas as gpd\n",
    "import numpy as np\n",
    "import networkx as nx\n",
    "import torch\n",
    "import torch_geometric"
   ]
  },
  {
   "cell_type": "code",
   "execution_count": 2,
   "id": "fefa0a35-7e1d-49ae-9cc2-d1011da45e19",
   "metadata": {
    "tags": []
   },
   "outputs": [],
   "source": [
    "species = \"NO2\"\n",
    "region = \"London\"\n",
    "NO2 = LAQNData(species, region)"
   ]
  },
  {
   "cell_type": "code",
   "execution_count": 3,
   "id": "e7438379-b1d1-49a1-8200-7a81ca633053",
   "metadata": {
    "tags": []
   },
   "outputs": [],
   "source": [
    "income = IncomeData()"
   ]
  },
  {
   "cell_type": "code",
   "execution_count": 4,
   "id": "9b06c973-f34b-486b-bdb6-b2665248dbfb",
   "metadata": {},
   "outputs": [],
   "source": [
    "met = MetData(\"Heathrow\")"
   ]
  },
  {
   "cell_type": "code",
   "execution_count": 5,
   "id": "deba1a1c-e239-4bd8-8b9e-45a0f4545892",
   "metadata": {},
   "outputs": [],
   "source": [
    "geography = LondonGeoData()"
   ]
  },
  {
   "cell_type": "markdown",
   "id": "c9b2f365-c643-4883-824b-98f029b302ed",
   "metadata": {},
   "source": [
    "Load the resampled daily meteorological data:"
   ]
  },
  {
   "cell_type": "code",
   "execution_count": null,
   "id": "5bade143-fd96-4c3c-9120-2fd95ae2454b",
   "metadata": {
    "tags": []
   },
   "outputs": [],
   "source": [
    "variables = [\"temperature\", \"dew_point\", \"humidity\", \"precip\", \"wind_dir\", \"wind_speed\", \"peak_gust\", \"pressure\"]\n",
    "daily_met_df = met.read(variables, \"met-resample\")"
   ]
  },
  {
   "cell_type": "markdown",
   "id": "f4d30287-9954-41d3-879c-2e99fdcd539d",
   "metadata": {
    "tags": []
   },
   "source": [
    "Load the resampled daily NO2 data:"
   ]
  },
  {
   "cell_type": "code",
   "execution_count": null,
   "id": "e80ff8f5-db20-4f06-89ae-2b21a41ec944",
   "metadata": {},
   "outputs": [],
   "source": [
    "# daily_NO2_df = NO2.read(\"laqn-resample\")\n",
    "# daily_NO2_df.head(5)"
   ]
  },
  {
   "cell_type": "markdown",
   "id": "545774a2-f6c1-401f-a517-ec812016c87a",
   "metadata": {},
   "source": [
    "Load the resampled daily income data:"
   ]
  },
  {
   "cell_type": "code",
   "execution_count": null,
   "id": "c1c98250-89d2-49e5-8536-c50bfdf306fc",
   "metadata": {
    "tags": []
   },
   "outputs": [],
   "source": [
    "daily_income_df = income.read(\"income-resample\")"
   ]
  },
  {
   "cell_type": "markdown",
   "id": "56036ff0-48a3-4a0f-9883-c3f0e7e1a5ed",
   "metadata": {},
   "source": [
    "Resample the meteorological data using the income dates:"
   ]
  },
  {
   "cell_type": "code",
   "execution_count": null,
   "id": "8edd7cb9-e1f0-422e-adea-e50ddf0f06eb",
   "metadata": {},
   "outputs": [],
   "source": [
    "# daily_met_df = met.resample_time_and_log(daily_income_df.index)"
   ]
  },
  {
   "cell_type": "markdown",
   "id": "8ccef795-dc8e-45ec-be00-1f6d1c7ce0ba",
   "metadata": {},
   "source": [
    "Rename the local authorities in the income metadata using the LAQN metadata:"
   ]
  },
  {
   "cell_type": "code",
   "execution_count": null,
   "id": "47f9fff6-5b4b-4a1d-9aa1-beb45ec4d249",
   "metadata": {
    "tags": []
   },
   "outputs": [],
   "source": [
    "# income_metadata_df = income.rename_local_authority_districts_and_log(reference=\"use_LAQN\")"
   ]
  },
  {
   "cell_type": "markdown",
   "id": "a9d83a92-2694-49b9-a97b-0ace76350ed2",
   "metadata": {},
   "source": [
    "Load the renamed income metadata:"
   ]
  },
  {
   "cell_type": "code",
   "execution_count": 6,
   "id": "f0ac8660-18de-46f2-a2f6-fb0a0090a78b",
   "metadata": {
    "tags": []
   },
   "outputs": [
    {
     "name": "stderr",
     "output_type": "stream",
     "text": [
      "Failed to detect the name of this notebook, you can set it manually with the WANDB_NOTEBOOK_NAME environment variable to enable code saving.\n",
      "\u001b[34m\u001b[1mwandb\u001b[0m: Currently logged in as: \u001b[33mmichellewl\u001b[0m. Use \u001b[1m`wandb login --relogin`\u001b[0m to force relogin\n"
     ]
    },
    {
     "data": {
      "text/html": [
       "Tracking run with wandb version 0.12.21"
      ],
      "text/plain": [
       "<IPython.core.display.HTML object>"
      ]
     },
     "metadata": {},
     "output_type": "display_data"
    },
    {
     "data": {
      "text/html": [
       "Run data is saved locally in <code>/home/users/mwlw3/AQmortality/mortality_model/wandb/run-20220713_163241-mnl2wf32</code>"
      ],
      "text/plain": [
       "<IPython.core.display.HTML object>"
      ]
     },
     "metadata": {},
     "output_type": "display_data"
    },
    {
     "data": {
      "text/html": [
       "Syncing run <strong><a href=\"https://wandb.ai/michellewl/AQmortality/runs/mnl2wf32\" target=\"_blank\">misunderstood-microwave-426</a></strong> to <a href=\"https://wandb.ai/michellewl/AQmortality\" target=\"_blank\">Weights & Biases</a> (<a href=\"https://wandb.me/run\" target=\"_blank\">docs</a>)<br/>"
      ],
      "text/plain": [
       "<IPython.core.display.HTML object>"
      ]
     },
     "metadata": {},
     "output_type": "display_data"
    },
    {
     "data": {
      "text/html": [
       "Waiting for W&B process to finish... <strong style=\"color:green\">(success).</strong>"
      ],
      "text/plain": [
       "<IPython.core.display.HTML object>"
      ]
     },
     "metadata": {},
     "output_type": "display_data"
    },
    {
     "data": {
      "application/vnd.jupyter.widget-view+json": {
       "model_id": "b013831d234944e7b974bf19201c8632",
       "version_major": 2,
       "version_minor": 0
      },
      "text/plain": [
       "VBox(children=(Label(value='0.000 MB of 0.000 MB uploaded (0.000 MB deduped)\\r'), FloatProgress(value=1.0, max…"
      ]
     },
     "metadata": {},
     "output_type": "display_data"
    },
    {
     "data": {
      "text/html": [
       "Synced <strong style=\"color:#cdcd00\">misunderstood-microwave-426</strong>: <a href=\"https://wandb.ai/michellewl/AQmortality/runs/mnl2wf32\" target=\"_blank\">https://wandb.ai/michellewl/AQmortality/runs/mnl2wf32</a><br/>Synced 5 W&B file(s), 0 media file(s), 0 artifact file(s) and 0 other file(s)"
      ],
      "text/plain": [
       "<IPython.core.display.HTML object>"
      ]
     },
     "metadata": {},
     "output_type": "display_data"
    },
    {
     "data": {
      "text/html": [
       "Find logs at: <code>./wandb/run-20220713_163241-mnl2wf32/logs</code>"
      ],
      "text/plain": [
       "<IPython.core.display.HTML object>"
      ]
     },
     "metadata": {},
     "output_type": "display_data"
    }
   ],
   "source": [
    "income_metadata_df = income.read(\"income-metadata\")"
   ]
  },
  {
   "cell_type": "markdown",
   "id": "febbc80d-374b-4266-97a9-aca55a32a2db",
   "metadata": {},
   "source": [
    "Load the London shapefile for use in plotting:"
   ]
  },
  {
   "cell_type": "code",
   "execution_count": null,
   "id": "90b66b6b-a0f1-48ee-8cbf-964e3dc27bc8",
   "metadata": {
    "tags": []
   },
   "outputs": [],
   "source": [
    "# london_authorities_gdf = geography.download_and_log()\n",
    "# london_authorities_gdf = geography.rename_local_authority_districts_and_log(income_metadata_df[\"local_authority\"].tolist(), \"GDHI\")\n",
    "london_authorities_gdf = geography.read(\"london-local-authorities-renamed\")"
   ]
  },
  {
   "cell_type": "markdown",
   "id": "af23f6fe-7f38-4036-89ed-8a2ba5ca8725",
   "metadata": {},
   "source": [
    "Spatially aggregate the LAQN data at the local authority level, with implementation of the algorithm used in Schwartz, 2000:"
   ]
  },
  {
   "cell_type": "code",
   "execution_count": null,
   "id": "a49e8974-b5aa-4b9c-a3a9-e2cc5fe24d55",
   "metadata": {
    "tags": []
   },
   "outputs": [],
   "source": [
    "# aggregated_NO2_df = NO2.local_authority_aggregation_and_log()"
   ]
  },
  {
   "cell_type": "markdown",
   "id": "198ef356-6cd6-402a-be72-2e48ec0503b9",
   "metadata": {},
   "source": [
    "Load the spatially aggregated LAQN data:"
   ]
  },
  {
   "cell_type": "code",
   "execution_count": null,
   "id": "028cbc81-5284-427c-840b-77b077171994",
   "metadata": {
    "tags": []
   },
   "outputs": [],
   "source": [
    "aggregated_NO2_df = NO2.read(\"laqn-local-authority\")"
   ]
  },
  {
   "cell_type": "code",
   "execution_count": null,
   "id": "58247707-5ed0-4e25-b79b-f68e9b95caa3",
   "metadata": {},
   "outputs": [],
   "source": [
    "print(aggregated_NO2_df.shape)\n",
    "aggregated_NO2_df.plot()\n",
    "plt.show()"
   ]
  },
  {
   "cell_type": "code",
   "execution_count": null,
   "id": "2f1577c7-3f43-463e-ad9b-74789269ddb7",
   "metadata": {},
   "outputs": [],
   "source": [
    "london_authorities_gdf.plot()\n",
    "plt.show()"
   ]
  },
  {
   "cell_type": "code",
   "execution_count": null,
   "id": "2078c4a6-abdf-41d4-b677-f88c7833309d",
   "metadata": {},
   "outputs": [],
   "source": [
    "london_authorities_gdf = rename_local_authority_districts(london_authorities_gdf, income_metadata_df[\"local_authority\"].tolist())"
   ]
  },
  {
   "cell_type": "markdown",
   "id": "fcc1270d-ba7d-4336-8496-0b13060c1854",
   "metadata": {},
   "source": [
    "Set up the node connections:"
   ]
  },
  {
   "cell_type": "code",
   "execution_count": null,
   "id": "ae6b3156-76e0-4069-8e79-7412ab5901cf",
   "metadata": {},
   "outputs": [],
   "source": [
    "london_authorities_gdf[\"neighbours\"] = None\n",
    "edge_pairs = []\n",
    "\n",
    "for index, row in london_authorities_gdf.iterrows():\n",
    "    # get adjoining local authorities\n",
    "    neighbours = london_authorities_gdf[london_authorities_gdf.geometry.touches(row.geometry)].local_authority.tolist()\n",
    "    neighbours_index = london_authorities_gdf[london_authorities_gdf.geometry.touches(row.geometry)].index.tolist()\n",
    "\n",
    "    # add names of neighbours as row value\n",
    "    london_authorities_gdf.at[index, \"neighbours\"] = neighbours\n",
    "    \n",
    "    # add the neighbouring pair of indices to the edge_pairs list\n",
    "    for neighbour in neighbours_index:\n",
    "        edge_pairs.append([index, neighbour])"
   ]
  },
  {
   "cell_type": "code",
   "execution_count": null,
   "id": "b017d0e0-511a-4932-b605-891084087e07",
   "metadata": {},
   "outputs": [],
   "source": [
    "edge_pairs = np.array(edge_pairs).transpose()"
   ]
  },
  {
   "cell_type": "code",
   "execution_count": null,
   "id": "55aa14fe-5854-414e-b0a8-da73d2456440",
   "metadata": {},
   "outputs": [],
   "source": [
    "edge_pairs.shape"
   ]
  },
  {
   "cell_type": "code",
   "execution_count": null,
   "id": "4f53dc91-875f-4692-9b07-f5850e83571f",
   "metadata": {},
   "outputs": [],
   "source": [
    "edge_index = torch.tensor(edge_pairs, dtype=torch.long)"
   ]
  },
  {
   "cell_type": "code",
   "execution_count": null,
   "id": "a9afa957-24a2-4537-974a-b956830fa012",
   "metadata": {},
   "outputs": [],
   "source": [
    "node_index = london_authorities_gdf.index.values.reshape(-1,1)\n",
    "x = torch.tensor(node_index, dtype=torch.float)"
   ]
  },
  {
   "cell_type": "code",
   "execution_count": null,
   "id": "38daa943-7c3f-4814-8f22-bcf7ae17b3d0",
   "metadata": {},
   "outputs": [],
   "source": [
    "data = torch_geometric.data.Data(x=x, edge_index=edge_index)\n",
    "graph = torch_geometric.utils.to_networkx(data, to_undirected=True)\n",
    "nx.draw(graph)"
   ]
  },
  {
   "cell_type": "markdown",
   "id": "46a812c6-737a-4768-9c15-1d5585124b83",
   "metadata": {},
   "source": [
    "### Input feature processing to numpy arrays"
   ]
  },
  {
   "cell_type": "markdown",
   "id": "252d0414-e552-4f0a-a932-91674bf9ecd0",
   "metadata": {},
   "source": [
    "Match up the date ranges for the income and NO2 data:"
   ]
  },
  {
   "cell_type": "code",
   "execution_count": null,
   "id": "ba7bdd1e-d834-4acc-aaae-520975930762",
   "metadata": {},
   "outputs": [],
   "source": [
    "def date_trim(df, start, end):\n",
    "    df = df.loc[df.index >= start]\n",
    "    df = df.loc[df.index <= end]\n",
    "    return df"
   ]
  },
  {
   "cell_type": "code",
   "execution_count": null,
   "id": "5fc6648c-3fbc-42f3-b894-74f0c323fe87",
   "metadata": {},
   "outputs": [],
   "source": [
    "start, end = daily_income_df.index.min(), daily_income_df.index.max()\n",
    "\n",
    "aggregated_NO2_datetrim_df = date_trim(aggregated_NO2_df, start, end)\n",
    "daily_met_datetrim_df = date_trim(daily_met_df, start, end)"
   ]
  },
  {
   "cell_type": "code",
   "execution_count": null,
   "id": "0a4e4abd-8da6-4803-addf-f0e1cb9467ea",
   "metadata": {},
   "outputs": [],
   "source": [
    "local_authority_list = [] \n",
    "\n",
    "for i in london_authorities_gdf.index:\n",
    "    local_authority = london_authorities_gdf.iloc[i][\"local_authority\"]\n",
    "    income_dataset_code = income_metadata_df.loc[income_metadata_df[\"local_authority\"]==local_authority].index.values[0]\n",
    "    daily_income_array = daily_income_df[income_dataset_code].values\n",
    "    daily_NO2_array = aggregated_NO2_datetrim_df[local_authority].values\n",
    "    node_array = np.array([daily_NO2_array, daily_income_array])\n",
    "    local_authority_list.append(node_array)\n",
    "input_array = np.array(local_authority_list)"
   ]
  },
  {
   "cell_type": "code",
   "execution_count": null,
   "id": "908ceb61-c963-4938-b514-20740dd2167a",
   "metadata": {},
   "outputs": [],
   "source": [
    "input_array.shape"
   ]
  },
  {
   "cell_type": "code",
   "execution_count": null,
   "id": "e5f41f57-4b2a-4007-9ee3-d4ae9a4db315",
   "metadata": {},
   "outputs": [],
   "source": [
    "aggregated_NO2_df.columns"
   ]
  },
  {
   "cell_type": "code",
   "execution_count": null,
   "id": "3322db06-68d1-47bd-84b6-954a79e2af1a",
   "metadata": {},
   "outputs": [],
   "source": []
  }
 ],
 "metadata": {
  "kernelspec": {
   "display_name": "AQmort",
   "language": "python",
   "name": "aqmort"
  },
  "language_info": {
   "codemirror_mode": {
    "name": "ipython",
    "version": 3
   },
   "file_extension": ".py",
   "mimetype": "text/x-python",
   "name": "python",
   "nbconvert_exporter": "python",
   "pygments_lexer": "ipython3",
   "version": "3.8.13"
  }
 },
 "nbformat": 4,
 "nbformat_minor": 5
}
