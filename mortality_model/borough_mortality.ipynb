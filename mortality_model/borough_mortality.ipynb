{
 "cells": [
  {
   "cell_type": "code",
   "execution_count": null,
   "id": "0b802eb1-4e3b-45dc-97e6-addb17e47bca",
   "metadata": {},
   "outputs": [],
   "source": []
  },
  {
   "cell_type": "code",
   "execution_count": 1,
   "id": "24a0343e-8dfb-4015-ac29-616d561901ce",
   "metadata": {},
   "outputs": [],
   "source": [
    "from data_classes import LAQNData, HealthData, MetData, IncomeData\n",
    "from os import path\n",
    "import pandas as pd\n",
    "import matplotlib.pyplot as plt\n",
    "import matplotlib.cm as cm\n",
    "import requests"
   ]
  },
  {
   "cell_type": "code",
   "execution_count": 2,
   "id": "fefa0a35-7e1d-49ae-9cc2-d1011da45e19",
   "metadata": {
    "tags": []
   },
   "outputs": [],
   "source": [
    "species = \"NO2\"\n",
    "region = \"London\"\n",
    "NO2 = LAQNData(species, region)"
   ]
  },
  {
   "cell_type": "code",
   "execution_count": 3,
   "id": "e7438379-b1d1-49a1-8200-7a81ca633053",
   "metadata": {
    "tags": []
   },
   "outputs": [],
   "source": [
    "income = IncomeData()"
   ]
  },
  {
   "cell_type": "markdown",
   "id": "f4d30287-9954-41d3-879c-2e99fdcd539d",
   "metadata": {
    "tags": []
   },
   "source": [
    "Load the resampled daily NO2 data:"
   ]
  },
  {
   "cell_type": "code",
   "execution_count": null,
   "id": "e80ff8f5-db20-4f06-89ae-2b21a41ec944",
   "metadata": {},
   "outputs": [],
   "source": [
    "daily_NO2_df = NO2.read(\"laqn-resample\")\n",
    "daily_NO2_df.head(5)"
   ]
  },
  {
   "cell_type": "markdown",
   "id": "545774a2-f6c1-401f-a517-ec812016c87a",
   "metadata": {},
   "source": [
    "Load the resampled daily income data:"
   ]
  },
  {
   "cell_type": "code",
   "execution_count": null,
   "id": "c1c98250-89d2-49e5-8536-c50bfdf306fc",
   "metadata": {},
   "outputs": [],
   "source": [
    "daily_income_df = income.read(\"income-resample\")\n",
    "daily_income_df.head(5)"
   ]
  },
  {
   "cell_type": "markdown",
   "id": "6d63fd43-2876-48e3-a6a5-22696bca2cce",
   "metadata": {},
   "source": [
    "Load the LAQN metdata:"
   ]
  },
  {
   "cell_type": "code",
   "execution_count": null,
   "id": "661d2707-8029-4ecd-a3a3-4e845249df2a",
   "metadata": {},
   "outputs": [],
   "source": [
    "meta_url = \"http://api.erg.kcl.ac.uk/AirQuality/Information/MonitoringSites/GroupName=London/Json\"\n",
    "sites_request = requests.get(meta_url)\n",
    "meta_df = pd.DataFrame(sites_request.json()['Sites']['Site'])\n",
    "meta_df.head(5)"
   ]
  },
  {
   "cell_type": "markdown",
   "id": "8ccef795-dc8e-45ec-be00-1f6d1c7ce0ba",
   "metadata": {},
   "source": [
    "Rename the local authorities in the income metadata using the LAQN metadata:"
   ]
  },
  {
   "cell_type": "code",
   "execution_count": 8,
   "id": "47f9fff6-5b4b-4a1d-9aa1-beb45ec4d249",
   "metadata": {
    "tags": []
   },
   "outputs": [],
   "source": [
    "# income_metadata_df = income.rename_local_authority_districts_and_log(reference=\"use_LAQN\")"
   ]
  },
  {
   "cell_type": "markdown",
   "id": "a9d83a92-2694-49b9-a97b-0ace76350ed2",
   "metadata": {},
   "source": [
    "Load the renamed income metadata:"
   ]
  },
  {
   "cell_type": "code",
   "execution_count": 6,
   "id": "f0ac8660-18de-46f2-a2f6-fb0a0090a78b",
   "metadata": {
    "collapsed": true,
    "jupyter": {
     "outputs_hidden": true
    },
    "tags": []
   },
   "outputs": [
    {
     "name": "stderr",
     "output_type": "stream",
     "text": [
      "\u001b[34m\u001b[1mwandb\u001b[0m: wandb version 0.12.17 is available!  To upgrade, please run:\n",
      "\u001b[34m\u001b[1mwandb\u001b[0m:  $ pip install wandb --upgrade\n"
     ]
    },
    {
     "data": {
      "text/html": [
       "\n",
       "                Tracking run with wandb version 0.10.31<br/>\n",
       "                Syncing run <strong style=\"color:#cdcd00\">bumbling-pyramid-382</strong> to <a href=\"https://wandb.ai\" target=\"_blank\">Weights & Biases</a> <a href=\"https://docs.wandb.com/integrations/jupyter.html\" target=\"_blank\">(Documentation)</a>.<br/>\n",
       "                Project page: <a href=\"https://wandb.ai/michellewl/AQmortality\" target=\"_blank\">https://wandb.ai/michellewl/AQmortality</a><br/>\n",
       "                Run page: <a href=\"https://wandb.ai/michellewl/AQmortality/runs/2uqd6c6r\" target=\"_blank\">https://wandb.ai/michellewl/AQmortality/runs/2uqd6c6r</a><br/>\n",
       "                Run data is saved locally in <code>/home/users/mwlw3/AQmortality/mortality_model/wandb/run-20220607_115127-2uqd6c6r</code><br/><br/>\n",
       "            "
      ],
      "text/plain": [
       "<IPython.core.display.HTML object>"
      ]
     },
     "metadata": {},
     "output_type": "display_data"
    },
    {
     "data": {
      "text/html": [
       "<br/>Waiting for W&B process to finish, PID 1461<br/>Program ended successfully."
      ],
      "text/plain": [
       "<IPython.core.display.HTML object>"
      ]
     },
     "metadata": {},
     "output_type": "display_data"
    },
    {
     "data": {
      "application/vnd.jupyter.widget-view+json": {
       "model_id": "080a1061937343ca878136831281a690",
       "version_major": 2,
       "version_minor": 0
      },
      "text/plain": [
       "VBox(children=(Label(value=' 0.00MB of 0.00MB uploaded (0.00MB deduped)\\r'), FloatProgress(value=1.0, max=1.0)…"
      ]
     },
     "metadata": {},
     "output_type": "display_data"
    },
    {
     "data": {
      "text/html": [
       "Find user logs for this run at: <code>/home/users/mwlw3/AQmortality/mortality_model/wandb/run-20220607_115127-2uqd6c6r/logs/debug.log</code>"
      ],
      "text/plain": [
       "<IPython.core.display.HTML object>"
      ]
     },
     "metadata": {},
     "output_type": "display_data"
    },
    {
     "data": {
      "text/html": [
       "Find internal logs for this run at: <code>/home/users/mwlw3/AQmortality/mortality_model/wandb/run-20220607_115127-2uqd6c6r/logs/debug-internal.log</code>"
      ],
      "text/plain": [
       "<IPython.core.display.HTML object>"
      ]
     },
     "metadata": {},
     "output_type": "display_data"
    },
    {
     "data": {
      "text/html": [
       "Synced 5 W&B file(s), 0 media file(s), 0 artifact file(s) and 0 other file(s)"
      ],
      "text/plain": [
       "<IPython.core.display.HTML object>"
      ]
     },
     "metadata": {},
     "output_type": "display_data"
    },
    {
     "data": {
      "text/html": [
       "\n",
       "                    <br/>Synced <strong style=\"color:#cdcd00\">bumbling-pyramid-382</strong>: <a href=\"https://wandb.ai/michellewl/AQmortality/runs/2uqd6c6r\" target=\"_blank\">https://wandb.ai/michellewl/AQmortality/runs/2uqd6c6r</a><br/>\n",
       "                "
      ],
      "text/plain": [
       "<IPython.core.display.HTML object>"
      ]
     },
     "metadata": {},
     "output_type": "display_data"
    }
   ],
   "source": [
    "income_metadata_df = income.read(\"income-metadata\")"
   ]
  },
  {
   "cell_type": "code",
   "execution_count": null,
   "id": "8574faaf-acd8-4798-a349-291a4d372494",
   "metadata": {},
   "outputs": [],
   "source": []
  }
 ],
 "metadata": {
  "kernelspec": {
   "display_name": "AQmort",
   "language": "python",
   "name": "aqmort"
  },
  "language_info": {
   "codemirror_mode": {
    "name": "ipython",
    "version": 3
   },
   "file_extension": ".py",
   "mimetype": "text/x-python",
   "name": "python",
   "nbconvert_exporter": "python",
   "pygments_lexer": "ipython3",
   "version": "3.9.12"
  }
 },
 "nbformat": 4,
 "nbformat_minor": 5
}
