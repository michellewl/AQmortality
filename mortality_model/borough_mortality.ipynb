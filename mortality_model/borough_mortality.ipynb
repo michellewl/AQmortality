{
 "cells": [
  {
   "cell_type": "markdown",
   "id": "3d15b7d7-d0fa-45a5-aeba-15c9db2b10b2",
   "metadata": {},
   "source": [
    "Imports"
   ]
  },
  {
   "cell_type": "code",
   "execution_count": 1,
   "id": "24a0343e-8dfb-4015-ac29-616d561901ce",
   "metadata": {},
   "outputs": [
    {
     "name": "stderr",
     "output_type": "stream",
     "text": [
      "/home/users/mwlw3/miniconda3/envs/AQmort/lib/python3.8/site-packages/pyproj/__init__.py:89: UserWarning: pyproj unable to set database path.\n",
      "  _pyproj_global_context_initialize()\n"
     ]
    }
   ],
   "source": [
    "from data_classes import LAQNData, HealthData, MetData, IncomeData, LondonGeoData\n",
    "from os import path\n",
    "import pandas as pd\n",
    "import matplotlib.pyplot as plt\n",
    "import matplotlib.cm as cm\n",
    "import requests\n",
    "import geopandas as gpd\n",
    "import numpy as np\n",
    "import networkx as nx\n",
    "import torch\n",
    "import torch_geometric"
   ]
  },
  {
   "cell_type": "code",
   "execution_count": 2,
   "id": "fefa0a35-7e1d-49ae-9cc2-d1011da45e19",
   "metadata": {
    "tags": []
   },
   "outputs": [],
   "source": [
    "species = \"NO2\"\n",
    "region = \"London\"\n",
    "NO2 = LAQNData(species, region)"
   ]
  },
  {
   "cell_type": "code",
   "execution_count": 3,
   "id": "e7438379-b1d1-49a1-8200-7a81ca633053",
   "metadata": {
    "tags": []
   },
   "outputs": [],
   "source": [
    "income = IncomeData()"
   ]
  },
  {
   "cell_type": "code",
   "execution_count": 4,
   "id": "9b06c973-f34b-486b-bdb6-b2665248dbfb",
   "metadata": {},
   "outputs": [],
   "source": [
    "met = MetData(\"Heathrow\")"
   ]
  },
  {
   "cell_type": "code",
   "execution_count": 5,
   "id": "deba1a1c-e239-4bd8-8b9e-45a0f4545892",
   "metadata": {},
   "outputs": [],
   "source": [
    "geography = LondonGeoData()"
   ]
  },
  {
   "cell_type": "markdown",
   "id": "febbc80d-374b-4266-97a9-aca55a32a2db",
   "metadata": {},
   "source": [
    "Load the London shapefile for use in plotting:"
   ]
  },
  {
   "cell_type": "code",
   "execution_count": 6,
   "id": "90b66b6b-a0f1-48ee-8cbf-964e3dc27bc8",
   "metadata": {},
   "outputs": [
    {
     "name": "stderr",
     "output_type": "stream",
     "text": [
      "Failed to detect the name of this notebook, you can set it manually with the WANDB_NOTEBOOK_NAME environment variable to enable code saving.\n",
      "\u001b[34m\u001b[1mwandb\u001b[0m: Currently logged in as: \u001b[33mmichellewl\u001b[0m. Use \u001b[1m`wandb login --relogin`\u001b[0m to force relogin\n"
     ]
    },
    {
     "data": {
      "text/html": [
       "Tracking run with wandb version 0.12.21"
      ],
      "text/plain": [
       "<IPython.core.display.HTML object>"
      ]
     },
     "metadata": {},
     "output_type": "display_data"
    },
    {
     "data": {
      "text/html": [
       "Run data is saved locally in <code>/home/users/mwlw3/AQmortality/mortality_model/wandb/run-20220713_152757-h14cjgag</code>"
      ],
      "text/plain": [
       "<IPython.core.display.HTML object>"
      ]
     },
     "metadata": {},
     "output_type": "display_data"
    },
    {
     "data": {
      "text/html": [
       "Syncing run <strong><a href=\"https://wandb.ai/michellewl/AQmortality/runs/h14cjgag\" target=\"_blank\">solar-meadow-417</a></strong> to <a href=\"https://wandb.ai/michellewl/AQmortality\" target=\"_blank\">Weights & Biases</a> (<a href=\"https://wandb.me/run\" target=\"_blank\">docs</a>)<br/>"
      ],
      "text/plain": [
       "<IPython.core.display.HTML object>"
      ]
     },
     "metadata": {},
     "output_type": "display_data"
    },
    {
     "name": "stderr",
     "output_type": "stream",
     "text": [
      "Downloading Westminster.zip: 100%|██████████| 33/33 [00:28<00:00,  1.14it/s]         \n",
      "Processing Westminster: 100%|██████████| 33/33 [00:49<00:00,  1.50s/it]         \n"
     ]
    },
    {
     "name": "stdout",
     "output_type": "stream",
     "text": [
      "Done!\n"
     ]
    },
    {
     "data": {
      "text/html": [
       "Waiting for W&B process to finish... <strong style=\"color:green\">(success).</strong>"
      ],
      "text/plain": [
       "<IPython.core.display.HTML object>"
      ]
     },
     "metadata": {},
     "output_type": "display_data"
    },
    {
     "data": {
      "application/vnd.jupyter.widget-view+json": {
       "model_id": "5788cb99550b48328fe1cdf7797f6a78",
       "version_major": 2,
       "version_minor": 0
      },
      "text/plain": [
       "VBox(children=(Label(value='3.182 MB of 3.182 MB uploaded (0.000 MB deduped)\\r'), FloatProgress(value=1.0, max…"
      ]
     },
     "metadata": {},
     "output_type": "display_data"
    },
    {
     "data": {
      "text/html": [
       "Synced <strong style=\"color:#cdcd00\">solar-meadow-417</strong>: <a href=\"https://wandb.ai/michellewl/AQmortality/runs/h14cjgag\" target=\"_blank\">https://wandb.ai/michellewl/AQmortality/runs/h14cjgag</a><br/>Synced 6 W&B file(s), 0 media file(s), 12 artifact file(s) and 0 other file(s)"
      ],
      "text/plain": [
       "<IPython.core.display.HTML object>"
      ]
     },
     "metadata": {},
     "output_type": "display_data"
    },
    {
     "data": {
      "text/html": [
       "Find logs at: <code>./wandb/run-20220713_152757-h14cjgag/logs</code>"
      ],
      "text/plain": [
       "<IPython.core.display.HTML object>"
      ]
     },
     "metadata": {},
     "output_type": "display_data"
    }
   ],
   "source": [
    "london_authorities_gdf = geography.download_and_log()"
   ]
  },
  {
   "cell_type": "code",
   "execution_count": 7,
   "id": "d11b4975-1e55-4114-baab-8449776d733d",
   "metadata": {},
   "outputs": [
    {
     "data": {
      "text/html": [
       "<div>\n",
       "<style scoped>\n",
       "    .dataframe tbody tr th:only-of-type {\n",
       "        vertical-align: middle;\n",
       "    }\n",
       "\n",
       "    .dataframe tbody tr th {\n",
       "        vertical-align: top;\n",
       "    }\n",
       "\n",
       "    .dataframe thead th {\n",
       "        text-align: right;\n",
       "    }\n",
       "</style>\n",
       "<table border=\"1\" class=\"dataframe\">\n",
       "  <thead>\n",
       "    <tr style=\"text-align: right;\">\n",
       "      <th></th>\n",
       "      <th>local_authority</th>\n",
       "      <th>geometry</th>\n",
       "    </tr>\n",
       "  </thead>\n",
       "  <tbody>\n",
       "    <tr>\n",
       "      <th>0</th>\n",
       "      <td>Barking and Dagenham</td>\n",
       "      <td>POLYGON ((0.13995 51.51336, 0.13907 51.51371, ...</td>\n",
       "    </tr>\n",
       "    <tr>\n",
       "      <th>1</th>\n",
       "      <td>Barnet</td>\n",
       "      <td>POLYGON ((-0.22266 51.56348, -0.22341 51.56407...</td>\n",
       "    </tr>\n",
       "    <tr>\n",
       "      <th>2</th>\n",
       "      <td>Bexley</td>\n",
       "      <td>POLYGON ((0.11732 51.41316, 0.11694 51.41313, ...</td>\n",
       "    </tr>\n",
       "    <tr>\n",
       "      <th>3</th>\n",
       "      <td>Brent</td>\n",
       "      <td>POLYGON ((-0.25603 51.53390, -0.25612 51.53429...</td>\n",
       "    </tr>\n",
       "    <tr>\n",
       "      <th>4</th>\n",
       "      <td>Bromley</td>\n",
       "      <td>POLYGON ((0.01177 51.30020, 0.01170 51.30035, ...</td>\n",
       "    </tr>\n",
       "  </tbody>\n",
       "</table>\n",
       "</div>"
      ],
      "text/plain": [
       "        local_authority                                           geometry\n",
       "0  Barking and Dagenham  POLYGON ((0.13995 51.51336, 0.13907 51.51371, ...\n",
       "1                Barnet  POLYGON ((-0.22266 51.56348, -0.22341 51.56407...\n",
       "2                Bexley  POLYGON ((0.11732 51.41316, 0.11694 51.41313, ...\n",
       "3                 Brent  POLYGON ((-0.25603 51.53390, -0.25612 51.53429...\n",
       "4               Bromley  POLYGON ((0.01177 51.30020, 0.01170 51.30035, ..."
      ]
     },
     "execution_count": 7,
     "metadata": {},
     "output_type": "execute_result"
    }
   ],
   "source": [
    "london_authorities_gdf.head()"
   ]
  },
  {
   "cell_type": "markdown",
   "id": "c9b2f365-c643-4883-824b-98f029b302ed",
   "metadata": {},
   "source": [
    "Load the resampled daily meteorological data:"
   ]
  },
  {
   "cell_type": "code",
   "execution_count": 9,
   "id": "5bade143-fd96-4c3c-9120-2fd95ae2454b",
   "metadata": {
    "tags": []
   },
   "outputs": [
    {
     "data": {
      "text/html": [
       "Tracking run with wandb version 0.12.21"
      ],
      "text/plain": [
       "<IPython.core.display.HTML object>"
      ]
     },
     "metadata": {},
     "output_type": "display_data"
    },
    {
     "data": {
      "text/html": [
       "Run data is saved locally in <code>/home/users/mwlw3/AQmortality/mortality_model/wandb/run-20220713_104457-358ckftd</code>"
      ],
      "text/plain": [
       "<IPython.core.display.HTML object>"
      ]
     },
     "metadata": {},
     "output_type": "display_data"
    },
    {
     "data": {
      "text/html": [
       "Syncing run <strong><a href=\"https://wandb.ai/michellewl/AQmortality/runs/358ckftd\" target=\"_blank\">cosmic-cloud-413</a></strong> to <a href=\"https://wandb.ai/michellewl/AQmortality\" target=\"_blank\">Weights & Biases</a> (<a href=\"https://wandb.me/run\" target=\"_blank\">docs</a>)<br/>"
      ],
      "text/plain": [
       "<IPython.core.display.HTML object>"
      ]
     },
     "metadata": {},
     "output_type": "display_data"
    },
    {
     "data": {
      "text/html": [
       "Waiting for W&B process to finish... <strong style=\"color:green\">(success).</strong>"
      ],
      "text/plain": [
       "<IPython.core.display.HTML object>"
      ]
     },
     "metadata": {},
     "output_type": "display_data"
    },
    {
     "data": {
      "application/vnd.jupyter.widget-view+json": {
       "model_id": "359050395afa465c9833356b11520438",
       "version_major": 2,
       "version_minor": 0
      },
      "text/plain": [
       "VBox(children=(Label(value='0.000 MB of 0.000 MB uploaded (0.000 MB deduped)\\r'), FloatProgress(value=1.0, max…"
      ]
     },
     "metadata": {},
     "output_type": "display_data"
    },
    {
     "data": {
      "text/html": [
       "Synced <strong style=\"color:#cdcd00\">cosmic-cloud-413</strong>: <a href=\"https://wandb.ai/michellewl/AQmortality/runs/358ckftd\" target=\"_blank\">https://wandb.ai/michellewl/AQmortality/runs/358ckftd</a><br/>Synced 5 W&B file(s), 0 media file(s), 0 artifact file(s) and 0 other file(s)"
      ],
      "text/plain": [
       "<IPython.core.display.HTML object>"
      ]
     },
     "metadata": {},
     "output_type": "display_data"
    },
    {
     "data": {
      "text/html": [
       "Find logs at: <code>./wandb/run-20220713_104457-358ckftd/logs</code>"
      ],
      "text/plain": [
       "<IPython.core.display.HTML object>"
      ]
     },
     "metadata": {},
     "output_type": "display_data"
    }
   ],
   "source": [
    "variables = [\"temperature\", \"dew_point\", \"humidity\", \"precip\", \"wind_dir\", \"wind_speed\", \"peak_gust\", \"pressure\"]\n",
    "daily_met_df = met.read(variables, \"met-resample\")"
   ]
  },
  {
   "cell_type": "markdown",
   "id": "f4d30287-9954-41d3-879c-2e99fdcd539d",
   "metadata": {
    "tags": []
   },
   "source": [
    "Load the resampled daily NO2 data:"
   ]
  },
  {
   "cell_type": "code",
   "execution_count": null,
   "id": "e80ff8f5-db20-4f06-89ae-2b21a41ec944",
   "metadata": {},
   "outputs": [],
   "source": [
    "# daily_NO2_df = NO2.read(\"laqn-resample\")\n",
    "# daily_NO2_df.head(5)"
   ]
  },
  {
   "cell_type": "markdown",
   "id": "545774a2-f6c1-401f-a517-ec812016c87a",
   "metadata": {},
   "source": [
    "Load the resampled daily income data:"
   ]
  },
  {
   "cell_type": "code",
   "execution_count": 5,
   "id": "c1c98250-89d2-49e5-8536-c50bfdf306fc",
   "metadata": {
    "tags": []
   },
   "outputs": [
    {
     "name": "stderr",
     "output_type": "stream",
     "text": [
      "Failed to detect the name of this notebook, you can set it manually with the WANDB_NOTEBOOK_NAME environment variable to enable code saving.\n",
      "\u001b[34m\u001b[1mwandb\u001b[0m: Currently logged in as: \u001b[33mmichellewl\u001b[0m. Use \u001b[1m`wandb login --relogin`\u001b[0m to force relogin\n"
     ]
    },
    {
     "data": {
      "text/html": [
       "Tracking run with wandb version 0.12.21"
      ],
      "text/plain": [
       "<IPython.core.display.HTML object>"
      ]
     },
     "metadata": {},
     "output_type": "display_data"
    },
    {
     "data": {
      "text/html": [
       "Run data is saved locally in <code>/home/users/mwlw3/AQmortality/mortality_model/wandb/run-20220713_104339-8tt9g9ii</code>"
      ],
      "text/plain": [
       "<IPython.core.display.HTML object>"
      ]
     },
     "metadata": {},
     "output_type": "display_data"
    },
    {
     "data": {
      "text/html": [
       "Syncing run <strong><a href=\"https://wandb.ai/michellewl/AQmortality/runs/8tt9g9ii\" target=\"_blank\">generous-deluge-411</a></strong> to <a href=\"https://wandb.ai/michellewl/AQmortality\" target=\"_blank\">Weights & Biases</a> (<a href=\"https://wandb.me/run\" target=\"_blank\">docs</a>)<br/>"
      ],
      "text/plain": [
       "<IPython.core.display.HTML object>"
      ]
     },
     "metadata": {},
     "output_type": "display_data"
    },
    {
     "data": {
      "text/html": [
       "Waiting for W&B process to finish... <strong style=\"color:green\">(success).</strong>"
      ],
      "text/plain": [
       "<IPython.core.display.HTML object>"
      ]
     },
     "metadata": {},
     "output_type": "display_data"
    },
    {
     "data": {
      "application/vnd.jupyter.widget-view+json": {
       "model_id": "e52272a6f4e044f39a31e0deb5372ebf",
       "version_major": 2,
       "version_minor": 0
      },
      "text/plain": [
       "VBox(children=(Label(value='0.000 MB of 0.000 MB uploaded (0.000 MB deduped)\\r'), FloatProgress(value=1.0, max…"
      ]
     },
     "metadata": {},
     "output_type": "display_data"
    },
    {
     "data": {
      "text/html": [
       "Synced <strong style=\"color:#cdcd00\">generous-deluge-411</strong>: <a href=\"https://wandb.ai/michellewl/AQmortality/runs/8tt9g9ii\" target=\"_blank\">https://wandb.ai/michellewl/AQmortality/runs/8tt9g9ii</a><br/>Synced 5 W&B file(s), 0 media file(s), 0 artifact file(s) and 0 other file(s)"
      ],
      "text/plain": [
       "<IPython.core.display.HTML object>"
      ]
     },
     "metadata": {},
     "output_type": "display_data"
    },
    {
     "data": {
      "text/html": [
       "Find logs at: <code>./wandb/run-20220713_104339-8tt9g9ii/logs</code>"
      ],
      "text/plain": [
       "<IPython.core.display.HTML object>"
      ]
     },
     "metadata": {},
     "output_type": "display_data"
    }
   ],
   "source": [
    "daily_income_df = income.read(\"income-resample\")"
   ]
  },
  {
   "cell_type": "markdown",
   "id": "56036ff0-48a3-4a0f-9883-c3f0e7e1a5ed",
   "metadata": {},
   "source": [
    "Resample the meteorological data using the income dates:"
   ]
  },
  {
   "cell_type": "code",
   "execution_count": 10,
   "id": "8edd7cb9-e1f0-422e-adea-e50ddf0f06eb",
   "metadata": {},
   "outputs": [],
   "source": [
    "# daily_met_df = met.resample_time_and_log(daily_income_df.index)"
   ]
  },
  {
   "cell_type": "markdown",
   "id": "8ccef795-dc8e-45ec-be00-1f6d1c7ce0ba",
   "metadata": {},
   "source": [
    "Rename the local authorities in the income metadata using the LAQN metadata:"
   ]
  },
  {
   "cell_type": "code",
   "execution_count": null,
   "id": "47f9fff6-5b4b-4a1d-9aa1-beb45ec4d249",
   "metadata": {
    "tags": []
   },
   "outputs": [],
   "source": [
    "# income_metadata_df = income.rename_local_authority_districts_and_log(reference=\"use_LAQN\")"
   ]
  },
  {
   "cell_type": "markdown",
   "id": "a9d83a92-2694-49b9-a97b-0ace76350ed2",
   "metadata": {},
   "source": [
    "Load the renamed income metadata:"
   ]
  },
  {
   "cell_type": "code",
   "execution_count": 12,
   "id": "f0ac8660-18de-46f2-a2f6-fb0a0090a78b",
   "metadata": {
    "tags": []
   },
   "outputs": [
    {
     "data": {
      "text/html": [
       "Tracking run with wandb version 0.12.21"
      ],
      "text/plain": [
       "<IPython.core.display.HTML object>"
      ]
     },
     "metadata": {},
     "output_type": "display_data"
    },
    {
     "data": {
      "text/html": [
       "Run data is saved locally in <code>/home/users/mwlw3/AQmortality/mortality_model/wandb/run-20220713_104530-34dadfqv</code>"
      ],
      "text/plain": [
       "<IPython.core.display.HTML object>"
      ]
     },
     "metadata": {},
     "output_type": "display_data"
    },
    {
     "data": {
      "text/html": [
       "Syncing run <strong><a href=\"https://wandb.ai/michellewl/AQmortality/runs/34dadfqv\" target=\"_blank\">helpful-armadillo-414</a></strong> to <a href=\"https://wandb.ai/michellewl/AQmortality\" target=\"_blank\">Weights & Biases</a> (<a href=\"https://wandb.me/run\" target=\"_blank\">docs</a>)<br/>"
      ],
      "text/plain": [
       "<IPython.core.display.HTML object>"
      ]
     },
     "metadata": {},
     "output_type": "display_data"
    },
    {
     "data": {
      "text/html": [
       "Waiting for W&B process to finish... <strong style=\"color:green\">(success).</strong>"
      ],
      "text/plain": [
       "<IPython.core.display.HTML object>"
      ]
     },
     "metadata": {},
     "output_type": "display_data"
    },
    {
     "data": {
      "application/vnd.jupyter.widget-view+json": {
       "model_id": "e043039202ca416583dc42ab8aa542cf",
       "version_major": 2,
       "version_minor": 0
      },
      "text/plain": [
       "VBox(children=(Label(value='0.000 MB of 0.000 MB uploaded (0.000 MB deduped)\\r'), FloatProgress(value=1.0, max…"
      ]
     },
     "metadata": {},
     "output_type": "display_data"
    },
    {
     "data": {
      "text/html": [
       "Synced <strong style=\"color:#cdcd00\">helpful-armadillo-414</strong>: <a href=\"https://wandb.ai/michellewl/AQmortality/runs/34dadfqv\" target=\"_blank\">https://wandb.ai/michellewl/AQmortality/runs/34dadfqv</a><br/>Synced 5 W&B file(s), 0 media file(s), 0 artifact file(s) and 0 other file(s)"
      ],
      "text/plain": [
       "<IPython.core.display.HTML object>"
      ]
     },
     "metadata": {},
     "output_type": "display_data"
    },
    {
     "data": {
      "text/html": [
       "Find logs at: <code>./wandb/run-20220713_104530-34dadfqv/logs</code>"
      ],
      "text/plain": [
       "<IPython.core.display.HTML object>"
      ]
     },
     "metadata": {},
     "output_type": "display_data"
    }
   ],
   "source": [
    "income_metadata_df = income.read(\"income-metadata\")"
   ]
  },
  {
   "cell_type": "markdown",
   "id": "af23f6fe-7f38-4036-89ed-8a2ba5ca8725",
   "metadata": {},
   "source": [
    "Spatially aggregate the LAQN data at the local authority level, with implementation of the algorithm used in Schwartz, 2000:"
   ]
  },
  {
   "cell_type": "code",
   "execution_count": null,
   "id": "a49e8974-b5aa-4b9c-a3a9-e2cc5fe24d55",
   "metadata": {
    "tags": []
   },
   "outputs": [],
   "source": [
    "# aggregated_NO2_df = NO2.local_authority_aggregation_and_log()"
   ]
  },
  {
   "cell_type": "markdown",
   "id": "198ef356-6cd6-402a-be72-2e48ec0503b9",
   "metadata": {},
   "source": [
    "Load the spatially aggregated LAQN data:"
   ]
  },
  {
   "cell_type": "code",
   "execution_count": 13,
   "id": "028cbc81-5284-427c-840b-77b077171994",
   "metadata": {
    "tags": []
   },
   "outputs": [
    {
     "data": {
      "text/html": [
       "Tracking run with wandb version 0.12.21"
      ],
      "text/plain": [
       "<IPython.core.display.HTML object>"
      ]
     },
     "metadata": {},
     "output_type": "display_data"
    },
    {
     "data": {
      "text/html": [
       "Run data is saved locally in <code>/home/users/mwlw3/AQmortality/mortality_model/wandb/run-20220713_104544-1sase7iz</code>"
      ],
      "text/plain": [
       "<IPython.core.display.HTML object>"
      ]
     },
     "metadata": {},
     "output_type": "display_data"
    },
    {
     "data": {
      "text/html": [
       "Syncing run <strong><a href=\"https://wandb.ai/michellewl/AQmortality/runs/1sase7iz\" target=\"_blank\">celestial-river-415</a></strong> to <a href=\"https://wandb.ai/michellewl/AQmortality\" target=\"_blank\">Weights & Biases</a> (<a href=\"https://wandb.me/run\" target=\"_blank\">docs</a>)<br/>"
      ],
      "text/plain": [
       "<IPython.core.display.HTML object>"
      ]
     },
     "metadata": {},
     "output_type": "display_data"
    },
    {
     "data": {
      "text/html": [
       "Waiting for W&B process to finish... <strong style=\"color:green\">(success).</strong>"
      ],
      "text/plain": [
       "<IPython.core.display.HTML object>"
      ]
     },
     "metadata": {},
     "output_type": "display_data"
    },
    {
     "data": {
      "application/vnd.jupyter.widget-view+json": {
       "model_id": "f2d48e4c7b6b4c008b60979b1206207b",
       "version_major": 2,
       "version_minor": 0
      },
      "text/plain": [
       "VBox(children=(Label(value='0.000 MB of 0.000 MB uploaded (0.000 MB deduped)\\r'), FloatProgress(value=1.0, max…"
      ]
     },
     "metadata": {},
     "output_type": "display_data"
    },
    {
     "data": {
      "text/html": [
       "Synced <strong style=\"color:#cdcd00\">celestial-river-415</strong>: <a href=\"https://wandb.ai/michellewl/AQmortality/runs/1sase7iz\" target=\"_blank\">https://wandb.ai/michellewl/AQmortality/runs/1sase7iz</a><br/>Synced 5 W&B file(s), 0 media file(s), 0 artifact file(s) and 0 other file(s)"
      ],
      "text/plain": [
       "<IPython.core.display.HTML object>"
      ]
     },
     "metadata": {},
     "output_type": "display_data"
    },
    {
     "data": {
      "text/html": [
       "Find logs at: <code>./wandb/run-20220713_104544-1sase7iz/logs</code>"
      ],
      "text/plain": [
       "<IPython.core.display.HTML object>"
      ]
     },
     "metadata": {},
     "output_type": "display_data"
    }
   ],
   "source": [
    "aggregated_NO2_df = NO2.read(\"laqn-local-authority\")"
   ]
  },
  {
   "cell_type": "code",
   "execution_count": 14,
   "id": "58247707-5ed0-4e25-b79b-f68e9b95caa3",
   "metadata": {},
   "outputs": [
    {
     "name": "stdout",
     "output_type": "stream",
     "text": [
      "(8401, 33)\n"
     ]
    },
    {
     "data": {
      "image/png": "[encoded data removed]",
      "text/plain": [
       "<Figure size 432x288 with 1 Axes>"
      ]
     },
     "metadata": {
      "needs_background": "light"
     },
     "output_type": "display_data"
    }
   ],
   "source": [
    "print(aggregated_NO2_df.shape)\n",
    "aggregated_NO2_df.plot()\n",
    "plt.show()"
   ]
  },
  {
   "cell_type": "markdown",
   "id": "d8407ec2-2fff-4465-9567-9caaec1a8887",
   "metadata": {},
   "source": [
    "Processing the London wards shapefile for use in this project. Move this code into data_classes at some point."
   ]
  },
  {
   "cell_type": "code",
   "execution_count": 15,
   "id": "ed6c39f6-3f20-4263-a6b5-7940f39bae77",
   "metadata": {},
   "outputs": [],
   "source": [
    "tmp_folder = f\"/home/users/mwlw3/AQmortality/tmp/\"\n",
    "london_authorities_gdf = gpd.read_file(path.join(tmp_folder, \"london_wards_coordinates\", \"london_wards_coordinates.shp\"))[[\"BOROUGH\", \"geometry\"]].dissolve(by=\"BOROUGH\").reset_index()\n",
    "london_authorities_gdf.rename(columns={\"BOROUGH\":\"local_authority\"}, inplace=True)"
   ]
  },
  {
   "cell_type": "code",
   "execution_count": 16,
   "id": "2f1577c7-3f43-463e-ad9b-74789269ddb7",
   "metadata": {},
   "outputs": [
    {
     "data": {
      "image/png": "[encoded data removed]",
      "text/plain": [
       "<Figure size 432x288 with 1 Axes>"
      ]
     },
     "metadata": {
      "needs_background": "light"
     },
     "output_type": "display_data"
    }
   ],
   "source": [
    "london_authorities_gdf.plot()\n",
    "plt.show()"
   ]
  },
  {
   "cell_type": "code",
   "execution_count": 32,
   "id": "cee80f56-42ba-4097-a520-28869d42b171",
   "metadata": {},
   "outputs": [
    {
     "data": {
      "text/html": [
       "<div>\n",
       "<style scoped>\n",
       "    .dataframe tbody tr th:only-of-type {\n",
       "        vertical-align: middle;\n",
       "    }\n",
       "\n",
       "    .dataframe tbody tr th {\n",
       "        vertical-align: top;\n",
       "    }\n",
       "\n",
       "    .dataframe thead th {\n",
       "        text-align: right;\n",
       "    }\n",
       "</style>\n",
       "<table border=\"1\" class=\"dataframe\">\n",
       "  <thead>\n",
       "    <tr style=\"text-align: right;\">\n",
       "      <th></th>\n",
       "      <th>local_authority</th>\n",
       "      <th>geometry</th>\n",
       "      <th>neighbours</th>\n",
       "    </tr>\n",
       "  </thead>\n",
       "  <tbody>\n",
       "    <tr>\n",
       "      <th>0</th>\n",
       "      <td>Barking and Dagenham</td>\n",
       "      <td>POLYGON ((0.13995 51.51336, 0.13907 51.51371, ...</td>\n",
       "      <td>[Bexley, Greenwich, Havering, Newham, Redbridge]</td>\n",
       "    </tr>\n",
       "    <tr>\n",
       "      <th>1</th>\n",
       "      <td>Barnet</td>\n",
       "      <td>POLYGON ((-0.22266 51.56348, -0.22341 51.56407...</td>\n",
       "      <td>[Brent, Camden, Enfield, Haringey, Harrow]</td>\n",
       "    </tr>\n",
       "    <tr>\n",
       "      <th>2</th>\n",
       "      <td>Bexley</td>\n",
       "      <td>POLYGON ((0.11732 51.41316, 0.11694 51.41313, ...</td>\n",
       "      <td>[Barking and Dagenham, Bromley, Greenwich, Hav...</td>\n",
       "    </tr>\n",
       "    <tr>\n",
       "      <th>3</th>\n",
       "      <td>Brent</td>\n",
       "      <td>POLYGON ((-0.25603 51.53390, -0.25612 51.53429...</td>\n",
       "      <td>[Barnet, Camden, Ealing, Hammersmith and Fulha...</td>\n",
       "    </tr>\n",
       "    <tr>\n",
       "      <th>4</th>\n",
       "      <td>Bromley</td>\n",
       "      <td>POLYGON ((0.01177 51.30020, 0.01170 51.30035, ...</td>\n",
       "      <td>[Bexley, Croydon, Greenwich, Lambeth, Lewisham...</td>\n",
       "    </tr>\n",
       "    <tr>\n",
       "      <th>5</th>\n",
       "      <td>Camden</td>\n",
       "      <td>POLYGON ((-0.18941 51.53501, -0.18954 51.53509...</td>\n",
       "      <td>[Barnet, Brent, City of London, Haringey, Isli...</td>\n",
       "    </tr>\n",
       "    <tr>\n",
       "      <th>6</th>\n",
       "      <td>City of London</td>\n",
       "      <td>POLYGON ((-0.07274 51.51075, -0.07273 51.51059...</td>\n",
       "      <td>[Camden, Hackney, Islington, Lambeth, Southwar...</td>\n",
       "    </tr>\n",
       "    <tr>\n",
       "      <th>7</th>\n",
       "      <td>Croydon</td>\n",
       "      <td>POLYGON ((-0.09578 51.29955, -0.09553 51.29948...</td>\n",
       "      <td>[Bromley, Lambeth, Merton, Sutton]</td>\n",
       "    </tr>\n",
       "    <tr>\n",
       "      <th>8</th>\n",
       "      <td>Ealing</td>\n",
       "      <td>POLYGON ((-0.37913 51.49614, -0.37913 51.49611...</td>\n",
       "      <td>[Brent, Hammersmith and Fulham, Harrow, Hillin...</td>\n",
       "    </tr>\n",
       "    <tr>\n",
       "      <th>9</th>\n",
       "      <td>Enfield</td>\n",
       "      <td>POLYGON ((-0.09086 51.60885, -0.09088 51.60874...</td>\n",
       "      <td>[Barnet, Haringey, Waltham Forest]</td>\n",
       "    </tr>\n",
       "    <tr>\n",
       "      <th>10</th>\n",
       "      <td>Greenwich</td>\n",
       "      <td>POLYGON ((0.07572 51.43359, 0.07568 51.43357, ...</td>\n",
       "      <td>[Barking and Dagenham, Bexley, Bromley, Lewish...</td>\n",
       "    </tr>\n",
       "    <tr>\n",
       "      <th>11</th>\n",
       "      <td>Hackney</td>\n",
       "      <td>POLYGON ((-0.06283 51.53494, -0.06282 51.53458...</td>\n",
       "      <td>[City of London, Haringey, Islington, Newham, ...</td>\n",
       "    </tr>\n",
       "    <tr>\n",
       "      <th>12</th>\n",
       "      <td>Hammersmith and Fulham</td>\n",
       "      <td>POLYGON ((-0.22648 51.48402, -0.22679 51.48481...</td>\n",
       "      <td>[Brent, Ealing, Hounslow, Kensington and Chels...</td>\n",
       "    </tr>\n",
       "    <tr>\n",
       "      <th>13</th>\n",
       "      <td>Haringey</td>\n",
       "      <td>POLYGON ((-0.10731 51.56628, -0.10759 51.56650...</td>\n",
       "      <td>[Barnet, Camden, Enfield, Hackney, Islington, ...</td>\n",
       "    </tr>\n",
       "    <tr>\n",
       "      <th>14</th>\n",
       "      <td>Harrow</td>\n",
       "      <td>POLYGON ((-0.35158 51.55894, -0.35365 51.55865...</td>\n",
       "      <td>[Barnet, Brent, Ealing, Hillingdon]</td>\n",
       "    </tr>\n",
       "    <tr>\n",
       "      <th>15</th>\n",
       "      <td>Havering</td>\n",
       "      <td>POLYGON ((0.16626 51.52888, 0.16639 51.52896, ...</td>\n",
       "      <td>[Barking and Dagenham, Bexley, Redbridge]</td>\n",
       "    </tr>\n",
       "    <tr>\n",
       "      <th>16</th>\n",
       "      <td>Hillingdon</td>\n",
       "      <td>POLYGON ((-0.45928 51.45656, -0.45937 51.45660...</td>\n",
       "      <td>[Ealing, Harrow, Hounslow]</td>\n",
       "    </tr>\n",
       "    <tr>\n",
       "      <th>17</th>\n",
       "      <td>Hounslow</td>\n",
       "      <td>POLYGON ((-0.38286 51.44499, -0.38183 51.44482...</td>\n",
       "      <td>[Ealing, Hammersmith and Fulham, Hillingdon, R...</td>\n",
       "    </tr>\n",
       "    <tr>\n",
       "      <th>18</th>\n",
       "      <td>Islington</td>\n",
       "      <td>POLYGON ((-0.12120 51.53079, -0.12198 51.53074...</td>\n",
       "      <td>[Camden, City of London, Hackney, Haringey]</td>\n",
       "    </tr>\n",
       "    <tr>\n",
       "      <th>19</th>\n",
       "      <td>Kensington and Chelsea</td>\n",
       "      <td>POLYGON ((-0.19643 51.48715, -0.19708 51.48740...</td>\n",
       "      <td>[Brent, Hammersmith and Fulham, Wandsworth, We...</td>\n",
       "    </tr>\n",
       "    <tr>\n",
       "      <th>20</th>\n",
       "      <td>Kingston</td>\n",
       "      <td>POLYGON ((-0.33028 51.32921, -0.32990 51.32940...</td>\n",
       "      <td>[Merton, Richmond, Sutton, Wandsworth]</td>\n",
       "    </tr>\n",
       "    <tr>\n",
       "      <th>21</th>\n",
       "      <td>Lambeth</td>\n",
       "      <td>POLYGON ((-0.11328 51.42271, -0.11380 51.42240...</td>\n",
       "      <td>[Bromley, City of London, Croydon, Merton, Sou...</td>\n",
       "    </tr>\n",
       "    <tr>\n",
       "      <th>22</th>\n",
       "      <td>Lewisham</td>\n",
       "      <td>POLYGON ((-0.07431 51.42739, -0.07447 51.42757...</td>\n",
       "      <td>[Bromley, Greenwich, Southwark, Tower Hamlets]</td>\n",
       "    </tr>\n",
       "    <tr>\n",
       "      <th>23</th>\n",
       "      <td>Merton</td>\n",
       "      <td>POLYGON ((-0.18972 51.38607, -0.19011 51.38607...</td>\n",
       "      <td>[Croydon, Kingston, Lambeth, Sutton, Wandsworth]</td>\n",
       "    </tr>\n",
       "    <tr>\n",
       "      <th>24</th>\n",
       "      <td>Newham</td>\n",
       "      <td>POLYGON ((0.00995 51.50402, 0.00967 51.50423, ...</td>\n",
       "      <td>[Barking and Dagenham, Greenwich, Hackney, Red...</td>\n",
       "    </tr>\n",
       "    <tr>\n",
       "      <th>25</th>\n",
       "      <td>Redbridge</td>\n",
       "      <td>POLYGON ((0.05975 51.55663, 0.05970 51.55668, ...</td>\n",
       "      <td>[Barking and Dagenham, Havering, Newham, Walth...</td>\n",
       "    </tr>\n",
       "    <tr>\n",
       "      <th>26</th>\n",
       "      <td>Richmond</td>\n",
       "      <td>POLYGON ((-0.31220 51.39797, -0.31251 51.39740...</td>\n",
       "      <td>[Hammersmith and Fulham, Hounslow, Kingston, W...</td>\n",
       "    </tr>\n",
       "    <tr>\n",
       "      <th>27</th>\n",
       "      <td>Southwark</td>\n",
       "      <td>POLYGON ((-0.09118 51.43779, -0.09147 51.43826...</td>\n",
       "      <td>[Bromley, City of London, Lambeth, Lewisham, T...</td>\n",
       "    </tr>\n",
       "    <tr>\n",
       "      <th>28</th>\n",
       "      <td>Sutton</td>\n",
       "      <td>POLYGON ((-0.18490 51.33930, -0.18592 51.33983...</td>\n",
       "      <td>[Croydon, Kingston, Merton]</td>\n",
       "    </tr>\n",
       "    <tr>\n",
       "      <th>29</th>\n",
       "      <td>Tower Hamlets</td>\n",
       "      <td>POLYGON ((-0.04863 51.50624, -0.04943 51.50578...</td>\n",
       "      <td>[City of London, Greenwich, Hackney, Lewisham,...</td>\n",
       "    </tr>\n",
       "    <tr>\n",
       "      <th>30</th>\n",
       "      <td>Waltham Forest</td>\n",
       "      <td>POLYGON ((-0.01748 51.55334, -0.01765 51.55367...</td>\n",
       "      <td>[Enfield, Hackney, Haringey, Newham, Redbridge]</td>\n",
       "    </tr>\n",
       "    <tr>\n",
       "      <th>31</th>\n",
       "      <td>Wandsworth</td>\n",
       "      <td>POLYGON ((-0.18424 51.43122, -0.18432 51.43127...</td>\n",
       "      <td>[Hammersmith and Fulham, Kensington and Chelse...</td>\n",
       "    </tr>\n",
       "    <tr>\n",
       "      <th>32</th>\n",
       "      <td>Westminster</td>\n",
       "      <td>POLYGON ((-0.19170 51.50989, -0.19213 51.50982...</td>\n",
       "      <td>[Brent, Camden, City of London, Kensington and...</td>\n",
       "    </tr>\n",
       "  </tbody>\n",
       "</table>\n",
       "</div>"
      ],
      "text/plain": [
       "           local_authority                                           geometry  \\\n",
       "0     Barking and Dagenham  POLYGON ((0.13995 51.51336, 0.13907 51.51371, ...   \n",
       "1                   Barnet  POLYGON ((-0.22266 51.56348, -0.22341 51.56407...   \n",
       "2                   Bexley  POLYGON ((0.11732 51.41316, 0.11694 51.41313, ...   \n",
       "3                    Brent  POLYGON ((-0.25603 51.53390, -0.25612 51.53429...   \n",
       "4                  Bromley  POLYGON ((0.01177 51.30020, 0.01170 51.30035, ...   \n",
       "5                   Camden  POLYGON ((-0.18941 51.53501, -0.18954 51.53509...   \n",
       "6           City of London  POLYGON ((-0.07274 51.51075, -0.07273 51.51059...   \n",
       "7                  Croydon  POLYGON ((-0.09578 51.29955, -0.09553 51.29948...   \n",
       "8                   Ealing  POLYGON ((-0.37913 51.49614, -0.37913 51.49611...   \n",
       "9                  Enfield  POLYGON ((-0.09086 51.60885, -0.09088 51.60874...   \n",
       "10               Greenwich  POLYGON ((0.07572 51.43359, 0.07568 51.43357, ...   \n",
       "11                 Hackney  POLYGON ((-0.06283 51.53494, -0.06282 51.53458...   \n",
       "12  Hammersmith and Fulham  POLYGON ((-0.22648 51.48402, -0.22679 51.48481...   \n",
       "13                Haringey  POLYGON ((-0.10731 51.56628, -0.10759 51.56650...   \n",
       "14                  Harrow  POLYGON ((-0.35158 51.55894, -0.35365 51.55865...   \n",
       "15                Havering  POLYGON ((0.16626 51.52888, 0.16639 51.52896, ...   \n",
       "16              Hillingdon  POLYGON ((-0.45928 51.45656, -0.45937 51.45660...   \n",
       "17                Hounslow  POLYGON ((-0.38286 51.44499, -0.38183 51.44482...   \n",
       "18               Islington  POLYGON ((-0.12120 51.53079, -0.12198 51.53074...   \n",
       "19  Kensington and Chelsea  POLYGON ((-0.19643 51.48715, -0.19708 51.48740...   \n",
       "20                Kingston  POLYGON ((-0.33028 51.32921, -0.32990 51.32940...   \n",
       "21                 Lambeth  POLYGON ((-0.11328 51.42271, -0.11380 51.42240...   \n",
       "22                Lewisham  POLYGON ((-0.07431 51.42739, -0.07447 51.42757...   \n",
       "23                  Merton  POLYGON ((-0.18972 51.38607, -0.19011 51.38607...   \n",
       "24                  Newham  POLYGON ((0.00995 51.50402, 0.00967 51.50423, ...   \n",
       "25               Redbridge  POLYGON ((0.05975 51.55663, 0.05970 51.55668, ...   \n",
       "26                Richmond  POLYGON ((-0.31220 51.39797, -0.31251 51.39740...   \n",
       "27               Southwark  POLYGON ((-0.09118 51.43779, -0.09147 51.43826...   \n",
       "28                  Sutton  POLYGON ((-0.18490 51.33930, -0.18592 51.33983...   \n",
       "29           Tower Hamlets  POLYGON ((-0.04863 51.50624, -0.04943 51.50578...   \n",
       "30          Waltham Forest  POLYGON ((-0.01748 51.55334, -0.01765 51.55367...   \n",
       "31              Wandsworth  POLYGON ((-0.18424 51.43122, -0.18432 51.43127...   \n",
       "32             Westminster  POLYGON ((-0.19170 51.50989, -0.19213 51.50982...   \n",
       "\n",
       "                                           neighbours  \n",
       "0    [Bexley, Greenwich, Havering, Newham, Redbridge]  \n",
       "1          [Brent, Camden, Enfield, Haringey, Harrow]  \n",
       "2   [Barking and Dagenham, Bromley, Greenwich, Hav...  \n",
       "3   [Barnet, Camden, Ealing, Hammersmith and Fulha...  \n",
       "4   [Bexley, Croydon, Greenwich, Lambeth, Lewisham...  \n",
       "5   [Barnet, Brent, City of London, Haringey, Isli...  \n",
       "6   [Camden, Hackney, Islington, Lambeth, Southwar...  \n",
       "7                  [Bromley, Lambeth, Merton, Sutton]  \n",
       "8   [Brent, Hammersmith and Fulham, Harrow, Hillin...  \n",
       "9                  [Barnet, Haringey, Waltham Forest]  \n",
       "10  [Barking and Dagenham, Bexley, Bromley, Lewish...  \n",
       "11  [City of London, Haringey, Islington, Newham, ...  \n",
       "12  [Brent, Ealing, Hounslow, Kensington and Chels...  \n",
       "13  [Barnet, Camden, Enfield, Hackney, Islington, ...  \n",
       "14                [Barnet, Brent, Ealing, Hillingdon]  \n",
       "15          [Barking and Dagenham, Bexley, Redbridge]  \n",
       "16                         [Ealing, Harrow, Hounslow]  \n",
       "17  [Ealing, Hammersmith and Fulham, Hillingdon, R...  \n",
       "18        [Camden, City of London, Hackney, Haringey]  \n",
       "19  [Brent, Hammersmith and Fulham, Wandsworth, We...  \n",
       "20             [Merton, Richmond, Sutton, Wandsworth]  \n",
       "21  [Bromley, City of London, Croydon, Merton, Sou...  \n",
       "22     [Bromley, Greenwich, Southwark, Tower Hamlets]  \n",
       "23   [Croydon, Kingston, Lambeth, Sutton, Wandsworth]  \n",
       "24  [Barking and Dagenham, Greenwich, Hackney, Red...  \n",
       "25  [Barking and Dagenham, Havering, Newham, Walth...  \n",
       "26  [Hammersmith and Fulham, Hounslow, Kingston, W...  \n",
       "27  [Bromley, City of London, Lambeth, Lewisham, T...  \n",
       "28                        [Croydon, Kingston, Merton]  \n",
       "29  [City of London, Greenwich, Hackney, Lewisham,...  \n",
       "30    [Enfield, Hackney, Haringey, Newham, Redbridge]  \n",
       "31  [Hammersmith and Fulham, Kensington and Chelse...  \n",
       "32  [Brent, Camden, City of London, Kensington and...  "
      ]
     },
     "execution_count": 32,
     "metadata": {},
     "output_type": "execute_result"
    }
   ],
   "source": [
    "london_authorities_gdf"
   ]
  },
  {
   "cell_type": "code",
   "execution_count": 17,
   "id": "7ef912ec-559e-4c34-9c88-c69eb330ecb5",
   "metadata": {},
   "outputs": [],
   "source": [
    "def rename_local_authority_districts(df_to_rename, names_reference_list):\n",
    "        local_authorities_to_rename = [item for item in set(df_to_rename.local_authority.tolist())]\n",
    "        \n",
    "        mismatches = []\n",
    "        count = 0\n",
    "        for local_authority in local_authorities_to_rename:\n",
    "            if local_authority not in names_reference_list:\n",
    "                mismatches.append(local_authority)\n",
    "            else:\n",
    "                count+=1\n",
    "        print(f\"Pass 1:\\nMatched {count} out of {len(local_authorities_to_rename)} local authorities.\")\n",
    "\n",
    "        if mismatches:\n",
    "            print(\"\\nPass 2:\\nSearching for matches...\")\n",
    "            mismatch_dict = {}\n",
    "            search_letters = [local_authority[0:3] for local_authority in mismatches]\n",
    "            ref_local_authorities_breakdown = [local_authority.split(\" \") for local_authority in names_reference_list]\n",
    "            for i in range(len(search_letters)):\n",
    "                for local_authority in ref_local_authorities_breakdown:\n",
    "                    for word in local_authority:\n",
    "                        if search_letters[i] in word:\n",
    "                            mismatch_dict.update({\" \".join(local_authority): mismatches[i]})\n",
    "            if mismatch_dict:\n",
    "                print(\"Found matches (<reference_local_authority_name>: <local_authority_to_rename>):\")\n",
    "                print(mismatch_dict)\n",
    "               \n",
    "                for key in mismatch_dict.keys():\n",
    "                    df_to_rename.replace({mismatch_dict[key]: key}, inplace=True)\n",
    "                print(\"\\nLocal authorities have been renamed.\")\n",
    "        return df_to_rename"
   ]
  },
  {
   "cell_type": "code",
   "execution_count": null,
   "id": "8958bddb-f7da-42d2-a33c-9fbc1f54bc31",
   "metadata": {},
   "outputs": [],
   "source": []
  },
  {
   "cell_type": "code",
   "execution_count": 18,
   "id": "2078c4a6-abdf-41d4-b677-f88c7833309d",
   "metadata": {},
   "outputs": [
    {
     "name": "stdout",
     "output_type": "stream",
     "text": [
      "Pass 1:\n",
      "Matched 31 out of 33 local authorities.\n",
      "\n",
      "Pass 2:\n",
      "Searching for matches...\n",
      "Found matches (<reference_local_authority_name>: <local_authority_to_rename>):\n",
      "{'Richmond': 'Richmond upon Thames', 'Kingston': 'Kingston upon Thames'}\n",
      "\n",
      "Local authorities have been renamed.\n"
     ]
    }
   ],
   "source": [
    "london_authorities_gdf = rename_local_authority_districts(london_authorities_gdf, income_metadata_df[\"local_authority\"].tolist())"
   ]
  },
  {
   "cell_type": "markdown",
   "id": "fcc1270d-ba7d-4336-8496-0b13060c1854",
   "metadata": {},
   "source": [
    "Set up the node connections:"
   ]
  },
  {
   "cell_type": "code",
   "execution_count": 19,
   "id": "ae6b3156-76e0-4069-8e79-7412ab5901cf",
   "metadata": {},
   "outputs": [],
   "source": [
    "london_authorities_gdf[\"neighbours\"] = None\n",
    "edge_pairs = []\n",
    "\n",
    "for index, row in london_authorities_gdf.iterrows():\n",
    "    # get adjoining local authorities\n",
    "    neighbours = london_authorities_gdf[london_authorities_gdf.geometry.touches(row.geometry)].local_authority.tolist()\n",
    "    neighbours_index = london_authorities_gdf[london_authorities_gdf.geometry.touches(row.geometry)].index.tolist()\n",
    "\n",
    "    # add names of neighbours as row value\n",
    "    london_authorities_gdf.at[index, \"neighbours\"] = neighbours\n",
    "    \n",
    "    # add the neighbouring pair of indices to the edge_pairs list\n",
    "    for neighbour in neighbours_index:\n",
    "        edge_pairs.append([index, neighbour])"
   ]
  },
  {
   "cell_type": "code",
   "execution_count": 20,
   "id": "b017d0e0-511a-4932-b605-891084087e07",
   "metadata": {},
   "outputs": [],
   "source": [
    "edge_pairs = np.array(edge_pairs).transpose()"
   ]
  },
  {
   "cell_type": "code",
   "execution_count": 21,
   "id": "55aa14fe-5854-414e-b0a8-da73d2456440",
   "metadata": {},
   "outputs": [
    {
     "data": {
      "text/plain": [
       "(2, 164)"
      ]
     },
     "execution_count": 21,
     "metadata": {},
     "output_type": "execute_result"
    }
   ],
   "source": [
    "edge_pairs.shape"
   ]
  },
  {
   "cell_type": "code",
   "execution_count": 22,
   "id": "4f53dc91-875f-4692-9b07-f5850e83571f",
   "metadata": {},
   "outputs": [],
   "source": [
    "edge_index = torch.tensor(edge_pairs, dtype=torch.long)"
   ]
  },
  {
   "cell_type": "code",
   "execution_count": 23,
   "id": "a9afa957-24a2-4537-974a-b956830fa012",
   "metadata": {},
   "outputs": [],
   "source": [
    "node_index = london_authorities_gdf.index.values.reshape(-1,1)\n",
    "x = torch.tensor(node_index, dtype=torch.float)"
   ]
  },
  {
   "cell_type": "code",
   "execution_count": 24,
   "id": "38daa943-7c3f-4814-8f22-bcf7ae17b3d0",
   "metadata": {},
   "outputs": [
    {
     "data": {
      "image/png": "[encoded data removed]",
      "text/plain": [
       "<Figure size 432x288 with 1 Axes>"
      ]
     },
     "metadata": {},
     "output_type": "display_data"
    }
   ],
   "source": [
    "data = torch_geometric.data.Data(x=x, edge_index=edge_index)\n",
    "graph = torch_geometric.utils.to_networkx(data, to_undirected=True)\n",
    "nx.draw(graph)"
   ]
  },
  {
   "cell_type": "markdown",
   "id": "46a812c6-737a-4768-9c15-1d5585124b83",
   "metadata": {},
   "source": [
    "### Input feature processing to numpy arrays"
   ]
  },
  {
   "cell_type": "markdown",
   "id": "252d0414-e552-4f0a-a932-91674bf9ecd0",
   "metadata": {},
   "source": [
    "Match up the date ranges for the income and NO2 data:"
   ]
  },
  {
   "cell_type": "code",
   "execution_count": 25,
   "id": "ba7bdd1e-d834-4acc-aaae-520975930762",
   "metadata": {},
   "outputs": [],
   "source": [
    "def date_trim(df, start, end):\n",
    "    df = df.loc[df.index >= start]\n",
    "    df = df.loc[df.index <= end]\n",
    "    return df"
   ]
  },
  {
   "cell_type": "code",
   "execution_count": 26,
   "id": "5fc6648c-3fbc-42f3-b894-74f0c323fe87",
   "metadata": {},
   "outputs": [],
   "source": [
    "start, end = daily_income_df.index.min(), daily_income_df.index.max()\n",
    "\n",
    "aggregated_NO2_datetrim_df = date_trim(aggregated_NO2_df, start, end)\n",
    "daily_met_datetrim_df = date_trim(daily_met_df, start, end)"
   ]
  },
  {
   "cell_type": "code",
   "execution_count": 27,
   "id": "0a4e4abd-8da6-4803-addf-f0e1cb9467ea",
   "metadata": {},
   "outputs": [],
   "source": [
    "local_authority_list = [] \n",
    "\n",
    "for i in london_authorities_gdf.index:\n",
    "    local_authority = london_authorities_gdf.iloc[i][\"local_authority\"]\n",
    "    income_dataset_code = income_metadata_df.loc[income_metadata_df[\"local_authority\"]==local_authority].index.values[0]\n",
    "    daily_income_array = daily_income_df[income_dataset_code].values\n",
    "    daily_NO2_array = aggregated_NO2_datetrim_df[local_authority].values\n",
    "    node_array = np.array([daily_NO2_array, daily_income_array])\n",
    "    local_authority_list.append(node_array)\n",
    "input_array = np.array(local_authority_list)"
   ]
  },
  {
   "cell_type": "code",
   "execution_count": 28,
   "id": "908ceb61-c963-4938-b514-20740dd2167a",
   "metadata": {},
   "outputs": [
    {
     "data": {
      "text/plain": [
       "(33, 2, 7671)"
      ]
     },
     "execution_count": 28,
     "metadata": {},
     "output_type": "execute_result"
    }
   ],
   "source": [
    "input_array.shape"
   ]
  },
  {
   "cell_type": "code",
   "execution_count": 31,
   "id": "e5f41f57-4b2a-4007-9ee3-d4ae9a4db315",
   "metadata": {},
   "outputs": [
    {
     "data": {
      "text/plain": [
       "Index(['Hackney', 'Hammersmith and Fulham', 'Enfield', 'Bromley', 'Croydon',\n",
       "       'Camden', 'Brent', 'City of London', 'Ealing', 'Greenwich', 'Newham',\n",
       "       'Merton', 'Bexley', 'Waltham Forest', 'Lambeth', 'Richmond',\n",
       "       'Redbridge', 'Sutton', 'Havering', 'Tower Hamlets', 'Barnet',\n",
       "       'Southwark', 'Barking and Dagenham', 'Wandsworth', 'Lewisham',\n",
       "       'Hillingdon', 'Haringey', 'Hounslow', 'Harrow', 'Islington',\n",
       "       'Kensington and Chelsea', 'Kingston', 'Westminster'],\n",
       "      dtype='object')"
      ]
     },
     "execution_count": 31,
     "metadata": {},
     "output_type": "execute_result"
    }
   ],
   "source": [
    "aggregated_NO2_df.columns"
   ]
  },
  {
   "cell_type": "code",
   "execution_count": null,
   "id": "3322db06-68d1-47bd-84b6-954a79e2af1a",
   "metadata": {},
   "outputs": [],
   "source": []
  }
 ],
 "metadata": {
  "kernelspec": {
   "display_name": "AQmort",
   "language": "python",
   "name": "aqmort"
  },
  "language_info": {
   "codemirror_mode": {
    "name": "ipython",
    "version": 3
   },
   "file_extension": ".py",
   "mimetype": "text/x-python",
   "name": "python",
   "nbconvert_exporter": "python",
   "pygments_lexer": "ipython3",
   "version": "3.8.13"
  }
 },
 "nbformat": 4,
 "nbformat_minor": 5
}
