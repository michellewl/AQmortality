{
 "cells": [
  {
   "cell_type": "code",
   "execution_count": null,
   "id": "0b802eb1-4e3b-45dc-97e6-addb17e47bca",
   "metadata": {},
   "outputs": [],
   "source": []
  },
  {
   "cell_type": "code",
   "execution_count": 13,
   "id": "24a0343e-8dfb-4015-ac29-616d561901ce",
   "metadata": {},
   "outputs": [],
   "source": [
    "from data_classes import LAQNData, HealthData, MetData, IncomeData\n",
    "from os import path\n",
    "import pandas as pd\n",
    "import matplotlib.pyplot as plt\n",
    "import matplotlib.cm as cm\n",
    "import requests"
   ]
  },
  {
   "cell_type": "markdown",
   "id": "f4d30287-9954-41d3-879c-2e99fdcd539d",
   "metadata": {
    "tags": []
   },
   "source": [
    "Load the resampled daily NO2 data:"
   ]
  },
  {
   "cell_type": "code",
   "execution_count": 4,
   "id": "fefa0a35-7e1d-49ae-9cc2-d1011da45e19",
   "metadata": {
    "collapsed": true,
    "jupyter": {
     "outputs_hidden": true
    },
    "tags": []
   },
   "outputs": [
    {
     "name": "stderr",
     "output_type": "stream",
     "text": [
      "Failed to detect the name of this notebook, you can set it manually with the WANDB_NOTEBOOK_NAME environment variable to enable code saving.\n",
      "\u001b[34m\u001b[1mwandb\u001b[0m: Currently logged in as: \u001b[33mmichellewl\u001b[0m (use `wandb login --relogin` to force relogin)\n",
      "\u001b[34m\u001b[1mwandb\u001b[0m: wandb version 0.12.17 is available!  To upgrade, please run:\n",
      "\u001b[34m\u001b[1mwandb\u001b[0m:  $ pip install wandb --upgrade\n"
     ]
    },
    {
     "data": {
      "text/html": [
       "\n",
       "                Tracking run with wandb version 0.10.31<br/>\n",
       "                Syncing run <strong style=\"color:#cdcd00\">devoted-frost-366</strong> to <a href=\"https://wandb.ai\" target=\"_blank\">Weights & Biases</a> <a href=\"https://docs.wandb.com/integrations/jupyter.html\" target=\"_blank\">(Documentation)</a>.<br/>\n",
       "                Project page: <a href=\"https://wandb.ai/michellewl/AQmortality\" target=\"_blank\">https://wandb.ai/michellewl/AQmortality</a><br/>\n",
       "                Run page: <a href=\"https://wandb.ai/michellewl/AQmortality/runs/1sf7ozut\" target=\"_blank\">https://wandb.ai/michellewl/AQmortality/runs/1sf7ozut</a><br/>\n",
       "                Run data is saved locally in <code>/home/users/mwlw3/AQmortality/mortality_model/wandb/run-20220527_111911-1sf7ozut</code><br/><br/>\n",
       "            "
      ],
      "text/plain": [
       "<IPython.core.display.HTML object>"
      ]
     },
     "metadata": {},
     "output_type": "display_data"
    },
    {
     "data": {
      "text/html": [
       "<br/>Waiting for W&B process to finish, PID 712<br/>Program ended successfully."
      ],
      "text/plain": [
       "<IPython.core.display.HTML object>"
      ]
     },
     "metadata": {},
     "output_type": "display_data"
    },
    {
     "data": {
      "application/vnd.jupyter.widget-view+json": {
       "model_id": "1251bdf56a1a492ba6ad7b703bcf4cf4",
       "version_major": 2,
       "version_minor": 0
      },
      "text/plain": [
       "VBox(children=(Label(value=' 0.00MB of 0.00MB uploaded (0.00MB deduped)\\r'), FloatProgress(value=1.0, max=1.0)…"
      ]
     },
     "metadata": {},
     "output_type": "display_data"
    },
    {
     "data": {
      "text/html": [
       "Find user logs for this run at: <code>/home/users/mwlw3/AQmortality/mortality_model/wandb/run-20220527_111911-1sf7ozut/logs/debug.log</code>"
      ],
      "text/plain": [
       "<IPython.core.display.HTML object>"
      ]
     },
     "metadata": {},
     "output_type": "display_data"
    },
    {
     "data": {
      "text/html": [
       "Find internal logs for this run at: <code>/home/users/mwlw3/AQmortality/mortality_model/wandb/run-20220527_111911-1sf7ozut/logs/debug-internal.log</code>"
      ],
      "text/plain": [
       "<IPython.core.display.HTML object>"
      ]
     },
     "metadata": {},
     "output_type": "display_data"
    },
    {
     "data": {
      "text/html": [
       "Synced 5 W&B file(s), 0 media file(s), 0 artifact file(s) and 0 other file(s)"
      ],
      "text/plain": [
       "<IPython.core.display.HTML object>"
      ]
     },
     "metadata": {},
     "output_type": "display_data"
    },
    {
     "data": {
      "text/html": [
       "\n",
       "                    <br/>Synced <strong style=\"color:#cdcd00\">devoted-frost-366</strong>: <a href=\"https://wandb.ai/michellewl/AQmortality/runs/1sf7ozut\" target=\"_blank\">https://wandb.ai/michellewl/AQmortality/runs/1sf7ozut</a><br/>\n",
       "                "
      ],
      "text/plain": [
       "<IPython.core.display.HTML object>"
      ]
     },
     "metadata": {},
     "output_type": "display_data"
    }
   ],
   "source": [
    "species = \"NO2\"\n",
    "region = \"London\"\n",
    "NO2 = LAQNData(species, region)\n",
    "daily_NO2_df = NO2.read(\"laqn-resample\")"
   ]
  },
  {
   "cell_type": "markdown",
   "id": "545774a2-f6c1-401f-a517-ec812016c87a",
   "metadata": {},
   "source": [
    "Load the resampled daily income data:"
   ]
  },
  {
   "cell_type": "code",
   "execution_count": 8,
   "id": "e80ff8f5-db20-4f06-89ae-2b21a41ec944",
   "metadata": {},
   "outputs": [
    {
     "data": {
      "text/html": [
       "<div>\n",
       "<style scoped>\n",
       "    .dataframe tbody tr th:only-of-type {\n",
       "        vertical-align: middle;\n",
       "    }\n",
       "\n",
       "    .dataframe tbody tr th {\n",
       "        vertical-align: top;\n",
       "    }\n",
       "\n",
       "    .dataframe thead th {\n",
       "        text-align: right;\n",
       "    }\n",
       "</style>\n",
       "<table border=\"1\" class=\"dataframe\">\n",
       "  <thead>\n",
       "    <tr style=\"text-align: right;\">\n",
       "      <th></th>\n",
       "      <th>BN2</th>\n",
       "      <th>BP0</th>\n",
       "      <th>EI3</th>\n",
       "      <th>BT3</th>\n",
       "      <th>A30</th>\n",
       "      <th>EA1</th>\n",
       "      <th>EN4</th>\n",
       "      <th>EN1</th>\n",
       "      <th>BT5</th>\n",
       "      <th>EN7</th>\n",
       "      <th>...</th>\n",
       "      <th>WAB</th>\n",
       "      <th>WE0</th>\n",
       "      <th>WL2</th>\n",
       "      <th>WL4</th>\n",
       "      <th>WM0</th>\n",
       "      <th>WM5</th>\n",
       "      <th>WM8</th>\n",
       "      <th>WMA</th>\n",
       "      <th>WMZ</th>\n",
       "      <th>WMC</th>\n",
       "    </tr>\n",
       "  </thead>\n",
       "  <tbody>\n",
       "    <tr>\n",
       "      <th>1996-01-01</th>\n",
       "      <td>NaN</td>\n",
       "      <td>NaN</td>\n",
       "      <td>NaN</td>\n",
       "      <td>NaN</td>\n",
       "      <td>NaN</td>\n",
       "      <td>52.300000</td>\n",
       "      <td>NaN</td>\n",
       "      <td>30.200000</td>\n",
       "      <td>NaN</td>\n",
       "      <td>NaN</td>\n",
       "      <td>...</td>\n",
       "      <td>NaN</td>\n",
       "      <td>0.000000</td>\n",
       "      <td>NaN</td>\n",
       "      <td>NaN</td>\n",
       "      <td>NaN</td>\n",
       "      <td>NaN</td>\n",
       "      <td>NaN</td>\n",
       "      <td>NaN</td>\n",
       "      <td>NaN</td>\n",
       "      <td>NaN</td>\n",
       "    </tr>\n",
       "    <tr>\n",
       "      <th>1996-01-02</th>\n",
       "      <td>NaN</td>\n",
       "      <td>76.979167</td>\n",
       "      <td>NaN</td>\n",
       "      <td>NaN</td>\n",
       "      <td>NaN</td>\n",
       "      <td>69.366667</td>\n",
       "      <td>NaN</td>\n",
       "      <td>44.378261</td>\n",
       "      <td>NaN</td>\n",
       "      <td>NaN</td>\n",
       "      <td>...</td>\n",
       "      <td>NaN</td>\n",
       "      <td>53.720833</td>\n",
       "      <td>NaN</td>\n",
       "      <td>NaN</td>\n",
       "      <td>NaN</td>\n",
       "      <td>NaN</td>\n",
       "      <td>NaN</td>\n",
       "      <td>NaN</td>\n",
       "      <td>NaN</td>\n",
       "      <td>NaN</td>\n",
       "    </tr>\n",
       "    <tr>\n",
       "      <th>1996-01-03</th>\n",
       "      <td>NaN</td>\n",
       "      <td>73.320833</td>\n",
       "      <td>NaN</td>\n",
       "      <td>NaN</td>\n",
       "      <td>NaN</td>\n",
       "      <td>56.347826</td>\n",
       "      <td>NaN</td>\n",
       "      <td>39.239130</td>\n",
       "      <td>NaN</td>\n",
       "      <td>NaN</td>\n",
       "      <td>...</td>\n",
       "      <td>NaN</td>\n",
       "      <td>56.904167</td>\n",
       "      <td>NaN</td>\n",
       "      <td>NaN</td>\n",
       "      <td>NaN</td>\n",
       "      <td>NaN</td>\n",
       "      <td>NaN</td>\n",
       "      <td>NaN</td>\n",
       "      <td>NaN</td>\n",
       "      <td>NaN</td>\n",
       "    </tr>\n",
       "    <tr>\n",
       "      <th>1996-01-04</th>\n",
       "      <td>NaN</td>\n",
       "      <td>74.929167</td>\n",
       "      <td>NaN</td>\n",
       "      <td>NaN</td>\n",
       "      <td>NaN</td>\n",
       "      <td>59.891667</td>\n",
       "      <td>NaN</td>\n",
       "      <td>47.695652</td>\n",
       "      <td>NaN</td>\n",
       "      <td>NaN</td>\n",
       "      <td>...</td>\n",
       "      <td>NaN</td>\n",
       "      <td>62.004167</td>\n",
       "      <td>NaN</td>\n",
       "      <td>NaN</td>\n",
       "      <td>NaN</td>\n",
       "      <td>NaN</td>\n",
       "      <td>NaN</td>\n",
       "      <td>NaN</td>\n",
       "      <td>NaN</td>\n",
       "      <td>NaN</td>\n",
       "    </tr>\n",
       "    <tr>\n",
       "      <th>1996-01-05</th>\n",
       "      <td>NaN</td>\n",
       "      <td>63.731818</td>\n",
       "      <td>NaN</td>\n",
       "      <td>NaN</td>\n",
       "      <td>NaN</td>\n",
       "      <td>58.891667</td>\n",
       "      <td>NaN</td>\n",
       "      <td>46.678261</td>\n",
       "      <td>NaN</td>\n",
       "      <td>NaN</td>\n",
       "      <td>...</td>\n",
       "      <td>NaN</td>\n",
       "      <td>41.429167</td>\n",
       "      <td>NaN</td>\n",
       "      <td>NaN</td>\n",
       "      <td>NaN</td>\n",
       "      <td>NaN</td>\n",
       "      <td>NaN</td>\n",
       "      <td>NaN</td>\n",
       "      <td>NaN</td>\n",
       "      <td>NaN</td>\n",
       "    </tr>\n",
       "  </tbody>\n",
       "</table>\n",
       "<p>5 rows × 198 columns</p>\n",
       "</div>"
      ],
      "text/plain": [
       "            BN2        BP0  EI3  BT3  A30        EA1  EN4        EN1  BT5  \\\n",
       "1996-01-01  NaN        NaN  NaN  NaN  NaN  52.300000  NaN  30.200000  NaN   \n",
       "1996-01-02  NaN  76.979167  NaN  NaN  NaN  69.366667  NaN  44.378261  NaN   \n",
       "1996-01-03  NaN  73.320833  NaN  NaN  NaN  56.347826  NaN  39.239130  NaN   \n",
       "1996-01-04  NaN  74.929167  NaN  NaN  NaN  59.891667  NaN  47.695652  NaN   \n",
       "1996-01-05  NaN  63.731818  NaN  NaN  NaN  58.891667  NaN  46.678261  NaN   \n",
       "\n",
       "            EN7  ...  WAB        WE0  WL2  WL4  WM0  WM5  WM8  WMA  WMZ  WMC  \n",
       "1996-01-01  NaN  ...  NaN   0.000000  NaN  NaN  NaN  NaN  NaN  NaN  NaN  NaN  \n",
       "1996-01-02  NaN  ...  NaN  53.720833  NaN  NaN  NaN  NaN  NaN  NaN  NaN  NaN  \n",
       "1996-01-03  NaN  ...  NaN  56.904167  NaN  NaN  NaN  NaN  NaN  NaN  NaN  NaN  \n",
       "1996-01-04  NaN  ...  NaN  62.004167  NaN  NaN  NaN  NaN  NaN  NaN  NaN  NaN  \n",
       "1996-01-05  NaN  ...  NaN  41.429167  NaN  NaN  NaN  NaN  NaN  NaN  NaN  NaN  \n",
       "\n",
       "[5 rows x 198 columns]"
      ]
     },
     "execution_count": 8,
     "metadata": {},
     "output_type": "execute_result"
    }
   ],
   "source": [
    "daily_NO2_df.head(5)"
   ]
  },
  {
   "cell_type": "code",
   "execution_count": 6,
   "id": "e7438379-b1d1-49a1-8200-7a81ca633053",
   "metadata": {
    "collapsed": true,
    "jupyter": {
     "outputs_hidden": true
    },
    "tags": []
   },
   "outputs": [
    {
     "name": "stderr",
     "output_type": "stream",
     "text": [
      "\u001b[34m\u001b[1mwandb\u001b[0m: wandb version 0.12.17 is available!  To upgrade, please run:\n",
      "\u001b[34m\u001b[1mwandb\u001b[0m:  $ pip install wandb --upgrade\n"
     ]
    },
    {
     "data": {
      "text/html": [
       "\n",
       "                Tracking run with wandb version 0.10.31<br/>\n",
       "                Syncing run <strong style=\"color:#cdcd00\">happy-tree-368</strong> to <a href=\"https://wandb.ai\" target=\"_blank\">Weights & Biases</a> <a href=\"https://docs.wandb.com/integrations/jupyter.html\" target=\"_blank\">(Documentation)</a>.<br/>\n",
       "                Project page: <a href=\"https://wandb.ai/michellewl/AQmortality\" target=\"_blank\">https://wandb.ai/michellewl/AQmortality</a><br/>\n",
       "                Run page: <a href=\"https://wandb.ai/michellewl/AQmortality/runs/2eg512xn\" target=\"_blank\">https://wandb.ai/michellewl/AQmortality/runs/2eg512xn</a><br/>\n",
       "                Run data is saved locally in <code>/home/users/mwlw3/AQmortality/mortality_model/wandb/run-20220527_112154-2eg512xn</code><br/><br/>\n",
       "            "
      ],
      "text/plain": [
       "<IPython.core.display.HTML object>"
      ]
     },
     "metadata": {},
     "output_type": "display_data"
    },
    {
     "data": {
      "text/html": [
       "<br/>Waiting for W&B process to finish, PID 850<br/>Program ended successfully."
      ],
      "text/plain": [
       "<IPython.core.display.HTML object>"
      ]
     },
     "metadata": {},
     "output_type": "display_data"
    },
    {
     "data": {
      "application/vnd.jupyter.widget-view+json": {
       "model_id": "a4181356575c4970a9f8420ff7feb63b",
       "version_major": 2,
       "version_minor": 0
      },
      "text/plain": [
       "VBox(children=(Label(value=' 0.00MB of 0.00MB uploaded (0.00MB deduped)\\r'), FloatProgress(value=1.0, max=1.0)…"
      ]
     },
     "metadata": {},
     "output_type": "display_data"
    },
    {
     "data": {
      "text/html": [
       "Find user logs for this run at: <code>/home/users/mwlw3/AQmortality/mortality_model/wandb/run-20220527_112154-2eg512xn/logs/debug.log</code>"
      ],
      "text/plain": [
       "<IPython.core.display.HTML object>"
      ]
     },
     "metadata": {},
     "output_type": "display_data"
    },
    {
     "data": {
      "text/html": [
       "Find internal logs for this run at: <code>/home/users/mwlw3/AQmortality/mortality_model/wandb/run-20220527_112154-2eg512xn/logs/debug-internal.log</code>"
      ],
      "text/plain": [
       "<IPython.core.display.HTML object>"
      ]
     },
     "metadata": {},
     "output_type": "display_data"
    },
    {
     "data": {
      "text/html": [
       "Synced 5 W&B file(s), 0 media file(s), 0 artifact file(s) and 0 other file(s)"
      ],
      "text/plain": [
       "<IPython.core.display.HTML object>"
      ]
     },
     "metadata": {},
     "output_type": "display_data"
    },
    {
     "data": {
      "text/html": [
       "\n",
       "                    <br/>Synced <strong style=\"color:#cdcd00\">happy-tree-368</strong>: <a href=\"https://wandb.ai/michellewl/AQmortality/runs/2eg512xn\" target=\"_blank\">https://wandb.ai/michellewl/AQmortality/runs/2eg512xn</a><br/>\n",
       "                "
      ],
      "text/plain": [
       "<IPython.core.display.HTML object>"
      ]
     },
     "metadata": {},
     "output_type": "display_data"
    }
   ],
   "source": [
    "income = IncomeData()\n",
    "daily_income_df = income.read(\"income-resample\")"
   ]
  },
  {
   "cell_type": "code",
   "execution_count": 9,
   "id": "c1c98250-89d2-49e5-8536-c50bfdf306fc",
   "metadata": {},
   "outputs": [
    {
     "data": {
      "text/html": [
       "<div>\n",
       "<style scoped>\n",
       "    .dataframe tbody tr th:only-of-type {\n",
       "        vertical-align: middle;\n",
       "    }\n",
       "\n",
       "    .dataframe tbody tr th {\n",
       "        vertical-align: top;\n",
       "    }\n",
       "\n",
       "    .dataframe thead th {\n",
       "        text-align: right;\n",
       "    }\n",
       "</style>\n",
       "<table border=\"1\" class=\"dataframe\">\n",
       "  <thead>\n",
       "    <tr style=\"text-align: right;\">\n",
       "      <th></th>\n",
       "      <th>E09000011</th>\n",
       "      <th>E09000003</th>\n",
       "      <th>E09000024</th>\n",
       "      <th>E09000002</th>\n",
       "      <th>E09000018</th>\n",
       "      <th>E09000005</th>\n",
       "      <th>E09000015</th>\n",
       "      <th>E09000006</th>\n",
       "      <th>E09000019</th>\n",
       "      <th>E09000025</th>\n",
       "      <th>...</th>\n",
       "      <th>E09000023</th>\n",
       "      <th>E09000009</th>\n",
       "      <th>E09000016</th>\n",
       "      <th>E09000001</th>\n",
       "      <th>E09000031</th>\n",
       "      <th>E09000027</th>\n",
       "      <th>E09000022</th>\n",
       "      <th>E09000032</th>\n",
       "      <th>E09000004</th>\n",
       "      <th>E09000033</th>\n",
       "    </tr>\n",
       "  </thead>\n",
       "  <tbody>\n",
       "    <tr>\n",
       "      <th>1997-01-01</th>\n",
       "      <td>13456.000000</td>\n",
       "      <td>12621.000000</td>\n",
       "      <td>16260.000000</td>\n",
       "      <td>8410.000000</td>\n",
       "      <td>13943.0</td>\n",
       "      <td>10766.000000</td>\n",
       "      <td>12901.000000</td>\n",
       "      <td>13902.000000</td>\n",
       "      <td>16476.000000</td>\n",
       "      <td>5910.000000</td>\n",
       "      <td>...</td>\n",
       "      <td>9226.000000</td>\n",
       "      <td>12923.000000</td>\n",
       "      <td>11602.000000</td>\n",
       "      <td>81474.000000</td>\n",
       "      <td>10461.000000</td>\n",
       "      <td>21860.000000</td>\n",
       "      <td>11074.000000</td>\n",
       "      <td>13863.000000</td>\n",
       "      <td>12101.000000</td>\n",
       "      <td>20968.000000</td>\n",
       "    </tr>\n",
       "    <tr>\n",
       "      <th>1997-01-02</th>\n",
       "      <td>13456.169863</td>\n",
       "      <td>12622.961644</td>\n",
       "      <td>16260.986301</td>\n",
       "      <td>8410.704110</td>\n",
       "      <td>13943.6</td>\n",
       "      <td>10767.298630</td>\n",
       "      <td>12903.035616</td>\n",
       "      <td>13903.561644</td>\n",
       "      <td>16476.531507</td>\n",
       "      <td>5911.405479</td>\n",
       "      <td>...</td>\n",
       "      <td>9226.923288</td>\n",
       "      <td>12923.969863</td>\n",
       "      <td>11603.232877</td>\n",
       "      <td>81496.745205</td>\n",
       "      <td>10461.621918</td>\n",
       "      <td>21861.254795</td>\n",
       "      <td>11074.810959</td>\n",
       "      <td>13867.306849</td>\n",
       "      <td>12101.219178</td>\n",
       "      <td>20970.556164</td>\n",
       "    </tr>\n",
       "    <tr>\n",
       "      <th>1997-01-03</th>\n",
       "      <td>13456.339726</td>\n",
       "      <td>12624.923288</td>\n",
       "      <td>16261.972603</td>\n",
       "      <td>8411.408219</td>\n",
       "      <td>13944.2</td>\n",
       "      <td>10768.597260</td>\n",
       "      <td>12905.071233</td>\n",
       "      <td>13905.123288</td>\n",
       "      <td>16477.063014</td>\n",
       "      <td>5912.810959</td>\n",
       "      <td>...</td>\n",
       "      <td>9227.846575</td>\n",
       "      <td>12924.939726</td>\n",
       "      <td>11604.465753</td>\n",
       "      <td>81519.490411</td>\n",
       "      <td>10462.243836</td>\n",
       "      <td>21862.509589</td>\n",
       "      <td>11075.621918</td>\n",
       "      <td>13871.613699</td>\n",
       "      <td>12101.438356</td>\n",
       "      <td>20973.112329</td>\n",
       "    </tr>\n",
       "    <tr>\n",
       "      <th>1997-01-04</th>\n",
       "      <td>13456.509589</td>\n",
       "      <td>12626.884932</td>\n",
       "      <td>16262.958904</td>\n",
       "      <td>8412.112329</td>\n",
       "      <td>13944.8</td>\n",
       "      <td>10769.895890</td>\n",
       "      <td>12907.106849</td>\n",
       "      <td>13906.684932</td>\n",
       "      <td>16477.594521</td>\n",
       "      <td>5914.216438</td>\n",
       "      <td>...</td>\n",
       "      <td>9228.769863</td>\n",
       "      <td>12925.909589</td>\n",
       "      <td>11605.698630</td>\n",
       "      <td>81542.235616</td>\n",
       "      <td>10462.865753</td>\n",
       "      <td>21863.764384</td>\n",
       "      <td>11076.432877</td>\n",
       "      <td>13875.920548</td>\n",
       "      <td>12101.657534</td>\n",
       "      <td>20975.668493</td>\n",
       "    </tr>\n",
       "    <tr>\n",
       "      <th>1997-01-05</th>\n",
       "      <td>13456.679452</td>\n",
       "      <td>12628.846575</td>\n",
       "      <td>16263.945205</td>\n",
       "      <td>8412.816438</td>\n",
       "      <td>13945.4</td>\n",
       "      <td>10771.194521</td>\n",
       "      <td>12909.142466</td>\n",
       "      <td>13908.246575</td>\n",
       "      <td>16478.126027</td>\n",
       "      <td>5915.621918</td>\n",
       "      <td>...</td>\n",
       "      <td>9229.693151</td>\n",
       "      <td>12926.879452</td>\n",
       "      <td>11606.931507</td>\n",
       "      <td>81564.980822</td>\n",
       "      <td>10463.487671</td>\n",
       "      <td>21865.019178</td>\n",
       "      <td>11077.243836</td>\n",
       "      <td>13880.227397</td>\n",
       "      <td>12101.876712</td>\n",
       "      <td>20978.224658</td>\n",
       "    </tr>\n",
       "  </tbody>\n",
       "</table>\n",
       "<p>5 rows × 33 columns</p>\n",
       "</div>"
      ],
      "text/plain": [
       "               E09000011     E09000003     E09000024    E09000002  E09000018  \\\n",
       "1997-01-01  13456.000000  12621.000000  16260.000000  8410.000000    13943.0   \n",
       "1997-01-02  13456.169863  12622.961644  16260.986301  8410.704110    13943.6   \n",
       "1997-01-03  13456.339726  12624.923288  16261.972603  8411.408219    13944.2   \n",
       "1997-01-04  13456.509589  12626.884932  16262.958904  8412.112329    13944.8   \n",
       "1997-01-05  13456.679452  12628.846575  16263.945205  8412.816438    13945.4   \n",
       "\n",
       "               E09000005     E09000015     E09000006     E09000019  \\\n",
       "1997-01-01  10766.000000  12901.000000  13902.000000  16476.000000   \n",
       "1997-01-02  10767.298630  12903.035616  13903.561644  16476.531507   \n",
       "1997-01-03  10768.597260  12905.071233  13905.123288  16477.063014   \n",
       "1997-01-04  10769.895890  12907.106849  13906.684932  16477.594521   \n",
       "1997-01-05  10771.194521  12909.142466  13908.246575  16478.126027   \n",
       "\n",
       "              E09000025  ...    E09000023     E09000009     E09000016  \\\n",
       "1997-01-01  5910.000000  ...  9226.000000  12923.000000  11602.000000   \n",
       "1997-01-02  5911.405479  ...  9226.923288  12923.969863  11603.232877   \n",
       "1997-01-03  5912.810959  ...  9227.846575  12924.939726  11604.465753   \n",
       "1997-01-04  5914.216438  ...  9228.769863  12925.909589  11605.698630   \n",
       "1997-01-05  5915.621918  ...  9229.693151  12926.879452  11606.931507   \n",
       "\n",
       "               E09000001     E09000031     E09000027     E09000022  \\\n",
       "1997-01-01  81474.000000  10461.000000  21860.000000  11074.000000   \n",
       "1997-01-02  81496.745205  10461.621918  21861.254795  11074.810959   \n",
       "1997-01-03  81519.490411  10462.243836  21862.509589  11075.621918   \n",
       "1997-01-04  81542.235616  10462.865753  21863.764384  11076.432877   \n",
       "1997-01-05  81564.980822  10463.487671  21865.019178  11077.243836   \n",
       "\n",
       "               E09000032     E09000004     E09000033  \n",
       "1997-01-01  13863.000000  12101.000000  20968.000000  \n",
       "1997-01-02  13867.306849  12101.219178  20970.556164  \n",
       "1997-01-03  13871.613699  12101.438356  20973.112329  \n",
       "1997-01-04  13875.920548  12101.657534  20975.668493  \n",
       "1997-01-05  13880.227397  12101.876712  20978.224658  \n",
       "\n",
       "[5 rows x 33 columns]"
      ]
     },
     "execution_count": 9,
     "metadata": {},
     "output_type": "execute_result"
    }
   ],
   "source": [
    "daily_income_df.head(5)"
   ]
  },
  {
   "cell_type": "code",
   "execution_count": 10,
   "id": "78dd30ca-9952-4040-a3f3-824c688b32ff",
   "metadata": {
    "collapsed": true,
    "jupyter": {
     "outputs_hidden": true
    },
    "tags": []
   },
   "outputs": [
    {
     "name": "stderr",
     "output_type": "stream",
     "text": [
      "\u001b[34m\u001b[1mwandb\u001b[0m: wandb version 0.12.17 is available!  To upgrade, please run:\n",
      "\u001b[34m\u001b[1mwandb\u001b[0m:  $ pip install wandb --upgrade\n"
     ]
    },
    {
     "data": {
      "text/html": [
       "\n",
       "                Tracking run with wandb version 0.10.31<br/>\n",
       "                Syncing run <strong style=\"color:#cdcd00\">gentle-morning-369</strong> to <a href=\"https://wandb.ai\" target=\"_blank\">Weights & Biases</a> <a href=\"https://docs.wandb.com/integrations/jupyter.html\" target=\"_blank\">(Documentation)</a>.<br/>\n",
       "                Project page: <a href=\"https://wandb.ai/michellewl/AQmortality\" target=\"_blank\">https://wandb.ai/michellewl/AQmortality</a><br/>\n",
       "                Run page: <a href=\"https://wandb.ai/michellewl/AQmortality/runs/5rxthv4t\" target=\"_blank\">https://wandb.ai/michellewl/AQmortality/runs/5rxthv4t</a><br/>\n",
       "                Run data is saved locally in <code>/home/users/mwlw3/AQmortality/mortality_model/wandb/run-20220527_112359-5rxthv4t</code><br/><br/>\n",
       "            "
      ],
      "text/plain": [
       "<IPython.core.display.HTML object>"
      ]
     },
     "metadata": {},
     "output_type": "display_data"
    },
    {
     "data": {
      "text/html": [
       "<br/>Waiting for W&B process to finish, PID 919<br/>Program ended successfully."
      ],
      "text/plain": [
       "<IPython.core.display.HTML object>"
      ]
     },
     "metadata": {},
     "output_type": "display_data"
    },
    {
     "data": {
      "application/vnd.jupyter.widget-view+json": {
       "model_id": "10a1ffeee2624a9ea0f47159907b148f",
       "version_major": 2,
       "version_minor": 0
      },
      "text/plain": [
       "VBox(children=(Label(value=' 0.00MB of 0.00MB uploaded (0.00MB deduped)\\r'), FloatProgress(value=0.0, max=1.0)…"
      ]
     },
     "metadata": {},
     "output_type": "display_data"
    },
    {
     "data": {
      "text/html": [
       "Find user logs for this run at: <code>/home/users/mwlw3/AQmortality/mortality_model/wandb/run-20220527_112359-5rxthv4t/logs/debug.log</code>"
      ],
      "text/plain": [
       "<IPython.core.display.HTML object>"
      ]
     },
     "metadata": {},
     "output_type": "display_data"
    },
    {
     "data": {
      "text/html": [
       "Find internal logs for this run at: <code>/home/users/mwlw3/AQmortality/mortality_model/wandb/run-20220527_112359-5rxthv4t/logs/debug-internal.log</code>"
      ],
      "text/plain": [
       "<IPython.core.display.HTML object>"
      ]
     },
     "metadata": {},
     "output_type": "display_data"
    },
    {
     "data": {
      "text/html": [
       "Synced 5 W&B file(s), 0 media file(s), 0 artifact file(s) and 0 other file(s)"
      ],
      "text/plain": [
       "<IPython.core.display.HTML object>"
      ]
     },
     "metadata": {},
     "output_type": "display_data"
    },
    {
     "data": {
      "text/html": [
       "\n",
       "                    <br/>Synced <strong style=\"color:#cdcd00\">gentle-morning-369</strong>: <a href=\"https://wandb.ai/michellewl/AQmortality/runs/5rxthv4t\" target=\"_blank\">https://wandb.ai/michellewl/AQmortality/runs/5rxthv4t</a><br/>\n",
       "                "
      ],
      "text/plain": [
       "<IPython.core.display.HTML object>"
      ]
     },
     "metadata": {},
     "output_type": "display_data"
    }
   ],
   "source": [
    "LAD_codes_df = income.read(\"income-metadata\")"
   ]
  },
  {
   "cell_type": "code",
   "execution_count": 22,
   "id": "564a7426-8def-4830-9aed-e73d96675a21",
   "metadata": {},
   "outputs": [
    {
     "data": {
      "text/plain": [
       "{'Barking and Dagenham',\n",
       " 'Barnet',\n",
       " 'Bexley',\n",
       " 'Brent',\n",
       " 'Bromley',\n",
       " 'Camden',\n",
       " 'City of London',\n",
       " 'Croydon',\n",
       " 'Ealing',\n",
       " 'Enfield',\n",
       " 'Greenwich',\n",
       " 'Hackney',\n",
       " 'Hammersmith and Fulham',\n",
       " 'Haringey',\n",
       " 'Harrow',\n",
       " 'Havering',\n",
       " 'Hillingdon',\n",
       " 'Hounslow',\n",
       " 'Islington',\n",
       " 'Kensington and Chelsea',\n",
       " 'Kingston upon Thames',\n",
       " 'Lambeth',\n",
       " 'Lewisham',\n",
       " 'Merton',\n",
       " 'Newham',\n",
       " 'Redbridge',\n",
       " 'Richmond upon Thames',\n",
       " 'Southwark',\n",
       " 'Sutton',\n",
       " 'Tower Hamlets',\n",
       " 'Waltham Forest',\n",
       " 'Wandsworth',\n",
       " 'Westminster'}"
      ]
     },
     "execution_count": 22,
     "metadata": {},
     "output_type": "execute_result"
    }
   ],
   "source": [
    "set(LAD_codes_df.local_authority.tolist())"
   ]
  },
  {
   "cell_type": "code",
   "execution_count": 14,
   "id": "661d2707-8029-4ecd-a3a3-4e845249df2a",
   "metadata": {},
   "outputs": [
    {
     "data": {
      "text/html": [
       "<div>\n",
       "<style scoped>\n",
       "    .dataframe tbody tr th:only-of-type {\n",
       "        vertical-align: middle;\n",
       "    }\n",
       "\n",
       "    .dataframe tbody tr th {\n",
       "        vertical-align: top;\n",
       "    }\n",
       "\n",
       "    .dataframe thead th {\n",
       "        text-align: right;\n",
       "    }\n",
       "</style>\n",
       "<table border=\"1\" class=\"dataframe\">\n",
       "  <thead>\n",
       "    <tr style=\"text-align: right;\">\n",
       "      <th></th>\n",
       "      <th>@LocalAuthorityCode</th>\n",
       "      <th>@LocalAuthorityName</th>\n",
       "      <th>@SiteCode</th>\n",
       "      <th>@SiteName</th>\n",
       "      <th>@SiteType</th>\n",
       "      <th>@DateClosed</th>\n",
       "      <th>@DateOpened</th>\n",
       "      <th>@Latitude</th>\n",
       "      <th>@Longitude</th>\n",
       "      <th>@LatitudeWGS84</th>\n",
       "      <th>@LongitudeWGS84</th>\n",
       "      <th>@DisplayOffsetX</th>\n",
       "      <th>@DisplayOffsetY</th>\n",
       "      <th>@DataOwner</th>\n",
       "      <th>@DataManager</th>\n",
       "      <th>@SiteLink</th>\n",
       "    </tr>\n",
       "  </thead>\n",
       "  <tbody>\n",
       "    <tr>\n",
       "      <th>0</th>\n",
       "      <td>27</td>\n",
       "      <td>Richmond</td>\n",
       "      <td>TD0</td>\n",
       "      <td>- National Physical Laboratory, Teddington</td>\n",
       "      <td>Suburban</td>\n",
       "      <td>2018-01-01 00:00:00</td>\n",
       "      <td>1996-08-08 00:00:00</td>\n",
       "      <td>51.4243043441456</td>\n",
       "      <td>-0.345714576446947</td>\n",
       "      <td>6696103.27675</td>\n",
       "      <td>-37808.8858115</td>\n",
       "      <td>0</td>\n",
       "      <td>-200</td>\n",
       "      <td>Richmond</td>\n",
       "      <td>King's College London</td>\n",
       "      <td>http://www.londonair.org.uk/london/asp/publicd...</td>\n",
       "    </tr>\n",
       "    <tr>\n",
       "      <th>1</th>\n",
       "      <td>1</td>\n",
       "      <td>Barking and Dagenham</td>\n",
       "      <td>BG3</td>\n",
       "      <td>Barking and Dagenham - North Street</td>\n",
       "      <td>Kerbside</td>\n",
       "      <td>2011-05-25 00:00:00</td>\n",
       "      <td>2007-03-16 00:00:00</td>\n",
       "      <td>51.540444</td>\n",
       "      <td>0.074418</td>\n",
       "      <td>6717454.5833</td>\n",
       "      <td>8284.17386585</td>\n",
       "      <td>0</td>\n",
       "      <td>0</td>\n",
       "      <td>Barking and Dagenham</td>\n",
       "      <td>King's College London</td>\n",
       "      <td>http://www.londonair.org.uk/london/asp/publicd...</td>\n",
       "    </tr>\n",
       "    <tr>\n",
       "      <th>2</th>\n",
       "      <td>1</td>\n",
       "      <td>Barking and Dagenham</td>\n",
       "      <td>BG1</td>\n",
       "      <td>Barking and Dagenham - Rush Green</td>\n",
       "      <td>Suburban</td>\n",
       "      <td></td>\n",
       "      <td>1999-11-02 00:00:00</td>\n",
       "      <td>51.563752</td>\n",
       "      <td>0.177891</td>\n",
       "      <td>6721627.34498</td>\n",
       "      <td>19802.7355367</td>\n",
       "      <td>0</td>\n",
       "      <td>0</td>\n",
       "      <td>Barking and Dagenham</td>\n",
       "      <td>King's College London</td>\n",
       "      <td>http://www.londonair.org.uk/london/asp/publicd...</td>\n",
       "    </tr>\n",
       "    <tr>\n",
       "      <th>3</th>\n",
       "      <td>1</td>\n",
       "      <td>Barking and Dagenham</td>\n",
       "      <td>BG2</td>\n",
       "      <td>Barking and Dagenham - Scrattons Farm</td>\n",
       "      <td>Suburban</td>\n",
       "      <td></td>\n",
       "      <td>1999-10-17 00:00:00</td>\n",
       "      <td>51.529389</td>\n",
       "      <td>0.132857</td>\n",
       "      <td>6715476.18683</td>\n",
       "      <td>14789.5735883</td>\n",
       "      <td>0</td>\n",
       "      <td>0</td>\n",
       "      <td>Barking and Dagenham</td>\n",
       "      <td>King's College London</td>\n",
       "      <td>http://www.londonair.org.uk/london/asp/publicd...</td>\n",
       "    </tr>\n",
       "    <tr>\n",
       "      <th>4</th>\n",
       "      <td>2</td>\n",
       "      <td>Barnet</td>\n",
       "      <td>BN2</td>\n",
       "      <td>Barnet - Finchley</td>\n",
       "      <td>Urban Background</td>\n",
       "      <td>2012-04-20 00:00:00</td>\n",
       "      <td>2000-08-09 13:00:00</td>\n",
       "      <td>51.591901</td>\n",
       "      <td>-0.205992</td>\n",
       "      <td>6726669.62886</td>\n",
       "      <td>-22930.9245475</td>\n",
       "      <td>0</td>\n",
       "      <td>0</td>\n",
       "      <td>Barnet</td>\n",
       "      <td>King's College London</td>\n",
       "      <td>http://www.londonair.org.uk/london/asp/publicd...</td>\n",
       "    </tr>\n",
       "  </tbody>\n",
       "</table>\n",
       "</div>"
      ],
      "text/plain": [
       "  @LocalAuthorityCode   @LocalAuthorityName @SiteCode  \\\n",
       "0                  27              Richmond       TD0   \n",
       "1                   1  Barking and Dagenham       BG3   \n",
       "2                   1  Barking and Dagenham       BG1   \n",
       "3                   1  Barking and Dagenham       BG2   \n",
       "4                   2                Barnet       BN2   \n",
       "\n",
       "                                    @SiteName         @SiteType  \\\n",
       "0  - National Physical Laboratory, Teddington          Suburban   \n",
       "1         Barking and Dagenham - North Street          Kerbside   \n",
       "2           Barking and Dagenham - Rush Green          Suburban   \n",
       "3       Barking and Dagenham - Scrattons Farm          Suburban   \n",
       "4                           Barnet - Finchley  Urban Background   \n",
       "\n",
       "           @DateClosed          @DateOpened         @Latitude  \\\n",
       "0  2018-01-01 00:00:00  1996-08-08 00:00:00  51.4243043441456   \n",
       "1  2011-05-25 00:00:00  2007-03-16 00:00:00         51.540444   \n",
       "2                       1999-11-02 00:00:00         51.563752   \n",
       "3                       1999-10-17 00:00:00         51.529389   \n",
       "4  2012-04-20 00:00:00  2000-08-09 13:00:00         51.591901   \n",
       "\n",
       "           @Longitude @LatitudeWGS84 @LongitudeWGS84 @DisplayOffsetX  \\\n",
       "0  -0.345714576446947  6696103.27675  -37808.8858115               0   \n",
       "1            0.074418   6717454.5833   8284.17386585               0   \n",
       "2            0.177891  6721627.34498   19802.7355367               0   \n",
       "3            0.132857  6715476.18683   14789.5735883               0   \n",
       "4           -0.205992  6726669.62886  -22930.9245475               0   \n",
       "\n",
       "  @DisplayOffsetY            @DataOwner           @DataManager  \\\n",
       "0            -200              Richmond  King's College London   \n",
       "1               0  Barking and Dagenham  King's College London   \n",
       "2               0  Barking and Dagenham  King's College London   \n",
       "3               0  Barking and Dagenham  King's College London   \n",
       "4               0                Barnet  King's College London   \n",
       "\n",
       "                                           @SiteLink  \n",
       "0  http://www.londonair.org.uk/london/asp/publicd...  \n",
       "1  http://www.londonair.org.uk/london/asp/publicd...  \n",
       "2  http://www.londonair.org.uk/london/asp/publicd...  \n",
       "3  http://www.londonair.org.uk/london/asp/publicd...  \n",
       "4  http://www.londonair.org.uk/london/asp/publicd...  "
      ]
     },
     "execution_count": 14,
     "metadata": {},
     "output_type": "execute_result"
    }
   ],
   "source": [
    "meta_url = \"http://api.erg.kcl.ac.uk/AirQuality/Information/MonitoringSites/GroupName=London/Json\"\n",
    "sites_request = requests.get(meta_url)\n",
    "meta_df = pd.DataFrame(sites_request.json()['Sites']['Site'])\n",
    "meta_df.head(5)"
   ]
  },
  {
   "cell_type": "markdown",
   "id": "80ed59c2-9bc8-4cd0-a873-fbf33a9f20d4",
   "metadata": {},
   "source": [
    "Unify the lists of local authority names:"
   ]
  },
  {
   "cell_type": "code",
   "execution_count": 68,
   "id": "707f8544-0107-4060-8058-7f6c67b1e78d",
   "metadata": {},
   "outputs": [],
   "source": [
    "income_LAs = [item for item in set(LAD_codes_df.local_authority.tolist())]\n",
    "NO2_LAs = [item for item in set(meta_df[\"@LocalAuthorityName\"].tolist())]"
   ]
  },
  {
   "cell_type": "code",
   "execution_count": 91,
   "id": "93d791f1-dab5-4a44-a7f8-213a771735e0",
   "metadata": {},
   "outputs": [
    {
     "name": "stdout",
     "output_type": "stream",
     "text": [
      "Pass 1:\n",
      "Matched 31 out of 33 local authorities.\n",
      "\n",
      "Pass 2:\n",
      "Searching for matches...\n",
      "Found matches (<NO2_LA>: <income_LA>):\n",
      "{'Kingston': 'Kingston upon Thames', 'Richmond': 'Richmond upon Thames'}\n"
     ]
    }
   ],
   "source": [
    "mismatches = []\n",
    "count = 0\n",
    "for LA in income_LAs:\n",
    "    if LA not in NO2_LAs:\n",
    "        mismatches.append(LA)\n",
    "    else:\n",
    "        count+=1\n",
    "print(f\"Pass 1:\\nMatched {count} out of {len(income_LAs)} local authorities.\")\n",
    "\n",
    "if mismatches:\n",
    "    print(\"\\nPass 2:\\nSearching for matches...\")\n",
    "    mismatch_dict = {}\n",
    "    search_letters = [LA[0:3] for LA in mismatches]\n",
    "    NO2_LAs_breakdown = [LA.split(\" \") for LA in NO2_LAs]\n",
    "    for i in range(len(search_letters)):\n",
    "        for LA in NO2_LAs_breakdown:\n",
    "            for word in LA:\n",
    "                if search_letters[i] in word:\n",
    "                    mismatch_dict.update({\" \".join(LA): mismatches[i]})\n",
    "    if mismatch_dict:\n",
    "        print(\"Found matches (<NO2_LA>: <income_LA>):\")\n",
    "        print(mismatch_dict)"
   ]
  },
  {
   "cell_type": "code",
   "execution_count": null,
   "id": "e76cc52e-ca21-4bdf-ad30-4e87d16ee545",
   "metadata": {},
   "outputs": [],
   "source": []
  }
 ],
 "metadata": {
  "kernelspec": {
   "display_name": "AQmort",
   "language": "python",
   "name": "aqmort"
  },
  "language_info": {
   "codemirror_mode": {
    "name": "ipython",
    "version": 3
   },
   "file_extension": ".py",
   "mimetype": "text/x-python",
   "name": "python",
   "nbconvert_exporter": "python",
   "pygments_lexer": "ipython3",
   "version": "3.9.12"
  }
 },
 "nbformat": 4,
 "nbformat_minor": 5
}
