{
 "cells": [
  {
   "cell_type": "markdown",
   "metadata": {},
   "source": [
    "## Imports"
   ]
  },
  {
   "cell_type": "code",
   "execution_count": 1,
   "metadata": {},
   "outputs": [],
   "source": [
    "import pandas as pd\n",
    "import matplotlib.pyplot as plt\n",
    "from model_classes import HealthModel\n",
    "import torch\n",
    "from datetime import datetime as dt"
   ]
  },
  {
   "cell_type": "markdown",
   "metadata": {},
   "source": [
    "## Config"
   ]
  },
  {
   "cell_type": "markdown",
   "metadata": {},
   "source": [
    "Linear regressor config:"
   ]
  },
  {
   "cell_type": "code",
   "execution_count": 139,
   "metadata": {},
   "outputs": [],
   "source": [
    "config = {\n",
    "    \"architecture\": \"linear_regressor\",\n",
    "    \"train_size\": 0.8,\n",
    "    \"val_size\": False, # Set MLP \n",
    "    \"hidden_layer_sizes\": False, # configs\n",
    "    \"batch_size\": False, # to False\n",
    "    \"num_epochs\": False, # if using\n",
    "    \"learning_rate\": False, # linear regressor\n",
    "    \"species\": \"NO2\",\n",
    "    \"spatial_resolution\": \"regional\",\n",
    "    \"temporal_resolution\": \"daily\",\n",
    "    \"input_artifacts\": [\"laqn-regional\", \"met-resample\", \"income-regional\"],\n",
    "    \"laqn_variables\": [\"NO2\", \"PM10\"], # Set to False if excluding air pollutants\n",
    "    \"met_variables\": [\"temperature\", \"humidity\", \"dew_point\", \"wind_speed\", \"wind_dir\", \"pressure\"], # Set to False if excluding meteorology\n",
    "    \"income_variables\": [\"gross_disposable_income\", \"property_income_received\", \"property_income_paid\", \n",
    "                         \"social_benefits_received\", \"current_taxes_on_wealth\"], # Set to False if excluding income\n",
    "    \"ablation_features\": [\"temperature\"], # Set to False if not analysis feature importance\n",
    "    \"target_shift\": 0 # Time lag for target variable\n",
    "    }"
   ]
  },
  {
   "cell_type": "markdown",
   "metadata": {},
   "source": [
    "MLP regressor config:"
   ]
  },
  {
   "cell_type": "code",
   "execution_count": 11,
   "metadata": {},
   "outputs": [
    {
     "data": {
      "text/plain": [
       "<torch._C.Generator at 0x7f94a736d650>"
      ]
     },
     "execution_count": 11,
     "metadata": {},
     "output_type": "execute_result"
    }
   ],
   "source": [
    "config = {\n",
    "    \"architecture\": \"MLP_regressor\",\n",
    "    \"train_size\": 0.7,\n",
    "    \"val_size\": 0.15, # Set MLP configs\n",
    "    \"hidden_layer_sizes\": [10],\n",
    "    \"batch_size\": 30, # to False\n",
    "    \"num_epochs\": 100, # if using\n",
    "    \"learning_rate\": 0.001, # linear regressor\n",
    "    \"species\": \"NO2\",\n",
    "    \"spatial_resolution\": \"regional\",\n",
    "    \"temporal_resolution\": \"daily\",\n",
    "    \"input_artifacts\": [\"laqn-regional\", \"met-resample\", \"income-regional\"],\n",
    "    \"laqn_variables\": [\"NO2\", \"PM10\"], # Set to False if excluding air pollutants\n",
    "    \"met_variables\": [\"temperature\", \"humidity\", \"dew_point\", \"wind_speed\", \"wind_dir\", \"pressure\"], # Set to False if excluding meteorology\n",
    "    \"income_variables\": [\"gross_disposable_income\", \"property_income_received\", \"property_income_paid\",\n",
    "                         \"social_benefits_received\", \"current_taxes_on_wealth\"], # Set to False if excluding income\n",
    "    \"ablation_features\": [\"PM10\"], # Set to False if not analysis feature importance\n",
    "    \"target_shift\": 1 # Time lag for target variable\n",
    "    }\n",
    "\n",
    "torch.manual_seed(1)"
   ]
  },
  {
   "cell_type": "code",
   "execution_count": 12,
   "metadata": {},
   "outputs": [],
   "source": [
    "if not config[\"ablation_features\"]:\n",
    "    plot_title_model = f\"(all inputs, time lag {config['target_shift']})\"\n",
    "else:\n",
    "    plot_title_model = f\"(excluding {', '.join(config['ablation_features'])}, time lag {config['target_shift']})\""
   ]
  },
  {
   "cell_type": "markdown",
   "metadata": {},
   "source": [
    "## Code"
   ]
  },
  {
   "cell_type": "code",
   "execution_count": 13,
   "metadata": {},
   "outputs": [],
   "source": [
    "model = HealthModel(config)"
   ]
  },
  {
   "cell_type": "code",
   "execution_count": 14,
   "metadata": {},
   "outputs": [
    {
     "data": {
      "application/vnd.jupyter.widget-view+json": {
       "model_id": "64d7cfe90ffe4ebe9ae1ed2c2204ae12",
       "version_major": 2,
       "version_minor": 0
      },
      "text/plain": [
       "VBox(children=(Label(value='Waiting for wandb.init()...\\r'), FloatProgress(value=0.01775915503333323, max=1.0)…"
      ]
     },
     "metadata": {},
     "output_type": "display_data"
    },
    {
     "data": {
      "text/html": [
       "wandb version 0.17.4 is available!  To upgrade, please run:\n",
       " $ pip install wandb --upgrade"
      ],
      "text/plain": [
       "<IPython.core.display.HTML object>"
      ]
     },
     "metadata": {},
     "output_type": "display_data"
    },
    {
     "data": {
      "text/html": [
       "Tracking run with wandb version 0.13.5"
      ],
      "text/plain": [
       "<IPython.core.display.HTML object>"
      ]
     },
     "metadata": {},
     "output_type": "display_data"
    },
    {
     "data": {
      "text/html": [
       "Run data is saved locally in <code>/Users/michellewan/Repos/AQmortality/mortality_model/wandb/run-20240718_173417-p4oirn0k</code>"
      ],
      "text/plain": [
       "<IPython.core.display.HTML object>"
      ]
     },
     "metadata": {},
     "output_type": "display_data"
    },
    {
     "data": {
      "text/html": [
       "Syncing run <strong><a href=\"https://wandb.ai/michellewl/AQmortality/runs/p4oirn0k\" target=\"_blank\">deft-totem-109</a></strong> to <a href=\"https://wandb.ai/michellewl/AQmortality\" target=\"_blank\">Weights & Biases</a> (<a href=\"https://wandb.me/run\" target=\"_blank\">docs</a>)<br/>"
      ],
      "text/plain": [
       "<IPython.core.display.HTML object>"
      ]
     },
     "metadata": {},
     "output_type": "display_data"
    },
    {
     "name": "stdout",
     "output_type": "stream",
     "text": [
      "laqn-regional\n"
     ]
    },
    {
     "name": "stderr",
     "output_type": "stream",
     "text": [
      "\u001b[34m\u001b[1mwandb\u001b[0m:   6 of 6 files downloaded.  \n"
     ]
    },
    {
     "name": "stdout",
     "output_type": "stream",
     "text": [
      "met-resample\n"
     ]
    },
    {
     "name": "stderr",
     "output_type": "stream",
     "text": [
      "\u001b[34m\u001b[1mwandb\u001b[0m:   8 of 8 files downloaded.  \n"
     ]
    },
    {
     "name": "stdout",
     "output_type": "stream",
     "text": [
      "income-regional\n"
     ]
    },
    {
     "name": "stderr",
     "output_type": "stream",
     "text": [
      "\u001b[34m\u001b[1mwandb\u001b[0m:   51 of 51 files downloaded.  \n"
     ]
    },
    {
     "name": "stdout",
     "output_type": "stream",
     "text": [
      "Index(['NO2_mean', 'NO2_min', 'NO2_max', 'PM10_mean', 'PM10_max', 'PM10_min',\n",
      "       'temperature_mean', 'temperature_min', 'temperature_max',\n",
      "       'humidity_mean', 'humidity_min', 'humidity_max', 'dew_point_mean',\n",
      "       'dew_point_min', 'dew_point_max', 'wind_speed_mean', 'wind_speed_min',\n",
      "       'wind_speed_max', 'wind_dir_mean', 'wind_dir_min', 'wind_dir_max',\n",
      "       'pressure_mean', 'pressure_min', 'pressure_max',\n",
      "       'gross_disposable_income_min', 'gross_disposable_income_median',\n",
      "       'gross_disposable_income_max', 'property_income_received_max',\n",
      "       'property_income_received_median', 'property_income_received_min',\n",
      "       'property_income_paid_median', 'property_income_paid_max',\n",
      "       'property_income_paid_min', 'social_benefits_received_median',\n",
      "       'social_benefits_received_max', 'social_benefits_received_min',\n",
      "       'current_taxes_on_wealth_median', 'current_taxes_on_wealth_max',\n",
      "       'current_taxes_on_wealth_min'],\n",
      "      dtype='object')\n",
      "Ablation - scrambled columns: ['PM10_mean', 'PM10_max', 'PM10_min']\n"
     ]
    },
    {
     "name": "stderr",
     "output_type": "stream",
     "text": [
      "\u001b[34m\u001b[1mwandb\u001b[0m:   1 of 1 files downloaded.  \n"
     ]
    },
    {
     "data": {
      "text/html": [
       "Waiting for W&B process to finish... <strong style=\"color:green\">(success).</strong>"
      ],
      "text/plain": [
       "<IPython.core.display.HTML object>"
      ]
     },
     "metadata": {},
     "output_type": "display_data"
    },
    {
     "data": {
      "text/html": [
       "Synced <strong style=\"color:#cdcd00\">deft-totem-109</strong>: <a href=\"https://wandb.ai/michellewl/AQmortality/runs/p4oirn0k\" target=\"_blank\">https://wandb.ai/michellewl/AQmortality/runs/p4oirn0k</a><br/>Synced 6 W&B file(s), 0 media file(s), 3 artifact file(s) and 0 other file(s)"
      ],
      "text/plain": [
       "<IPython.core.display.HTML object>"
      ]
     },
     "metadata": {},
     "output_type": "display_data"
    },
    {
     "data": {
      "text/html": [
       "Find logs at: <code>./wandb/run-20240718_173417-p4oirn0k/logs</code>"
      ],
      "text/plain": [
       "<IPython.core.display.HTML object>"
      ]
     },
     "metadata": {},
     "output_type": "display_data"
    }
   ],
   "source": [
    "df = model.preprocess_and_log()"
   ]
  },
  {
   "cell_type": "code",
   "execution_count": 54,
   "metadata": {},
   "outputs": [],
   "source": [
    "# print(df.columns)\n",
    "# print(len(df.columns))"
   ]
  },
  {
   "cell_type": "code",
   "execution_count": 55,
   "metadata": {},
   "outputs": [],
   "source": [
    "# df[[\"NO2_max\", \"NO2_mean\", \"NO2_min\"]].plot(alpha=0.7)\n",
    "# df[[\"PM10_max\", \"PM10_mean\", \"PM10_min\"]].plot(alpha=0.7)\n",
    "\n",
    "# df[[\"temperature_max\", \"temperature_mean\", \"temperature_min\"]].plot(alpha=0.7)\n",
    "# df[[\"humidity_max\", \"humidity_mean\", \"humidity_min\"]].plot(alpha=0.7)\n",
    "# df[[\"dew_point_max\", \"dew_point_mean\", \"dew_point_min\"]].plot(alpha=0.7)\n",
    "# df[[\"pressure_max\", \"pressure_mean\", \"pressure_min\"]].plot(alpha=0.7)\n",
    "# df[[\"wind_speed_max\", \"wind_speed_mean\", \"wind_speed_min\"]].plot(alpha=0.7)\n",
    "# df[[\"wind_dir_max\", \"wind_dir_mean\", \"wind_dir_min\"]].plot(alpha=0.7)"
   ]
  },
  {
   "cell_type": "code",
   "execution_count": 142,
   "metadata": {},
   "outputs": [
    {
     "name": "stdout",
     "output_type": "stream",
     "text": [
      "Time lag: 30\n"
     ]
    },
    {
     "data": {
      "application/vnd.jupyter.widget-view+json": {
       "model_id": "19af446963404adb9c160a1a86b6acb0",
       "version_major": 2,
       "version_minor": 0
      },
      "text/plain": [
       "VBox(children=(Label(value='Waiting for wandb.init()...\\r'), FloatProgress(value=0.016725827883343907, max=1.0…"
      ]
     },
     "metadata": {},
     "output_type": "display_data"
    },
    {
     "data": {
      "text/html": [
       "wandb version 0.17.4 is available!  To upgrade, please run:\n",
       " $ pip install wandb --upgrade"
      ],
      "text/plain": [
       "<IPython.core.display.HTML object>"
      ]
     },
     "metadata": {},
     "output_type": "display_data"
    },
    {
     "data": {
      "text/html": [
       "Tracking run with wandb version 0.13.5"
      ],
      "text/plain": [
       "<IPython.core.display.HTML object>"
      ]
     },
     "metadata": {},
     "output_type": "display_data"
    },
    {
     "data": {
      "text/html": [
       "Run data is saved locally in <code>/Users/michellewan/Repos/AQmortality/mortality_model/wandb/run-20240718_113536-mtvok3is</code>"
      ],
      "text/plain": [
       "<IPython.core.display.HTML object>"
      ]
     },
     "metadata": {},
     "output_type": "display_data"
    },
    {
     "data": {
      "text/html": [
       "Syncing run <strong><a href=\"https://wandb.ai/michellewl/AQmortality/runs/mtvok3is\" target=\"_blank\">splendid-moon-82</a></strong> to <a href=\"https://wandb.ai/michellewl/AQmortality\" target=\"_blank\">Weights & Biases</a> (<a href=\"https://wandb.me/run\" target=\"_blank\">docs</a>)<br/>"
      ],
      "text/plain": [
       "<IPython.core.display.HTML object>"
      ]
     },
     "metadata": {},
     "output_type": "display_data"
    },
    {
     "name": "stderr",
     "output_type": "stream",
     "text": [
      "\u001b[34m\u001b[1mwandb\u001b[0m:   1 of 1 files downloaded.  \n"
     ]
    },
    {
     "data": {
      "text/html": [
       "Waiting for W&B process to finish... <strong style=\"color:green\">(success).</strong>"
      ],
      "text/plain": [
       "<IPython.core.display.HTML object>"
      ]
     },
     "metadata": {},
     "output_type": "display_data"
    },
    {
     "data": {
      "text/html": [
       "<style>\n",
       "    table.wandb td:nth-child(1) { padding: 0 10px; text-align: left ; width: auto;} td:nth-child(2) {text-align: left ; width: 100%}\n",
       "    .wandb-row { display: flex; flex-direction: row; flex-wrap: wrap; justify-content: flex-start; width: 100% }\n",
       "    .wandb-col { display: flex; flex-direction: column; flex-basis: 100%; flex: 1; padding: 10px; }\n",
       "    </style>\n",
       "<div class=\"wandb-row\"><div class=\"wandb-col\"><h3>Run history:</h3><br/><table class=\"wandb\"><tr><td>baseline_mean_absolute_percentage_error</td><td>▁</td></tr><tr><td>baseline_mean_squared_error</td><td>▁</td></tr><tr><td>baseline_r_squared</td><td>▁</td></tr><tr><td>baseline_root_mean_squared_error</td><td>▁</td></tr><tr><td>baseline_symmetric_mean_absolute_percentage_error</td><td>▁</td></tr></table><br/></div><div class=\"wandb-col\"><h3>Run summary:</h3><br/><table class=\"wandb\"><tr><td>baseline_mean_absolute_percentage_error</td><td>12.42662</td></tr><tr><td>baseline_mean_squared_error</td><td>0.05992</td></tr><tr><td>baseline_r_squared</td><td>-0.21198</td></tr><tr><td>baseline_root_mean_squared_error</td><td>0.24478</td></tr><tr><td>baseline_symmetric_mean_absolute_percentage_error</td><td>12.29322</td></tr></table><br/></div></div>"
      ],
      "text/plain": [
       "<IPython.core.display.HTML object>"
      ]
     },
     "metadata": {},
     "output_type": "display_data"
    },
    {
     "data": {
      "text/html": [
       "Synced <strong style=\"color:#cdcd00\">splendid-moon-82</strong>: <a href=\"https://wandb.ai/michellewl/AQmortality/runs/mtvok3is\" target=\"_blank\">https://wandb.ai/michellewl/AQmortality/runs/mtvok3is</a><br/>Synced 6 W&B file(s), 0 media file(s), 1 artifact file(s) and 0 other file(s)"
      ],
      "text/plain": [
       "<IPython.core.display.HTML object>"
      ]
     },
     "metadata": {},
     "output_type": "display_data"
    },
    {
     "data": {
      "text/html": [
       "Find logs at: <code>./wandb/run-20240718_113536-mtvok3is/logs</code>"
      ],
      "text/plain": [
       "<IPython.core.display.HTML object>"
      ]
     },
     "metadata": {},
     "output_type": "display_data"
    }
   ],
   "source": [
    "print(f\"Time lag: {config['target_shift']}\")\n",
    "model.create_baseline()"
   ]
  },
  {
   "cell_type": "code",
   "execution_count": 15,
   "metadata": {},
   "outputs": [
    {
     "data": {
      "application/vnd.jupyter.widget-view+json": {
       "model_id": "128e1dda0a7b49c6beae4ec8674d24de",
       "version_major": 2,
       "version_minor": 0
      },
      "text/plain": [
       "VBox(children=(Label(value='Waiting for wandb.init()...\\r'), FloatProgress(value=0.016751648616666632, max=1.0…"
      ]
     },
     "metadata": {},
     "output_type": "display_data"
    },
    {
     "data": {
      "text/html": [
       "wandb version 0.17.4 is available!  To upgrade, please run:\n",
       " $ pip install wandb --upgrade"
      ],
      "text/plain": [
       "<IPython.core.display.HTML object>"
      ]
     },
     "metadata": {},
     "output_type": "display_data"
    },
    {
     "data": {
      "text/html": [
       "Tracking run with wandb version 0.13.5"
      ],
      "text/plain": [
       "<IPython.core.display.HTML object>"
      ]
     },
     "metadata": {},
     "output_type": "display_data"
    },
    {
     "data": {
      "text/html": [
       "Run data is saved locally in <code>/Users/michellewan/Repos/AQmortality/mortality_model/wandb/run-20240718_173443-0nmhmig9</code>"
      ],
      "text/plain": [
       "<IPython.core.display.HTML object>"
      ]
     },
     "metadata": {},
     "output_type": "display_data"
    },
    {
     "data": {
      "text/html": [
       "Syncing run <strong><a href=\"https://wandb.ai/michellewl/AQmortality/runs/0nmhmig9\" target=\"_blank\">electric-spaceship-110</a></strong> to <a href=\"https://wandb.ai/michellewl/AQmortality\" target=\"_blank\">Weights & Biases</a> (<a href=\"https://wandb.me/run\" target=\"_blank\">docs</a>)<br/>"
      ],
      "text/plain": [
       "<IPython.core.display.HTML object>"
      ]
     },
     "metadata": {},
     "output_type": "display_data"
    },
    {
     "name": "stderr",
     "output_type": "stream",
     "text": [
      "\u001b[34m\u001b[1mwandb\u001b[0m:   1 of 1 files downloaded.  \n",
      "\u001b[34m\u001b[1mwandb\u001b[0m:   1 of 1 files downloaded.  \n",
      "100%|██████████| 100/100 [00:25<00:00,  3.85it/s]\n"
     ]
    },
    {
     "data": {
      "text/html": [
       "Waiting for W&B process to finish... <strong style=\"color:green\">(success).</strong>"
      ],
      "text/plain": [
       "<IPython.core.display.HTML object>"
      ]
     },
     "metadata": {},
     "output_type": "display_data"
    },
    {
     "data": {
      "text/html": [
       "<style>\n",
       "    table.wandb td:nth-child(1) { padding: 0 10px; text-align: left ; width: auto;} td:nth-child(2) {text-align: left ; width: 100%}\n",
       "    .wandb-row { display: flex; flex-direction: row; flex-wrap: wrap; justify-content: flex-start; width: 100% }\n",
       "    .wandb-col { display: flex; flex-direction: column; flex-basis: 100%; flex: 1; padding: 10px; }\n",
       "    </style>\n",
       "<div class=\"wandb-row\"><div class=\"wandb-col\"><h3>Run history:</h3><br/><table class=\"wandb\"><tr><td>best_epoch</td><td>▁</td></tr><tr><td>best_mean_absolute_percentage_error_train</td><td>▁</td></tr><tr><td>best_mean_absolute_percentage_error_val</td><td>▁</td></tr><tr><td>best_mean_squared_error_train</td><td>▁</td></tr><tr><td>best_mean_squared_error_val</td><td>▁</td></tr><tr><td>best_r_squared_train</td><td>▁</td></tr><tr><td>best_r_squared_val</td><td>▁</td></tr><tr><td>best_rmse_train</td><td>▁</td></tr><tr><td>best_rmse_val</td><td>▁</td></tr><tr><td>best_smape_train</td><td>▁</td></tr><tr><td>best_smape_val</td><td>▁</td></tr><tr><td>mean_absolute_percentage_error_train</td><td>█▁▁▁▂▁▁▁▁▁▁▁▁▁▁▁▁▁▁▁▁▁▁▁▁▁▁▁▁▁▁▁▁▁▁▁▁▁▁▁</td></tr><tr><td>mean_absolute_percentage_error_val</td><td>█▂▂▂▂▂▂▂▂▂▃▄▅▅▅▄▃▄▂▁▁▁▁▁▁▁▁▁▂▁▂▁▂▁▁▁▂▁▁▂</td></tr><tr><td>mean_squared_error_train</td><td>█▁▁▁▁▁▁▁▁▁▁▁▁▁▁▁▁▁▁▁▁▁▁▁▁▁▁▁▁▁▁▁▁▁▁▁▁▁▁▁</td></tr><tr><td>mean_squared_error_val</td><td>█▂▂▂▂▂▂▂▂▂▃▄▆▆▆▅▃▄▂▁▁▁▁▁▁▁▁▁▁▁▁▁▁▁▁▁▂▁▁▁</td></tr><tr><td>r2_train</td><td>▁███████████████████████████████████████</td></tr><tr><td>r2_val</td><td>▁▇▇▇▇▇▇▇▇▇▆▅▃▃▃▄▆▅▇█████████████████▇███</td></tr><tr><td>rmse_train</td><td>█▁▁▁▁▁▁▁▁▁▁▁▁▁▁▁▁▁▁▁▁▁▁▁▁▁▁▁▁▁▁▁▁▁▁▁▁▁▁▁</td></tr><tr><td>rmse_val</td><td>█▂▃▃▃▂▃▂▃▃▄▅▇▆▇▅▄▅▃▁▂▁▁▁▁▁▁▁▁▁▁▁▁▁▁▁▂▁▁▂</td></tr><tr><td>smape_train</td><td>█▁▁▁▁▁▁▁▁▁▁▁▁▁▁▁▁▁▁▁▁▁▁▁▁▁▁▁▁▁▁▁▁▁▁▁▁▁▁▁</td></tr><tr><td>smape_val</td><td>▇▂▃▃▃▂▃▂▃▃▄▆█▇█▆▄▆▃▁▂▁▁▁▁▁▁▁▁▁▁▁▁▁▁▁▂▁▁▂</td></tr><tr><td>training_loss</td><td>█▂▁▁▁▁▁▁▁▁▁▁▁▁▁▁▁▁▁▁▁▁▁▁▁▁▁▁▁▁▁▁▁▁▁▁▁▁▁▁</td></tr><tr><td>validation_loss</td><td>█▂▂▂▂▁▂▂▂▂▃▃▅▄▅▄▃▄▂▁▂▁▁▁▁▁▁▁▁▁▁▁▁▁▁▁▁▁▁▁</td></tr></table><br/></div><div class=\"wandb-col\"><h3>Run summary:</h3><br/><table class=\"wandb\"><tr><td>best_epoch</td><td>94</td></tr><tr><td>best_mean_absolute_percentage_error_train</td><td>21.2883</td></tr><tr><td>best_mean_absolute_percentage_error_val</td><td>12.48418</td></tr><tr><td>best_mean_squared_error_train</td><td>0.30454</td></tr><tr><td>best_mean_squared_error_val</td><td>0.05997</td></tr><tr><td>best_r_squared_train</td><td>-0.67999</td></tr><tr><td>best_r_squared_val</td><td>-0.41161</td></tr><tr><td>best_rmse_train</td><td>0.55185</td></tr><tr><td>best_rmse_val</td><td>0.24488</td></tr><tr><td>best_smape_train</td><td>20.49043</td></tr><tr><td>best_smape_val</td><td>12.30416</td></tr><tr><td>mean_absolute_percentage_error_train</td><td>21.43245</td></tr><tr><td>mean_absolute_percentage_error_val</td><td>13.20495</td></tr><tr><td>mean_squared_error_train</td><td>0.31112</td></tr><tr><td>mean_squared_error_val</td><td>0.06124</td></tr><tr><td>r2_train</td><td>-0.7163</td></tr><tr><td>r2_val</td><td>-0.44168</td></tr><tr><td>rmse_train</td><td>0.55778</td></tr><tr><td>rmse_val</td><td>0.24748</td></tr><tr><td>smape_train</td><td>20.6006</td></tr><tr><td>smape_val</td><td>12.57609</td></tr><tr><td>training_loss</td><td>0.05891</td></tr><tr><td>validation_loss</td><td>0.03287</td></tr></table><br/></div></div>"
      ],
      "text/plain": [
       "<IPython.core.display.HTML object>"
      ]
     },
     "metadata": {},
     "output_type": "display_data"
    },
    {
     "data": {
      "text/html": [
       "Synced <strong style=\"color:#cdcd00\">electric-spaceship-110</strong>: <a href=\"https://wandb.ai/michellewl/AQmortality/runs/0nmhmig9\" target=\"_blank\">https://wandb.ai/michellewl/AQmortality/runs/0nmhmig9</a><br/>Synced 6 W&B file(s), 0 media file(s), 1 artifact file(s) and 0 other file(s)"
      ],
      "text/plain": [
       "<IPython.core.display.HTML object>"
      ]
     },
     "metadata": {},
     "output_type": "display_data"
    },
    {
     "data": {
      "text/html": [
       "Find logs at: <code>./wandb/run-20240718_173443-0nmhmig9/logs</code>"
      ],
      "text/plain": [
       "<IPython.core.display.HTML object>"
      ]
     },
     "metadata": {},
     "output_type": "display_data"
    }
   ],
   "source": [
    "model.train_and_log()"
   ]
  },
  {
   "cell_type": "code",
   "execution_count": 16,
   "metadata": {},
   "outputs": [
    {
     "data": {
      "application/vnd.jupyter.widget-view+json": {
       "model_id": "7c1b6892d64e463e89725a2732944ff6",
       "version_major": 2,
       "version_minor": 0
      },
      "text/plain": [
       "VBox(children=(Label(value='Waiting for wandb.init()...\\r'), FloatProgress(value=0.01674827066666656, max=1.0)…"
      ]
     },
     "metadata": {},
     "output_type": "display_data"
    },
    {
     "data": {
      "text/html": [
       "wandb version 0.17.4 is available!  To upgrade, please run:\n",
       " $ pip install wandb --upgrade"
      ],
      "text/plain": [
       "<IPython.core.display.HTML object>"
      ]
     },
     "metadata": {},
     "output_type": "display_data"
    },
    {
     "data": {
      "text/html": [
       "Tracking run with wandb version 0.13.5"
      ],
      "text/plain": [
       "<IPython.core.display.HTML object>"
      ]
     },
     "metadata": {},
     "output_type": "display_data"
    },
    {
     "data": {
      "text/html": [
       "Run data is saved locally in <code>/Users/michellewan/Repos/AQmortality/mortality_model/wandb/run-20240718_173527-fjwxa3l7</code>"
      ],
      "text/plain": [
       "<IPython.core.display.HTML object>"
      ]
     },
     "metadata": {},
     "output_type": "display_data"
    },
    {
     "data": {
      "text/html": [
       "Syncing run <strong><a href=\"https://wandb.ai/michellewl/AQmortality/runs/fjwxa3l7\" target=\"_blank\">deep-thunder-111</a></strong> to <a href=\"https://wandb.ai/michellewl/AQmortality\" target=\"_blank\">Weights & Biases</a> (<a href=\"https://wandb.me/run\" target=\"_blank\">docs</a>)<br/>"
      ],
      "text/plain": [
       "<IPython.core.display.HTML object>"
      ]
     },
     "metadata": {},
     "output_type": "display_data"
    },
    {
     "name": "stderr",
     "output_type": "stream",
     "text": [
      "\u001b[34m\u001b[1mwandb\u001b[0m:   1 of 1 files downloaded.  \n",
      "\u001b[34m\u001b[1mwandb\u001b[0m:   1 of 1 files downloaded.  \n",
      "\u001b[34m\u001b[1mwandb\u001b[0m:   1 of 1 files downloaded.  \n",
      "\u001b[34m\u001b[1mwandb\u001b[0m:   1 of 1 files downloaded.  \n"
     ]
    },
    {
     "data": {
      "text/html": [
       "Waiting for W&B process to finish... <strong style=\"color:green\">(success).</strong>"
      ],
      "text/plain": [
       "<IPython.core.display.HTML object>"
      ]
     },
     "metadata": {},
     "output_type": "display_data"
    },
    {
     "data": {
      "text/html": [
       "<style>\n",
       "    table.wandb td:nth-child(1) { padding: 0 10px; text-align: left ; width: auto;} td:nth-child(2) {text-align: left ; width: 100%}\n",
       "    .wandb-row { display: flex; flex-direction: row; flex-wrap: wrap; justify-content: flex-start; width: 100% }\n",
       "    .wandb-col { display: flex; flex-direction: column; flex-basis: 100%; flex: 1; padding: 10px; }\n",
       "    </style>\n",
       "<div class=\"wandb-row\"><div class=\"wandb-col\"><h3>Run history:</h3><br/><table class=\"wandb\"><tr><td>mean_absolute_percentage_error_test</td><td>▁</td></tr><tr><td>mean_squared_error_test</td><td>▁</td></tr><tr><td>r2_test</td><td>▁</td></tr><tr><td>rmse_test</td><td>▁</td></tr><tr><td>smape_test</td><td>▁</td></tr></table><br/></div><div class=\"wandb-col\"><h3>Run summary:</h3><br/><table class=\"wandb\"><tr><td>mean_absolute_percentage_error_test</td><td>9.39474</td></tr><tr><td>mean_squared_error_test</td><td>0.04085</td></tr><tr><td>r2_test</td><td>0.28689</td></tr><tr><td>rmse_test</td><td>0.20211</td></tr><tr><td>smape_test</td><td>9.64854</td></tr></table><br/></div></div>"
      ],
      "text/plain": [
       "<IPython.core.display.HTML object>"
      ]
     },
     "metadata": {},
     "output_type": "display_data"
    },
    {
     "data": {
      "text/html": [
       "Synced <strong style=\"color:#cdcd00\">deep-thunder-111</strong>: <a href=\"https://wandb.ai/michellewl/AQmortality/runs/fjwxa3l7\" target=\"_blank\">https://wandb.ai/michellewl/AQmortality/runs/fjwxa3l7</a><br/>Synced 6 W&B file(s), 0 media file(s), 12 artifact file(s) and 0 other file(s)"
      ],
      "text/plain": [
       "<IPython.core.display.HTML object>"
      ]
     },
     "metadata": {},
     "output_type": "display_data"
    },
    {
     "data": {
      "text/html": [
       "Find logs at: <code>./wandb/run-20240718_173527-fjwxa3l7/logs</code>"
      ],
      "text/plain": [
       "<IPython.core.display.HTML object>"
      ]
     },
     "metadata": {},
     "output_type": "display_data"
    }
   ],
   "source": [
    "data_dict = model.test_and_log()"
   ]
  },
  {
   "cell_type": "markdown",
   "metadata": {},
   "source": [
    "#### Alternative\n",
    "If the model has already been run, lookup the test_and_log output artifact version on the wandb web interface and read it in here:"
   ]
  },
  {
   "cell_type": "code",
   "execution_count": 17,
   "metadata": {},
   "outputs": [],
   "source": [
    "#data_dict = model.read_data(\"xy_all\", \"v2\") "
   ]
  },
  {
   "cell_type": "markdown",
   "metadata": {},
   "source": [
    "## Plot results"
   ]
  },
  {
   "cell_type": "code",
   "execution_count": 18,
   "metadata": {},
   "outputs": [],
   "source": [
    "df = pd.DataFrame()\n",
    "subsets = [\"train\", \"val\", \"test\"] if config[\"val_size\"] else [\"train\", \"test\"]\n",
    "for subset in subsets:\n",
    "    subset_df = pd.DataFrame(index=pd.DatetimeIndex(data_dict[f\"{subset}_dates\"]), data={\"observed\":data_dict[f\"y_{subset}\"], \"predicted\":data_dict[f\"y_{subset}_predict\"]})\n",
    "    df = subset_df.copy() if df.empty else df.append(subset_df)"
   ]
  },
  {
   "cell_type": "code",
   "execution_count": 19,
   "metadata": {},
   "outputs": [
    {
     "data": {
      "image/png": "[encoded data removed]",
      "text/plain": [
       "<Figure size 1200x750 with 1 Axes>"
      ]
     },
     "metadata": {},
     "output_type": "display_data"
    }
   ],
   "source": [
    "plt.figure(figsize=(8,5), dpi=150)\n",
    "df[\"observed\"].plot()\n",
    "df[\"predicted\"].plot()\n",
    "plt.axvline(data_dict[\"train_dates\"].max(), color=\"grey\")\n",
    "plt.axvline(data_dict[\"val_dates\"].max(), color=\"grey\") if config[\"val_size\"] else None\n",
    "plt.legend()\n",
    "plt.ylabel(\"deaths per 100,000\")\n",
    "plt.xlim(dt(year=1995, month=1, day=1), dt(year=2020, month=1, day=1))\n",
    "regressor_title = config[\"architecture\"].replace(\"_\", \" \")\n",
    "plt.suptitle(f\"Mortality predictions by {regressor_title} {plot_title_model}\")\n",
    "plt.show()"
   ]
  },
  {
   "cell_type": "code",
   "execution_count": null,
   "metadata": {},
   "outputs": [],
   "source": []
  },
  {
   "cell_type": "code",
   "execution_count": null,
   "metadata": {},
   "outputs": [],
   "source": []
  }
 ],
 "metadata": {
  "kernelspec": {
   "display_name": "PhDy1",
   "language": "python",
   "name": "python3"
  },
  "language_info": {
   "codemirror_mode": {
    "name": "ipython",
    "version": 3
   },
   "file_extension": ".py",
   "mimetype": "text/x-python",
   "name": "python",
   "nbconvert_exporter": "python",
   "pygments_lexer": "ipython3",
   "version": "3.8.5"
  }
 },
 "nbformat": 4,
 "nbformat_minor": 4
}
