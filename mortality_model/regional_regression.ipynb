{
 "cells": [
  {
   "cell_type": "markdown",
   "metadata": {},
   "source": [
    "## Imports"
   ]
  },
  {
   "cell_type": "code",
   "execution_count": 1,
   "metadata": {},
   "outputs": [],
   "source": [
    "import pandas as pd\n",
    "import matplotlib.pyplot as plt\n",
    "from model_classes import HealthModel\n",
    "import torch\n",
    "from datetime import datetime as dt"
   ]
  },
  {
   "cell_type": "markdown",
   "metadata": {},
   "source": [
    "## Config"
   ]
  },
  {
   "cell_type": "markdown",
   "metadata": {},
   "source": [
    "Linear regressor config:"
   ]
  },
  {
   "cell_type": "code",
   "execution_count": 246,
   "metadata": {},
   "outputs": [],
   "source": [
    "config = {\n",
    "    \"architecture\": \"linear_regressor\",\n",
    "    \"train_size\": 0.8,\n",
    "    \"val_size\": False, # Set MLP \n",
    "    \"hidden_layer_sizes\": False, # configs\n",
    "    \"batch_size\": False, # to False\n",
    "    \"num_epochs\": False, # if using\n",
    "    \"learning_rate\": False, # linear regressor\n",
    "    \"spatial_resolution\": \"regional\",\n",
    "    \"temporal_resolution\": \"daily\",\n",
    "    \"input_artifacts\": [\"laqn-regional\", \"met-resample\", \"income-regional\"],\n",
    "    \"laqn_variables\": [\"NO2\", \"PM10\"], # Set to False if excluding air pollutants\n",
    "    \"met_variables\": [\"temperature\", \"humidity\", \"dew_point\", \"wind_speed\", \"pressure\"], # \"wind_dir\"# Set to False if excluding meteorology\n",
    "    \"income_variables\": [\"gross_disposable_income\", \"property_income_received\", #\"property_income_paid\", \n",
    "                         \"social_benefits_received\", \"current_taxes_on_wealth\"], # Set to False if excluding income\n",
    "    \"ablation_features\": False, #[\"temperature\"] # Set to False if not analysing feature importance\n",
    "    \"target_shift\": 1, # Time lag end point for target variable\n",
    "    \"window_size\": 20 # Input window size\n",
    "    }"
   ]
  },
  {
   "cell_type": "markdown",
   "metadata": {},
   "source": [
    "MLP regressor config:"
   ]
  },
  {
   "cell_type": "code",
   "execution_count": 16,
   "metadata": {},
   "outputs": [
    {
     "data": {
      "text/plain": [
       "<torch._C.Generator at 0x7fb96c2ed650>"
      ]
     },
     "execution_count": 16,
     "metadata": {},
     "output_type": "execute_result"
    }
   ],
   "source": [
    "config = {\n",
    "    \"architecture\": \"MLP_regressor\",\n",
    "    \"train_size\": 0.7,\n",
    "    \"val_size\": 0.15, # Set MLP configs\n",
    "    \"hidden_layer_sizes\": [10],\n",
    "    \"batch_size\": 30, # to False\n",
    "    \"num_epochs\": 100, # if using\n",
    "    \"learning_rate\": 0.001, # linear regressor\n",
    "    \"spatial_resolution\": \"regional\",\n",
    "    \"temporal_resolution\": \"daily\",\n",
    "    \"input_artifacts\": [\"laqn-regional\", \"met-resample\", \"income-regional\"],\n",
    "    \"laqn_variables\": [\"NO2\", \"PM10\"], # Set to False if excluding air pollutants\n",
    "    \"met_variables\": [\"temperature\", \"humidity\", \"dew_point\", \"wind_speed\", \"pressure\"], # \"wind_dir\" # Set to False if excluding meteorology\n",
    "    \"income_variables\": [\"gross_disposable_income\", \"property_income_received\", \"social_benefits_received\", \"current_taxes_on_wealth\"], # Set to False if excluding income\n",
    "    \"ablation_features\": [\"PM10\"], # Set to False if not analysing feature importance\n",
    "    \"target_shift\": 1, # Time lag for target variable\n",
    "    \"window_size\": 1 # Input window size\n",
    "    }\n",
    "\n",
    "torch.manual_seed(1)"
   ]
  },
  {
   "cell_type": "markdown",
   "metadata": {},
   "source": [
    "LSTM regressor config:"
   ]
  },
  {
   "cell_type": "code",
   "execution_count": 325,
   "metadata": {},
   "outputs": [
    {
     "data": {
      "text/plain": [
       "<torch._C.Generator at 0x7f89f9d6f650>"
      ]
     },
     "execution_count": 325,
     "metadata": {},
     "output_type": "execute_result"
    }
   ],
   "source": [
    "config = {\n",
    "    \"architecture\": \"LSTM_regressor\",\n",
    "    \"train_size\": 0.7,\n",
    "    \"val_size\": 0.15, \n",
    "    \"hidden_layer_sizes\": [10],\n",
    "    \"batch_size\": 30, \n",
    "    \"num_epochs\": 100, \n",
    "    \"learning_rate\": 0.001, \n",
    "    \"spatial_resolution\": \"regional\",\n",
    "    \"temporal_resolution\": \"daily\",\n",
    "    \"input_artifacts\": [\"laqn-regional\", \"met-resample\", \"income-regional\"],\n",
    "    \"laqn_variables\": [\"NO2\", \"PM10\"], # Set to False if excluding air pollutants\n",
    "    \"met_variables\": [\"temperature\", \"humidity\", \"dew_point\", \"wind_speed\", \"pressure\"], # \"wind_dir\" # Set to False if excluding meteorology\n",
    "    \"income_variables\": [\"gross_disposable_income\", \"property_income_received\", \"social_benefits_received\", \"current_taxes_on_wealth\"], # Set to False if excluding income\n",
    "    \"ablation_features\": [\"gross_disposable_income\", \"property_income_received\", \"social_benefits_received\", \"current_taxes_on_wealth\"], # Set to False if not analysing feature importance\n",
    "    \"target_shift\": 1, # Time lag for target variable\n",
    "    \"window_size\": 14 # Input window size\n",
    "    }\n",
    "\n",
    "torch.manual_seed(1)"
   ]
  },
  {
   "cell_type": "code",
   "execution_count": 23,
   "metadata": {},
   "outputs": [],
   "source": [
    "if not config[\"ablation_features\"]:\n",
    "    plot_title_model = f\"(all inputs, time lag {config['target_shift']} window {config['window_size']})\"\n",
    "else:\n",
    "    plot_title_model = f\"(scrambled {', '.join(config['ablation_features'])}, time lag {config['target_shift']} window {config['window_size']})\""
   ]
  },
  {
   "cell_type": "markdown",
   "metadata": {},
   "source": [
    "## Code"
   ]
  },
  {
   "cell_type": "code",
   "execution_count": 17,
   "metadata": {},
   "outputs": [],
   "source": [
    "model = HealthModel(config)"
   ]
  },
  {
   "cell_type": "code",
   "execution_count": 18,
   "metadata": {},
   "outputs": [
    {
     "data": {
      "text/html": [
       "wandb version 0.17.9 is available!  To upgrade, please run:\n",
       " $ pip install wandb --upgrade"
      ],
      "text/plain": [
       "<IPython.core.display.HTML object>"
      ]
     },
     "metadata": {},
     "output_type": "display_data"
    },
    {
     "data": {
      "text/html": [
       "Tracking run with wandb version 0.13.5"
      ],
      "text/plain": [
       "<IPython.core.display.HTML object>"
      ]
     },
     "metadata": {},
     "output_type": "display_data"
    },
    {
     "data": {
      "text/html": [
       "Run data is saved locally in <code>/Users/michellewan/Repos/AQmortality/mortality_model/wandb/run-20240906_125820-duhufbez</code>"
      ],
      "text/plain": [
       "<IPython.core.display.HTML object>"
      ]
     },
     "metadata": {},
     "output_type": "display_data"
    },
    {
     "data": {
      "text/html": [
       "Syncing run <strong><a href=\"https://wandb.ai/michellewl/AQmortality/runs/duhufbez\" target=\"_blank\">floral-lake-837</a></strong> to <a href=\"https://wandb.ai/michellewl/AQmortality\" target=\"_blank\">Weights & Biases</a> (<a href=\"https://wandb.me/run\" target=\"_blank\">docs</a>)<br/>"
      ],
      "text/plain": [
       "<IPython.core.display.HTML object>"
      ]
     },
     "metadata": {},
     "output_type": "display_data"
    },
    {
     "name": "stdout",
     "output_type": "stream",
     "text": [
      "laqn-regional\n"
     ]
    },
    {
     "name": "stderr",
     "output_type": "stream",
     "text": [
      "\u001b[34m\u001b[1mwandb\u001b[0m:   6 of 6 files downloaded.  \n"
     ]
    },
    {
     "name": "stdout",
     "output_type": "stream",
     "text": [
      "met-resample\n"
     ]
    },
    {
     "name": "stderr",
     "output_type": "stream",
     "text": [
      "\u001b[34m\u001b[1mwandb\u001b[0m:   8 of 8 files downloaded.  \n"
     ]
    },
    {
     "name": "stdout",
     "output_type": "stream",
     "text": [
      "income-regional\n"
     ]
    },
    {
     "name": "stderr",
     "output_type": "stream",
     "text": [
      "\u001b[34m\u001b[1mwandb\u001b[0m:   51 of 51 files downloaded.  \n"
     ]
    },
    {
     "name": "stdout",
     "output_type": "stream",
     "text": [
      "input columns:  Index(['NO2_mean', 'NO2_min', 'NO2_max', 'PM10_mean', 'PM10_max', 'PM10_min',\n",
      "       'temperature_mean', 'temperature_min', 'temperature_max',\n",
      "       'humidity_mean', 'humidity_min', 'humidity_max', 'dew_point_mean',\n",
      "       'dew_point_min', 'dew_point_max', 'wind_speed_mean', 'wind_speed_min',\n",
      "       'wind_speed_max', 'pressure_mean', 'pressure_min', 'pressure_max',\n",
      "       'gross_disposable_income_min', 'gross_disposable_income_median',\n",
      "       'gross_disposable_income_max', 'property_income_received_max',\n",
      "       'property_income_received_median', 'property_income_received_min',\n",
      "       'social_benefits_received_median', 'social_benefits_received_max',\n",
      "       'social_benefits_received_min', 'current_taxes_on_wealth_median',\n",
      "       'current_taxes_on_wealth_max', 'current_taxes_on_wealth_min'],\n",
      "      dtype='object')\n",
      "Ablation - scrambled columns: ['PM10_mean', 'PM10_max', 'PM10_min']\n"
     ]
    },
    {
     "name": "stderr",
     "output_type": "stream",
     "text": [
      "\u001b[34m\u001b[1mwandb\u001b[0m:   1 of 1 files downloaded.  \n"
     ]
    },
    {
     "name": "stdout",
     "output_type": "stream",
     "text": [
      "\n",
      " train\n",
      "inputs (5363, 33)\n",
      "targets (5363,)\n",
      "datetime index (5363,)\n",
      "Processing time lagged (1) input windows (length 1)\n",
      "inputs (before flattening) (5362, 1, 33)\n",
      "targets (before flattening) (5362, 1)\n",
      "datetime index (5362,)\n",
      "\n",
      " val\n",
      "inputs (1149, 33)\n",
      "targets (1149,)\n",
      "datetime index (1149,)\n",
      "Processing time lagged (1) input windows (length 1)\n",
      "inputs (before flattening) (1148, 1, 33)\n",
      "targets (before flattening) (1148, 1)\n",
      "datetime index (1148,)\n",
      "\n",
      " test\n",
      "inputs (1150, 33)\n",
      "targets (1150,)\n",
      "datetime index (1150,)\n",
      "Processing time lagged (1) input windows (length 1)\n",
      "inputs (before flattening) (1149, 1, 33)\n",
      "targets (before flattening) (1149, 1)\n",
      "datetime index (1149,)\n"
     ]
    },
    {
     "data": {
      "text/html": [
       "Waiting for W&B process to finish... <strong style=\"color:green\">(success).</strong>"
      ],
      "text/plain": [
       "<IPython.core.display.HTML object>"
      ]
     },
     "metadata": {},
     "output_type": "display_data"
    },
    {
     "data": {
      "text/html": [
       "Synced <strong style=\"color:#cdcd00\">floral-lake-837</strong>: <a href=\"https://wandb.ai/michellewl/AQmortality/runs/duhufbez\" target=\"_blank\">https://wandb.ai/michellewl/AQmortality/runs/duhufbez</a><br/>Synced 6 W&B file(s), 0 media file(s), 3 artifact file(s) and 0 other file(s)"
      ],
      "text/plain": [
       "<IPython.core.display.HTML object>"
      ]
     },
     "metadata": {},
     "output_type": "display_data"
    },
    {
     "data": {
      "text/html": [
       "Find logs at: <code>./wandb/run-20240906_125820-duhufbez/logs</code>"
      ],
      "text/plain": [
       "<IPython.core.display.HTML object>"
      ]
     },
     "metadata": {},
     "output_type": "display_data"
    }
   ],
   "source": [
    "inputs, targets, datetime = model.preprocess_and_log()"
   ]
  },
  {
   "cell_type": "code",
   "execution_count": 6,
   "metadata": {},
   "outputs": [],
   "source": [
    "# print(\"window_size: \", config[\"window_size\"])\n",
    "# model.create_baseline()"
   ]
  },
  {
   "cell_type": "code",
   "execution_count": 7,
   "metadata": {},
   "outputs": [
    {
     "name": "stdout",
     "output_type": "stream",
     "text": [
      "MLP-regressor\n"
     ]
    },
    {
     "data": {
      "application/vnd.jupyter.widget-view+json": {
       "model_id": "06428c2c3f444681859c4252dae24884",
       "version_major": 2,
       "version_minor": 0
      },
      "text/plain": [
       "VBox(children=(Label(value='Waiting for wandb.init()...\\r'), FloatProgress(value=0.016739744166666643, max=1.0…"
      ]
     },
     "metadata": {},
     "output_type": "display_data"
    },
    {
     "data": {
      "text/html": [
       "wandb version 0.17.9 is available!  To upgrade, please run:\n",
       " $ pip install wandb --upgrade"
      ],
      "text/plain": [
       "<IPython.core.display.HTML object>"
      ]
     },
     "metadata": {},
     "output_type": "display_data"
    },
    {
     "data": {
      "text/html": [
       "Tracking run with wandb version 0.13.5"
      ],
      "text/plain": [
       "<IPython.core.display.HTML object>"
      ]
     },
     "metadata": {},
     "output_type": "display_data"
    },
    {
     "data": {
      "text/html": [
       "Run data is saved locally in <code>/Users/michellewan/Repos/AQmortality/mortality_model/wandb/run-20240906_125207-190sg9k5</code>"
      ],
      "text/plain": [
       "<IPython.core.display.HTML object>"
      ]
     },
     "metadata": {},
     "output_type": "display_data"
    },
    {
     "data": {
      "text/html": [
       "Syncing run <strong><a href=\"https://wandb.ai/michellewl/AQmortality/runs/190sg9k5\" target=\"_blank\">comic-frost-833</a></strong> to <a href=\"https://wandb.ai/michellewl/AQmortality\" target=\"_blank\">Weights & Biases</a> (<a href=\"https://wandb.me/run\" target=\"_blank\">docs</a>)<br/>"
      ],
      "text/plain": [
       "<IPython.core.display.HTML object>"
      ]
     },
     "metadata": {},
     "output_type": "display_data"
    },
    {
     "name": "stderr",
     "output_type": "stream",
     "text": [
      "\u001b[34m\u001b[1mwandb\u001b[0m:   1 of 1 files downloaded.  \n",
      "\u001b[34m\u001b[1mwandb\u001b[0m:   1 of 1 files downloaded.  \n"
     ]
    },
    {
     "name": "stdout",
     "output_type": "stream",
     "text": [
      "x_train shape (5362, 1, 33)\n",
      "hidden layer sizes [33, 10]\n"
     ]
    },
    {
     "name": "stderr",
     "output_type": "stream",
     "text": [
      "100%|██████████| 100/100 [00:18<00:00,  5.40it/s]\n"
     ]
    },
    {
     "data": {
      "text/html": [
       "Waiting for W&B process to finish... <strong style=\"color:green\">(success).</strong>"
      ],
      "text/plain": [
       "<IPython.core.display.HTML object>"
      ]
     },
     "metadata": {},
     "output_type": "display_data"
    },
    {
     "data": {
      "text/html": [
       "<style>\n",
       "    table.wandb td:nth-child(1) { padding: 0 10px; text-align: left ; width: auto;} td:nth-child(2) {text-align: left ; width: 100%}\n",
       "    .wandb-row { display: flex; flex-direction: row; flex-wrap: wrap; justify-content: flex-start; width: 100% }\n",
       "    .wandb-col { display: flex; flex-direction: column; flex-basis: 100%; flex: 1; padding: 10px; }\n",
       "    </style>\n",
       "<div class=\"wandb-row\"><div class=\"wandb-col\"><h3>Run history:</h3><br/><table class=\"wandb\"><tr><td>best_epoch</td><td>▁</td></tr><tr><td>best_mean_absolute_percentage_error_train</td><td>▁</td></tr><tr><td>best_mean_absolute_percentage_error_val</td><td>▁</td></tr><tr><td>best_mean_squared_error_train</td><td>▁</td></tr><tr><td>best_mean_squared_error_val</td><td>▁</td></tr><tr><td>best_r_squared_train</td><td>▁</td></tr><tr><td>best_r_squared_val</td><td>▁</td></tr><tr><td>best_rmse_train</td><td>▁</td></tr><tr><td>best_rmse_val</td><td>▁</td></tr><tr><td>best_smape_train</td><td>▁</td></tr><tr><td>best_smape_val</td><td>▁</td></tr><tr><td>mean_absolute_percentage_error_train</td><td>█▁▁▂▁▂▂▂▂▁▁▁▁▁▁▁▁▁▁▁▁▁▁▁▁▁▁▁▁▁▁▁▁▁▁▁▁▁▁▁</td></tr><tr><td>mean_absolute_percentage_error_val</td><td>█▂▂▂▁▁▁▁▁▂▂▂▂▂▂▂▂▁▁▁▁▁▁▁▁▁▁▁▁▁▁▁▁▁▁▁▁▁▁▁</td></tr><tr><td>mean_squared_error_train</td><td>█▁▁▁▁▁▁▁▁▁▁▁▁▁▁▁▁▁▁▁▁▁▁▁▁▁▁▁▁▁▁▁▁▁▁▁▁▁▁▁</td></tr><tr><td>mean_squared_error_val</td><td>█▂▂▂▁▁▁▁▁▁▂▂▂▂▂▂▂▁▁▁▁▁▁▁▁▁▁▁▁▁▁▁▁▁▁▁▁▁▁▁</td></tr><tr><td>r2_train</td><td>▁███████████████████████████████████████</td></tr><tr><td>r2_val</td><td>▁▇▇▇██████▇▇▇▇▇▇▇███████████████████████</td></tr><tr><td>rmse_train</td><td>█▁▁▁▁▁▁▁▁▁▁▁▁▁▁▁▁▁▁▁▁▁▁▁▁▁▁▁▁▁▁▁▁▁▁▁▁▁▁▁</td></tr><tr><td>rmse_val</td><td>█▃▃▂▁▂▂▁▁▂▂▃▃▂▂▂▂▂▁▁▁▁▁▁▁▁▁▁▁▁▁▁▁▁▁▁▁▁▁▁</td></tr><tr><td>smape_train</td><td>█▁▁▁▁▁▁▁▁▁▁▁▁▁▁▁▁▁▁▁▁▁▁▁▁▁▁▁▁▁▁▁▁▁▁▁▁▁▁▁</td></tr><tr><td>smape_val</td><td>█▄▄▃▂▂▂▁▂▂▃▃▃▃▃▃▂▂▂▁▂▁▁▁▁▁▁▁▁▁▁▁▁▁▁▁▁▁▁▁</td></tr><tr><td>training_loss</td><td>█▂▁▁▁▁▁▁▁▁▁▁▁▁▁▁▁▁▁▁▁▁▁▁▁▁▁▁▁▁▁▁▁▁▁▁▁▁▁▁</td></tr><tr><td>validation_loss</td><td>█▂▂▂▁▁▁▁▁▁▂▂▂▂▂▂▁▁▁▁▁▁▁▁▁▁▁▁▁▁▁▁▁▁▁▁▁▁▁▁</td></tr></table><br/></div><div class=\"wandb-col\"><h3>Run summary:</h3><br/><table class=\"wandb\"><tr><td>best_epoch</td><td>90</td></tr><tr><td>best_mean_absolute_percentage_error_train</td><td>21.17289</td></tr><tr><td>best_mean_absolute_percentage_error_val</td><td>12.69717</td></tr><tr><td>best_mean_squared_error_train</td><td>0.29977</td></tr><tr><td>best_mean_squared_error_val</td><td>0.05926</td></tr><tr><td>best_r_squared_train</td><td>-0.65979</td></tr><tr><td>best_r_squared_val</td><td>-0.391</td></tr><tr><td>best_rmse_train</td><td>0.54751</td></tr><tr><td>best_rmse_val</td><td>0.24343</td></tr><tr><td>best_smape_train</td><td>20.38643</td></tr><tr><td>best_smape_val</td><td>12.43686</td></tr><tr><td>mean_absolute_percentage_error_train</td><td>20.92862</td></tr><tr><td>mean_absolute_percentage_error_val</td><td>14.168</td></tr><tr><td>mean_squared_error_train</td><td>0.29648</td></tr><tr><td>mean_squared_error_val</td><td>0.07011</td></tr><tr><td>r2_train</td><td>-0.64158</td></tr><tr><td>r2_val</td><td>-0.64582</td></tr><tr><td>rmse_train</td><td>0.5445</td></tr><tr><td>rmse_val</td><td>0.26479</td></tr><tr><td>smape_train</td><td>20.13625</td></tr><tr><td>smape_val</td><td>13.4173</td></tr><tr><td>training_loss</td><td>0.05726</td></tr><tr><td>validation_loss</td><td>0.03412</td></tr></table><br/></div></div>"
      ],
      "text/plain": [
       "<IPython.core.display.HTML object>"
      ]
     },
     "metadata": {},
     "output_type": "display_data"
    },
    {
     "data": {
      "text/html": [
       "Synced <strong style=\"color:#cdcd00\">comic-frost-833</strong>: <a href=\"https://wandb.ai/michellewl/AQmortality/runs/190sg9k5\" target=\"_blank\">https://wandb.ai/michellewl/AQmortality/runs/190sg9k5</a><br/>Synced 6 W&B file(s), 0 media file(s), 1 artifact file(s) and 0 other file(s)"
      ],
      "text/plain": [
       "<IPython.core.display.HTML object>"
      ]
     },
     "metadata": {},
     "output_type": "display_data"
    },
    {
     "data": {
      "text/html": [
       "Find logs at: <code>./wandb/run-20240906_125207-190sg9k5/logs</code>"
      ],
      "text/plain": [
       "<IPython.core.display.HTML object>"
      ]
     },
     "metadata": {},
     "output_type": "display_data"
    }
   ],
   "source": [
    "# model.train_and_log()"
   ]
  },
  {
   "cell_type": "code",
   "execution_count": 19,
   "metadata": {},
   "outputs": [
    {
     "name": "stdout",
     "output_type": "stream",
     "text": [
      "MLP_regressor\n",
      "window_size:  1\n"
     ]
    },
    {
     "data": {
      "application/vnd.jupyter.widget-view+json": {
       "model_id": "14189b32333f41eaa371e94b4cf22973",
       "version_major": 2,
       "version_minor": 0
      },
      "text/plain": [
       "VBox(children=(Label(value='Waiting for wandb.init()...\\r'), FloatProgress(value=0.01667595816666676, max=1.0)…"
      ]
     },
     "metadata": {},
     "output_type": "display_data"
    },
    {
     "data": {
      "text/html": [
       "wandb version 0.17.9 is available!  To upgrade, please run:\n",
       " $ pip install wandb --upgrade"
      ],
      "text/plain": [
       "<IPython.core.display.HTML object>"
      ]
     },
     "metadata": {},
     "output_type": "display_data"
    },
    {
     "data": {
      "text/html": [
       "Tracking run with wandb version 0.13.5"
      ],
      "text/plain": [
       "<IPython.core.display.HTML object>"
      ]
     },
     "metadata": {},
     "output_type": "display_data"
    },
    {
     "data": {
      "text/html": [
       "Run data is saved locally in <code>/Users/michellewan/Repos/AQmortality/mortality_model/wandb/run-20240906_125852-s1r48sgf</code>"
      ],
      "text/plain": [
       "<IPython.core.display.HTML object>"
      ]
     },
     "metadata": {},
     "output_type": "display_data"
    },
    {
     "data": {
      "text/html": [
       "Syncing run <strong><a href=\"https://wandb.ai/michellewl/AQmortality/runs/s1r48sgf\" target=\"_blank\">lemon-moon-838</a></strong> to <a href=\"https://wandb.ai/michellewl/AQmortality\" target=\"_blank\">Weights & Biases</a> (<a href=\"https://wandb.me/run\" target=\"_blank\">docs</a>)<br/>"
      ],
      "text/plain": [
       "<IPython.core.display.HTML object>"
      ]
     },
     "metadata": {},
     "output_type": "display_data"
    },
    {
     "name": "stderr",
     "output_type": "stream",
     "text": [
      "\u001b[34m\u001b[1mwandb\u001b[0m:   1 of 1 files downloaded.  \n",
      "\u001b[34m\u001b[1mwandb\u001b[0m:   1 of 1 files downloaded.  \n",
      "\u001b[34m\u001b[1mwandb\u001b[0m:   1 of 1 files downloaded.  \n",
      "\u001b[34m\u001b[1mwandb\u001b[0m:   1 of 1 files downloaded.  \n"
     ]
    },
    {
     "data": {
      "text/html": [
       "Waiting for W&B process to finish... <strong style=\"color:green\">(success).</strong>"
      ],
      "text/plain": [
       "<IPython.core.display.HTML object>"
      ]
     },
     "metadata": {},
     "output_type": "display_data"
    },
    {
     "data": {
      "text/html": [
       "<style>\n",
       "    table.wandb td:nth-child(1) { padding: 0 10px; text-align: left ; width: auto;} td:nth-child(2) {text-align: left ; width: 100%}\n",
       "    .wandb-row { display: flex; flex-direction: row; flex-wrap: wrap; justify-content: flex-start; width: 100% }\n",
       "    .wandb-col { display: flex; flex-direction: column; flex-basis: 100%; flex: 1; padding: 10px; }\n",
       "    </style>\n",
       "<div class=\"wandb-row\"><div class=\"wandb-col\"><h3>Run history:</h3><br/><table class=\"wandb\"><tr><td>mean_absolute_percentage_error_test</td><td>▁</td></tr><tr><td>mean_squared_error_test</td><td>▁</td></tr><tr><td>r2_test</td><td>▁</td></tr><tr><td>rmse_test</td><td>▁</td></tr><tr><td>smape_test</td><td>▁</td></tr></table><br/></div><div class=\"wandb-col\"><h3>Run summary:</h3><br/><table class=\"wandb\"><tr><td>mean_absolute_percentage_error_test</td><td>11.85448</td></tr><tr><td>mean_squared_error_test</td><td>0.04704</td></tr><tr><td>r2_test</td><td>0.18124</td></tr><tr><td>rmse_test</td><td>0.21688</td></tr><tr><td>smape_test</td><td>11.2546</td></tr></table><br/></div></div>"
      ],
      "text/plain": [
       "<IPython.core.display.HTML object>"
      ]
     },
     "metadata": {},
     "output_type": "display_data"
    },
    {
     "data": {
      "text/html": [
       "Synced <strong style=\"color:#cdcd00\">lemon-moon-838</strong>: <a href=\"https://wandb.ai/michellewl/AQmortality/runs/s1r48sgf\" target=\"_blank\">https://wandb.ai/michellewl/AQmortality/runs/s1r48sgf</a><br/>Synced 6 W&B file(s), 0 media file(s), 12 artifact file(s) and 0 other file(s)"
      ],
      "text/plain": [
       "<IPython.core.display.HTML object>"
      ]
     },
     "metadata": {},
     "output_type": "display_data"
    },
    {
     "data": {
      "text/html": [
       "Find logs at: <code>./wandb/run-20240906_125852-s1r48sgf/logs</code>"
      ],
      "text/plain": [
       "<IPython.core.display.HTML object>"
      ]
     },
     "metadata": {},
     "output_type": "display_data"
    }
   ],
   "source": [
    "print(config[\"architecture\"])\n",
    "print(\"window_size: \", config[\"window_size\"])\n",
    "data_dict = model.test_and_log()"
   ]
  },
  {
   "cell_type": "markdown",
   "metadata": {},
   "source": [
    "#### Alternative\n",
    "If the model has already been run, lookup the test_and_log output artifact version on the wandb web interface and read it in here:"
   ]
  },
  {
   "cell_type": "code",
   "execution_count": 20,
   "metadata": {},
   "outputs": [],
   "source": [
    "#data_dict = model.read_data(\"xy_all\", \"v2\") "
   ]
  },
  {
   "cell_type": "markdown",
   "metadata": {},
   "source": [
    "## Plot results"
   ]
  },
  {
   "cell_type": "code",
   "execution_count": 24,
   "metadata": {},
   "outputs": [],
   "source": [
    "df = pd.DataFrame()\n",
    "subsets = [\"train\", \"val\", \"test\"] if config[\"val_size\"] else [\"train\", \"test\"]\n",
    "for subset in subsets:\n",
    "    subset_df = pd.DataFrame(index=pd.DatetimeIndex(data_dict[f\"{subset}_dates\"]), data={\"observed\":data_dict[f\"y_{subset}\"].flatten(), \"predicted\":data_dict[f\"y_{subset}_predict\"].flatten()})\n",
    "    df = subset_df.copy() if df.empty else df.append(subset_df)"
   ]
  },
  {
   "cell_type": "code",
   "execution_count": 25,
   "metadata": {},
   "outputs": [
    {
     "data": {
      "image/png": "[encoded data removed]",
      "text/plain": [
       "<Figure size 1200x750 with 1 Axes>"
      ]
     },
     "metadata": {},
     "output_type": "display_data"
    }
   ],
   "source": [
    "plt.figure(figsize=(8,5), dpi=150)\n",
    "df[\"observed\"].plot()\n",
    "df[\"predicted\"].plot()\n",
    "plt.axvline(data_dict[\"train_dates\"].max(), color=\"grey\")\n",
    "plt.axvline(data_dict[\"val_dates\"].max(), color=\"grey\") if config[\"val_size\"] else None\n",
    "plt.legend()\n",
    "plt.ylabel(\"deaths per 100,000\")\n",
    "plt.xlim(dt(year=1995, month=1, day=1), dt(year=2020, month=1, day=1))\n",
    "regressor_title = config[\"architecture\"].replace(\"_\", \" \")\n",
    "plt.suptitle(f\"Mortality predictions by {regressor_title} {plot_title_model}\")\n",
    "plt.show()"
   ]
  },
  {
   "cell_type": "code",
   "execution_count": 34,
   "metadata": {},
   "outputs": [],
   "source": [
    "ablation_df = pd.read_csv(\"regional_ablation_results/window_size_1.csv\")"
   ]
  },
  {
   "cell_type": "code",
   "execution_count": 40,
   "metadata": {},
   "outputs": [
    {
     "name": "stdout",
     "output_type": "stream",
     "text": [
      "Index(['Name', 'architecture', 'window_size', 'ablation_features',\n",
      "       'smape_test', 'State', 'Notes', 'Created', 'Runtime', 'Sweep',\n",
      "       'batch_size', 'hidden_layer_sizes', 'income_variables',\n",
      "       'input_artifacts', 'laqn_variables', 'learning_rate', 'met_variables',\n",
      "       'num_epochs', 'spatial_resolution', 'target_shift',\n",
      "       'temporal_resolution', 'train_size', 'val_size', 'baseline_r_squared',\n",
      "       'best_epoch', 'best_r_squared_train', 'best_r_squared_val',\n",
      "       'best_rmse_train', 'best_rmse_val', 'best_smape_train',\n",
      "       'best_smape_val', 'epoch', 'r_squared', 'r_squared_train',\n",
      "       'r_squared_val', 'rmse_test', 'rmse_train', 'rmse_val', 'smape_train',\n",
      "       'smape_val', 'training_loss', 'validation_loss', 'Job Type'],\n",
      "      dtype='object')\n"
     ]
    }
   ],
   "source": [
    "print(ablation_df.columns)"
   ]
  },
  {
   "cell_type": "code",
   "execution_count": 45,
   "metadata": {},
   "outputs": [],
   "source": [
    "df = ablation_df[[\"architecture\", \"window_size\", \"ablation_features\", \"smape_test\"]]"
   ]
  },
  {
   "cell_type": "code",
   "execution_count": 46,
   "metadata": {},
   "outputs": [],
   "source": [
    "# Step 1: Get baseline SMAPE values for each architecture\n",
    "baseline_df = df[df['ablation_features'] == 'false'].set_index('architecture')['smape_test']\n",
    "\n",
    "# Step 2: Calculate the difference from the baseline\n",
    "df = df[df['ablation_features'] != 'false']\n",
    "df['smape_diff'] = df.apply(lambda row: row['smape_test'] - baseline_df[row['architecture']], axis=1)\n",
    "\n",
    "# Step 3: Pivot the DataFrame to get the desired format\n",
    "pivot_df = df.pivot_table(index=['ablation_features'], columns='architecture', values='smape_diff', aggfunc='first')\n",
    "\n",
    "# Reset index to make 'ablation_features' a column again\n",
    "pivot_df = pivot_df.reset_index()"
   ]
  },
  {
   "cell_type": "code",
   "execution_count": 47,
   "metadata": {},
   "outputs": [
    {
     "data": {
      "text/html": [
       "<div>\n",
       "<style scoped>\n",
       "    .dataframe tbody tr th:only-of-type {\n",
       "        vertical-align: middle;\n",
       "    }\n",
       "\n",
       "    .dataframe tbody tr th {\n",
       "        vertical-align: top;\n",
       "    }\n",
       "\n",
       "    .dataframe thead th {\n",
       "        text-align: right;\n",
       "    }\n",
       "</style>\n",
       "<table border=\"1\" class=\"dataframe\">\n",
       "  <thead>\n",
       "    <tr style=\"text-align: right;\">\n",
       "      <th>architecture</th>\n",
       "      <th>ablation_features</th>\n",
       "      <th>LSTM_regressor</th>\n",
       "      <th>MLP_regressor</th>\n",
       "      <th>linear_regressor</th>\n",
       "    </tr>\n",
       "  </thead>\n",
       "  <tbody>\n",
       "    <tr>\n",
       "      <th>0</th>\n",
       "      <td>[\"NO2\",\"PM10\",\"temperature\",\"humidity\",\"dew_po...</td>\n",
       "      <td>3.053342</td>\n",
       "      <td>11.931311</td>\n",
       "      <td>-16.040313</td>\n",
       "    </tr>\n",
       "    <tr>\n",
       "      <th>1</th>\n",
       "      <td>[\"NO2\",\"PM10\"]</td>\n",
       "      <td>0.183078</td>\n",
       "      <td>4.162385</td>\n",
       "      <td>2.418116</td>\n",
       "    </tr>\n",
       "    <tr>\n",
       "      <th>2</th>\n",
       "      <td>[\"NO2\"]</td>\n",
       "      <td>-0.156206</td>\n",
       "      <td>2.228791</td>\n",
       "      <td>-4.217697</td>\n",
       "    </tr>\n",
       "    <tr>\n",
       "      <th>3</th>\n",
       "      <td>[\"PM10\"]</td>\n",
       "      <td>0.103131</td>\n",
       "      <td>1.225732</td>\n",
       "      <td>5.725496</td>\n",
       "    </tr>\n",
       "    <tr>\n",
       "      <th>4</th>\n",
       "      <td>[\"current_taxes_on_wealth\"]</td>\n",
       "      <td>-0.808182</td>\n",
       "      <td>5.537868</td>\n",
       "      <td>-75.875728</td>\n",
       "    </tr>\n",
       "    <tr>\n",
       "      <th>5</th>\n",
       "      <td>[\"dew_point\"]</td>\n",
       "      <td>0.457515</td>\n",
       "      <td>10.981146</td>\n",
       "      <td>-32.660463</td>\n",
       "    </tr>\n",
       "    <tr>\n",
       "      <th>6</th>\n",
       "      <td>[\"gross_disposable_income\",\"property_income_re...</td>\n",
       "      <td>16.740677</td>\n",
       "      <td>8.627962</td>\n",
       "      <td>-55.020389</td>\n",
       "    </tr>\n",
       "    <tr>\n",
       "      <th>7</th>\n",
       "      <td>[\"gross_disposable_income\"]</td>\n",
       "      <td>2.646556</td>\n",
       "      <td>6.730684</td>\n",
       "      <td>-5.845489</td>\n",
       "    </tr>\n",
       "    <tr>\n",
       "      <th>8</th>\n",
       "      <td>[\"humidity\"]</td>\n",
       "      <td>1.244416</td>\n",
       "      <td>3.386369</td>\n",
       "      <td>14.960338</td>\n",
       "    </tr>\n",
       "    <tr>\n",
       "      <th>9</th>\n",
       "      <td>[\"pressure\"]</td>\n",
       "      <td>0.510061</td>\n",
       "      <td>0.242269</td>\n",
       "      <td>-0.443555</td>\n",
       "    </tr>\n",
       "    <tr>\n",
       "      <th>10</th>\n",
       "      <td>[\"property_income_received\"]</td>\n",
       "      <td>0.950896</td>\n",
       "      <td>0.691358</td>\n",
       "      <td>-2.626768</td>\n",
       "    </tr>\n",
       "    <tr>\n",
       "      <th>11</th>\n",
       "      <td>[\"social_benefits_received\"]</td>\n",
       "      <td>2.044827</td>\n",
       "      <td>14.465958</td>\n",
       "      <td>-27.454523</td>\n",
       "    </tr>\n",
       "    <tr>\n",
       "      <th>12</th>\n",
       "      <td>[\"temperature\",\"humidity\",\"dew_point\",\"wind_sp...</td>\n",
       "      <td>2.041312</td>\n",
       "      <td>5.563677</td>\n",
       "      <td>-22.956825</td>\n",
       "    </tr>\n",
       "    <tr>\n",
       "      <th>13</th>\n",
       "      <td>[\"temperature\"]</td>\n",
       "      <td>1.137670</td>\n",
       "      <td>2.121032</td>\n",
       "      <td>-4.062801</td>\n",
       "    </tr>\n",
       "    <tr>\n",
       "      <th>14</th>\n",
       "      <td>[\"wind_speed\"]</td>\n",
       "      <td>-0.486729</td>\n",
       "      <td>1.650221</td>\n",
       "      <td>-9.066736</td>\n",
       "    </tr>\n",
       "  </tbody>\n",
       "</table>\n",
       "</div>"
      ],
      "text/plain": [
       "architecture                                  ablation_features  \\\n",
       "0             [\"NO2\",\"PM10\",\"temperature\",\"humidity\",\"dew_po...   \n",
       "1                                                [\"NO2\",\"PM10\"]   \n",
       "2                                                       [\"NO2\"]   \n",
       "3                                                      [\"PM10\"]   \n",
       "4                                   [\"current_taxes_on_wealth\"]   \n",
       "5                                                 [\"dew_point\"]   \n",
       "6             [\"gross_disposable_income\",\"property_income_re...   \n",
       "7                                   [\"gross_disposable_income\"]   \n",
       "8                                                  [\"humidity\"]   \n",
       "9                                                  [\"pressure\"]   \n",
       "10                                 [\"property_income_received\"]   \n",
       "11                                 [\"social_benefits_received\"]   \n",
       "12            [\"temperature\",\"humidity\",\"dew_point\",\"wind_sp...   \n",
       "13                                              [\"temperature\"]   \n",
       "14                                               [\"wind_speed\"]   \n",
       "\n",
       "architecture  LSTM_regressor  MLP_regressor  linear_regressor  \n",
       "0                   3.053342      11.931311        -16.040313  \n",
       "1                   0.183078       4.162385          2.418116  \n",
       "2                  -0.156206       2.228791         -4.217697  \n",
       "3                   0.103131       1.225732          5.725496  \n",
       "4                  -0.808182       5.537868        -75.875728  \n",
       "5                   0.457515      10.981146        -32.660463  \n",
       "6                  16.740677       8.627962        -55.020389  \n",
       "7                   2.646556       6.730684         -5.845489  \n",
       "8                   1.244416       3.386369         14.960338  \n",
       "9                   0.510061       0.242269         -0.443555  \n",
       "10                  0.950896       0.691358         -2.626768  \n",
       "11                  2.044827      14.465958        -27.454523  \n",
       "12                  2.041312       5.563677        -22.956825  \n",
       "13                  1.137670       2.121032         -4.062801  \n",
       "14                 -0.486729       1.650221         -9.066736  "
      ]
     },
     "execution_count": 47,
     "metadata": {},
     "output_type": "execute_result"
    }
   ],
   "source": [
    "pivot_df"
   ]
  },
  {
   "cell_type": "code",
   "execution_count": null,
   "metadata": {},
   "outputs": [],
   "source": []
  }
 ],
 "metadata": {
  "kernelspec": {
   "display_name": "PhDy1",
   "language": "python",
   "name": "python3"
  },
  "language_info": {
   "codemirror_mode": {
    "name": "ipython",
    "version": 3
   },
   "file_extension": ".py",
   "mimetype": "text/x-python",
   "name": "python",
   "nbconvert_exporter": "python",
   "pygments_lexer": "ipython3",
   "version": "3.8.5"
  }
 },
 "nbformat": 4,
 "nbformat_minor": 4
}
