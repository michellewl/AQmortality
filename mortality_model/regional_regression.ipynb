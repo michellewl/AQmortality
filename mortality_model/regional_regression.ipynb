{
 "cells": [
  {
   "cell_type": "markdown",
   "metadata": {},
   "source": [
    "## Imports"
   ]
  },
  {
   "cell_type": "code",
   "execution_count": 1,
   "metadata": {},
   "outputs": [],
   "source": [
    "import pandas as pd\n",
    "import matplotlib.pyplot as plt\n",
    "from model_classes import HealthModel\n",
    "import torch\n",
    "from datetime import datetime as dt"
   ]
  },
  {
   "cell_type": "markdown",
   "metadata": {},
   "source": [
    "## Config"
   ]
  },
  {
   "cell_type": "markdown",
   "metadata": {},
   "source": [
    "Linear regressor config:"
   ]
  },
  {
   "cell_type": "code",
   "execution_count": 87,
   "metadata": {},
   "outputs": [],
   "source": [
    "config = {\n",
    "    \"architecture\": \"linear_regressor\",\n",
    "    \"train_size\": 0.8,\n",
    "    \"val_size\": False, # Set MLP \n",
    "    \"hidden_layer_sizes\": False, # configs\n",
    "    \"batch_size\": False, # to False\n",
    "    \"num_epochs\": False, # if using\n",
    "    \"learning_rate\": False, # linear regressor\n",
    "    \"species\": \"NO2\",\n",
    "    \"spatial_resolution\": \"regional\",\n",
    "    \"temporal_resolution\": \"daily\",\n",
    "    \"input_artifacts\": [\"laqn-regional\", \"met-resample\", \"income-regional\"],\n",
    "    \"laqn_variables\": [\"NO2\", \"PM10\"], # Set to False if excluding air pollutants\n",
    "    \"met_variables\": [\"temperature\", \"humidity\", \"dew_point\", \"wind_speed\", \"pressure\"], # \"wind_dir\"# Set to False if excluding meteorology\n",
    "    \"income_variables\": [\"gross_disposable_income\", \"property_income_received\", #\"property_income_paid\", \n",
    "                         \"social_benefits_received\", \"current_taxes_on_wealth\"], # Set to False if excluding income\n",
    "    \"ablation_features\": False, #[\"temperature\"] # Set to False if not analysing feature importance\n",
    "    \"target_shift\": 1, # Time lag end point for target variable\n",
    "    \"window_size\": 7 # Input window size\n",
    "    }"
   ]
  },
  {
   "cell_type": "markdown",
   "metadata": {},
   "source": [
    "MLP regressor config:"
   ]
  },
  {
   "cell_type": "code",
   "execution_count": 117,
   "metadata": {},
   "outputs": [
    {
     "data": {
      "text/plain": [
       "<torch._C.Generator at 0x7fb99056d650>"
      ]
     },
     "execution_count": 117,
     "metadata": {},
     "output_type": "execute_result"
    }
   ],
   "source": [
    "config = {\n",
    "    \"architecture\": \"MLP_regressor\",\n",
    "    \"train_size\": 0.7,\n",
    "    \"val_size\": 0.15, # Set MLP configs\n",
    "    \"hidden_layer_sizes\": [10],\n",
    "    \"batch_size\": 30, # to False\n",
    "    \"num_epochs\": 100, # if using\n",
    "    \"learning_rate\": 0.001, # linear regressor\n",
    "    \"species\": \"NO2\",\n",
    "    \"spatial_resolution\": \"regional\",\n",
    "    \"temporal_resolution\": \"daily\",\n",
    "    \"input_artifacts\": [\"laqn-regional\", \"met-resample\", \"income-regional\"],\n",
    "    \"laqn_variables\": [\"NO2\", \"PM10\"], # Set to False if excluding air pollutants\n",
    "    \"met_variables\": [\"temperature\", \"humidity\", \"dew_point\", \"wind_speed\", \"pressure\"], # \"wind_dir\" # Set to False if excluding meteorology\n",
    "    \"income_variables\": [\"gross_disposable_income\", \"property_income_received\", \"social_benefits_received\", \"current_taxes_on_wealth\"], # Set to False if excluding income\n",
    "    \"ablation_features\": [\"gross_disposable_income\", \"property_income_received\", \"social_benefits_received\", \"current_taxes_on_wealth\"], # Set to False if not analysing feature importance\n",
    "    \"target_shift\": 1, # Time lag for target variable\n",
    "    \"window_size\": 1 # Input window size\n",
    "    }\n",
    "\n",
    "torch.manual_seed(1)"
   ]
  },
  {
   "cell_type": "markdown",
   "metadata": {},
   "source": [
    "LSTM regressor config:"
   ]
  },
  {
   "cell_type": "code",
   "execution_count": 8,
   "metadata": {},
   "outputs": [
    {
     "data": {
      "text/plain": [
       "<torch._C.Generator at 0x7fd32aaaf650>"
      ]
     },
     "execution_count": 8,
     "metadata": {},
     "output_type": "execute_result"
    }
   ],
   "source": [
    "config = {\n",
    "    \"architecture\": \"LSTM_regressor\",\n",
    "    \"train_size\": 0.7,\n",
    "    \"val_size\": 0.15, \n",
    "    \"hidden_layer_sizes\": [10],\n",
    "    \"batch_size\": 30, \n",
    "    \"num_epochs\": 100, \n",
    "    \"learning_rate\": 0.001, \n",
    "    \"species\": \"NO2\",\n",
    "    \"spatial_resolution\": \"regional\",\n",
    "    \"temporal_resolution\": \"daily\",\n",
    "    \"input_artifacts\": [\"laqn-regional\", \"met-resample\", \"income-regional\"],\n",
    "    \"laqn_variables\": [\"NO2\", \"PM10\"], # Set to False if excluding air pollutants\n",
    "    \"met_variables\": [\"temperature\", \"humidity\", \"dew_point\", \"wind_speed\", \"pressure\"], # \"wind_dir\" # Set to False if excluding meteorology\n",
    "    \"income_variables\": [\"gross_disposable_income\", \"property_income_received\", \"social_benefits_received\", \"current_taxes_on_wealth\"], # Set to False if excluding income\n",
    "    \"ablation_features\": False, # Set to False if not analysing feature importance\n",
    "    \"target_shift\": 1, # Time lag for target variable\n",
    "    \"window_size\": 3 # Input window size\n",
    "    }\n",
    "\n",
    "torch.manual_seed(1)"
   ]
  },
  {
   "cell_type": "code",
   "execution_count": 9,
   "metadata": {},
   "outputs": [],
   "source": [
    "if not config[\"ablation_features\"]:\n",
    "    plot_title_model = f\"(all inputs, time lag {config['target_shift']} window {config['window_size']})\"\n",
    "else:\n",
    "    plot_title_model = f\"(scrambled {', '.join(config['ablation_features'])}, time lag {config['target_shift']} window {config['window_size']})\""
   ]
  },
  {
   "cell_type": "markdown",
   "metadata": {},
   "source": [
    "## Code"
   ]
  },
  {
   "cell_type": "code",
   "execution_count": 10,
   "metadata": {},
   "outputs": [],
   "source": [
    "model = HealthModel(config)"
   ]
  },
  {
   "cell_type": "code",
   "execution_count": 11,
   "metadata": {},
   "outputs": [
    {
     "data": {
      "text/html": [
       "wandb version 0.17.6 is available!  To upgrade, please run:\n",
       " $ pip install wandb --upgrade"
      ],
      "text/plain": [
       "<IPython.core.display.HTML object>"
      ]
     },
     "metadata": {},
     "output_type": "display_data"
    },
    {
     "data": {
      "text/html": [
       "Tracking run with wandb version 0.13.5"
      ],
      "text/plain": [
       "<IPython.core.display.HTML object>"
      ]
     },
     "metadata": {},
     "output_type": "display_data"
    },
    {
     "data": {
      "text/html": [
       "Run data is saved locally in <code>/Users/michellewan/Repos/AQmortality/mortality_model/wandb/run-20240808_171427-6u7xwja0</code>"
      ],
      "text/plain": [
       "<IPython.core.display.HTML object>"
      ]
     },
     "metadata": {},
     "output_type": "display_data"
    },
    {
     "data": {
      "text/html": [
       "Syncing run <strong><a href=\"https://wandb.ai/michellewl/AQmortality/runs/6u7xwja0\" target=\"_blank\">hardy-field-378</a></strong> to <a href=\"https://wandb.ai/michellewl/AQmortality\" target=\"_blank\">Weights & Biases</a> (<a href=\"https://wandb.me/run\" target=\"_blank\">docs</a>)<br/>"
      ],
      "text/plain": [
       "<IPython.core.display.HTML object>"
      ]
     },
     "metadata": {},
     "output_type": "display_data"
    },
    {
     "name": "stdout",
     "output_type": "stream",
     "text": [
      "laqn-regional\n"
     ]
    },
    {
     "name": "stderr",
     "output_type": "stream",
     "text": [
      "\u001b[34m\u001b[1mwandb\u001b[0m:   6 of 6 files downloaded.  \n"
     ]
    },
    {
     "name": "stdout",
     "output_type": "stream",
     "text": [
      "met-resample\n"
     ]
    },
    {
     "name": "stderr",
     "output_type": "stream",
     "text": [
      "\u001b[34m\u001b[1mwandb\u001b[0m:   8 of 8 files downloaded.  \n"
     ]
    },
    {
     "name": "stdout",
     "output_type": "stream",
     "text": [
      "income-regional\n"
     ]
    },
    {
     "name": "stderr",
     "output_type": "stream",
     "text": [
      "\u001b[34m\u001b[1mwandb\u001b[0m:   51 of 51 files downloaded.  \n"
     ]
    },
    {
     "name": "stdout",
     "output_type": "stream",
     "text": [
      "input columns:  Index(['NO2_mean', 'NO2_min', 'NO2_max', 'PM10_mean', 'PM10_max', 'PM10_min',\n",
      "       'temperature_mean', 'temperature_min', 'temperature_max',\n",
      "       'humidity_mean', 'humidity_min', 'humidity_max', 'dew_point_mean',\n",
      "       'dew_point_min', 'dew_point_max', 'wind_speed_mean', 'wind_speed_min',\n",
      "       'wind_speed_max', 'pressure_mean', 'pressure_min', 'pressure_max',\n",
      "       'gross_disposable_income_min', 'gross_disposable_income_median',\n",
      "       'gross_disposable_income_max', 'property_income_received_max',\n",
      "       'property_income_received_median', 'property_income_received_min',\n",
      "       'social_benefits_received_median', 'social_benefits_received_max',\n",
      "       'social_benefits_received_min', 'current_taxes_on_wealth_median',\n",
      "       'current_taxes_on_wealth_max', 'current_taxes_on_wealth_min'],\n",
      "      dtype='object')\n"
     ]
    },
    {
     "name": "stderr",
     "output_type": "stream",
     "text": [
      "\u001b[34m\u001b[1mwandb\u001b[0m:   1 of 1 files downloaded.  \n"
     ]
    },
    {
     "name": "stdout",
     "output_type": "stream",
     "text": [
      "\n",
      " train\n",
      "inputs (5363, 33)\n",
      "targets (5363,)\n",
      "datetime index (5363,)\n",
      "Processing time lagged (1) input windows (length 3)\n",
      "inputs (before flattening) (5360, 3, 33)\n",
      "targets (before flattening) (5360, 1)\n",
      "datetime index (5360,)\n",
      "\n",
      " val\n",
      "inputs (1149, 33)\n",
      "targets (1149,)\n",
      "datetime index (1149,)\n",
      "Processing time lagged (1) input windows (length 3)\n",
      "inputs (before flattening) (1146, 3, 33)\n",
      "targets (before flattening) (1146, 1)\n",
      "datetime index (1146,)\n",
      "\n",
      " test\n",
      "inputs (1150, 33)\n",
      "targets (1150,)\n",
      "datetime index (1150,)\n",
      "Processing time lagged (1) input windows (length 3)\n",
      "inputs (before flattening) (1147, 3, 33)\n",
      "targets (before flattening) (1147, 1)\n",
      "datetime index (1147,)\n"
     ]
    },
    {
     "data": {
      "text/html": [
       "Waiting for W&B process to finish... <strong style=\"color:green\">(success).</strong>"
      ],
      "text/plain": [
       "<IPython.core.display.HTML object>"
      ]
     },
     "metadata": {},
     "output_type": "display_data"
    },
    {
     "data": {
      "text/html": [
       "Synced <strong style=\"color:#cdcd00\">hardy-field-378</strong>: <a href=\"https://wandb.ai/michellewl/AQmortality/runs/6u7xwja0\" target=\"_blank\">https://wandb.ai/michellewl/AQmortality/runs/6u7xwja0</a><br/>Synced 6 W&B file(s), 0 media file(s), 3 artifact file(s) and 0 other file(s)"
      ],
      "text/plain": [
       "<IPython.core.display.HTML object>"
      ]
     },
     "metadata": {},
     "output_type": "display_data"
    },
    {
     "data": {
      "text/html": [
       "Find logs at: <code>./wandb/run-20240808_171427-6u7xwja0/logs</code>"
      ],
      "text/plain": [
       "<IPython.core.display.HTML object>"
      ]
     },
     "metadata": {},
     "output_type": "display_data"
    }
   ],
   "source": [
    "inputs, targets, datetime = model.preprocess_and_log()"
   ]
  },
  {
   "cell_type": "code",
   "execution_count": 12,
   "metadata": {},
   "outputs": [
    {
     "data": {
      "application/vnd.jupyter.widget-view+json": {
       "model_id": "8a5888e0e7354fc18e5d93268e03154c",
       "version_major": 2,
       "version_minor": 0
      },
      "text/plain": [
       "VBox(children=(Label(value='Waiting for wandb.init()...\\r'), FloatProgress(value=0.016707739950000664, max=1.0…"
      ]
     },
     "metadata": {},
     "output_type": "display_data"
    },
    {
     "data": {
      "text/html": [
       "wandb version 0.17.6 is available!  To upgrade, please run:\n",
       " $ pip install wandb --upgrade"
      ],
      "text/plain": [
       "<IPython.core.display.HTML object>"
      ]
     },
     "metadata": {},
     "output_type": "display_data"
    },
    {
     "data": {
      "text/html": [
       "Tracking run with wandb version 0.13.5"
      ],
      "text/plain": [
       "<IPython.core.display.HTML object>"
      ]
     },
     "metadata": {},
     "output_type": "display_data"
    },
    {
     "data": {
      "text/html": [
       "Run data is saved locally in <code>/Users/michellewan/Repos/AQmortality/mortality_model/wandb/run-20240808_171455-rj7bfjon</code>"
      ],
      "text/plain": [
       "<IPython.core.display.HTML object>"
      ]
     },
     "metadata": {},
     "output_type": "display_data"
    },
    {
     "data": {
      "text/html": [
       "Syncing run <strong><a href=\"https://wandb.ai/michellewl/AQmortality/runs/rj7bfjon\" target=\"_blank\">cerulean-cosmos-379</a></strong> to <a href=\"https://wandb.ai/michellewl/AQmortality\" target=\"_blank\">Weights & Biases</a> (<a href=\"https://wandb.me/run\" target=\"_blank\">docs</a>)<br/>"
      ],
      "text/plain": [
       "<IPython.core.display.HTML object>"
      ]
     },
     "metadata": {},
     "output_type": "display_data"
    },
    {
     "name": "stderr",
     "output_type": "stream",
     "text": [
      "\u001b[34m\u001b[1mwandb\u001b[0m:   1 of 1 files downloaded.  \n"
     ]
    },
    {
     "data": {
      "text/html": [
       "Waiting for W&B process to finish... <strong style=\"color:green\">(success).</strong>"
      ],
      "text/plain": [
       "<IPython.core.display.HTML object>"
      ]
     },
     "metadata": {},
     "output_type": "display_data"
    },
    {
     "data": {
      "text/html": [
       "<style>\n",
       "    table.wandb td:nth-child(1) { padding: 0 10px; text-align: left ; width: auto;} td:nth-child(2) {text-align: left ; width: 100%}\n",
       "    .wandb-row { display: flex; flex-direction: row; flex-wrap: wrap; justify-content: flex-start; width: 100% }\n",
       "    .wandb-col { display: flex; flex-direction: column; flex-basis: 100%; flex: 1; padding: 10px; }\n",
       "    </style>\n",
       "<div class=\"wandb-row\"><div class=\"wandb-col\"><h3>Run history:</h3><br/><table class=\"wandb\"><tr><td>baseline_mean_absolute_percentage_error</td><td>▁</td></tr><tr><td>baseline_mean_squared_error</td><td>▁</td></tr><tr><td>baseline_r_squared</td><td>▁</td></tr><tr><td>baseline_root_mean_squared_error</td><td>▁</td></tr><tr><td>baseline_symmetric_mean_absolute_percentage_error</td><td>▁</td></tr></table><br/></div><div class=\"wandb-col\"><h3>Run summary:</h3><br/><table class=\"wandb\"><tr><td>baseline_mean_absolute_percentage_error</td><td>10.22143</td></tr><tr><td>baseline_mean_squared_error</td><td>0.03939</td></tr><tr><td>baseline_r_squared</td><td>0.31595</td></tr><tr><td>baseline_root_mean_squared_error</td><td>0.19848</td></tr><tr><td>baseline_symmetric_mean_absolute_percentage_error</td><td>10.1345</td></tr></table><br/></div></div>"
      ],
      "text/plain": [
       "<IPython.core.display.HTML object>"
      ]
     },
     "metadata": {},
     "output_type": "display_data"
    },
    {
     "data": {
      "text/html": [
       "Synced <strong style=\"color:#cdcd00\">cerulean-cosmos-379</strong>: <a href=\"https://wandb.ai/michellewl/AQmortality/runs/rj7bfjon\" target=\"_blank\">https://wandb.ai/michellewl/AQmortality/runs/rj7bfjon</a><br/>Synced 6 W&B file(s), 0 media file(s), 1 artifact file(s) and 0 other file(s)"
      ],
      "text/plain": [
       "<IPython.core.display.HTML object>"
      ]
     },
     "metadata": {},
     "output_type": "display_data"
    },
    {
     "data": {
      "text/html": [
       "Find logs at: <code>./wandb/run-20240808_171455-rj7bfjon/logs</code>"
      ],
      "text/plain": [
       "<IPython.core.display.HTML object>"
      ]
     },
     "metadata": {},
     "output_type": "display_data"
    }
   ],
   "source": [
    "model.create_baseline()"
   ]
  },
  {
   "cell_type": "code",
   "execution_count": 13,
   "metadata": {},
   "outputs": [
    {
     "name": "stdout",
     "output_type": "stream",
     "text": [
      "LSTM-regressor\n"
     ]
    },
    {
     "data": {
      "application/vnd.jupyter.widget-view+json": {
       "model_id": "fec8004dc39540c2be69b0d9b591a046",
       "version_major": 2,
       "version_minor": 0
      },
      "text/plain": [
       "VBox(children=(Label(value='Waiting for wandb.init()...\\r'), FloatProgress(value=0.01673025014999894, max=1.0)…"
      ]
     },
     "metadata": {},
     "output_type": "display_data"
    },
    {
     "data": {
      "text/html": [
       "wandb version 0.17.6 is available!  To upgrade, please run:\n",
       " $ pip install wandb --upgrade"
      ],
      "text/plain": [
       "<IPython.core.display.HTML object>"
      ]
     },
     "metadata": {},
     "output_type": "display_data"
    },
    {
     "data": {
      "text/html": [
       "Tracking run with wandb version 0.13.5"
      ],
      "text/plain": [
       "<IPython.core.display.HTML object>"
      ]
     },
     "metadata": {},
     "output_type": "display_data"
    },
    {
     "data": {
      "text/html": [
       "Run data is saved locally in <code>/Users/michellewan/Repos/AQmortality/mortality_model/wandb/run-20240808_171511-lzx4d6x5</code>"
      ],
      "text/plain": [
       "<IPython.core.display.HTML object>"
      ]
     },
     "metadata": {},
     "output_type": "display_data"
    },
    {
     "data": {
      "text/html": [
       "Syncing run <strong><a href=\"https://wandb.ai/michellewl/AQmortality/runs/lzx4d6x5\" target=\"_blank\">major-spaceship-380</a></strong> to <a href=\"https://wandb.ai/michellewl/AQmortality\" target=\"_blank\">Weights & Biases</a> (<a href=\"https://wandb.me/run\" target=\"_blank\">docs</a>)<br/>"
      ],
      "text/plain": [
       "<IPython.core.display.HTML object>"
      ]
     },
     "metadata": {},
     "output_type": "display_data"
    },
    {
     "name": "stderr",
     "output_type": "stream",
     "text": [
      "\u001b[34m\u001b[1mwandb\u001b[0m:   1 of 1 files downloaded.  \n",
      "\u001b[34m\u001b[1mwandb\u001b[0m:   1 of 1 files downloaded.  \n"
     ]
    },
    {
     "name": "stdout",
     "output_type": "stream",
     "text": [
      "x_train shape (5360, 3, 33)\n",
      "in_size: 33, hl_size: 10\n"
     ]
    },
    {
     "name": "stderr",
     "output_type": "stream",
     "text": [
      "100%|██████████| 100/100 [00:58<00:00,  1.71it/s]\n"
     ]
    },
    {
     "data": {
      "text/html": [
       "Waiting for W&B process to finish... <strong style=\"color:green\">(success).</strong>"
      ],
      "text/plain": [
       "<IPython.core.display.HTML object>"
      ]
     },
     "metadata": {},
     "output_type": "display_data"
    },
    {
     "data": {
      "text/html": [
       "<style>\n",
       "    table.wandb td:nth-child(1) { padding: 0 10px; text-align: left ; width: auto;} td:nth-child(2) {text-align: left ; width: 100%}\n",
       "    .wandb-row { display: flex; flex-direction: row; flex-wrap: wrap; justify-content: flex-start; width: 100% }\n",
       "    .wandb-col { display: flex; flex-direction: column; flex-basis: 100%; flex: 1; padding: 10px; }\n",
       "    </style>\n",
       "<div class=\"wandb-row\"><div class=\"wandb-col\"><h3>Run history:</h3><br/><table class=\"wandb\"><tr><td>best_epoch</td><td>▁</td></tr><tr><td>best_mean_absolute_percentage_error_train</td><td>▁</td></tr><tr><td>best_mean_absolute_percentage_error_val</td><td>▁</td></tr><tr><td>best_mean_squared_error_train</td><td>▁</td></tr><tr><td>best_mean_squared_error_val</td><td>▁</td></tr><tr><td>best_r_squared_train</td><td>▁</td></tr><tr><td>best_r_squared_val</td><td>▁</td></tr><tr><td>best_rmse_train</td><td>▁</td></tr><tr><td>best_rmse_val</td><td>▁</td></tr><tr><td>best_smape_train</td><td>▁</td></tr><tr><td>best_smape_val</td><td>▁</td></tr><tr><td>mean_absolute_percentage_error_train</td><td>█▁▁▂▂▂▂▂▂▂▂▂▂▂▂▂▂▂▂▂▂▂▂▂▂▂▂▂▂▂▂▂▂▂▂▂▂▁▂▂</td></tr><tr><td>mean_absolute_percentage_error_val</td><td>█▁▂▃▃▃▃▃▂▃▃▂▂▂▂▂▁▂▂▂▁▂▂▂▂▁▁▂▂▁▂▂▁▁▁▁▁▁▁▁</td></tr><tr><td>mean_squared_error_train</td><td>█▁▁▁▁▁▁▁▁▁▁▁▁▁▁▁▁▁▁▁▁▁▁▁▁▁▁▁▁▁▁▁▁▁▁▁▁▁▁▁</td></tr><tr><td>mean_squared_error_val</td><td>█▁▂▃▃▄▃▃▂▃▂▂▂▂▂▂▁▂▁▁▁▂▁▁▁▁▁▁▁▁▁▁▁▁▁▁▁▁▁▁</td></tr><tr><td>r2_train</td><td>▁███████████████████████████████████████</td></tr><tr><td>r2_val</td><td>▁█▇▆▆▅▆▆▇▆▇▇▇▇▇▇█▇███▇██████████████████</td></tr><tr><td>rmse_train</td><td>█▁▁▁▁▂▁▂▂▂▁▁▁▂▂▂▂▂▂▂▂▂▂▂▂▂▂▂▂▂▂▂▂▂▂▂▂▁▂▂</td></tr><tr><td>rmse_val</td><td>█▁▂▃▃▄▄▄▃▃▃▂▂▂▂▂▁▂▂▂▁▂▁▂▂▁▁▂▁▁▁▁▁▁▁▁▁▁▁▁</td></tr><tr><td>smape_train</td><td>█▁▁▁▁▁▁▁▁▁▁▁▁▁▁▁▁▁▁▁▁▁▁▁▁▁▁▁▁▁▁▁▁▁▁▁▁▁▁▁</td></tr><tr><td>smape_val</td><td>█▁▂▃▃▃▃▃▂▃▂▂▂▂▂▂▁▂▁▂▁▂▁▂▂▁▁▂▁▁▁▁▁▁▁▁▁▁▁▁</td></tr><tr><td>training_loss</td><td>█▁▁▁▁▁▁▁▁▁▁▁▁▁▁▁▁▁▁▁▁▁▁▁▁▁▁▁▁▁▁▁▁▁▁▁▁▁▁▁</td></tr><tr><td>validation_loss</td><td>█▂▁▁▂▂▂▂▁▁▂▁▁▁▁▁▁▁▁▁▁▁▁▁▁▁▁▁▁▁▁▁▁▁▁▁▁▁▁▂</td></tr></table><br/></div><div class=\"wandb-col\"><h3>Run summary:</h3><br/><table class=\"wandb\"><tr><td>best_epoch</td><td>32</td></tr><tr><td>best_mean_absolute_percentage_error_train</td><td>21.24847</td></tr><tr><td>best_mean_absolute_percentage_error_val</td><td>12.82314</td></tr><tr><td>best_mean_squared_error_train</td><td>0.29797</td></tr><tr><td>best_mean_squared_error_val</td><td>0.06096</td></tr><tr><td>best_r_squared_train</td><td>-0.67724</td></tr><tr><td>best_r_squared_val</td><td>-0.43055</td></tr><tr><td>best_rmse_train</td><td>0.54587</td></tr><tr><td>best_rmse_val</td><td>0.2469</td></tr><tr><td>best_smape_train</td><td>20.49355</td></tr><tr><td>best_smape_val</td><td>12.39155</td></tr><tr><td>mean_absolute_percentage_error_train</td><td>21.8252</td></tr><tr><td>mean_absolute_percentage_error_val</td><td>11.41572</td></tr><tr><td>mean_squared_error_train</td><td>0.31458</td></tr><tr><td>mean_squared_error_val</td><td>0.05201</td></tr><tr><td>r2_train</td><td>-0.77072</td></tr><tr><td>r2_val</td><td>-0.22058</td></tr><tr><td>rmse_train</td><td>0.56087</td></tr><tr><td>rmse_val</td><td>0.22806</td></tr><tr><td>smape_train</td><td>20.9849</td></tr><tr><td>smape_val</td><td>11.55392</td></tr><tr><td>training_loss</td><td>0.04662</td></tr><tr><td>validation_loss</td><td>0.04476</td></tr></table><br/></div></div>"
      ],
      "text/plain": [
       "<IPython.core.display.HTML object>"
      ]
     },
     "metadata": {},
     "output_type": "display_data"
    },
    {
     "data": {
      "text/html": [
       "Synced <strong style=\"color:#cdcd00\">major-spaceship-380</strong>: <a href=\"https://wandb.ai/michellewl/AQmortality/runs/lzx4d6x5\" target=\"_blank\">https://wandb.ai/michellewl/AQmortality/runs/lzx4d6x5</a><br/>Synced 6 W&B file(s), 0 media file(s), 1 artifact file(s) and 0 other file(s)"
      ],
      "text/plain": [
       "<IPython.core.display.HTML object>"
      ]
     },
     "metadata": {},
     "output_type": "display_data"
    },
    {
     "data": {
      "text/html": [
       "Find logs at: <code>./wandb/run-20240808_171511-lzx4d6x5/logs</code>"
      ],
      "text/plain": [
       "<IPython.core.display.HTML object>"
      ]
     },
     "metadata": {},
     "output_type": "display_data"
    }
   ],
   "source": [
    "model.train_and_log()"
   ]
  },
  {
   "cell_type": "code",
   "execution_count": 14,
   "metadata": {},
   "outputs": [
    {
     "data": {
      "application/vnd.jupyter.widget-view+json": {
       "model_id": "f59b06b4dd47478885f91945538422ed",
       "version_major": 2,
       "version_minor": 0
      },
      "text/plain": [
       "VBox(children=(Label(value='Waiting for wandb.init()...\\r'), FloatProgress(value=0.0166933467666676, max=1.0))…"
      ]
     },
     "metadata": {},
     "output_type": "display_data"
    },
    {
     "data": {
      "text/html": [
       "wandb version 0.17.6 is available!  To upgrade, please run:\n",
       " $ pip install wandb --upgrade"
      ],
      "text/plain": [
       "<IPython.core.display.HTML object>"
      ]
     },
     "metadata": {},
     "output_type": "display_data"
    },
    {
     "data": {
      "text/html": [
       "Tracking run with wandb version 0.13.5"
      ],
      "text/plain": [
       "<IPython.core.display.HTML object>"
      ]
     },
     "metadata": {},
     "output_type": "display_data"
    },
    {
     "data": {
      "text/html": [
       "Run data is saved locally in <code>/Users/michellewan/Repos/AQmortality/mortality_model/wandb/run-20240808_171626-fokj0427</code>"
      ],
      "text/plain": [
       "<IPython.core.display.HTML object>"
      ]
     },
     "metadata": {},
     "output_type": "display_data"
    },
    {
     "data": {
      "text/html": [
       "Syncing run <strong><a href=\"https://wandb.ai/michellewl/AQmortality/runs/fokj0427\" target=\"_blank\">light-blaze-381</a></strong> to <a href=\"https://wandb.ai/michellewl/AQmortality\" target=\"_blank\">Weights & Biases</a> (<a href=\"https://wandb.me/run\" target=\"_blank\">docs</a>)<br/>"
      ],
      "text/plain": [
       "<IPython.core.display.HTML object>"
      ]
     },
     "metadata": {},
     "output_type": "display_data"
    },
    {
     "name": "stderr",
     "output_type": "stream",
     "text": [
      "\u001b[34m\u001b[1mwandb\u001b[0m:   1 of 1 files downloaded.  \n",
      "\u001b[34m\u001b[1mwandb\u001b[0m:   1 of 1 files downloaded.  \n",
      "\u001b[34m\u001b[1mwandb\u001b[0m:   1 of 1 files downloaded.  \n",
      "\u001b[34m\u001b[1mwandb\u001b[0m:   1 of 1 files downloaded.  \n"
     ]
    },
    {
     "name": "stdout",
     "output_type": "stream",
     "text": [
      "x_test shape (1147, 3, 33)\n",
      "in_size: 33, hl_size: 10\n"
     ]
    },
    {
     "data": {
      "text/html": [
       "Waiting for W&B process to finish... <strong style=\"color:green\">(success).</strong>"
      ],
      "text/plain": [
       "<IPython.core.display.HTML object>"
      ]
     },
     "metadata": {},
     "output_type": "display_data"
    },
    {
     "data": {
      "text/html": [
       "<style>\n",
       "    table.wandb td:nth-child(1) { padding: 0 10px; text-align: left ; width: auto;} td:nth-child(2) {text-align: left ; width: 100%}\n",
       "    .wandb-row { display: flex; flex-direction: row; flex-wrap: wrap; justify-content: flex-start; width: 100% }\n",
       "    .wandb-col { display: flex; flex-direction: column; flex-basis: 100%; flex: 1; padding: 10px; }\n",
       "    </style>\n",
       "<div class=\"wandb-row\"><div class=\"wandb-col\"><h3>Run history:</h3><br/><table class=\"wandb\"><tr><td>mean_absolute_percentage_error_test</td><td>▁</td></tr><tr><td>mean_squared_error_test</td><td>▁</td></tr><tr><td>r2_test</td><td>▁</td></tr><tr><td>rmse_test</td><td>▁</td></tr><tr><td>smape_test</td><td>▁</td></tr></table><br/></div><div class=\"wandb-col\"><h3>Run summary:</h3><br/><table class=\"wandb\"><tr><td>mean_absolute_percentage_error_test</td><td>9.09383</td></tr><tr><td>mean_squared_error_test</td><td>0.03016</td></tr><tr><td>r2_test</td><td>0.4759</td></tr><tr><td>rmse_test</td><td>0.17367</td></tr><tr><td>smape_test</td><td>8.86525</td></tr></table><br/></div></div>"
      ],
      "text/plain": [
       "<IPython.core.display.HTML object>"
      ]
     },
     "metadata": {},
     "output_type": "display_data"
    },
    {
     "data": {
      "text/html": [
       "Synced <strong style=\"color:#cdcd00\">light-blaze-381</strong>: <a href=\"https://wandb.ai/michellewl/AQmortality/runs/fokj0427\" target=\"_blank\">https://wandb.ai/michellewl/AQmortality/runs/fokj0427</a><br/>Synced 6 W&B file(s), 0 media file(s), 12 artifact file(s) and 0 other file(s)"
      ],
      "text/plain": [
       "<IPython.core.display.HTML object>"
      ]
     },
     "metadata": {},
     "output_type": "display_data"
    },
    {
     "data": {
      "text/html": [
       "Find logs at: <code>./wandb/run-20240808_171626-fokj0427/logs</code>"
      ],
      "text/plain": [
       "<IPython.core.display.HTML object>"
      ]
     },
     "metadata": {},
     "output_type": "display_data"
    }
   ],
   "source": [
    "data_dict = model.test_and_log()"
   ]
  },
  {
   "cell_type": "markdown",
   "metadata": {},
   "source": [
    "#### Alternative\n",
    "If the model has already been run, lookup the test_and_log output artifact version on the wandb web interface and read it in here:"
   ]
  },
  {
   "cell_type": "code",
   "execution_count": 15,
   "metadata": {},
   "outputs": [],
   "source": [
    "#data_dict = model.read_data(\"xy_all\", \"v2\") "
   ]
  },
  {
   "cell_type": "markdown",
   "metadata": {},
   "source": [
    "## Plot results"
   ]
  },
  {
   "cell_type": "code",
   "execution_count": 16,
   "metadata": {},
   "outputs": [],
   "source": [
    "df = pd.DataFrame()\n",
    "subsets = [\"train\", \"val\", \"test\"] if config[\"val_size\"] else [\"train\", \"test\"]\n",
    "for subset in subsets:\n",
    "    subset_df = pd.DataFrame(index=pd.DatetimeIndex(data_dict[f\"{subset}_dates\"]), data={\"observed\":data_dict[f\"y_{subset}\"].flatten(), \"predicted\":data_dict[f\"y_{subset}_predict\"].flatten()})\n",
    "    df = subset_df.copy() if df.empty else df.append(subset_df)"
   ]
  },
  {
   "cell_type": "code",
   "execution_count": 17,
   "metadata": {},
   "outputs": [
    {
     "data": {
      "image/png": "[encoded data removed]",
      "text/plain": [
       "<Figure size 1200x750 with 1 Axes>"
      ]
     },
     "metadata": {},
     "output_type": "display_data"
    }
   ],
   "source": [
    "plt.figure(figsize=(8,5), dpi=150)\n",
    "df[\"observed\"].plot()\n",
    "df[\"predicted\"].plot()\n",
    "plt.axvline(data_dict[\"train_dates\"].max(), color=\"grey\")\n",
    "plt.axvline(data_dict[\"val_dates\"].max(), color=\"grey\") if config[\"val_size\"] else None\n",
    "plt.legend()\n",
    "plt.ylabel(\"deaths per 100,000\")\n",
    "plt.xlim(dt(year=1995, month=1, day=1), dt(year=2020, month=1, day=1))\n",
    "regressor_title = config[\"architecture\"].replace(\"_\", \" \")\n",
    "plt.suptitle(f\"Mortality predictions by {regressor_title} {plot_title_model}\")\n",
    "plt.show()"
   ]
  },
  {
   "cell_type": "code",
   "execution_count": null,
   "metadata": {},
   "outputs": [],
   "source": []
  },
  {
   "cell_type": "code",
   "execution_count": null,
   "metadata": {},
   "outputs": [],
   "source": []
  }
 ],
 "metadata": {
  "kernelspec": {
   "display_name": "PhDy1",
   "language": "python",
   "name": "python3"
  },
  "language_info": {
   "codemirror_mode": {
    "name": "ipython",
    "version": 3
   },
   "file_extension": ".py",
   "mimetype": "text/x-python",
   "name": "python",
   "nbconvert_exporter": "python",
   "pygments_lexer": "ipython3",
   "version": "3.8.5"
  }
 },
 "nbformat": 4,
 "nbformat_minor": 4
}
