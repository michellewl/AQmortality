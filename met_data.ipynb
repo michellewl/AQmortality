{
 "cells": [
  {
   "cell_type": "markdown",
   "metadata": {},
   "source": [
    "## Imports"
   ]
  },
  {
   "cell_type": "code",
   "execution_count": 8,
   "metadata": {},
   "outputs": [],
   "source": [
    "import pandas as pd\n",
    "from os import makedirs, path, listdir\n",
    "from data_classes import MetData\n",
    "import matplotlib.pyplot as plt"
   ]
  },
  {
   "cell_type": "markdown",
   "metadata": {},
   "source": [
    "## Code"
   ]
  },
  {
   "cell_type": "code",
   "execution_count": 2,
   "metadata": {},
   "outputs": [],
   "source": [
    "url = \"https://bulk.meteostat.net/hourly/03772.csv.gz\"\n",
    "data_folder = path.join(path.abspath(\"\"), \"met_data\")"
   ]
  },
  {
   "cell_type": "code",
   "execution_count": 3,
   "metadata": {},
   "outputs": [],
   "source": [
    "heathrow = MetData(data_folder, url=url)"
   ]
  },
  {
   "cell_type": "markdown",
   "metadata": {},
   "source": [
    "### Download the data"
   ]
  },
  {
   "cell_type": "code",
   "execution_count": 173,
   "metadata": {},
   "outputs": [
    {
     "name": "stdout",
     "output_type": "stream",
     "text": [
      "Saved to hourly_heathrow_met_data.csv.\n"
     ]
    }
   ],
   "source": [
    "heathrow.download()"
   ]
  },
  {
   "cell_type": "markdown",
   "metadata": {},
   "source": [
    "### Load the saved data"
   ]
  },
  {
   "cell_type": "code",
   "execution_count": 4,
   "metadata": {},
   "outputs": [
    {
     "name": "stdout",
     "output_type": "stream",
     "text": [
      "Reading hourly_heathrow_met_data.csv...\n"
     ]
    }
   ],
   "source": [
    "hourly_df = heathrow.read_csv()\n",
    "hourly_df = hourly_df.loc[hourly_df.index.year>2000]"
   ]
  },
  {
   "cell_type": "markdown",
   "metadata": {},
   "source": [
    "### Plot the time series"
   ]
  },
  {
   "cell_type": "code",
   "execution_count": 9,
   "metadata": {},
   "outputs": [
    {
     "data": {
      "image/png": "[encoded data removed]",
      "text/plain": [
       "<Figure size 432x288 with 1 Axes>"
      ]
     },
     "metadata": {
      "needs_background": "light"
     },
     "output_type": "display_data"
    }
   ],
   "source": [
    "hourly_df[\"temperature\"].plot(title=\"London\").set_ylabel(\"hourly temperature (℃)\")\n",
    "plt.show()"
   ]
  },
  {
   "cell_type": "code",
   "execution_count": 10,
   "metadata": {},
   "outputs": [
    {
     "data": {
      "text/html": [
       "<div>\n",
       "<style scoped>\n",
       "    .dataframe tbody tr th:only-of-type {\n",
       "        vertical-align: middle;\n",
       "    }\n",
       "\n",
       "    .dataframe tbody tr th {\n",
       "        vertical-align: top;\n",
       "    }\n",
       "\n",
       "    .dataframe thead th {\n",
       "        text-align: right;\n",
       "    }\n",
       "</style>\n",
       "<table border=\"1\" class=\"dataframe\">\n",
       "  <thead>\n",
       "    <tr style=\"text-align: right;\">\n",
       "      <th></th>\n",
       "      <th>temperature</th>\n",
       "      <th>dew_point</th>\n",
       "      <th>humidity</th>\n",
       "      <th>precip</th>\n",
       "      <th>wind_dir</th>\n",
       "      <th>wind_speed</th>\n",
       "      <th>peak_gust</th>\n",
       "      <th>pressure</th>\n",
       "    </tr>\n",
       "    <tr>\n",
       "      <th>date</th>\n",
       "      <th></th>\n",
       "      <th></th>\n",
       "      <th></th>\n",
       "      <th></th>\n",
       "      <th></th>\n",
       "      <th></th>\n",
       "      <th></th>\n",
       "      <th></th>\n",
       "    </tr>\n",
       "  </thead>\n",
       "  <tbody>\n",
       "    <tr>\n",
       "      <th>2001-01-01 00:00:00</th>\n",
       "      <td>5.1</td>\n",
       "      <td>4.1</td>\n",
       "      <td>93.0</td>\n",
       "      <td>NaN</td>\n",
       "      <td>170.0</td>\n",
       "      <td>33.5</td>\n",
       "      <td>NaN</td>\n",
       "      <td>990.9</td>\n",
       "    </tr>\n",
       "    <tr>\n",
       "      <th>2001-01-01 01:00:00</th>\n",
       "      <td>6.0</td>\n",
       "      <td>5.1</td>\n",
       "      <td>94.0</td>\n",
       "      <td>NaN</td>\n",
       "      <td>170.0</td>\n",
       "      <td>27.7</td>\n",
       "      <td>NaN</td>\n",
       "      <td>990.1</td>\n",
       "    </tr>\n",
       "    <tr>\n",
       "      <th>2001-01-01 02:00:00</th>\n",
       "      <td>7.0</td>\n",
       "      <td>6.3</td>\n",
       "      <td>95.0</td>\n",
       "      <td>NaN</td>\n",
       "      <td>170.0</td>\n",
       "      <td>22.3</td>\n",
       "      <td>NaN</td>\n",
       "      <td>989.6</td>\n",
       "    </tr>\n",
       "    <tr>\n",
       "      <th>2001-01-01 03:00:00</th>\n",
       "      <td>7.8</td>\n",
       "      <td>6.7</td>\n",
       "      <td>93.0</td>\n",
       "      <td>NaN</td>\n",
       "      <td>170.0</td>\n",
       "      <td>20.5</td>\n",
       "      <td>NaN</td>\n",
       "      <td>988.4</td>\n",
       "    </tr>\n",
       "    <tr>\n",
       "      <th>2001-01-01 04:00:00</th>\n",
       "      <td>8.6</td>\n",
       "      <td>7.5</td>\n",
       "      <td>93.0</td>\n",
       "      <td>NaN</td>\n",
       "      <td>190.0</td>\n",
       "      <td>24.1</td>\n",
       "      <td>NaN</td>\n",
       "      <td>988.1</td>\n",
       "    </tr>\n",
       "    <tr>\n",
       "      <th>...</th>\n",
       "      <td>...</td>\n",
       "      <td>...</td>\n",
       "      <td>...</td>\n",
       "      <td>...</td>\n",
       "      <td>...</td>\n",
       "      <td>...</td>\n",
       "      <td>...</td>\n",
       "      <td>...</td>\n",
       "    </tr>\n",
       "    <tr>\n",
       "      <th>2021-12-04 19:00:00</th>\n",
       "      <td>7.6</td>\n",
       "      <td>-6.9</td>\n",
       "      <td>35.0</td>\n",
       "      <td>NaN</td>\n",
       "      <td>330.0</td>\n",
       "      <td>5.0</td>\n",
       "      <td>NaN</td>\n",
       "      <td>1030.6</td>\n",
       "    </tr>\n",
       "    <tr>\n",
       "      <th>2021-12-04 20:00:00</th>\n",
       "      <td>6.0</td>\n",
       "      <td>-4.8</td>\n",
       "      <td>46.0</td>\n",
       "      <td>NaN</td>\n",
       "      <td>320.0</td>\n",
       "      <td>5.0</td>\n",
       "      <td>NaN</td>\n",
       "      <td>1031.1</td>\n",
       "    </tr>\n",
       "    <tr>\n",
       "      <th>2021-12-04 21:00:00</th>\n",
       "      <td>5.3</td>\n",
       "      <td>-3.5</td>\n",
       "      <td>53.0</td>\n",
       "      <td>NaN</td>\n",
       "      <td>280.0</td>\n",
       "      <td>4.0</td>\n",
       "      <td>NaN</td>\n",
       "      <td>1031.6</td>\n",
       "    </tr>\n",
       "    <tr>\n",
       "      <th>2021-12-04 22:00:00</th>\n",
       "      <td>4.2</td>\n",
       "      <td>-2.4</td>\n",
       "      <td>62.0</td>\n",
       "      <td>NaN</td>\n",
       "      <td>320.0</td>\n",
       "      <td>2.0</td>\n",
       "      <td>NaN</td>\n",
       "      <td>1031.9</td>\n",
       "    </tr>\n",
       "    <tr>\n",
       "      <th>2021-12-04 23:00:00</th>\n",
       "      <td>2.4</td>\n",
       "      <td>-3.5</td>\n",
       "      <td>65.0</td>\n",
       "      <td>NaN</td>\n",
       "      <td>330.0</td>\n",
       "      <td>4.0</td>\n",
       "      <td>NaN</td>\n",
       "      <td>1032.2</td>\n",
       "    </tr>\n",
       "  </tbody>\n",
       "</table>\n",
       "<p>177746 rows × 8 columns</p>\n",
       "</div>"
      ],
      "text/plain": [
       "                     temperature  dew_point  humidity  precip  wind_dir  \\\n",
       "date                                                                      \n",
       "2001-01-01 00:00:00          5.1        4.1      93.0     NaN     170.0   \n",
       "2001-01-01 01:00:00          6.0        5.1      94.0     NaN     170.0   \n",
       "2001-01-01 02:00:00          7.0        6.3      95.0     NaN     170.0   \n",
       "2001-01-01 03:00:00          7.8        6.7      93.0     NaN     170.0   \n",
       "2001-01-01 04:00:00          8.6        7.5      93.0     NaN     190.0   \n",
       "...                          ...        ...       ...     ...       ...   \n",
       "2021-12-04 19:00:00          7.6       -6.9      35.0     NaN     330.0   \n",
       "2021-12-04 20:00:00          6.0       -4.8      46.0     NaN     320.0   \n",
       "2021-12-04 21:00:00          5.3       -3.5      53.0     NaN     280.0   \n",
       "2021-12-04 22:00:00          4.2       -2.4      62.0     NaN     320.0   \n",
       "2021-12-04 23:00:00          2.4       -3.5      65.0     NaN     330.0   \n",
       "\n",
       "                     wind_speed  peak_gust  pressure  \n",
       "date                                                  \n",
       "2001-01-01 00:00:00        33.5        NaN     990.9  \n",
       "2001-01-01 01:00:00        27.7        NaN     990.1  \n",
       "2001-01-01 02:00:00        22.3        NaN     989.6  \n",
       "2001-01-01 03:00:00        20.5        NaN     988.4  \n",
       "2001-01-01 04:00:00        24.1        NaN     988.1  \n",
       "...                         ...        ...       ...  \n",
       "2021-12-04 19:00:00         5.0        NaN    1030.6  \n",
       "2021-12-04 20:00:00         5.0        NaN    1031.1  \n",
       "2021-12-04 21:00:00         4.0        NaN    1031.6  \n",
       "2021-12-04 22:00:00         2.0        NaN    1031.9  \n",
       "2021-12-04 23:00:00         4.0        NaN    1032.2  \n",
       "\n",
       "[177746 rows x 8 columns]"
      ]
     },
     "execution_count": 10,
     "metadata": {},
     "output_type": "execute_result"
    }
   ],
   "source": [
    "hourly_df"
   ]
  },
  {
   "cell_type": "code",
   "execution_count": null,
   "metadata": {},
   "outputs": [],
   "source": []
  }
 ],
 "metadata": {
  "kernelspec": {
   "display_name": "AQmort",
   "language": "python",
   "name": "aqmort"
  },
  "language_info": {
   "codemirror_mode": {
    "name": "ipython",
    "version": 3
   },
   "file_extension": ".py",
   "mimetype": "text/x-python",
   "name": "python",
   "nbconvert_exporter": "python",
   "pygments_lexer": "ipython3",
   "version": "3.9.2"
  }
 },
 "nbformat": 4,
 "nbformat_minor": 4
}
