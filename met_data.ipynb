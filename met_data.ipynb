{
 "cells": [
  {
   "cell_type": "code",
   "execution_count": 164,
   "metadata": {},
   "outputs": [],
   "source": [
    "import pandas as pd\n",
    "from os import makedirs, path, listdir"
   ]
  },
  {
   "cell_type": "code",
   "execution_count": 170,
   "metadata": {},
   "outputs": [],
   "source": [
    "class MetData():\n",
    "    def __init__(self, home_folder, url=\"https://bulk.meteostat.net/hourly/03772.csv.gz\", filename=\"hourly_heathrow_met_data.csv\"):\n",
    "        self.url = url\n",
    "        self.home_folder = home_folder\n",
    "        self.filename = filename\n",
    "        self.filepath = path.join(self.home_folder, self.filename)\n",
    "        \n",
    "        if not path.exists(self.home_folder):\n",
    "            makedirs(self.home_folder)\n",
    "            \n",
    "    def download(self, verbose=True):\n",
    "        columns = [\"date\", \"hour\", \"temperature\", \"dew_point\", \"humidity\", \"precip\", \"blank1\", \"wind_dir\", \"wind_speed\", \"peak_gust\", \"pressure\", \"blank2\", \"blank3\"]\n",
    "        df = pd.read_csv(url, header=None, names=columns).drop([\"blank1\", \"blank2\", \"blank3\"], axis=1)\n",
    "        df[\"date\"] = df[\"date\"] + \" \" + df[\"hour\"].astype(str) +\":00\"\n",
    "        df = df.drop([\"hour\"], axis=1).set_index(\"date\")\n",
    "        df.to_csv(self.filepath)\n",
    "        if verbose:\n",
    "            print(f\"Saved to {self.filename}.\")"
   ]
  },
  {
   "cell_type": "code",
   "execution_count": 171,
   "metadata": {},
   "outputs": [],
   "source": [
    "url = \"https://bulk.meteostat.net/hourly/03772.csv.gz\"\n",
    "data_folder = path.join(path.abspath(\"\"), \"met_data\")"
   ]
  },
  {
   "cell_type": "code",
   "execution_count": 172,
   "metadata": {},
   "outputs": [],
   "source": [
    "heathrow = MetData(data_folder, url=url)"
   ]
  },
  {
   "cell_type": "code",
   "execution_count": 173,
   "metadata": {},
   "outputs": [
    {
     "name": "stdout",
     "output_type": "stream",
     "text": [
      "Saved to hourly_heathrow_met_data.csv.\n"
     ]
    }
   ],
   "source": [
    "heathrow.download()"
   ]
  },
  {
   "cell_type": "code",
   "execution_count": null,
   "metadata": {},
   "outputs": [],
   "source": []
  }
 ],
 "metadata": {
  "kernelspec": {
   "display_name": "AQmort",
   "language": "python",
   "name": "aqmort"
  },
  "language_info": {
   "codemirror_mode": {
    "name": "ipython",
    "version": 3
   },
   "file_extension": ".py",
   "mimetype": "text/x-python",
   "name": "python",
   "nbconvert_exporter": "python",
   "pygments_lexer": "ipython3",
   "version": "3.9.2"
  }
 },
 "nbformat": 4,
 "nbformat_minor": 4
}
