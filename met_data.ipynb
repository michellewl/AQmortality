{
 "cells": [
  {
   "cell_type": "code",
   "execution_count": 1,
   "metadata": {},
   "outputs": [],
   "source": [
    "import requests"
   ]
  },
  {
   "cell_type": "code",
   "execution_count": 7,
   "metadata": {},
   "outputs": [],
   "source": [
    "dataset = \"daily-summaries\"\n",
    "stations = [\"UKE00105915\", # Hampstead, UK\n",
    "           \"UKE00107650\", # Heathrow\n",
    "           \"UKM00003772\", # Heathrow, UK\n",
    "           \"UKW00035054\", # West Malling, UK\n",
    "           \"UKE00156884\"] # Wisley, UK"
   ]
  },
  {
   "cell_type": "code",
   "execution_count": null,
   "metadata": {},
   "outputs": [],
   "source": [
    "url = f\"https://www.ncei.noaa.gov/access/services/data/v1?dataset={dataset}&stations={\",\".join(stations)}\""
   ]
  }
 ],
 "metadata": {
  "kernelspec": {
   "display_name": "AQmort",
   "language": "python",
   "name": "aqmort"
  },
  "language_info": {
   "codemirror_mode": {
    "name": "ipython",
    "version": 3
   },
   "file_extension": ".py",
   "mimetype": "text/x-python",
   "name": "python",
   "nbconvert_exporter": "python",
   "pygments_lexer": "ipython3",
   "version": "3.9.2"
  }
 },
 "nbformat": 4,
 "nbformat_minor": 4
}
