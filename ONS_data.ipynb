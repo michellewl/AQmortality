{
 "cells": [
  {
   "cell_type": "markdown",
   "metadata": {},
   "source": [
    "## conda environments"
   ]
  },
  {
   "cell_type": "markdown",
   "metadata": {},
   "source": [
    "When accessing this notebook via the JASMIN Jupyter Notebook service, select the correct conda environment from the list of available kernels."
   ]
  },
  {
   "cell_type": "markdown",
   "metadata": {},
   "source": [
    "## Imports"
   ]
  },
  {
   "cell_type": "code",
   "execution_count": 38,
   "metadata": {},
   "outputs": [],
   "source": [
    "from os import path\n",
    "import pandas as pd\n",
    "import matplotlib.pyplot as plt\n",
    "from data_classes import HealthData\n",
    "import numpy as np\n",
    "import requests\n",
    "import pandas as pd\n",
    "from os import makedirs, path, listdir\n",
    "from tqdm import tqdm\n",
    "import zipfile as zpf\n",
    "import matplotlib.pyplot as plt\n",
    "import xlrd\n",
    "from openpyxl import load_workbook\n",
    "import wandb"
   ]
  },
  {
   "cell_type": "markdown",
   "metadata": {},
   "source": [
    "## Code"
   ]
  },
  {
   "cell_type": "markdown",
   "metadata": {},
   "source": [
    "### Daily mortality\n",
    "Daily mortality data at regional scale. Here we select for the Greater London region using region code E12000007."
   ]
  },
  {
   "cell_type": "code",
   "execution_count": 27,
   "metadata": {},
   "outputs": [],
   "source": [
    "region_code = \"E12000007\"\n",
    "start_year = 1981\n",
    "end_year = 2018"
   ]
  },
  {
   "cell_type": "code",
   "execution_count": 28,
   "metadata": {},
   "outputs": [],
   "source": [
    "urls = {}\n",
    "urls.update(dict.fromkeys(list(range(1981, 2014+1)), \"https://www.ons.gov.uk/file?uri=/peoplepopulationandcommunity/birthsdeathsandmarriages/deaths/adhocs/005459dailydeathoccurrencesenglandregionsofenglandandwales1970to2014/dailydeathoccurrences19702014.zip\"))\n",
    "urls.update(dict.fromkeys(list(range(2013, 2017+1)), \"https://www.ons.gov.uk/file?uri=/peoplepopulationandcommunity/birthsdeathsandmarriages/deaths/adhocs/009728dailydeathoccurrencesregionsofenglandandwales2013to2016/dailydeathoccurrences20132017.xls\"))\n",
    "urls.update(dict.fromkeys(list(range(2015, 2018+1)), \"https://www.ons.gov.uk/file?uri=/peoplepopulationandcommunity/birthsdeathsandmarriages/deaths/adhocs/11189dailydeathsenglishregionsandwales2015to2018occurrences/dailydeathsfinal.xlsx\"))"
   ]
  },
  {
   "cell_type": "code",
   "execution_count": 33,
   "metadata": {},
   "outputs": [],
   "source": [
    "mortality = HealthData()"
   ]
  },
  {
   "cell_type": "code",
   "execution_count": 25,
   "metadata": {},
   "outputs": [
    {
     "data": {
      "text/html": [
       "\n",
       "                Tracking run with wandb version 0.10.30<br/>\n",
       "                Syncing run <strong style=\"color:#cdcd00\">curious-bush-38</strong> to <a href=\"https://wandb.ai\" target=\"_blank\">Weights & Biases</a> <a href=\"https://docs.wandb.com/integrations/jupyter.html\" target=\"_blank\">(Documentation)</a>.<br/>\n",
       "                Project page: <a href=\"https://wandb.ai/michellewl/AQmortality\" target=\"_blank\">https://wandb.ai/michellewl/AQmortality</a><br/>\n",
       "                Run page: <a href=\"https://wandb.ai/michellewl/AQmortality/runs/2md48mvs\" target=\"_blank\">https://wandb.ai/michellewl/AQmortality/runs/2md48mvs</a><br/>\n",
       "                Run data is saved locally in <code>/home/users/mwlw3/AQmortality/wandb/run-20210517_144506-2md48mvs</code><br/><br/>\n",
       "            "
      ],
      "text/plain": [
       "<IPython.core.display.HTML object>"
      ]
     },
     "metadata": {},
     "output_type": "display_data"
    },
    {
     "data": {
      "text/html": [
       "<br/>Waiting for W&B process to finish, PID 292<br/>Program ended successfully."
      ],
      "text/plain": [
       "<IPython.core.display.HTML object>"
      ]
     },
     "metadata": {},
     "output_type": "display_data"
    },
    {
     "data": {
      "application/vnd.jupyter.widget-view+json": {
       "model_id": "7196708b96bd4cc5975c9ce3f2180da7",
       "version_major": 2,
       "version_minor": 0
      },
      "text/plain": [
       "VBox(children=(Label(value=' 0.00MB of 0.00MB uploaded (0.00MB deduped)\\r'), FloatProgress(value=1.0, max=1.0)…"
      ]
     },
     "metadata": {},
     "output_type": "display_data"
    },
    {
     "data": {
      "text/html": [
       "Find user logs for this run at: <code>/home/users/mwlw3/AQmortality/wandb/run-20210517_144506-2md48mvs/logs/debug.log</code>"
      ],
      "text/plain": [
       "<IPython.core.display.HTML object>"
      ]
     },
     "metadata": {},
     "output_type": "display_data"
    },
    {
     "data": {
      "text/html": [
       "Find internal logs for this run at: <code>/home/users/mwlw3/AQmortality/wandb/run-20210517_144506-2md48mvs/logs/debug-internal.log</code>"
      ],
      "text/plain": [
       "<IPython.core.display.HTML object>"
      ]
     },
     "metadata": {},
     "output_type": "display_data"
    },
    {
     "data": {
      "text/html": [
       "Synced 5 W&B file(s), 0 media file(s), 0 artifact file(s) and 0 other file(s)"
      ],
      "text/plain": [
       "<IPython.core.display.HTML object>"
      ]
     },
     "metadata": {},
     "output_type": "display_data"
    },
    {
     "data": {
      "text/html": [
       "\n",
       "                    <br/>Synced <strong style=\"color:#cdcd00\">curious-bush-38</strong>: <a href=\"https://wandb.ai/michellewl/AQmortality/runs/2md48mvs\" target=\"_blank\">https://wandb.ai/michellewl/AQmortality/runs/2md48mvs</a><br/>\n",
       "                "
      ],
      "text/plain": [
       "<IPython.core.display.HTML object>"
      ]
     },
     "metadata": {},
     "output_type": "display_data"
    }
   ],
   "source": [
    "mortality.download_and_log(region_code, start_year, end_year, urls)"
   ]
  },
  {
   "cell_type": "code",
   "execution_count": 34,
   "metadata": {},
   "outputs": [
    {
     "data": {
      "text/html": [
       "\n",
       "                Tracking run with wandb version 0.10.30<br/>\n",
       "                Syncing run <strong style=\"color:#cdcd00\">iconic-silence-40</strong> to <a href=\"https://wandb.ai\" target=\"_blank\">Weights & Biases</a> <a href=\"https://docs.wandb.com/integrations/jupyter.html\" target=\"_blank\">(Documentation)</a>.<br/>\n",
       "                Project page: <a href=\"https://wandb.ai/michellewl/AQmortality\" target=\"_blank\">https://wandb.ai/michellewl/AQmortality</a><br/>\n",
       "                Run page: <a href=\"https://wandb.ai/michellewl/AQmortality/runs/rg9pzomm\" target=\"_blank\">https://wandb.ai/michellewl/AQmortality/runs/rg9pzomm</a><br/>\n",
       "                Run data is saved locally in <code>/home/users/mwlw3/AQmortality/wandb/run-20210517_144858-rg9pzomm</code><br/><br/>\n",
       "            "
      ],
      "text/plain": [
       "<IPython.core.display.HTML object>"
      ]
     },
     "metadata": {},
     "output_type": "display_data"
    },
    {
     "data": {
      "text/html": [
       "<br/>Waiting for W&B process to finish, PID 436<br/>Program ended successfully."
      ],
      "text/plain": [
       "<IPython.core.display.HTML object>"
      ]
     },
     "metadata": {},
     "output_type": "display_data"
    },
    {
     "data": {
      "application/vnd.jupyter.widget-view+json": {
       "model_id": "56a664d4ab1e4bdbae4c9bd3a8735baa",
       "version_major": 2,
       "version_minor": 0
      },
      "text/plain": [
       "VBox(children=(Label(value=' 0.00MB of 0.00MB uploaded (0.00MB deduped)\\r'), FloatProgress(value=1.0, max=1.0)…"
      ]
     },
     "metadata": {},
     "output_type": "display_data"
    },
    {
     "data": {
      "text/html": [
       "Find user logs for this run at: <code>/home/users/mwlw3/AQmortality/wandb/run-20210517_144858-rg9pzomm/logs/debug.log</code>"
      ],
      "text/plain": [
       "<IPython.core.display.HTML object>"
      ]
     },
     "metadata": {},
     "output_type": "display_data"
    },
    {
     "data": {
      "text/html": [
       "Find internal logs for this run at: <code>/home/users/mwlw3/AQmortality/wandb/run-20210517_144858-rg9pzomm/logs/debug-internal.log</code>"
      ],
      "text/plain": [
       "<IPython.core.display.HTML object>"
      ]
     },
     "metadata": {},
     "output_type": "display_data"
    },
    {
     "data": {
      "text/html": [
       "Synced 5 W&B file(s), 0 media file(s), 0 artifact file(s) and 0 other file(s)"
      ],
      "text/plain": [
       "<IPython.core.display.HTML object>"
      ]
     },
     "metadata": {},
     "output_type": "display_data"
    },
    {
     "data": {
      "text/html": [
       "\n",
       "                    <br/>Synced <strong style=\"color:#cdcd00\">iconic-silence-40</strong>: <a href=\"https://wandb.ai/michellewl/AQmortality/runs/rg9pzomm\" target=\"_blank\">https://wandb.ai/michellewl/AQmortality/runs/rg9pzomm</a><br/>\n",
       "                "
      ],
      "text/plain": [
       "<IPython.core.display.HTML object>"
      ]
     },
     "metadata": {},
     "output_type": "display_data"
    }
   ],
   "source": [
    "daily_df = mortality.read()"
   ]
  },
  {
   "cell_type": "code",
   "execution_count": 35,
   "metadata": {},
   "outputs": [
    {
     "data": {
      "text/plain": [
       "(13879, 1)"
      ]
     },
     "execution_count": 35,
     "metadata": {},
     "output_type": "execute_result"
    }
   ],
   "source": [
    "daily_df.shape"
   ]
  },
  {
   "cell_type": "code",
   "execution_count": 36,
   "metadata": {},
   "outputs": [
    {
     "data": {
      "image/png": "[encoded data removed]",
      "text/plain": [
       "<Figure size 432x288 with 1 Axes>"
      ]
     },
     "metadata": {
      "needs_background": "light"
     },
     "output_type": "display_data"
    }
   ],
   "source": [
    "daily_df.plot(legend=False, title=\"London\").set_ylabel(\"daily deaths\")\n",
    "plt.show()"
   ]
  },
  {
   "cell_type": "markdown",
   "metadata": {},
   "source": [
    "### Population data"
   ]
  },
  {
   "cell_type": "code",
   "execution_count": 88,
   "metadata": {},
   "outputs": [],
   "source": [
    "# Move to data classes when finished\n",
    "\n",
    "class PopData():\n",
    "    def __init__(self):\n",
    "        self.tmp_folder = path.join(path.abspath(\"\"), \"tmp\")\n",
    "        \n",
    "        if not path.exists(self.tmp_folder):\n",
    "            makedirs(self.tmp_folder)\n",
    "\n",
    "    def download(self, url, verbose=False):\n",
    "        self.filename = path.basename(url)\n",
    "        _, self.extension = path.splitext(self.filename)\n",
    "        self.filepath = path.join(self.tmp_folder, self.filename)\n",
    "        \n",
    "        request = requests.get(url)\n",
    "        file = open(self.filepath, 'wb')\n",
    "        file.write(request.content)\n",
    "        file.close()\n",
    "        if verbose:\n",
    "            print(f\"Saved to {self.filename}\")\n",
    "        if self.extension == \".zip\":\n",
    "            self.zipfiles = zpf.ZipFile(self.filepath).namelist()\n",
    "            if verbose:\n",
    "                print(\"Contains zip files:\")\n",
    "                [print(f\"[{i}] {self.zipfiles[i]}\") for i in range(len(self.zipfiles))]\n",
    "        elif self.extension == \".xls\":\n",
    "            workbook = xlrd.open_workbook(self.filepath)\n",
    "            self.sheets = workbook.sheet_names()\n",
    "            if verbose:\n",
    "                print(f\"Contains xls sheets: {self.sheets}\")\n",
    "        elif self.extension == \".xlsx\":\n",
    "            workbook = load_workbook(self.filepath)\n",
    "            self.sheets = workbook.sheetnames\n",
    "            if verbose:\n",
    "                print(f\"Contains xlsx sheets: {self.sheets}\")\n",
    "                \n",
    "    def unzip(self, file=\"all\", verbose=False):\n",
    "        with zpf.ZipFile(self.filepath, 'r') as zip_ref:\n",
    "            if file ==\"all\":                                       # Extract all zipped files.\n",
    "                zip_ref.extractall(self.tmp_folder)\n",
    "            else:                                                  # Extract one specified file,\n",
    "                zip_ref.extract(file, self.tmp_folder)            # then\n",
    "                self.filename = path.basename(file)                # reset the file name, path and extension info.\n",
    "                _, self.extension = path.splitext(self.filename)\n",
    "                self.filepath = path.join(self.tmp_folder, self.filename)\n",
    "             \n",
    "            if verbose:\n",
    "                print(f\"Unzipped {file}.\")\n",
    "            if self.extension == \".xls\":\n",
    "                workbook = xlrd.open_workbook(self.filepath)\n",
    "                self.sheets = workbook.sheet_names()\n",
    "                if verbose:\n",
    "                    print(f\"Contains xls sheets: {self.sheets}\")\n",
    "            elif self.extension == \".xlsx\":\n",
    "                workbook = load_workbook(self.filepath)\n",
    "                self.sheets = workbook.sheetnames\n",
    "                if verbose:\n",
    "                    print(f\"Contains xlsx sheets: {self.sheets}\")\n",
    "        \n",
    "    def download_and_log(self, url, region_name):\n",
    "        with wandb.init(project=\"AQmortality\", job_type=\"load-data\") as run:\n",
    "            self.download(url)\n",
    "    \n",
    "            df = pd.DataFrame()\n",
    "\n",
    "            for sheet in [\"Table 3\", \"Table 4\"]:\n",
    "                tmp_df = self.read_xls(sheet, verbose=False)\n",
    "                tmp_df = tmp_df.loc[tmp_df[0].apply(lambda x: isinstance(x, int))].reset_index(drop=True)[[0]].rename(columns={0:\"date\"}).join(tmp_df.loc[tmp_df[1]==\"London\"].reset_index(drop=True)[[2]].rename(columns={2:\"population\"})).set_index(\"date\")\n",
    "                tmp_df.index = pd.to_datetime(tmp_df.index, format=\"%Y\") + pd.tseries.offsets.DateOffset(months=6) # Set these as mid-year estimates\n",
    "                if df.empty:\n",
    "                    df = tmp_df.copy()\n",
    "                else:\n",
    "                    df = df.append(tmp_df.copy())\n",
    "                    \n",
    "            columns = df.columns.to_list()\n",
    "\n",
    "            raw_data = wandb.Artifact(\n",
    "                \"population-raw\", type=\"dataset\",\n",
    "                description=f\"Raw annual population data for total {region_name} region. Data is extracted from source Excel file (not logged using Weights and Biases).\",\n",
    "                metadata={\"source\":url,\n",
    "                         \"shapes\":[df[column].shape for column in columns],\n",
    "                         \"columns\":columns})\n",
    "\n",
    "            for column in columns:\n",
    "                with raw_data.new_file(column + \".npz\", mode=\"wb\") as file:\n",
    "                        np.savez(file, x=df.index, y=df[column].values)\n",
    "\n",
    "            run.log_artifact(raw_data)\n",
    "        \n",
    "        [remove(path.join(self.tmp_folder, file)) for file in listdir(self.tmp_folder)]\n",
    "        \n",
    "    def read_csv(self, verbose=True, index_col=\"date\", parse_dates=True):\n",
    "        if verbose:\n",
    "            print(f\"Reading {self.filename}...\")\n",
    "        return pd.read_csv(self.filepath, index_col=index_col, parse_dates=parse_dates)\n",
    "    \n",
    "    def read_xls(self, sheet_name, verbose=False):\n",
    "        if verbose:\n",
    "            print(f\"Reading {self.filename}...\")\n",
    "        if self.extension == \".xls\":\n",
    "            return pd.read_excel(self.filepath, sheet_name)\n",
    "        elif self.extension == \".xlsx\":\n",
    "            workbook = load_workbook(self.filepath)\n",
    "            worksheet = workbook[sheet_name]\n",
    "            return pd.DataFrame(worksheet.values)\n",
    "        \n",
    "    def read(self):\n",
    "        with wandb.init(project=\"AQmortality\", job_type=\"read-data\") as run:\n",
    "            raw_data_artifact = run.use_artifact('population-raw:latest')\n",
    "            data_folder = raw_data_artifact.download()\n",
    "            filepath = path.join(data_folder, f\"population.npz\")\n",
    "            data = np.load(filepath, allow_pickle=True)\n",
    "            df = pd.DataFrame(index=pd.DatetimeIndex(data[\"x\"]), data=data[\"y\"], columns=[\"population\"])\n",
    "        return df\n",
    "    \n",
    "    def resample_time_and_log(self, key, method):\n",
    "        with wandb.init(project=\"AQmortality\", job_type=\"resample-data\") as run:\n",
    "            raw_data_artifact = run.use_artifact('population-raw:latest')\n",
    "            data_folder = raw_data_artifact.download()\n",
    "            filepath = path.join(data_folder, f\"population.npz\")\n",
    "            data = np.load(filepath, allow_pickle=True)\n",
    "            df = pd.DataFrame(index=pd.DatetimeIndex(data[\"x\"]), data=data[\"y\"].astype(int), columns=[\"population\"])\n",
    "            \n",
    "            resampled_df = df.resample(key).asfreq().interpolate(method=method)\n",
    "            columns = resampled_df.columns.to_list()\n",
    "            resample_data = wandb.Artifact(\n",
    "                \"population-resample\", type=\"dataset\",\n",
    "                description=f\"Resampled population data to daily resolution by {method} interpolation.\",\n",
    "                metadata={\"shapes\":[resampled_df[column].shape for column in columns],\n",
    "                         \"columns\":columns,\n",
    "                        \"key\":key,\n",
    "                         \"method\":method})\n",
    "            for column in columns:\n",
    "                with resample_data.new_file(column + \".npz\", mode=\"wb\") as file:\n",
    "                        np.savez(file, x=df.index, y=resampled_df[column].values)\n",
    "\n",
    "            run.log_artifact(resample_data)\n",
    "        \n",
    "        return resampled_df  "
   ]
  },
  {
   "cell_type": "markdown",
   "metadata": {},
   "source": [
    "#### Download & process the population data"
   ]
  },
  {
   "cell_type": "code",
   "execution_count": 89,
   "metadata": {},
   "outputs": [],
   "source": [
    "url = \"https://www.ons.gov.uk/file?uri=/peoplepopulationandcommunity/populationandmigration/populationestimates/datasets/populationestimatesforukenglandandwalesscotlandandnorthernireland/mid2001tomid2019detailedtimeseries/regionalpopestimatesforenglandandwales19712019.xlsx\"\n",
    "region_name = \"London\"\n",
    "pop_data = PopData()"
   ]
  },
  {
   "cell_type": "code",
   "execution_count": 60,
   "metadata": {},
   "outputs": [
    {
     "data": {
      "text/html": [
       "\n",
       "                Tracking run with wandb version 0.10.30<br/>\n",
       "                Syncing run <strong style=\"color:#cdcd00\">ethereal-water-49</strong> to <a href=\"https://wandb.ai\" target=\"_blank\">Weights & Biases</a> <a href=\"https://docs.wandb.com/integrations/jupyter.html\" target=\"_blank\">(Documentation)</a>.<br/>\n",
       "                Project page: <a href=\"https://wandb.ai/michellewl/AQmortality\" target=\"_blank\">https://wandb.ai/michellewl/AQmortality</a><br/>\n",
       "                Run page: <a href=\"https://wandb.ai/michellewl/AQmortality/runs/149kx1tr\" target=\"_blank\">https://wandb.ai/michellewl/AQmortality/runs/149kx1tr</a><br/>\n",
       "                Run data is saved locally in <code>/home/users/mwlw3/AQmortality/wandb/run-20210517_162230-149kx1tr</code><br/><br/>\n",
       "            "
      ],
      "text/plain": [
       "<IPython.core.display.HTML object>"
      ]
     },
     "metadata": {},
     "output_type": "display_data"
    },
    {
     "data": {
      "text/html": [
       "<br/>Waiting for W&B process to finish, PID 1033<br/>Program ended successfully."
      ],
      "text/plain": [
       "<IPython.core.display.HTML object>"
      ]
     },
     "metadata": {},
     "output_type": "display_data"
    },
    {
     "data": {
      "application/vnd.jupyter.widget-view+json": {
       "model_id": "bf93bf340184437e9bc95feabc69a46f",
       "version_major": 2,
       "version_minor": 0
      },
      "text/plain": [
       "VBox(children=(Label(value=' 0.00MB of 0.00MB uploaded (0.00MB deduped)\\r'), FloatProgress(value=1.0, max=1.0)…"
      ]
     },
     "metadata": {},
     "output_type": "display_data"
    },
    {
     "data": {
      "text/html": [
       "Find user logs for this run at: <code>/home/users/mwlw3/AQmortality/wandb/run-20210517_162230-149kx1tr/logs/debug.log</code>"
      ],
      "text/plain": [
       "<IPython.core.display.HTML object>"
      ]
     },
     "metadata": {},
     "output_type": "display_data"
    },
    {
     "data": {
      "text/html": [
       "Find internal logs for this run at: <code>/home/users/mwlw3/AQmortality/wandb/run-20210517_162230-149kx1tr/logs/debug-internal.log</code>"
      ],
      "text/plain": [
       "<IPython.core.display.HTML object>"
      ]
     },
     "metadata": {},
     "output_type": "display_data"
    },
    {
     "data": {
      "text/html": [
       "Synced 5 W&B file(s), 0 media file(s), 1 artifact file(s) and 0 other file(s)"
      ],
      "text/plain": [
       "<IPython.core.display.HTML object>"
      ]
     },
     "metadata": {},
     "output_type": "display_data"
    },
    {
     "data": {
      "text/html": [
       "\n",
       "                    <br/>Synced <strong style=\"color:#cdcd00\">ethereal-water-49</strong>: <a href=\"https://wandb.ai/michellewl/AQmortality/runs/149kx1tr\" target=\"_blank\">https://wandb.ai/michellewl/AQmortality/runs/149kx1tr</a><br/>\n",
       "                "
      ],
      "text/plain": [
       "<IPython.core.display.HTML object>"
      ]
     },
     "metadata": {},
     "output_type": "display_data"
    }
   ],
   "source": [
    "pop_data.download_and_log(url, region_name)"
   ]
  },
  {
   "cell_type": "markdown",
   "metadata": {},
   "source": [
    "#### Load the data"
   ]
  },
  {
   "cell_type": "code",
   "execution_count": 73,
   "metadata": {},
   "outputs": [
    {
     "data": {
      "text/html": [
       "\n",
       "                Tracking run with wandb version 0.10.30<br/>\n",
       "                Syncing run <strong style=\"color:#cdcd00\">eternal-energy-54</strong> to <a href=\"https://wandb.ai\" target=\"_blank\">Weights & Biases</a> <a href=\"https://docs.wandb.com/integrations/jupyter.html\" target=\"_blank\">(Documentation)</a>.<br/>\n",
       "                Project page: <a href=\"https://wandb.ai/michellewl/AQmortality\" target=\"_blank\">https://wandb.ai/michellewl/AQmortality</a><br/>\n",
       "                Run page: <a href=\"https://wandb.ai/michellewl/AQmortality/runs/3cu5kinq\" target=\"_blank\">https://wandb.ai/michellewl/AQmortality/runs/3cu5kinq</a><br/>\n",
       "                Run data is saved locally in <code>/home/users/mwlw3/AQmortality/wandb/run-20210517_162820-3cu5kinq</code><br/><br/>\n",
       "            "
      ],
      "text/plain": [
       "<IPython.core.display.HTML object>"
      ]
     },
     "metadata": {},
     "output_type": "display_data"
    },
    {
     "data": {
      "text/html": [
       "<br/>Waiting for W&B process to finish, PID 1448<br/>Program ended successfully."
      ],
      "text/plain": [
       "<IPython.core.display.HTML object>"
      ]
     },
     "metadata": {},
     "output_type": "display_data"
    },
    {
     "data": {
      "application/vnd.jupyter.widget-view+json": {
       "model_id": "8affc8f0c1fe47af87357d9ae523ce00",
       "version_major": 2,
       "version_minor": 0
      },
      "text/plain": [
       "VBox(children=(Label(value=' 0.00MB of 0.00MB uploaded (0.00MB deduped)\\r'), FloatProgress(value=1.0, max=1.0)…"
      ]
     },
     "metadata": {},
     "output_type": "display_data"
    },
    {
     "data": {
      "text/html": [
       "Find user logs for this run at: <code>/home/users/mwlw3/AQmortality/wandb/run-20210517_162820-3cu5kinq/logs/debug.log</code>"
      ],
      "text/plain": [
       "<IPython.core.display.HTML object>"
      ]
     },
     "metadata": {},
     "output_type": "display_data"
    },
    {
     "data": {
      "text/html": [
       "Find internal logs for this run at: <code>/home/users/mwlw3/AQmortality/wandb/run-20210517_162820-3cu5kinq/logs/debug-internal.log</code>"
      ],
      "text/plain": [
       "<IPython.core.display.HTML object>"
      ]
     },
     "metadata": {},
     "output_type": "display_data"
    },
    {
     "data": {
      "text/html": [
       "Synced 5 W&B file(s), 0 media file(s), 0 artifact file(s) and 0 other file(s)"
      ],
      "text/plain": [
       "<IPython.core.display.HTML object>"
      ]
     },
     "metadata": {},
     "output_type": "display_data"
    },
    {
     "data": {
      "text/html": [
       "\n",
       "                    <br/>Synced <strong style=\"color:#cdcd00\">eternal-energy-54</strong>: <a href=\"https://wandb.ai/michellewl/AQmortality/runs/3cu5kinq\" target=\"_blank\">https://wandb.ai/michellewl/AQmortality/runs/3cu5kinq</a><br/>\n",
       "                "
      ],
      "text/plain": [
       "<IPython.core.display.HTML object>"
      ]
     },
     "metadata": {},
     "output_type": "display_data"
    },
    {
     "data": {
      "text/plain": [
       "(39, 1)"
      ]
     },
     "execution_count": 73,
     "metadata": {},
     "output_type": "execute_result"
    }
   ],
   "source": [
    "population_df = pop_data.read()\n",
    "population_df.shape"
   ]
  },
  {
   "cell_type": "markdown",
   "metadata": {},
   "source": [
    "#### Plot the dataframe"
   ]
  },
  {
   "cell_type": "code",
   "execution_count": 62,
   "metadata": {},
   "outputs": [
    {
     "data": {
      "image/png": "[encoded data removed]",
      "text/plain": [
       "<Figure size 432x288 with 1 Axes>"
      ]
     },
     "metadata": {
      "needs_background": "light"
     },
     "output_type": "display_data"
    }
   ],
   "source": [
    "population_df.plot(legend=False, title=\"London\").set_ylabel(\"annual population\")\n",
    "plt.show()"
   ]
  },
  {
   "cell_type": "markdown",
   "metadata": {},
   "source": [
    "#### Linear interpolation of annual data"
   ]
  },
  {
   "cell_type": "code",
   "execution_count": 90,
   "metadata": {},
   "outputs": [],
   "source": [
    "key = \"D\"\n",
    "method = \"linear\""
   ]
  },
  {
   "cell_type": "code",
   "execution_count": 91,
   "metadata": {},
   "outputs": [
    {
     "data": {
      "text/html": [
       "\n",
       "                Tracking run with wandb version 0.10.30<br/>\n",
       "                Syncing run <strong style=\"color:#cdcd00\">stoic-wildflower-56</strong> to <a href=\"https://wandb.ai\" target=\"_blank\">Weights & Biases</a> <a href=\"https://docs.wandb.com/integrations/jupyter.html\" target=\"_blank\">(Documentation)</a>.<br/>\n",
       "                Project page: <a href=\"https://wandb.ai/michellewl/AQmortality\" target=\"_blank\">https://wandb.ai/michellewl/AQmortality</a><br/>\n",
       "                Run page: <a href=\"https://wandb.ai/michellewl/AQmortality/runs/2ftb6dvz\" target=\"_blank\">https://wandb.ai/michellewl/AQmortality/runs/2ftb6dvz</a><br/>\n",
       "                Run data is saved locally in <code>/home/users/mwlw3/AQmortality/wandb/run-20210517_163326-2ftb6dvz</code><br/><br/>\n",
       "            "
      ],
      "text/plain": [
       "<IPython.core.display.HTML object>"
      ]
     },
     "metadata": {},
     "output_type": "display_data"
    },
    {
     "data": {
      "text/html": [
       "<br/>Waiting for W&B process to finish, PID 1627<br/>Program ended successfully."
      ],
      "text/plain": [
       "<IPython.core.display.HTML object>"
      ]
     },
     "metadata": {},
     "output_type": "display_data"
    },
    {
     "data": {
      "application/vnd.jupyter.widget-view+json": {
       "model_id": "10a03bbcb56a47798cf5e2c3adbc46d2",
       "version_major": 2,
       "version_minor": 0
      },
      "text/plain": [
       "VBox(children=(Label(value=' 0.11MB of 0.11MB uploaded (0.00MB deduped)\\r'), FloatProgress(value=1.0, max=1.0)…"
      ]
     },
     "metadata": {},
     "output_type": "display_data"
    },
    {
     "data": {
      "text/html": [
       "Find user logs for this run at: <code>/home/users/mwlw3/AQmortality/wandb/run-20210517_163326-2ftb6dvz/logs/debug.log</code>"
      ],
      "text/plain": [
       "<IPython.core.display.HTML object>"
      ]
     },
     "metadata": {},
     "output_type": "display_data"
    },
    {
     "data": {
      "text/html": [
       "Find internal logs for this run at: <code>/home/users/mwlw3/AQmortality/wandb/run-20210517_163326-2ftb6dvz/logs/debug-internal.log</code>"
      ],
      "text/plain": [
       "<IPython.core.display.HTML object>"
      ]
     },
     "metadata": {},
     "output_type": "display_data"
    },
    {
     "data": {
      "text/html": [
       "Synced 5 W&B file(s), 0 media file(s), 1 artifact file(s) and 0 other file(s)"
      ],
      "text/plain": [
       "<IPython.core.display.HTML object>"
      ]
     },
     "metadata": {},
     "output_type": "display_data"
    },
    {
     "data": {
      "text/html": [
       "\n",
       "                    <br/>Synced <strong style=\"color:#cdcd00\">stoic-wildflower-56</strong>: <a href=\"https://wandb.ai/michellewl/AQmortality/runs/2ftb6dvz\" target=\"_blank\">https://wandb.ai/michellewl/AQmortality/runs/2ftb6dvz</a><br/>\n",
       "                "
      ],
      "text/plain": [
       "<IPython.core.display.HTML object>"
      ]
     },
     "metadata": {},
     "output_type": "display_data"
    }
   ],
   "source": [
    "linear_df = pop_data.resample_time_and_log(key, method)"
   ]
  },
  {
   "cell_type": "code",
   "execution_count": 92,
   "metadata": {},
   "outputs": [
    {
     "data": {
      "text/plain": [
       "(13880, 1)"
      ]
     },
     "execution_count": 92,
     "metadata": {},
     "output_type": "execute_result"
    }
   ],
   "source": [
    "linear_df.shape"
   ]
  },
  {
   "cell_type": "markdown",
   "metadata": {},
   "source": [
    "### Calculating deaths as a fraction of population"
   ]
  },
  {
   "cell_type": "markdown",
   "metadata": {},
   "source": [
    "Daily deaths"
   ]
  },
  {
   "cell_type": "code",
   "execution_count": 19,
   "metadata": {},
   "outputs": [
    {
     "data": {
      "image/png": "[encoded data removed]",
      "text/plain": [
       "<Figure size 432x288 with 1 Axes>"
      ]
     },
     "metadata": {
      "needs_background": "light"
     },
     "output_type": "display_data"
    }
   ],
   "source": [
    "df = linear_df.join(daily_df).dropna()\n",
    "df[\"deaths_per_capita\"] = df[\"deaths\"]/df[\"total_population\"]\n",
    "df[\"deaths_per_capita\"].plot(legend=False, title=\"London daily deaths\").set_ylabel(\"mortality per capita\")\n",
    "plt.show()"
   ]
  },
  {
   "cell_type": "code",
   "execution_count": 20,
   "metadata": {},
   "outputs": [],
   "source": [
    "df.to_csv(path.join(path.join(path.abspath(\"\"), \"mortality_data/daily\"), \"daily_mortality_percapita_London.csv\"))"
   ]
  },
  {
   "cell_type": "code",
   "execution_count": 21,
   "metadata": {},
   "outputs": [
    {
     "data": {
      "text/plain": [
       "(13698, 3)"
      ]
     },
     "execution_count": 21,
     "metadata": {},
     "output_type": "execute_result"
    }
   ],
   "source": [
    "df.shape"
   ]
  },
  {
   "cell_type": "code",
   "execution_count": null,
   "metadata": {},
   "outputs": [],
   "source": []
  }
 ],
 "metadata": {
  "kernelspec": {
   "display_name": "AQmort",
   "language": "python",
   "name": "aqmort"
  },
  "language_info": {
   "codemirror_mode": {
    "name": "ipython",
    "version": 3
   },
   "file_extension": ".py",
   "mimetype": "text/x-python",
   "name": "python",
   "nbconvert_exporter": "python",
   "pygments_lexer": "ipython3",
   "version": "3.9.4"
  }
 },
 "nbformat": 4,
 "nbformat_minor": 4
}
