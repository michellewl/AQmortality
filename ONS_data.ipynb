{
 "cells": [
  {
   "cell_type": "markdown",
   "metadata": {},
   "source": [
    "## conda environments"
   ]
  },
  {
   "cell_type": "markdown",
   "metadata": {},
   "source": [
    "When accessing this notebook via the JASMIN Jupyter Notebook service, select the correct conda environment from the list of available kernels."
   ]
  },
  {
   "cell_type": "markdown",
   "metadata": {},
   "source": [
    "## Imports"
   ]
  },
  {
   "cell_type": "code",
   "execution_count": 1,
   "metadata": {},
   "outputs": [],
   "source": [
    "from os import path\n",
    "import pandas as pd\n",
    "import matplotlib.pyplot as plt\n",
    "from data_classes import HealthData\n",
    "from ONS_Excel import weekly_urls, weekly_sheet_names, weekly_row_indices"
   ]
  },
  {
   "cell_type": "markdown",
   "metadata": {},
   "source": [
    "## Code"
   ]
  },
  {
   "cell_type": "markdown",
   "metadata": {},
   "source": [
    "### Weekly mortality\n",
    "Weekly data across England & Wales; by age, sex, region. Processed to look specifically at London region (all ages, all sexes)."
   ]
  },
  {
   "cell_type": "code",
   "execution_count": null,
   "metadata": {},
   "outputs": [],
   "source": [
    "home_folder = path.join(path.abspath(\"\"), \"mortality_data\")"
   ]
  },
  {
   "cell_type": "markdown",
   "metadata": {},
   "source": [
    "#### Download & process the mortality data"
   ]
  },
  {
   "cell_type": "markdown",
   "metadata": {},
   "source": [
    "Perks of using Excel files from the Office for National Statistics..."
   ]
  },
  {
   "cell_type": "code",
   "execution_count": null,
   "metadata": {},
   "outputs": [],
   "source": [
    "urls = weekly_urls\n",
    "sheet_names = weekly_sheet_names\n",
    "row_indices = weekly_row_indices"
   ]
  },
  {
   "cell_type": "code",
   "execution_count": null,
   "metadata": {},
   "outputs": [],
   "source": [
    "mortality_df = pd.DataFrame()\n",
    "\n",
    "for year in range(2010, 2022):\n",
    "    mortality_annual = HealthData(home_folder, url=urls[year])\n",
    "    mortality_annual.download(verbose=False)\n",
    "    df = mortality_annual.read_xls(sheet_names[year], verbose=False)\n",
    "    rows = row_indices[year]\n",
    "    annual_df = df.loc[rows]\n",
    "    annual_df = annual_df.T.dropna().rename(columns={rows[0]:\"date\", rows[1]:\"weekly_deaths\"}).reset_index(drop=True).drop([0]).set_index(\"date\")\n",
    "    annual_df.index = pd.to_datetime(annual_df.index)\n",
    "    if mortality_df.empty:\n",
    "        mortality_df = annual_df.copy()\n",
    "    else:\n",
    "        mortality_df = mortality_df.append(annual_df.copy())\n",
    "    print(f\"{year} done...\")\n",
    "    \n",
    "mortality_df.to_csv(path.join(home_folder, \"weekly_mortality_London.csv\"))"
   ]
  },
  {
   "cell_type": "markdown",
   "metadata": {},
   "source": [
    "#### Load the processed data from .csv file"
   ]
  },
  {
   "cell_type": "code",
   "execution_count": null,
   "metadata": {},
   "outputs": [],
   "source": [
    "mortality_annual = HealthData(home_folder, filename=\"weekly_mortality_London.csv\")\n",
    "mortality_df = mortality_annual.read_csv()\n",
    "mortality_df.sample(5)"
   ]
  },
  {
   "cell_type": "markdown",
   "metadata": {},
   "source": [
    "#### Plot the dataframe"
   ]
  },
  {
   "cell_type": "code",
   "execution_count": null,
   "metadata": {},
   "outputs": [],
   "source": [
    "mortality_df.plot(legend=False, title=\"London\").set_ylabel(\"weekly deaths\")\n",
    "plt.show()"
   ]
  },
  {
   "cell_type": "markdown",
   "metadata": {},
   "source": [
    "### Daily mortality"
   ]
  },
  {
   "cell_type": "code",
   "execution_count": 2,
   "metadata": {},
   "outputs": [],
   "source": [
    "home_folder = path.join(path.abspath(\"\"), \"mortality_data/daily\")\n",
    "# 1980 - 2014\n",
    "url = \"https://www.ons.gov.uk/file?uri=/peoplepopulationandcommunity/birthsdeathsandmarriages/deaths/adhocs/005459dailydeathoccurrencesenglandregionsofenglandandwales1970to2014/dailydeathoccurrences19702014.zip\""
   ]
  },
  {
   "cell_type": "code",
   "execution_count": 3,
   "metadata": {},
   "outputs": [],
   "source": [
    "mortality = HealthData(home_folder, url)"
   ]
  },
  {
   "cell_type": "code",
   "execution_count": 4,
   "metadata": {},
   "outputs": [
    {
     "name": "stdout",
     "output_type": "stream",
     "text": [
      "Saved to dailydeathoccurrences19702014.zip\n",
      "Contains zip files:\n",
      "[0] Daily death occurrences, 1970-2014.xlsx\n"
     ]
    }
   ],
   "source": [
    "mortality.download()"
   ]
  },
  {
   "cell_type": "code",
   "execution_count": 5,
   "metadata": {},
   "outputs": [
    {
     "name": "stdout",
     "output_type": "stream",
     "text": [
      "Unzipped Daily death occurrences, 1970-2014.xlsx.\n",
      "Contains xlsx sheets: ['Notes and Terms & Conditions', 'National daily deaths', 'Regional daily deaths']\n"
     ]
    }
   ],
   "source": [
    "mortality.unzip(\"Daily death occurrences, 1970-2014.xlsx\")"
   ]
  },
  {
   "cell_type": "code",
   "execution_count": 6,
   "metadata": {},
   "outputs": [
    {
     "name": "stdout",
     "output_type": "stream",
     "text": [
      "Reading Daily death occurrences, 1970-2014.xlsx...\n"
     ]
    }
   ],
   "source": [
    "daily_1980_df = mortality.read_xls(\"Regional daily deaths\")"
   ]
  },
  {
   "cell_type": "code",
   "execution_count": 23,
   "metadata": {},
   "outputs": [],
   "source": [
    "daily_1980_df = daily_1980_df.loc[daily_1980_df[3] == \"E12000007\", [0, 1, 2, 3, 4]]"
   ]
  },
  {
   "cell_type": "code",
   "execution_count": 24,
   "metadata": {},
   "outputs": [],
   "source": [
    "daily_1980_df.columns = [\"year\", \"month\", \"day\", \"region_code\", \"deaths\"]"
   ]
  },
  {
   "cell_type": "code",
   "execution_count": 25,
   "metadata": {},
   "outputs": [],
   "source": [
    "daily_1980_df[\"date\"] = pd.to_datetime(daily_1980_df[[\"year\", \"month\", \"day\"]])"
   ]
  },
  {
   "cell_type": "code",
   "execution_count": 34,
   "metadata": {},
   "outputs": [
    {
     "data": {
      "text/plain": [
       "13        245\n",
       "23        214\n",
       "33        256\n",
       "43        235\n",
       "53        260\n",
       "         ... \n",
       "124143    171\n",
       "124153    194\n",
       "124163    210\n",
       "124173    202\n",
       "124183    200\n",
       "Name: deaths, Length: 12418, dtype: object"
      ]
     },
     "execution_count": 34,
     "metadata": {},
     "output_type": "execute_result"
    }
   ],
   "source": [
    "daily_1980_df[\"deaths\"]"
   ]
  },
  {
   "cell_type": "code",
   "execution_count": 39,
   "metadata": {},
   "outputs": [],
   "source": [
    "daily_df = daily_1980_df[[\"date\", \"deaths\"]].copy().set_index(\"date\")"
   ]
  },
  {
   "cell_type": "code",
   "execution_count": 40,
   "metadata": {},
   "outputs": [
    {
     "data": {
      "text/html": [
       "<div>\n",
       "<style scoped>\n",
       "    .dataframe tbody tr th:only-of-type {\n",
       "        vertical-align: middle;\n",
       "    }\n",
       "\n",
       "    .dataframe tbody tr th {\n",
       "        vertical-align: top;\n",
       "    }\n",
       "\n",
       "    .dataframe thead th {\n",
       "        text-align: right;\n",
       "    }\n",
       "</style>\n",
       "<table border=\"1\" class=\"dataframe\">\n",
       "  <thead>\n",
       "    <tr style=\"text-align: right;\">\n",
       "      <th></th>\n",
       "      <th>deaths</th>\n",
       "    </tr>\n",
       "    <tr>\n",
       "      <th>date</th>\n",
       "      <th></th>\n",
       "    </tr>\n",
       "  </thead>\n",
       "  <tbody>\n",
       "    <tr>\n",
       "      <th>1981-01-01</th>\n",
       "      <td>245</td>\n",
       "    </tr>\n",
       "    <tr>\n",
       "      <th>1981-01-02</th>\n",
       "      <td>214</td>\n",
       "    </tr>\n",
       "    <tr>\n",
       "      <th>1981-01-03</th>\n",
       "      <td>256</td>\n",
       "    </tr>\n",
       "    <tr>\n",
       "      <th>1981-01-04</th>\n",
       "      <td>235</td>\n",
       "    </tr>\n",
       "    <tr>\n",
       "      <th>1981-01-05</th>\n",
       "      <td>260</td>\n",
       "    </tr>\n",
       "    <tr>\n",
       "      <th>...</th>\n",
       "      <td>...</td>\n",
       "    </tr>\n",
       "    <tr>\n",
       "      <th>2014-12-27</th>\n",
       "      <td>171</td>\n",
       "    </tr>\n",
       "    <tr>\n",
       "      <th>2014-12-28</th>\n",
       "      <td>194</td>\n",
       "    </tr>\n",
       "    <tr>\n",
       "      <th>2014-12-29</th>\n",
       "      <td>210</td>\n",
       "    </tr>\n",
       "    <tr>\n",
       "      <th>2014-12-30</th>\n",
       "      <td>202</td>\n",
       "    </tr>\n",
       "    <tr>\n",
       "      <th>2014-12-31</th>\n",
       "      <td>200</td>\n",
       "    </tr>\n",
       "  </tbody>\n",
       "</table>\n",
       "<p>12418 rows × 1 columns</p>\n",
       "</div>"
      ],
      "text/plain": [
       "           deaths\n",
       "date             \n",
       "1981-01-01    245\n",
       "1981-01-02    214\n",
       "1981-01-03    256\n",
       "1981-01-04    235\n",
       "1981-01-05    260\n",
       "...           ...\n",
       "2014-12-27    171\n",
       "2014-12-28    194\n",
       "2014-12-29    210\n",
       "2014-12-30    202\n",
       "2014-12-31    200\n",
       "\n",
       "[12418 rows x 1 columns]"
      ]
     },
     "execution_count": 40,
     "metadata": {},
     "output_type": "execute_result"
    }
   ],
   "source": [
    "daily_df"
   ]
  },
  {
   "cell_type": "markdown",
   "metadata": {},
   "source": [
    "### Population data"
   ]
  },
  {
   "cell_type": "code",
   "execution_count": null,
   "metadata": {},
   "outputs": [],
   "source": [
    "home_folder = path.join(path.abspath(\"\"), \"population_data\")"
   ]
  },
  {
   "cell_type": "markdown",
   "metadata": {},
   "source": [
    "#### Download & process the population data"
   ]
  },
  {
   "cell_type": "code",
   "execution_count": null,
   "metadata": {},
   "outputs": [],
   "source": [
    "url = \"https://www.ons.gov.uk/file?uri=/peoplepopulationandcommunity/populationandmigration/populationestimates/datasets/populationestimatesforukenglandandwalesscotlandandnorthernireland/mid2001tomid2019detailedtimeseries/regionalpopestimatesforenglandandwales19712019.xlsx\"\n",
    "pop_data = HealthData(home_folder, url=url)\n",
    "pop_data.download()"
   ]
  },
  {
   "cell_type": "code",
   "execution_count": null,
   "metadata": {},
   "outputs": [],
   "source": [
    "population_df = pd.DataFrame()\n",
    "\n",
    "for sheet in [\"Table 3\", \"Table 4\"]:\n",
    "    df = pop_data.read_xls(sheet, verbose=False)\n",
    "    df = df.loc[df[0].apply(lambda x: isinstance(x, int))].reset_index(drop=True)[[0]].rename(columns={0:\"date\"}).join(df.loc[df[1]==\"London\"].reset_index(drop=True)[[2]].rename(columns={2:\"total_population\"})).set_index(\"date\")\n",
    "    df.index = pd.to_datetime(df.index, format=\"%Y\") + pd.tseries.offsets.DateOffset(months=6) # Set these as mid-year estimates\n",
    "    if population_df.empty:\n",
    "        population_df = df.copy()\n",
    "    else:\n",
    "        population_df = population_df.append(df.copy())\n",
    "        \n",
    "population_df.to_csv(path.join(home_folder, \"annual_population_London.csv\"))"
   ]
  },
  {
   "cell_type": "markdown",
   "metadata": {},
   "source": [
    "#### Load the processed data from .csv file"
   ]
  },
  {
   "cell_type": "code",
   "execution_count": null,
   "metadata": {},
   "outputs": [],
   "source": [
    "pop_data = HealthData(home_folder, filename=\"annual_population_London.csv\")\n",
    "population_df = pop_data.read_csv(index_col=\"date\")\n",
    "population_df.sample(3)"
   ]
  },
  {
   "cell_type": "markdown",
   "metadata": {},
   "source": [
    "#### Plot the dataframe"
   ]
  },
  {
   "cell_type": "code",
   "execution_count": null,
   "metadata": {},
   "outputs": [],
   "source": [
    "population_df.plot(legend=False, title=\"London\").set_ylabel(\"annual population\")\n",
    "plt.show()"
   ]
  },
  {
   "cell_type": "markdown",
   "metadata": {},
   "source": [
    "#### Interpolation of annual data"
   ]
  },
  {
   "cell_type": "code",
   "execution_count": null,
   "metadata": {},
   "outputs": [],
   "source": [
    "step_df = population_df.resample(\"D\").asfreq().fillna(method=\"ffill\")\n",
    "linear_df = population_df.resample(\"D\").asfreq().interpolate(method=\"linear\")"
   ]
  },
  {
   "cell_type": "code",
   "execution_count": null,
   "metadata": {},
   "outputs": [],
   "source": [
    "step_df.plot(legend=False, title=\"London annual population (mid-year step change)\").set_ylabel(\"population\")\n",
    "linear_df.plot(legend=False, title=\"London daily population (interpolation)\").set_ylabel(\"population\")\n",
    "plt.show()"
   ]
  },
  {
   "cell_type": "markdown",
   "metadata": {},
   "source": [
    "### Calculating deaths as a fraction of population"
   ]
  },
  {
   "cell_type": "code",
   "execution_count": null,
   "metadata": {},
   "outputs": [],
   "source": [
    "df = linear_df.join(mortality_df).dropna()\n",
    "df[\"deaths_per_capita\"] = df[\"weekly_deaths\"]/df[\"total_population\"]\n",
    "df[\"deaths_per_capita\"].plot(legend=False, title=\"London weekly deaths\").set_ylabel(\"mortality per capita\")\n",
    "plt.show()"
   ]
  },
  {
   "cell_type": "code",
   "execution_count": null,
   "metadata": {},
   "outputs": [],
   "source": [
    "df.to_csv(path.join(path.join(path.abspath(\"\"), \"mortality_data\"), \"weekly_mortality_percapita_London.csv\"))"
   ]
  },
  {
   "cell_type": "code",
   "execution_count": null,
   "metadata": {},
   "outputs": [],
   "source": []
  }
 ],
 "metadata": {
  "kernelspec": {
   "display_name": "AQmort",
   "language": "python",
   "name": "aqmort"
  },
  "language_info": {
   "codemirror_mode": {
    "name": "ipython",
    "version": 3
   },
   "file_extension": ".py",
   "mimetype": "text/x-python",
   "name": "python",
   "nbconvert_exporter": "python",
   "pygments_lexer": "ipython3",
   "version": "3.9.2"
  }
 },
 "nbformat": 4,
 "nbformat_minor": 4
}
