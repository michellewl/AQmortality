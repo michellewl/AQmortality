{
 "cells": [
  {
   "cell_type": "markdown",
   "metadata": {},
   "source": [
    "## conda environments"
   ]
  },
  {
   "cell_type": "markdown",
   "metadata": {},
   "source": [
    "When accessing this notebook via the JASMIN Jupyter Notebook service, select the correct conda environment from the list of available kernels."
   ]
  },
  {
   "cell_type": "markdown",
   "metadata": {},
   "source": [
    "## Imports"
   ]
  },
  {
   "cell_type": "code",
   "execution_count": 1,
   "metadata": {},
   "outputs": [],
   "source": [
    "from os import path\n",
    "import pandas as pd\n",
    "import matplotlib.pyplot as plt\n",
    "from data_classes import HealthData\n",
    "from ONS_Excel import weekly_urls, weekly_sheet_names, weekly_row_indices"
   ]
  },
  {
   "cell_type": "markdown",
   "metadata": {},
   "source": [
    "## Code"
   ]
  },
  {
   "cell_type": "markdown",
   "metadata": {},
   "source": [
    "### Weekly mortality\n",
    "Weekly data across England & Wales; by age, sex, region. Processed to look specifically at London region (all ages, all sexes)."
   ]
  },
  {
   "cell_type": "code",
   "execution_count": null,
   "metadata": {},
   "outputs": [],
   "source": [
    "home_folder = path.join(path.abspath(\"\"), \"mortality_data\")"
   ]
  },
  {
   "cell_type": "markdown",
   "metadata": {},
   "source": [
    "#### Download & process the mortality data"
   ]
  },
  {
   "cell_type": "markdown",
   "metadata": {},
   "source": [
    "Perks of using Excel files from the Office for National Statistics..."
   ]
  },
  {
   "cell_type": "code",
   "execution_count": null,
   "metadata": {},
   "outputs": [],
   "source": [
    "urls = weekly_urls\n",
    "sheet_names = weekly_sheet_names\n",
    "row_indices = weekly_row_indices"
   ]
  },
  {
   "cell_type": "code",
   "execution_count": null,
   "metadata": {},
   "outputs": [],
   "source": [
    "mortality_df = pd.DataFrame()\n",
    "\n",
    "for year in range(2010, 2022):\n",
    "    mortality_annual = HealthData(home_folder, url=urls[year])\n",
    "    mortality_annual.download(verbose=False)\n",
    "    df = mortality_annual.read_xls(sheet_names[year], verbose=False)\n",
    "    rows = row_indices[year]\n",
    "    annual_df = df.loc[rows]\n",
    "    annual_df = annual_df.T.dropna().rename(columns={rows[0]:\"date\", rows[1]:\"weekly_deaths\"}).reset_index(drop=True).drop([0]).set_index(\"date\")\n",
    "    annual_df.index = pd.to_datetime(annual_df.index)\n",
    "    if mortality_df.empty:\n",
    "        mortality_df = annual_df.copy()\n",
    "    else:\n",
    "        mortality_df = mortality_df.append(annual_df.copy())\n",
    "    print(f\"{year} done...\")\n",
    "    \n",
    "mortality_df.to_csv(path.join(home_folder, \"weekly_mortality_London.csv\"))"
   ]
  },
  {
   "cell_type": "markdown",
   "metadata": {},
   "source": [
    "#### Load the processed data from .csv file"
   ]
  },
  {
   "cell_type": "code",
   "execution_count": null,
   "metadata": {},
   "outputs": [],
   "source": [
    "mortality_annual = HealthData(home_folder, filename=\"weekly_mortality_London.csv\")\n",
    "mortality_df = mortality_annual.read_csv()\n",
    "mortality_df.sample(5)"
   ]
  },
  {
   "cell_type": "markdown",
   "metadata": {},
   "source": [
    "#### Plot the dataframe"
   ]
  },
  {
   "cell_type": "code",
   "execution_count": null,
   "metadata": {},
   "outputs": [],
   "source": [
    "mortality_df.plot(legend=False, title=\"London\").set_ylabel(\"weekly deaths\")\n",
    "plt.show()"
   ]
  },
  {
   "cell_type": "markdown",
   "metadata": {},
   "source": [
    "### Daily mortality\n",
    "Daily mortality data at regional scale. Here we select for the Greater London region using region code E12000007."
   ]
  },
  {
   "cell_type": "code",
   "execution_count": 7,
   "metadata": {},
   "outputs": [],
   "source": [
    "home_folder = path.join(path.abspath(\"\"), \"mortality_data/daily\")\n",
    "region_code = \"E12000007\"\n",
    "start_year = 1981\n",
    "end_year = 2018"
   ]
  },
  {
   "cell_type": "code",
   "execution_count": 8,
   "metadata": {},
   "outputs": [],
   "source": [
    "urls = {}\n",
    "urls.update(dict.fromkeys(list(range(1981, 2014+1)), \"https://www.ons.gov.uk/file?uri=/peoplepopulationandcommunity/birthsdeathsandmarriages/deaths/adhocs/005459dailydeathoccurrencesenglandregionsofenglandandwales1970to2014/dailydeathoccurrences19702014.zip\"))\n",
    "urls.update(dict.fromkeys(list(range(2013, 2017+1)), \"https://www.ons.gov.uk/file?uri=/peoplepopulationandcommunity/birthsdeathsandmarriages/deaths/adhocs/009728dailydeathoccurrencesregionsofenglandandwales2013to2016/dailydeathoccurrences20132017.xls\"))\n",
    "urls.update(dict.fromkeys(list(range(2015, 2018+1)), \"https://www.ons.gov.uk/file?uri=/peoplepopulationandcommunity/birthsdeathsandmarriages/deaths/adhocs/11189dailydeathsenglishregionsandwales2015to2018occurrences/dailydeathsfinal.xlsx\"))"
   ]
  },
  {
   "cell_type": "code",
   "execution_count": 9,
   "metadata": {},
   "outputs": [
    {
     "name": "stdout",
     "output_type": "stream",
     "text": [
      "(13879, 1)\n"
     ]
    }
   ],
   "source": [
    "daily_df = pd.DataFrame()\n",
    "\n",
    "for year in range(start_year, end_year+1):\n",
    "    url = urls[year]\n",
    "    \n",
    "    if year == start_year or not url == urls[year-1]:\n",
    "        mortality = HealthData(home_folder, url)\n",
    "        if not path.exists(mortality.filepath):\n",
    "            mortality.download(verbose=False)\n",
    "        if mortality.extension == \".zip\":\n",
    "            mortality.unzip(mortality.zipfiles[0], verbose=False)\n",
    "        daily_adhoc_df = mortality.read_xls(mortality.sheets[-1], verbose=False)\n",
    "        daily_adhoc_df.columns = range(daily_adhoc_df.shape[1])\n",
    "        daily_adhoc_df = daily_adhoc_df.loc[daily_adhoc_df[3] == region_code, [0, 1, 2, 3, 4]]\n",
    "        daily_adhoc_df.columns = [\"year\", \"month\", \"day\", \"region_code\", \"deaths\"]\n",
    "        daily_adhoc_df[\"date\"] = pd.to_datetime(daily_adhoc_df[[\"year\", \"month\", \"day\"]])\n",
    "    \n",
    "    daily_df = daily_df.append(daily_adhoc_df.loc[daily_adhoc_df[\"year\"] == year, [\"date\", \"deaths\"]].copy().set_index(\"date\"))\n",
    "\n",
    "print(daily_df.shape)"
   ]
  },
  {
   "cell_type": "code",
   "execution_count": 12,
   "metadata": {},
   "outputs": [],
   "source": [
    "daily_df.to_csv(path.join(home_folder, \"daily_mortality_London.csv\"))"
   ]
  },
  {
   "cell_type": "code",
   "execution_count": 11,
   "metadata": {},
   "outputs": [
    {
     "data": {
      "image/png": "[encoded data removed]",
      "text/plain": [
       "<Figure size 432x288 with 1 Axes>"
      ]
     },
     "metadata": {
      "needs_background": "light"
     },
     "output_type": "display_data"
    }
   ],
   "source": [
    "daily_df.plot(legend=False, title=\"London\").set_ylabel(\"daily deaths\")\n",
    "plt.show()"
   ]
  },
  {
   "cell_type": "code",
   "execution_count": null,
   "metadata": {},
   "outputs": [],
   "source": []
  },
  {
   "cell_type": "code",
   "execution_count": null,
   "metadata": {},
   "outputs": [],
   "source": []
  },
  {
   "cell_type": "code",
   "execution_count": null,
   "metadata": {},
   "outputs": [],
   "source": []
  },
  {
   "cell_type": "code",
   "execution_count": null,
   "metadata": {},
   "outputs": [],
   "source": []
  },
  {
   "cell_type": "code",
   "execution_count": null,
   "metadata": {},
   "outputs": [],
   "source": []
  },
  {
   "cell_type": "code",
   "execution_count": null,
   "metadata": {},
   "outputs": [],
   "source": []
  },
  {
   "cell_type": "code",
   "execution_count": null,
   "metadata": {},
   "outputs": [],
   "source": []
  },
  {
   "cell_type": "code",
   "execution_count": null,
   "metadata": {},
   "outputs": [],
   "source": []
  },
  {
   "cell_type": "markdown",
   "metadata": {},
   "source": [
    "### Population data"
   ]
  },
  {
   "cell_type": "code",
   "execution_count": 13,
   "metadata": {},
   "outputs": [],
   "source": [
    "home_folder = path.join(path.abspath(\"\"), \"population_data\")"
   ]
  },
  {
   "cell_type": "markdown",
   "metadata": {},
   "source": [
    "#### Download & process the population data"
   ]
  },
  {
   "cell_type": "code",
   "execution_count": null,
   "metadata": {},
   "outputs": [],
   "source": [
    "url = \"https://www.ons.gov.uk/file?uri=/peoplepopulationandcommunity/populationandmigration/populationestimates/datasets/populationestimatesforukenglandandwalesscotlandandnorthernireland/mid2001tomid2019detailedtimeseries/regionalpopestimatesforenglandandwales19712019.xlsx\"\n",
    "pop_data = HealthData(home_folder, url=url)\n",
    "pop_data.download()"
   ]
  },
  {
   "cell_type": "code",
   "execution_count": null,
   "metadata": {},
   "outputs": [],
   "source": [
    "population_df = pd.DataFrame()\n",
    "\n",
    "for sheet in [\"Table 3\", \"Table 4\"]:\n",
    "    df = pop_data.read_xls(sheet, verbose=False)\n",
    "    df = df.loc[df[0].apply(lambda x: isinstance(x, int))].reset_index(drop=True)[[0]].rename(columns={0:\"date\"}).join(df.loc[df[1]==\"London\"].reset_index(drop=True)[[2]].rename(columns={2:\"total_population\"})).set_index(\"date\")\n",
    "    df.index = pd.to_datetime(df.index, format=\"%Y\") + pd.tseries.offsets.DateOffset(months=6) # Set these as mid-year estimates\n",
    "    if population_df.empty:\n",
    "        population_df = df.copy()\n",
    "    else:\n",
    "        population_df = population_df.append(df.copy())\n",
    "        \n",
    "population_df.to_csv(path.join(home_folder, \"annual_population_London.csv\"))"
   ]
  },
  {
   "cell_type": "markdown",
   "metadata": {},
   "source": [
    "#### Load the processed data from .csv file"
   ]
  },
  {
   "cell_type": "code",
   "execution_count": 15,
   "metadata": {},
   "outputs": [
    {
     "name": "stdout",
     "output_type": "stream",
     "text": [
      "Reading annual_population_London.csv...\n"
     ]
    },
    {
     "data": {
      "text/plain": [
       "(39, 1)"
      ]
     },
     "execution_count": 15,
     "metadata": {},
     "output_type": "execute_result"
    }
   ],
   "source": [
    "pop_data = HealthData(home_folder, filename=\"annual_population_London.csv\")\n",
    "population_df = pop_data.read_csv(index_col=\"date\")\n",
    "population_df.shape"
   ]
  },
  {
   "cell_type": "markdown",
   "metadata": {},
   "source": [
    "#### Plot the dataframe"
   ]
  },
  {
   "cell_type": "code",
   "execution_count": 16,
   "metadata": {},
   "outputs": [
    {
     "data": {
      "image/png": "[encoded data removed]",
      "text/plain": [
       "<Figure size 432x288 with 1 Axes>"
      ]
     },
     "metadata": {
      "needs_background": "light"
     },
     "output_type": "display_data"
    }
   ],
   "source": [
    "population_df.plot(legend=False, title=\"London\").set_ylabel(\"annual population\")\n",
    "plt.show()"
   ]
  },
  {
   "cell_type": "markdown",
   "metadata": {},
   "source": [
    "#### Interpolation of annual data"
   ]
  },
  {
   "cell_type": "code",
   "execution_count": 17,
   "metadata": {},
   "outputs": [],
   "source": [
    "step_df = population_df.resample(\"D\").asfreq().fillna(method=\"ffill\")\n",
    "linear_df = population_df.resample(\"D\").asfreq().interpolate(method=\"linear\")"
   ]
  },
  {
   "cell_type": "code",
   "execution_count": 18,
   "metadata": {},
   "outputs": [
    {
     "data": {
      "image/png": "[encoded data removed]",
      "text/plain": [
       "<Figure size 432x288 with 1 Axes>"
      ]
     },
     "metadata": {
      "needs_background": "light"
     },
     "output_type": "display_data"
    },
    {
     "data": {
      "image/png": "[encoded data removed]",
      "text/plain": [
       "<Figure size 432x288 with 1 Axes>"
      ]
     },
     "metadata": {
      "needs_background": "light"
     },
     "output_type": "display_data"
    }
   ],
   "source": [
    "step_df.plot(legend=False, title=\"London annual population (mid-year step change)\").set_ylabel(\"population\")\n",
    "linear_df.plot(legend=False, title=\"London daily population (interpolation)\").set_ylabel(\"population\")\n",
    "plt.show()"
   ]
  },
  {
   "cell_type": "markdown",
   "metadata": {},
   "source": [
    "### Calculating deaths as a fraction of population"
   ]
  },
  {
   "cell_type": "markdown",
   "metadata": {},
   "source": [
    "Weekly deaths"
   ]
  },
  {
   "cell_type": "code",
   "execution_count": null,
   "metadata": {},
   "outputs": [],
   "source": [
    "df = linear_df.join(mortality_df).dropna()\n",
    "df[\"deaths_per_capita\"] = df[\"weekly_deaths\"]/df[\"total_population\"]\n",
    "df[\"deaths_per_capita\"].plot(legend=False, title=\"London weekly deaths\").set_ylabel(\"mortality per capita\")\n",
    "plt.show()"
   ]
  },
  {
   "cell_type": "code",
   "execution_count": null,
   "metadata": {},
   "outputs": [],
   "source": [
    "df.to_csv(path.join(path.join(path.abspath(\"\"), \"mortality_data\"), \"weekly_mortality_percapita_London.csv\"))"
   ]
  },
  {
   "cell_type": "markdown",
   "metadata": {},
   "source": [
    "Daily deaths"
   ]
  },
  {
   "cell_type": "code",
   "execution_count": 19,
   "metadata": {},
   "outputs": [
    {
     "data": {
      "image/png": "[encoded data removed]",
      "text/plain": [
       "<Figure size 432x288 with 1 Axes>"
      ]
     },
     "metadata": {
      "needs_background": "light"
     },
     "output_type": "display_data"
    }
   ],
   "source": [
    "df = linear_df.join(daily_df).dropna()\n",
    "df[\"deaths_per_capita\"] = df[\"deaths\"]/df[\"total_population\"]\n",
    "df[\"deaths_per_capita\"].plot(legend=False, title=\"London daily deaths\").set_ylabel(\"mortality per capita\")\n",
    "plt.show()"
   ]
  },
  {
   "cell_type": "code",
   "execution_count": 20,
   "metadata": {},
   "outputs": [],
   "source": [
    "df.to_csv(path.join(path.join(path.abspath(\"\"), \"mortality_data/daily\"), \"daily_mortality_percapita_London.csv\"))"
   ]
  },
  {
   "cell_type": "code",
   "execution_count": 21,
   "metadata": {},
   "outputs": [
    {
     "data": {
      "text/plain": [
       "(13698, 3)"
      ]
     },
     "execution_count": 21,
     "metadata": {},
     "output_type": "execute_result"
    }
   ],
   "source": [
    "df.shape"
   ]
  },
  {
   "cell_type": "code",
   "execution_count": null,
   "metadata": {},
   "outputs": [],
   "source": []
  }
 ],
 "metadata": {
  "kernelspec": {
   "display_name": "AQmort",
   "language": "python",
   "name": "aqmort"
  },
  "language_info": {
   "codemirror_mode": {
    "name": "ipython",
    "version": 3
   },
   "file_extension": ".py",
   "mimetype": "text/x-python",
   "name": "python",
   "nbconvert_exporter": "python",
   "pygments_lexer": "ipython3",
   "version": "3.9.2"
  }
 },
 "nbformat": 4,
 "nbformat_minor": 4
}
